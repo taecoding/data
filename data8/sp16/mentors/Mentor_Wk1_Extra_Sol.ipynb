{
 "cells": [
  {
   "cell_type": "markdown",
   "metadata": {},
   "source": [
    "DS8 Tutoring Wk1"
   ]
  },
  {
   "cell_type": "code",
   "execution_count": 16,
   "metadata": {
    "collapsed": true
   },
   "outputs": [],
   "source": [
    "# HIDDEN\n",
    "\n",
    "from datascience import *\n",
    "%matplotlib inline\n",
    "import matplotlib.pyplot as plots\n",
    "plots.style.use('fivethirtyeight')\n",
    "import numpy as np"
   ]
  },
  {
   "cell_type": "markdown",
   "metadata": {},
   "source": [
    "Welcome to week one!\n",
    "\n",
    "Let's start by loading the file top250_movies.txt into the table movies."
   ]
  },
  {
   "cell_type": "code",
   "execution_count": 17,
   "metadata": {
    "collapsed": false
   },
   "outputs": [
    {
     "data": {
      "text/html": [
       "<table border=\"1\" class=\"dataframe\">\n",
       "    <thead>\n",
       "        <tr>\n",
       "            <th>Votes</th> <th>Rating</th> <th>Title</th> <th>Year</th>\n",
       "        </tr>\n",
       "    </thead>\n",
       "    <tbody>\n",
       "        <tr>\n",
       "            <td>55784  </td> <td>8.3   </td> <td>The Kid                         </td> <td>1921</td>\n",
       "        </tr>\n",
       "    </tbody>\n",
       "        <tr>\n",
       "            <td>54651  </td> <td>8     </td> <td>Salinui chueok                  </td> <td>2003</td>\n",
       "        </tr>\n",
       "    </tbody>\n",
       "        <tr>\n",
       "            <td>496833 </td> <td>8.5   </td> <td>Alien                           </td> <td>1979</td>\n",
       "        </tr>\n",
       "    </tbody>\n",
       "        <tr>\n",
       "            <td>151256 </td> <td>8.4   </td> <td>Das Boot                        </td> <td>1981</td>\n",
       "        </tr>\n",
       "    </tbody>\n",
       "        <tr>\n",
       "            <td>692753 </td> <td>9     </td> <td>The Godfather: Part II          </td> <td>1974</td>\n",
       "        </tr>\n",
       "    </tbody>\n",
       "        <tr>\n",
       "            <td>1166532</td> <td>8.9   </td> <td>Pulp Fiction                    </td> <td>1994</td>\n",
       "        </tr>\n",
       "    </tbody>\n",
       "        <tr>\n",
       "            <td>141768 </td> <td>8.1   </td> <td>Ben-Hur                         </td> <td>1959</td>\n",
       "        </tr>\n",
       "    </tbody>\n",
       "        <tr>\n",
       "            <td>49135  </td> <td>8     </td> <td>The Man Who Shot Liberty Valance</td> <td>1962</td>\n",
       "        </tr>\n",
       "    </tbody>\n",
       "        <tr>\n",
       "            <td>124671 </td> <td>8     </td> <td>Per un pugno di dollari         </td> <td>1964</td>\n",
       "        </tr>\n",
       "    </tbody>\n",
       "        <tr>\n",
       "            <td>511177 </td> <td>8.3   </td> <td>Requiem for a Dream             </td> <td>2000</td>\n",
       "        </tr>\n",
       "    </tbody>\n",
       "</table>\n",
       "<p>... (240 rows omitted)</p"
      ],
      "text/plain": [
       "Votes   | Rating | Title                            | Year\n",
       "55784   | 8.3    | The Kid                          | 1921\n",
       "54651   | 8      | Salinui chueok                   | 2003\n",
       "496833  | 8.5    | Alien                            | 1979\n",
       "151256  | 8.4    | Das Boot                         | 1981\n",
       "692753  | 9      | The Godfather: Part II           | 1974\n",
       "1166532 | 8.9    | Pulp Fiction                     | 1994\n",
       "141768  | 8.1    | Ben-Hur                          | 1959\n",
       "49135   | 8      | The Man Who Shot Liberty Valance | 1962\n",
       "124671  | 8      | Per un pugno di dollari          | 1964\n",
       "511177  | 8.3    | Requiem for a Dream              | 2000\n",
       "... (240 rows omitted)"
      ]
     },
     "execution_count": 17,
     "metadata": {},
     "output_type": "execute_result"
    }
   ],
   "source": [
    "#sol\n",
    "movies = Table.read_table('top250_movies.txt')\n",
    "movies"
   ]
  },
  {
   "cell_type": "markdown",
   "metadata": {},
   "source": [
    "Since 250 rows is a lot, we want to look just at 100 rows from this table. \n",
    "We'll write code to randomly select 100 different rows from this table.\n",
    "\n",
    "Start by creating an empty list `rowNums`.\n"
   ]
  },
  {
   "cell_type": "code",
   "execution_count": 18,
   "metadata": {
    "collapsed": true
   },
   "outputs": [],
   "source": [
    "#sol\n",
    "rowNums = []"
   ]
  },
  {
   "cell_type": "markdown",
   "metadata": {},
   "source": [
    "Then generate 100 random integers (from 0 to 249) to put inside `rowNums`, making sure that there are no repeats.\n",
    "\n",
    "*Hint:* Use for loops. How many times do you need to iterate?\n",
    "To account for the fact that you might have generated a repeat, use a nested while loop. What do you need to keep track of whether or not there has been a repeat?\n",
    "\n",
    "\n",
    "*Hint for Method 2:* Use np.random.choice(). Read the doc:http://docs.scipy.org/doc/numpy-1.10.0/reference/generated/numpy.random.choice.html\n",
    "How does it work? What are its inputs and outputs? Remember if you're doing both, you want to reset `rowNums` beforehand so you don't end up with 200 numbers!"
   ]
  },
  {
   "cell_type": "code",
   "execution_count": 19,
   "metadata": {
    "collapsed": false
   },
   "outputs": [],
   "source": [
    "#sol\n",
    "for i in range(100):\n",
    "    num = np.random.randint(0,249)\n",
    "    repeat = num in rowNums\n",
    "    while (repeat==True):\n",
    "        num = np.random.randint(0,249)\n",
    "        repeat = num in rowNums\n",
    "    \n",
    "    rowNums.append(num)\n",
    "    \n",
    "#sol2\n",
    "rowNums = np.random.choice(range(250), size=100, replace=False)\n",
    "\n",
    "\n",
    "    \n"
   ]
  },
  {
   "cell_type": "markdown",
   "metadata": {},
   "source": [
    "Excellent. Now we have a list of row numbers. We'll use it to sample from the table. Was this a deterministic or probability sample?\n",
    "\n",
    "If your answer was deterministic, how might we have chosen a probability sample?\n",
    "If your answer was probability, how might we have chosen a deterministic sample?\n"
   ]
  },
  {
   "cell_type": "markdown",
   "metadata": {},
   "source": [
    "#sol\n",
    "Probability sample, the chance of each row being selected is 1/250.\n",
    "We could have chosen a deterministic sample by selecting the first 100 rows."
   ]
  },
  {
   "cell_type": "markdown",
   "metadata": {},
   "source": [
    "Use `rowNums` to select 100 rows from the table, save it in the variable `shortMov`.\n",
    "\n",
    "#sampling"
   ]
  },
  {
   "cell_type": "code",
   "execution_count": 20,
   "metadata": {
    "collapsed": false
   },
   "outputs": [
    {
     "data": {
      "text/html": [
       "<table border=\"1\" class=\"dataframe\">\n",
       "    <thead>\n",
       "        <tr>\n",
       "            <th>Votes</th> <th>Rating</th> <th>Title</th> <th>Year</th>\n",
       "        </tr>\n",
       "    </thead>\n",
       "    <tbody>\n",
       "        <tr>\n",
       "            <td>102735 </td> <td>8.1   </td> <td>Mary and Max                                 </td> <td>2009</td>\n",
       "        </tr>\n",
       "    </tbody>\n",
       "        <tr>\n",
       "            <td>294394 </td> <td>8.2   </td> <td>Casino                                       </td> <td>1995</td>\n",
       "        </tr>\n",
       "    </tbody>\n",
       "        <tr>\n",
       "            <td>26012  </td> <td>8     </td> <td>Kumonosu-jô                                  </td> <td>1957</td>\n",
       "        </tr>\n",
       "    </tbody>\n",
       "        <tr>\n",
       "            <td>500576 </td> <td>8     </td> <td>Monsters, Inc.                               </td> <td>2001</td>\n",
       "        </tr>\n",
       "    </tbody>\n",
       "        <tr>\n",
       "            <td>689541 </td> <td>8.6   </td> <td>Interstellar                                 </td> <td>2014</td>\n",
       "        </tr>\n",
       "    </tbody>\n",
       "        <tr>\n",
       "            <td>1074146</td> <td>8.9   </td> <td>The Lord of the Rings: The Return of the King</td> <td>2003</td>\n",
       "        </tr>\n",
       "    </tbody>\n",
       "        <tr>\n",
       "            <td>444534 </td> <td>8.3   </td> <td>Taxi Driver                                  </td> <td>1976</td>\n",
       "        </tr>\n",
       "    </tbody>\n",
       "        <tr>\n",
       "            <td>433487 </td> <td>8.1   </td> <td>The Bourne Ultimatum                         </td> <td>2007</td>\n",
       "        </tr>\n",
       "    </tbody>\n",
       "        <tr>\n",
       "            <td>156432 </td> <td>8.3   </td> <td>Some Like It Hot                             </td> <td>1959</td>\n",
       "        </tr>\n",
       "    </tbody>\n",
       "        <tr>\n",
       "            <td>474068 </td> <td>8.4   </td> <td>Le fabuleux destin d'Amélie Poulain          </td> <td>2001</td>\n",
       "        </tr>\n",
       "    </tbody>\n",
       "</table>\n",
       "<p>... (90 rows omitted)</p"
      ],
      "text/plain": [
       "Votes   | Rating | Title                                         | Year\n",
       "102735  | 8.1    | Mary and Max                                  | 2009\n",
       "294394  | 8.2    | Casino                                        | 1995\n",
       "26012   | 8      | Kumonosu-jô                                   | 1957\n",
       "500576  | 8      | Monsters, Inc.                                | 2001\n",
       "689541  | 8.6    | Interstellar                                  | 2014\n",
       "1074146 | 8.9    | The Lord of the Rings: The Return of the King | 2003\n",
       "444534  | 8.3    | Taxi Driver                                   | 1976\n",
       "433487  | 8.1    | The Bourne Ultimatum                          | 2007\n",
       "156432  | 8.3    | Some Like It Hot                              | 1959\n",
       "474068  | 8.4    | Le fabuleux destin d'Amélie Poulain           | 2001\n",
       "... (90 rows omitted)"
      ]
     },
     "execution_count": 20,
     "metadata": {},
     "output_type": "execute_result"
    }
   ],
   "source": [
    "#sol\n",
    "shortMov = movies.take(rowNums)\n",
    "shortMov"
   ]
  },
  {
   "cell_type": "markdown",
   "metadata": {},
   "source": [
    "Now we want to draw some histograms based on the ratings for these movies.\n",
    "Let's pivot the table by ratings (pivot column) and then year (pivot row), and have the pivot values be the sum of the votes.\n",
    "Save this pivoted table in `ratingYear`."
   ]
  },
  {
   "cell_type": "code",
   "execution_count": 21,
   "metadata": {
    "collapsed": false
   },
   "outputs": [
    {
     "data": {
      "text/html": [
       "<table border=\"1\" class=\"dataframe\">\n",
       "    <thead>\n",
       "        <tr>\n",
       "            <th>Rating</th> <th>1926</th> <th>1927</th> <th>1931</th> <th>1936</th> <th>1939</th> <th>1940</th> <th>1941</th> <th>1942</th> <th>1944</th> <th>1946</th> <th>1949</th> <th>1950</th> <th>1952</th> <th>1953</th> <th>1954</th> <th>1956</th> <th>1957</th> <th>1959</th> <th>1960</th> <th>1961</th> <th>1962</th> <th>1965</th> <th>1966</th> <th>1969</th> <th>1971</th> <th>1973</th> <th>1974</th> <th>1975</th> <th>1976</th> <th>1977</th> <th>1979</th> <th>1980</th> <th>1981</th> <th>1982</th> <th>1983</th> <th>1984</th> <th>1985</th> <th>1986</th> <th>1989</th> <th>1990</th> <th>1991</th> <th>1992</th> <th>1993</th> <th>1994</th> <th>1995</th> <th>1997</th> <th>1998</th> <th>1999</th> <th>2000</th> <th>2001</th> <th>2002</th> <th>2003</th> <th>2004</th> <th>2005</th> <th>2006</th> <th>2007</th> <th>2009</th> <th>2010</th> <th>2011</th> <th>2012</th> <th>2013</th> <th>2014</th> <th>2015</th>\n",
       "        </tr>\n",
       "    </thead>\n",
       "    <tbody>\n",
       "        <tr>\n",
       "            <td>8     </td> <td>0    </td> <td>0    </td> <td>0    </td> <td>0     </td> <td>0     </td> <td>0     </td> <td>0     </td> <td>0     </td> <td>0    </td> <td>66622</td> <td>0     </td> <td>0    </td> <td>0     </td> <td>0    </td> <td>0     </td> <td>56671</td> <td>26012</td> <td>0     </td> <td>0    </td> <td>57842</td> <td>0     </td> <td>0     </td> <td>32385</td> <td>0     </td> <td>0     </td> <td>87591</td> <td>0     </td> <td>454145</td> <td>0     </td> <td>0     </td> <td>0     </td> <td>0     </td> <td>0     </td> <td>37972 </td> <td>0     </td> <td>527274</td> <td>0     </td> <td>83941 </td> <td>0     </td> <td>0     </td> <td>0     </td> <td>0     </td> <td>0    </td> <td>57644 </td> <td>415809</td> <td>0     </td> <td>583004</td> <td>0      </td> <td>0     </td> <td>500576 </td> <td>0     </td> <td>0      </td> <td>0     </td> <td>0     </td> <td>0     </td> <td>0      </td> <td>0     </td> <td>0      </td> <td>0     </td> <td>862016</td> <td>0     </td> <td>849183</td> <td>0    </td>\n",
       "        </tr>\n",
       "    </tbody>\n",
       "        <tr>\n",
       "            <td>8.1   </td> <td>0    </td> <td>0    </td> <td>0    </td> <td>0     </td> <td>452026</td> <td>55793 </td> <td>0     </td> <td>0     </td> <td>0    </td> <td>35983</td> <td>0     </td> <td>0    </td> <td>0     </td> <td>31003</td> <td>92244 </td> <td>0    </td> <td>0    </td> <td>61776 </td> <td>0    </td> <td>0    </td> <td>0     </td> <td>0     </td> <td>52573</td> <td>134552</td> <td>0     </td> <td>0    </td> <td>0     </td> <td>0     </td> <td>0     </td> <td>169982</td> <td>0     </td> <td>0     </td> <td>0     </td> <td>379927</td> <td>0     </td> <td>0     </td> <td>0     </td> <td>242381</td> <td>0     </td> <td>0     </td> <td>0     </td> <td>0     </td> <td>95212</td> <td>0     </td> <td>0     </td> <td>0     </td> <td>0     </td> <td>0      </td> <td>156030</td> <td>0      </td> <td>0     </td> <td>647120 </td> <td>0     </td> <td>596880</td> <td>0     </td> <td>1137638</td> <td>224334</td> <td>735450 </td> <td>0     </td> <td>0     </td> <td>359121</td> <td>0     </td> <td>0    </td>\n",
       "        </tr>\n",
       "    </tbody>\n",
       "        <tr>\n",
       "            <td>8.2   </td> <td>46332</td> <td>0    </td> <td>0    </td> <td>0     </td> <td>69510 </td> <td>78216 </td> <td>0     </td> <td>0     </td> <td>0    </td> <td>0    </td> <td>0     </td> <td>0    </td> <td>0     </td> <td>0    </td> <td>89233 </td> <td>0    </td> <td>55861</td> <td>0     </td> <td>0    </td> <td>0    </td> <td>0     </td> <td>0     </td> <td>0    </td> <td>0     </td> <td>0     </td> <td>0    </td> <td>192744</td> <td>0     </td> <td>0     </td> <td>0     </td> <td>0     </td> <td>210647</td> <td>0     </td> <td>415615</td> <td>0     </td> <td>0     </td> <td>0     </td> <td>0     </td> <td>0     </td> <td>0     </td> <td>0     </td> <td>0     </td> <td>0    </td> <td>0     </td> <td>294394</td> <td>529800</td> <td>473988</td> <td>0      </td> <td>0     </td> <td>0      </td> <td>0     </td> <td>0      </td> <td>182525</td> <td>700999</td> <td>0     </td> <td>0      </td> <td>0     </td> <td>0      </td> <td>0     </td> <td>137310</td> <td>0     </td> <td>0     </td> <td>0    </td>\n",
       "        </tr>\n",
       "    </tbody>\n",
       "        <tr>\n",
       "            <td>8.3   </td> <td>0    </td> <td>98794</td> <td>0    </td> <td>0     </td> <td>0     </td> <td>0     </td> <td>0     </td> <td>0     </td> <td>86715</td> <td>0    </td> <td>101785</td> <td>74178</td> <td>132823</td> <td>0    </td> <td>0     </td> <td>0    </td> <td>0    </td> <td>156432</td> <td>96190</td> <td>0    </td> <td>188160</td> <td>135556</td> <td>0    </td> <td>0     </td> <td>489807</td> <td>0    </td> <td>0     </td> <td>0     </td> <td>444534</td> <td>0     </td> <td>0     </td> <td>0     </td> <td>0     </td> <td>0     </td> <td>0     </td> <td>0     </td> <td>0     </td> <td>0     </td> <td>453748</td> <td>0     </td> <td>0     </td> <td>248514</td> <td>0    </td> <td>0     </td> <td>0     </td> <td>0     </td> <td>0     </td> <td>0      </td> <td>0     </td> <td>0      </td> <td>0     </td> <td>0      </td> <td>0     </td> <td>0     </td> <td>0     </td> <td>0      </td> <td>0     </td> <td>0      </td> <td>133760</td> <td>0     </td> <td>0     </td> <td>0     </td> <td>0    </td>\n",
       "        </tr>\n",
       "    </tbody>\n",
       "        <tr>\n",
       "            <td>8.4   </td> <td>0    </td> <td>0    </td> <td>0    </td> <td>0     </td> <td>0     </td> <td>117590</td> <td>268905</td> <td>0     </td> <td>0    </td> <td>0    </td> <td>0     </td> <td>0    </td> <td>0     </td> <td>0    </td> <td>0     </td> <td>0    </td> <td>0    </td> <td>0     </td> <td>0    </td> <td>0    </td> <td>0     </td> <td>0     </td> <td>0    </td> <td>0     </td> <td>0     </td> <td>0    </td> <td>0     </td> <td>0     </td> <td>0     </td> <td>0     </td> <td>0     </td> <td>0     </td> <td>0     </td> <td>0     </td> <td>556811</td> <td>0     </td> <td>0     </td> <td>0     </td> <td>0     </td> <td>0     </td> <td>0     </td> <td>0     </td> <td>0    </td> <td>0     </td> <td>0     </td> <td>0     </td> <td>0     </td> <td>0      </td> <td>0     </td> <td>474068 </td> <td>0     </td> <td>311070 </td> <td>0     </td> <td>0     </td> <td>0     </td> <td>0      </td> <td>0     </td> <td>0      </td> <td>0     </td> <td>997350</td> <td>0     </td> <td>0     </td> <td>0    </td>\n",
       "        </tr>\n",
       "    </tbody>\n",
       "        <tr>\n",
       "            <td>8.5   </td> <td>0    </td> <td>0    </td> <td>92375</td> <td>121668</td> <td>0     </td> <td>0     </td> <td>0     </td> <td>350551</td> <td>0    </td> <td>0    </td> <td>0     </td> <td>0    </td> <td>0     </td> <td>0    </td> <td>0     </td> <td>0    </td> <td>0    </td> <td>0     </td> <td>0    </td> <td>0    </td> <td>0     </td> <td>0     </td> <td>0    </td> <td>0     </td> <td>0     </td> <td>0    </td> <td>0     </td> <td>0     </td> <td>0     </td> <td>0     </td> <td>403754</td> <td>0     </td> <td>585474</td> <td>0     </td> <td>0     </td> <td>0     </td> <td>625463</td> <td>0     </td> <td>0     </td> <td>0     </td> <td>0     </td> <td>0     </td> <td>0    </td> <td>0     </td> <td>0     </td> <td>0     </td> <td>694602</td> <td>0      </td> <td>0     </td> <td>0      </td> <td>0     </td> <td>0      </td> <td>0     </td> <td>0     </td> <td>763871</td> <td>0      </td> <td>0     </td> <td>0      </td> <td>0     </td> <td>0     </td> <td>0     </td> <td>264333</td> <td>79615</td>\n",
       "        </tr>\n",
       "    </tbody>\n",
       "        <tr>\n",
       "            <td>8.6   </td> <td>0    </td> <td>0    </td> <td>0    </td> <td>0     </td> <td>0     </td> <td>0     </td> <td>0     </td> <td>0     </td> <td>0    </td> <td>0    </td> <td>0     </td> <td>0    </td> <td>0     </td> <td>0    </td> <td>0     </td> <td>0    </td> <td>0    </td> <td>0     </td> <td>0    </td> <td>0    </td> <td>0     </td> <td>0     </td> <td>0    </td> <td>0     </td> <td>0     </td> <td>0    </td> <td>0     </td> <td>0     </td> <td>0     </td> <td>0     </td> <td>0     </td> <td>0     </td> <td>0     </td> <td>0     </td> <td>0     </td> <td>0     </td> <td>0     </td> <td>0     </td> <td>0     </td> <td>0     </td> <td>767224</td> <td>0     </td> <td>0    </td> <td>635139</td> <td>0     </td> <td>358305</td> <td>0     </td> <td>0      </td> <td>0     </td> <td>0      </td> <td>476501</td> <td>0      </td> <td>0     </td> <td>0     </td> <td>0     </td> <td>0      </td> <td>0     </td> <td>0      </td> <td>0     </td> <td>0     </td> <td>0     </td> <td>689541</td> <td>0    </td>\n",
       "        </tr>\n",
       "    </tbody>\n",
       "        <tr>\n",
       "            <td>8.7   </td> <td>0    </td> <td>0    </td> <td>0    </td> <td>0     </td> <td>0     </td> <td>0     </td> <td>0     </td> <td>0     </td> <td>0    </td> <td>0    </td> <td>0     </td> <td>0    </td> <td>0     </td> <td>0    </td> <td>206216</td> <td>0    </td> <td>0    </td> <td>0     </td> <td>0    </td> <td>0    </td> <td>0     </td> <td>0     </td> <td>0    </td> <td>0     </td> <td>0     </td> <td>0    </td> <td>0     </td> <td>606395</td> <td>0     </td> <td>770011</td> <td>0     </td> <td>0     </td> <td>0     </td> <td>0     </td> <td>0     </td> <td>0     </td> <td>0     </td> <td>0     </td> <td>0     </td> <td>644556</td> <td>0     </td> <td>0     </td> <td>0    </td> <td>0     </td> <td>0     </td> <td>0     </td> <td>0     </td> <td>0      </td> <td>0     </td> <td>0      </td> <td>0     </td> <td>0      </td> <td>0     </td> <td>0     </td> <td>0     </td> <td>0      </td> <td>0     </td> <td>1271949</td> <td>0     </td> <td>0     </td> <td>0     </td> <td>0     </td> <td>0    </td>\n",
       "        </tr>\n",
       "    </tbody>\n",
       "        <tr>\n",
       "            <td>8.8   </td> <td>0    </td> <td>0    </td> <td>0    </td> <td>0     </td> <td>0     </td> <td>0     </td> <td>0     </td> <td>0     </td> <td>0    </td> <td>0    </td> <td>0     </td> <td>0    </td> <td>0     </td> <td>0    </td> <td>0     </td> <td>0    </td> <td>0    </td> <td>0     </td> <td>0    </td> <td>0    </td> <td>0     </td> <td>0     </td> <td>0    </td> <td>0     </td> <td>0     </td> <td>0    </td> <td>0     </td> <td>0     </td> <td>0     </td> <td>0     </td> <td>0     </td> <td>0     </td> <td>0     </td> <td>0     </td> <td>0     </td> <td>0     </td> <td>0     </td> <td>0     </td> <td>0     </td> <td>0     </td> <td>0     </td> <td>0     </td> <td>0    </td> <td>0     </td> <td>0     </td> <td>0     </td> <td>0     </td> <td>1177098</td> <td>0     </td> <td>1099087</td> <td>0     </td> <td>0      </td> <td>0     </td> <td>0     </td> <td>0     </td> <td>0      </td> <td>0     </td> <td>0      </td> <td>0     </td> <td>0     </td> <td>0     </td> <td>0     </td> <td>0    </td>\n",
       "        </tr>\n",
       "    </tbody>\n",
       "        <tr>\n",
       "            <td>8.9   </td> <td>0    </td> <td>0    </td> <td>0    </td> <td>0     </td> <td>0     </td> <td>0     </td> <td>0     </td> <td>0     </td> <td>0    </td> <td>0    </td> <td>0     </td> <td>0    </td> <td>0     </td> <td>0    </td> <td>0     </td> <td>0    </td> <td>0    </td> <td>0     </td> <td>0    </td> <td>0    </td> <td>0     </td> <td>0     </td> <td>0    </td> <td>0     </td> <td>0     </td> <td>0    </td> <td>0     </td> <td>0     </td> <td>0     </td> <td>0     </td> <td>0     </td> <td>0     </td> <td>0     </td> <td>0     </td> <td>0     </td> <td>0     </td> <td>0     </td> <td>0     </td> <td>0     </td> <td>0     </td> <td>0     </td> <td>0     </td> <td>0    </td> <td>0     </td> <td>0     </td> <td>0     </td> <td>0     </td> <td>0      </td> <td>0     </td> <td>0      </td> <td>0     </td> <td>1074146</td> <td>0     </td> <td>0     </td> <td>0     </td> <td>0      </td> <td>0     </td> <td>0      </td> <td>0     </td> <td>0     </td> <td>0     </td> <td>0     </td> <td>0    </td>\n",
       "        </tr>\n",
       "    </tbody>\n",
       "</table>"
      ],
      "text/plain": [
       "Rating | 1926  | 1927  | 1931  | 1936   | 1939   | 1940   | 1941   | 1942   | 1944  | 1946  | 1949   | 1950  | 1952   | 1953  | 1954   | 1956  | 1957  | 1959   | 1960  | 1961  | 1962   | 1965   | 1966  | 1969   | 1971   | 1973  | 1974   | 1975   | 1976   | 1977   | 1979   | 1980   | 1981   | 1982   | 1983   | 1984   | 1985   | 1986   | 1989   | 1990   | 1991   | 1992   | 1993  | 1994   | 1995   | 1997   | 1998   | 1999    | 2000   | 2001    | 2002   | 2003    | 2004   | 2005   | 2006   | 2007    | 2009   | 2010    | 2011   | 2012   | 2013   | 2014   | 2015\n",
       "8      | 0     | 0     | 0     | 0      | 0      | 0      | 0      | 0      | 0     | 66622 | 0      | 0     | 0      | 0     | 0      | 56671 | 26012 | 0      | 0     | 57842 | 0      | 0      | 32385 | 0      | 0      | 87591 | 0      | 454145 | 0      | 0      | 0      | 0      | 0      | 37972  | 0      | 527274 | 0      | 83941  | 0      | 0      | 0      | 0      | 0     | 57644  | 415809 | 0      | 583004 | 0       | 0      | 500576  | 0      | 0       | 0      | 0      | 0      | 0       | 0      | 0       | 0      | 862016 | 0      | 849183 | 0\n",
       "8.1    | 0     | 0     | 0     | 0      | 452026 | 55793  | 0      | 0      | 0     | 35983 | 0      | 0     | 0      | 31003 | 92244  | 0     | 0     | 61776  | 0     | 0     | 0      | 0      | 52573 | 134552 | 0      | 0     | 0      | 0      | 0      | 169982 | 0      | 0      | 0      | 379927 | 0      | 0      | 0      | 242381 | 0      | 0      | 0      | 0      | 95212 | 0      | 0      | 0      | 0      | 0       | 156030 | 0       | 0      | 647120  | 0      | 596880 | 0      | 1137638 | 224334 | 735450  | 0      | 0      | 359121 | 0      | 0\n",
       "8.2    | 46332 | 0     | 0     | 0      | 69510  | 78216  | 0      | 0      | 0     | 0     | 0      | 0     | 0      | 0     | 89233  | 0     | 55861 | 0      | 0     | 0     | 0      | 0      | 0     | 0      | 0      | 0     | 192744 | 0      | 0      | 0      | 0      | 210647 | 0      | 415615 | 0      | 0      | 0      | 0      | 0      | 0      | 0      | 0      | 0     | 0      | 294394 | 529800 | 473988 | 0       | 0      | 0       | 0      | 0       | 182525 | 700999 | 0      | 0       | 0      | 0       | 0      | 137310 | 0      | 0      | 0\n",
       "8.3    | 0     | 98794 | 0     | 0      | 0      | 0      | 0      | 0      | 86715 | 0     | 101785 | 74178 | 132823 | 0     | 0      | 0     | 0     | 156432 | 96190 | 0     | 188160 | 135556 | 0     | 0      | 489807 | 0     | 0      | 0      | 444534 | 0      | 0      | 0      | 0      | 0      | 0      | 0      | 0      | 0      | 453748 | 0      | 0      | 248514 | 0     | 0      | 0      | 0      | 0      | 0       | 0      | 0       | 0      | 0       | 0      | 0      | 0      | 0       | 0      | 0       | 133760 | 0      | 0      | 0      | 0\n",
       "8.4    | 0     | 0     | 0     | 0      | 0      | 117590 | 268905 | 0      | 0     | 0     | 0      | 0     | 0      | 0     | 0      | 0     | 0     | 0      | 0     | 0     | 0      | 0      | 0     | 0      | 0      | 0     | 0      | 0      | 0      | 0      | 0      | 0      | 0      | 0      | 556811 | 0      | 0      | 0      | 0      | 0      | 0      | 0      | 0     | 0      | 0      | 0      | 0      | 0       | 0      | 474068  | 0      | 311070  | 0      | 0      | 0      | 0       | 0      | 0       | 0      | 997350 | 0      | 0      | 0\n",
       "8.5    | 0     | 0     | 92375 | 121668 | 0      | 0      | 0      | 350551 | 0     | 0     | 0      | 0     | 0      | 0     | 0      | 0     | 0     | 0      | 0     | 0     | 0      | 0      | 0     | 0      | 0      | 0     | 0      | 0      | 0      | 0      | 403754 | 0      | 585474 | 0      | 0      | 0      | 625463 | 0      | 0      | 0      | 0      | 0      | 0     | 0      | 0      | 0      | 694602 | 0       | 0      | 0       | 0      | 0       | 0      | 0      | 763871 | 0       | 0      | 0       | 0      | 0      | 0      | 264333 | 79615\n",
       "8.6    | 0     | 0     | 0     | 0      | 0      | 0      | 0      | 0      | 0     | 0     | 0      | 0     | 0      | 0     | 0      | 0     | 0     | 0      | 0     | 0     | 0      | 0      | 0     | 0      | 0      | 0     | 0      | 0      | 0      | 0      | 0      | 0      | 0      | 0      | 0      | 0      | 0      | 0      | 0      | 0      | 767224 | 0      | 0     | 635139 | 0      | 358305 | 0      | 0       | 0      | 0       | 476501 | 0       | 0      | 0      | 0      | 0       | 0      | 0       | 0      | 0      | 0      | 689541 | 0\n",
       "8.7    | 0     | 0     | 0     | 0      | 0      | 0      | 0      | 0      | 0     | 0     | 0      | 0     | 0      | 0     | 206216 | 0     | 0     | 0      | 0     | 0     | 0      | 0      | 0     | 0      | 0      | 0     | 0      | 606395 | 0      | 770011 | 0      | 0      | 0      | 0      | 0      | 0      | 0      | 0      | 0      | 644556 | 0      | 0      | 0     | 0      | 0      | 0      | 0      | 0       | 0      | 0       | 0      | 0       | 0      | 0      | 0      | 0       | 0      | 1271949 | 0      | 0      | 0      | 0      | 0\n",
       "8.8    | 0     | 0     | 0     | 0      | 0      | 0      | 0      | 0      | 0     | 0     | 0      | 0     | 0      | 0     | 0      | 0     | 0     | 0      | 0     | 0     | 0      | 0      | 0     | 0      | 0      | 0     | 0      | 0      | 0      | 0      | 0      | 0      | 0      | 0      | 0      | 0      | 0      | 0      | 0      | 0      | 0      | 0      | 0     | 0      | 0      | 0      | 0      | 1177098 | 0      | 1099087 | 0      | 0       | 0      | 0      | 0      | 0       | 0      | 0       | 0      | 0      | 0      | 0      | 0\n",
       "8.9    | 0     | 0     | 0     | 0      | 0      | 0      | 0      | 0      | 0     | 0     | 0      | 0     | 0      | 0     | 0      | 0     | 0     | 0      | 0     | 0     | 0      | 0      | 0     | 0      | 0      | 0     | 0      | 0      | 0      | 0      | 0      | 0      | 0      | 0      | 0      | 0      | 0      | 0      | 0      | 0      | 0      | 0      | 0     | 0      | 0      | 0      | 0      | 0       | 0      | 0       | 0      | 1074146 | 0      | 0      | 0      | 0       | 0      | 0       | 0      | 0      | 0      | 0      | 0"
      ]
     },
     "execution_count": 21,
     "metadata": {},
     "output_type": "execute_result"
    }
   ],
   "source": [
    "#sol\n",
    "ratingYear = shortMov.pivot('Year', 'Rating','Votes',np.sum) \n",
    "ratingYear"
   ]
  },
  {
   "cell_type": "markdown",
   "metadata": {},
   "source": [
    "Take a look at this pivoted table. What does it tell us? \n",
    "What does it mean for a cell to be 0?"
   ]
  },
  {
   "cell_type": "markdown",
   "metadata": {},
   "source": [
    "#sol\n",
    "1. Tells us total number of votes for a specific rating in any given year. \n",
    "2. 0 means there were no movies of that rating in that year."
   ]
  },
  {
   "cell_type": "markdown",
   "metadata": {},
   "source": [
    "The table `ratingYear` is useful, but it doesn't help us visualize how many movies were in each rating. \n",
    "Using `shortMov`, create a table ratings that contains *only* the column of ratings."
   ]
  },
  {
   "cell_type": "code",
   "execution_count": 22,
   "metadata": {
    "collapsed": true
   },
   "outputs": [],
   "source": [
    "#sol\n",
    "ratings = shortMov.select('Rating')"
   ]
  },
  {
   "cell_type": "markdown",
   "metadata": {},
   "source": [
    "Make a histogram with ratings. Have bins that go in increments of .1 starting from the lowest value in ratings all the way to 10."
   ]
  },
  {
   "cell_type": "code",
   "execution_count": 23,
   "metadata": {
    "collapsed": false
   },
   "outputs": [
    {
     "data": {
      "image/png": "[encoded data removed]",
      "text/plain": [
       "<matplotlib.figure.Figure at 0x7fd26c166cf8>"
      ]
     },
     "metadata": {},
     "output_type": "display_data"
    }
   ],
   "source": [
    "#sol\n",
    "minVal = np.min(ratings.column(0))\n",
    "ratings.hist(bins=np.arange(minVal,10.1,.1))"
   ]
  },
  {
   "cell_type": "markdown",
   "metadata": {},
   "source": [
    "Let's see how our histogram compares to the entire 250 movies dataset.\n",
    "Draw another histogram using the exact same bins as you did above, but this time use the table `fullRatings` that contains a column of all 250 ratings."
   ]
  },
  {
   "cell_type": "code",
   "execution_count": 24,
   "metadata": {
    "collapsed": false
   },
   "outputs": [
    {
     "data": {
      "image/png": "[encoded data removed]",
      "text/plain": [
       "<matplotlib.figure.Figure at 0x7fd26c06f9b0>"
      ]
     },
     "metadata": {},
     "output_type": "display_data"
    }
   ],
   "source": [
    "#sol\n",
    "fullRatings = movies.select(\"Rating\")\n",
    "fullRatings.hist(bins=np.arange(minVal,10.1,.1))"
   ]
  },
  {
   "cell_type": "markdown",
   "metadata": {},
   "source": [
    "Do the two histograms look similar? How might we produce a more similar looking histogram without increasing the number of rows selected (100)?"
   ]
  },
  {
   "cell_type": "markdown",
   "metadata": {},
   "source": [
    "#sol\n",
    "We could sample with replacement."
   ]
  },
  {
   "cell_type": "markdown",
   "metadata": {},
   "source": [
    "Congratulations! You've finished your first tutoring exercise. Be sure to give your tutor feedback on what you liked, didn't like, and would like to cover in the coming weeks!"
   ]
  }
 ],
 "metadata": {
  "kernelspec": {
   "display_name": "Python 3",
   "language": "python",
   "name": "python3"
  },
  "language_info": {
   "codemirror_mode": {
    "name": "ipython",
    "version": 3
   },
   "file_extension": ".py",
   "mimetype": "text/x-python",
   "name": "python",
   "nbconvert_exporter": "python",
   "pygments_lexer": "ipython3",
   "version": "3.4.3"
  }
 },
 "nbformat": 4,
 "nbformat_minor": 0
}
