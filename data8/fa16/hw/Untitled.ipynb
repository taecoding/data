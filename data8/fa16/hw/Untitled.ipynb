{
 "cells": [
  {
   "cell_type": "code",
   "execution_count": 1,
   "metadata": {},
   "outputs": [],
   "source": [
    "import os"
   ]
  },
  {
   "cell_type": "code",
   "execution_count": 12,
   "metadata": {},
   "outputs": [],
   "source": [
    "for i in range(1,13):\n",
    "    padding = '0' if i < 10 else ''\n",
    "    folder = 'hw' + padding + str(i)\n",
    "    os.system('zip -r fa16.{0}.zip {0}'.format(folder))\n",
    "    "
   ]
  },
  {
   "cell_type": "code",
   "execution_count": 13,
   "metadata": {},
   "outputs": [
    {
     "name": "stdout",
     "output_type": "stream",
     "text": [
      "Untitled.ipynb fa16.hw05.zip  fa16.hw10.zip  \u001b[34mhw03\u001b[m\u001b[m           \u001b[34mhw08\u001b[m\u001b[m\r\n",
      "fa16.hw01.zip  fa16.hw06.zip  fa16.hw11.zip  \u001b[34mhw04\u001b[m\u001b[m           \u001b[34mhw09\u001b[m\u001b[m\r\n",
      "fa16.hw02.zip  fa16.hw07.zip  fa16.hw12.zip  \u001b[34mhw05\u001b[m\u001b[m           \u001b[34mhw10\u001b[m\u001b[m\r\n",
      "fa16.hw03.zip  fa16.hw08.zip  \u001b[34mhw01\u001b[m\u001b[m           \u001b[34mhw06\u001b[m\u001b[m           \u001b[34mhw11\u001b[m\u001b[m\r\n",
      "fa16.hw04.zip  fa16.hw09.zip  \u001b[34mhw02\u001b[m\u001b[m           \u001b[34mhw07\u001b[m\u001b[m           \u001b[34mhw12\u001b[m\u001b[m\r\n"
     ]
    }
   ],
   "source": [
    "!ls"
   ]
  },
  {
   "cell_type": "code",
   "execution_count": 14,
   "metadata": {},
   "outputs": [
    {
     "name": "stdout",
     "output_type": "stream",
     "text": [
      "/Users/tjung/gitlab.taecoding/tae-public/data/cs61/data8assets/materials/fa16/hw\r\n"
     ]
    }
   ],
   "source": [
    "!pwd\n"
   ]
  },
  {
   "cell_type": "code",
   "execution_count": null,
   "metadata": {},
   "outputs": [],
   "source": []
  }
 ],
 "metadata": {
  "kernelspec": {
   "display_name": "Python [conda env:apollo] *",
   "language": "python",
   "name": "conda-env-apollo-py"
  },
  "language_info": {
   "codemirror_mode": {
    "name": "ipython",
    "version": 3
   },
   "file_extension": ".py",
   "mimetype": "text/x-python",
   "name": "python",
   "nbconvert_exporter": "python",
   "pygments_lexer": "ipython3",
   "version": "3.6.8"
  }
 },
 "nbformat": 4,
 "nbformat_minor": 2
}
