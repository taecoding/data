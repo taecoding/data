{
 "cells": [
  {
   "cell_type": "code",
   "execution_count": 1,
   "metadata": {},
   "outputs": [
    {
     "name": "stdout",
     "output_type": "stream",
     "text": [
      "Requirement already satisfied: okpy in /anaconda3/lib/python3.6/site-packages (1.14.20)\n",
      "Requirement already satisfied: requests==2.22.0 in /anaconda3/lib/python3.6/site-packages (from okpy) (2.22.0)\n",
      "Requirement already satisfied: idna==2.8 in /anaconda3/lib/python3.6/site-packages (from okpy) (2.8)\n",
      "Requirement already satisfied: urllib3==1.25.7 in /anaconda3/lib/python3.6/site-packages (from okpy) (1.25.7)\n",
      "Requirement already satisfied: coverage==4.4 in /anaconda3/lib/python3.6/site-packages (from okpy) (4.4)\n",
      "Requirement already satisfied: attrs==19.3.0 in /anaconda3/lib/python3.6/site-packages (from okpy) (19.3.0)\n",
      "Requirement already satisfied: ast-scope==0.3.1 in /anaconda3/lib/python3.6/site-packages (from okpy) (0.3.1)\n",
      "Requirement already satisfied: chardet==3.0.4 in /anaconda3/lib/python3.6/site-packages (from okpy) (3.0.4)\n",
      "Requirement already satisfied: certifi==2019.11.28 in /anaconda3/lib/python3.6/site-packages (from okpy) (2019.11.28)\n",
      "Requirement already satisfied: pytutor==1.0.0 in /anaconda3/lib/python3.6/site-packages (from okpy) (1.0.0)\n",
      "\u001b[33mWARNING: You are using pip version 19.1.1, however version 20.0.2 is available.\n",
      "You should consider upgrading via the 'pip install --upgrade pip' command.\u001b[0m\n"
     ]
    }
   ],
   "source": [
    "!pip install okpy"
   ]
  },
  {
   "cell_type": "code",
   "execution_count": 6,
   "metadata": {},
   "outputs": [
    {
     "name": "stdout",
     "output_type": "stream",
     "text": [
      "=====================================================================\n",
      "Assignment: Lab 1: Expressions\n",
      "OK, version v1.14.20\n",
      "=====================================================================\n",
      "\n",
      "\n",
      "Open the following URL:\n",
      "\n",
      "https://okpy.org/client/login/\n",
      "\n",
      "After logging in, copy the code from the web page and paste it into the box.\n",
      "Then press the \"Enter\" key on your keyboard.\n",
      "\n",
      "Paste your code here: 7aJ80ibgvNmq7dNwkjO1LA3SHDJ6yU\n",
      "Successfully logged in as taeheejung@gmail.com\n"
     ]
    }
   ],
   "source": [
    "from client.api.notebook import Notebook\n",
    "ok = Notebook('lab01.ok')\n",
    "_ = ok.auth(inline=True, force=True)"
   ]
  },
  {
   "cell_type": "code",
   "execution_count": null,
   "metadata": {},
   "outputs": [],
   "source": []
  }
 ],
 "metadata": {
  "kernelspec": {
   "display_name": "Python 3",
   "language": "python",
   "name": "python3"
  },
  "language_info": {
   "codemirror_mode": {
    "name": "ipython",
    "version": 3
   },
   "file_extension": ".py",
   "mimetype": "text/x-python",
   "name": "python",
   "nbconvert_exporter": "python",
   "pygments_lexer": "ipython3",
   "version": "3.6.4"
  }
 },
 "nbformat": 4,
 "nbformat_minor": 2
}
