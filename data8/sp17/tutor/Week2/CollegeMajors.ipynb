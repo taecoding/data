{
 "cells": [
  {
   "cell_type": "code",
   "execution_count": 1,
   "metadata": {
    "collapsed": true
   },
   "outputs": [],
   "source": [
    "%matplotlib inline\n",
    "import matplotlib.pyplot as plots\n",
    "plots.style.use('fivethirtyeight')"
   ]
  },
  {
   "cell_type": "markdown",
   "metadata": {},
   "source": [
    "## Review of Table manipulation ##\n",
    "\n",
    "Let's see if we can make some interesting conclusions by using what we've learned about tables and visualization!\n",
    "\n",
    "First, let's set things up: import datascience and numpy, and read in the table called \"all-ages\"."
   ]
  },
  {
   "cell_type": "code",
   "execution_count": 2,
   "metadata": {
    "collapsed": false
   },
   "outputs": [
    {
     "ename": "SyntaxError",
     "evalue": "invalid syntax (<ipython-input-2-5a99e7d3d027>, line 1)",
     "output_type": "error",
     "traceback": [
      "\u001b[0;36m  File \u001b[0;32m\"<ipython-input-2-5a99e7d3d027>\"\u001b[0;36m, line \u001b[0;32m1\u001b[0m\n\u001b[0;31m    import ... as ...\u001b[0m\n\u001b[0m             ^\u001b[0m\n\u001b[0;31mSyntaxError\u001b[0m\u001b[0;31m:\u001b[0m invalid syntax\n"
     ]
    }
   ],
   "source": [
    "import ... as ...\n",
    "from ... import ...\n",
    "collegedata = ...\n",
    "collegedata"
   ]
  },
  {
   "cell_type": "markdown",
   "metadata": {},
   "source": [
    "Some of these majors are pretty uncommon/obscure. Let's remove any major with less than 50000 graduates (number of graduates is listed in the Total column). How many rows did we lose? Print this number before displaying the table."
   ]
  },
  {
   "cell_type": "code",
   "execution_count": null,
   "metadata": {
    "collapsed": false,
    "scrolled": true
   },
   "outputs": [],
   "source": [
    "before = ...\n",
    "bigmajors = ...\n",
    "after = ...\n",
    "print(...)\n",
    "bigmajors"
   ]
  },
  {
   "cell_type": "markdown",
   "metadata": {},
   "source": [
    "There are some columns that we aren't too concerned with, so let's get rid of them. Specifically,\n",
    " * Major_code means nothing to us\n",
    " * Distinction between full time and part time isn't important right now, so let's drop employed_full_time_year_round"
   ]
  },
  {
   "cell_type": "code",
   "execution_count": null,
   "metadata": {
    "collapsed": false,
    "scrolled": true
   },
   "outputs": [],
   "source": [
    "dropped = ...\n",
    "dropped"
   ]
  },
  {
   "cell_type": "markdown",
   "metadata": {},
   "source": [
    "I wonder how different majors stack up in terms of employment, relative to other majors in the same category? Let's take a look. \n",
    "* Sort first by unemployment rate (low to high), and then by major category.\n",
    "     * Does it matter what order I sort these in?\n",
    "     * Can I do this in one line?\n",
    "* Now show 40 lines so we can see a couple different categories"
   ]
  },
  {
   "cell_type": "code",
   "execution_count": null,
   "metadata": {
    "collapsed": false
   },
   "outputs": [],
   "source": [
    "employsorted = ...\n",
    "categorysorted = ...\n",
    "bothsorted = ...\n",
    "..."
   ]
  },
  {
   "cell_type": "markdown",
   "metadata": {},
   "source": [
    "What's the business major with the lowest unemployment rate?\n",
    "It's a little hard to see patterns with just a table like this, so let's use a bar chart to see patterns within certain categories. Use barh to plot unemployement rates of business majors.\n",
    "* Make a new table called business containing just business majors (try using take for this: the rows with business majors are 18-29, inclusive on both ends)\n",
    "    * Challenge: how would I figure out what these rows are? (look up np.where())\n",
    "* Plot unemployment rate vs each major in the business category."
   ]
  },
  {
   "cell_type": "code",
   "execution_count": null,
   "metadata": {
    "collapsed": false
   },
   "outputs": [],
   "source": [
    "business = ...\n",
    "..."
   ]
  },
  {
   "cell_type": "markdown",
   "metadata": {},
   "source": [
    "It's good to think about what we can use visualization for. Here's an example of something that might not be terribly insightful: plot the employement rate vs unemployment rate for all majors. \n",
    "\n",
    "First, create and add a new column called employment rate to bothsorted. (This is employed/(unemployed + employed)). Assign this new table to the same name as before, bothsorted. Then, use the second cell to plot. "
   ]
  },
  {
   "cell_type": "code",
   "execution_count": null,
   "metadata": {
    "collapsed": true
   },
   "outputs": [],
   "source": [
    "bothsorted = ..."
   ]
  },
  {
   "cell_type": "code",
   "execution_count": null,
   "metadata": {
    "collapsed": false
   },
   "outputs": [],
   "source": [
    "..."
   ]
  },
  {
   "cell_type": "markdown",
   "metadata": {},
   "source": [
    "Here's something that might be a little more useful; is there a relationship between unemployment rate and median income? Plot the two and find out."
   ]
  },
  {
   "cell_type": "code",
   "execution_count": null,
   "metadata": {
    "collapsed": false
   },
   "outputs": [],
   "source": [
    "..."
   ]
  },
  {
   "cell_type": "markdown",
   "metadata": {},
   "source": [
    "You'll learn how to quantify the difference between these two scatter plots as the course progresses."
   ]
  },
  {
   "cell_type": "markdown",
   "metadata": {},
   "source": [
    "Bonus set of questions as time allows:\n",
    "You may add code cells as necessary.\n",
    "\n",
    "Now, let's take a look at the majors we ignored earlier, and see what they look like. \n",
    "\n",
    "* Create a table called smallmajors with every major that wasn't included in the bigmajors. \n",
    "* Drop the columns we did before\n",
    "* Make a bar chart comparing the differences in Median income of a major group of your choice. \n",
    "* Compare differences between P25 and P75 of every major (from the original all majors table). Should you use a bar graph, scatter plot, or histogram? Do that.\n"
   ]
  }
 ],
 "metadata": {
  "anaconda-cloud": {},
  "kernelspec": {
   "display_name": "Python [conda root]",
   "language": "python",
   "name": "conda-root-py"
  },
  "language_info": {
   "codemirror_mode": {
    "name": "ipython",
    "version": 3
   },
   "file_extension": ".py",
   "mimetype": "text/x-python",
   "name": "python",
   "nbconvert_exporter": "python",
   "pygments_lexer": "ipython3",
   "version": "3.5.2"
  }
 },
 "nbformat": 4,
 "nbformat_minor": 1
}
