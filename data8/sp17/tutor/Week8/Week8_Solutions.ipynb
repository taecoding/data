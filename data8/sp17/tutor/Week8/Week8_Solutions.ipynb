{
 "cells": [
  {
   "cell_type": "code",
   "execution_count": 2,
   "metadata": {
    "collapsed": true
   },
   "outputs": [],
   "source": [
    "#Setup\n",
    "import numpy as np\n",
    "from datascience import *"
   ]
  },
  {
   "cell_type": "markdown",
   "metadata": {},
   "source": [
    "# Confidence Intervals"
   ]
  },
  {
   "cell_type": "markdown",
   "metadata": {},
   "source": [
    "So far, we have been mostly working with data about an entire population. But oftentimes it's difficult or impossible to collect data from entire population. For example, it's impossible to ask every single household in the united to state their annual income. That is where the power of bootstrapping and confidence intervals come in. We can use a random sample to estimate the parameters of the population."
   ]
  },
  {
   "cell_type": "markdown",
   "metadata": {},
   "source": [
    "We are going to use a dataset on baseball players. We have the entire popoluation data, but we want to practice useing confidence intervals, so ONLY use the table called SAMPLE."
   ]
  },
  {
   "cell_type": "code",
   "execution_count": 5,
   "metadata": {
    "collapsed": false
   },
   "outputs": [
    {
     "data": {
      "text/html": [
       "<table border=\"1\" class=\"dataframe\">\n",
       "    <thead>\n",
       "        <tr>\n",
       "            <th>team</th> <th>leagueID</th> <th>player</th> <th>salary</th> <th>position</th> <th>gamesplayed</th>\n",
       "        </tr>\n",
       "    </thead>\n",
       "    <tbody>\n",
       "        <tr>\n",
       "            <td>MON </td> <td>NL      </td> <td>foxan01 </td> <td>450000 </td> <td>SS      </td> <td>34         </td>\n",
       "        </tr>\n",
       "    </tbody>\n",
       "        <tr>\n",
       "            <td>CHN </td> <td>NL      </td> <td>welleto0</td> <td>310000 </td> <td>P       </td> <td>20         </td>\n",
       "        </tr>\n",
       "    </tbody>\n",
       "        <tr>\n",
       "            <td>FLO </td> <td>NL      </td> <td>foxch02 </td> <td>1200000</td> <td>P       </td> <td>12         </td>\n",
       "        </tr>\n",
       "    </tbody>\n",
       "        <tr>\n",
       "            <td>MON </td> <td>NL      </td> <td>hernali0</td> <td>6000000</td> <td>P       </td> <td>34         </td>\n",
       "        </tr>\n",
       "    </tbody>\n",
       "        <tr>\n",
       "            <td>CLE </td> <td>AL      </td> <td>crispco0</td> <td>319400 </td> <td>CF      </td> <td>139        </td>\n",
       "        </tr>\n",
       "    </tbody>\n",
       "        <tr>\n",
       "            <td>NYA </td> <td>AL      </td> <td>heredfe0</td> <td>1800000</td> <td>P       </td> <td>5          </td>\n",
       "        </tr>\n",
       "    </tbody>\n",
       "        <tr>\n",
       "            <td>MIL </td> <td>NL      </td> <td>helmswe0</td> <td>1687500</td> <td>3B      </td> <td>92         </td>\n",
       "        </tr>\n",
       "    </tbody>\n",
       "        <tr>\n",
       "            <td>CHN </td> <td>NL      </td> <td>bakopa01</td> <td>865000 </td> <td>C       </td> <td>49         </td>\n",
       "        </tr>\n",
       "    </tbody>\n",
       "        <tr>\n",
       "            <td>PIT </td> <td>NL      </td> <td>cotahu01</td> <td>303000 </td> <td>C       </td> <td>36         </td>\n",
       "        </tr>\n",
       "    </tbody>\n",
       "        <tr>\n",
       "            <td>BOS </td> <td>AL      </td> <td>mccarda0</td> <td>500000 </td> <td>1B      </td> <td>89         </td>\n",
       "        </tr>\n",
       "    </tbody>\n",
       "</table>\n",
       "<p>... (340 rows omitted)</p"
      ],
      "text/plain": [
       "team | leagueID | player   | salary  | position | gamesplayed\n",
       "MON  | NL       | foxan01  | 450000  | SS       | 34\n",
       "CHN  | NL       | welleto0 | 310000  | P        | 20\n",
       "FLO  | NL       | foxch02  | 1200000 | P        | 12\n",
       "MON  | NL       | hernali0 | 6000000 | P        | 34\n",
       "CLE  | AL       | crispco0 | 319400  | CF       | 139\n",
       "NYA  | AL       | heredfe0 | 1800000 | P        | 5\n",
       "MIL  | NL       | helmswe0 | 1687500 | 3B       | 92\n",
       "CHN  | NL       | bakopa01 | 865000  | C        | 49\n",
       "PIT  | NL       | cotahu01 | 303000  | C        | 36\n",
       "BOS  | AL       | mccarda0 | 500000  | 1B       | 89\n",
       "... (340 rows omitted)"
      ]
     },
     "execution_count": 5,
     "metadata": {},
     "output_type": "execute_result"
    }
   ],
   "source": [
    "all_players = Table.read_table(\"baseball.csv\").drop(0)\n",
    "sample = all_players.sample(350)\n",
    "sample"
   ]
  },
  {
   "cell_type": "markdown",
   "metadata": {},
   "source": [
    "### Question 1"
   ]
  },
  {
   "cell_type": "markdown",
   "metadata": {},
   "source": [
    "Right now we have one random sample of 350 players. If we computed the median player salary of this sample, would that be a good estimate of the median of the entire population of baseball players? Why or why not?"
   ]
  },
  {
   "cell_type": "markdown",
   "metadata": {},
   "source": [
    "*Write your answer and reasoning here*"
   ]
  },
  {
   "cell_type": "markdown",
   "metadata": {},
   "source": [
    "*No, this one sample is not the best estimate, because the sample could have come out differently (due to chance), and thus the sample statistic, the median salary, could have come out differently. We need more samples, and more sample statistics, to provide a better estimate*"
   ]
  },
  {
   "cell_type": "markdown",
   "metadata": {},
   "source": [
    "### Question 2"
   ]
  },
  {
   "cell_type": "markdown",
   "metadata": {},
   "source": [
    "Based off your answer above, we need more samples of baseball player data. But we are out of money- we cannot go and take another random sample from the population. What other method could we use to generate more samples from the data that we have?"
   ]
  },
  {
   "cell_type": "markdown",
   "metadata": {},
   "source": [
    "*Write your answer and reasoning here*"
   ]
  },
  {
   "cell_type": "markdown",
   "metadata": {},
   "source": [
    "*We could use the bootstrap method, which generates more samples \"resamples\" from our orignal sample we collected*"
   ]
  },
  {
   "cell_type": "markdown",
   "metadata": {},
   "source": [
    "### Question 3"
   ]
  },
  {
   "cell_type": "markdown",
   "metadata": {},
   "source": [
    "What two conditions need to be satisfied in your resample in order for the data to be valid? If you're stuck, refer to [this](https://www.inferentialthinking.com/chapters/11/2/bootstrap.html) section of the textbook"
   ]
  },
  {
   "cell_type": "markdown",
   "metadata": {},
   "source": [
    "*Write your answer and reasoning here*"
   ]
  },
  {
   "cell_type": "markdown",
   "metadata": {},
   "source": [
    "*Your resample/\"one bootsrap\" needs to be taken 1) with replacement from your original sample and 2) of the same sample size as your orignal sample. Resampling with replacement allows us to generate differnt samples (and thus different sample statistics), and we need the same sample size so we can compare our statistics (you can't compare two medians computed from different sample sizes for example)*"
   ]
  },
  {
   "cell_type": "markdown",
   "metadata": {},
   "source": [
    "### Question 4"
   ]
  },
  {
   "cell_type": "markdown",
   "metadata": {},
   "source": [
    "The total bootstrap and confidence interval process is complicated, so we are going to break it down in several steps"
   ]
  },
  {
   "cell_type": "markdown",
   "metadata": {},
   "source": [
    "Define the function bootstrap_median, which performs one resample of your original data. This function should take one resample of of your original data (making sure you follow the conditions outlined in Question 3!), and computes the median annual baseball player salary for the resample"
   ]
  },
  {
   "cell_type": "code",
   "execution_count": null,
   "metadata": {
    "collapsed": true
   },
   "outputs": [],
   "source": [
    "def bootstrap_median(original_sample):\n",
    "    resample = ...\n",
    "    resample_median = ...\n",
    "    return ..."
   ]
  },
  {
   "cell_type": "code",
   "execution_count": null,
   "metadata": {
    "collapsed": true
   },
   "outputs": [],
   "source": [
    "#SOLUTION\n",
    "def bootstrap_medians(original_sample):\n",
    "    resample = original_sample.sample(original_sample.num_rows)\n",
    "    resampled_median = np.median(resample)\n",
    "    return resampled_median"
   ]
  },
  {
   "cell_type": "markdown",
   "metadata": {},
   "source": [
    "### Question 5"
   ]
  },
  {
   "cell_type": "markdown",
   "metadata": {},
   "source": [
    "If we wanted to construct a 95% confidence interval, what \"ends\"/ percentiles of the data array would we take to form our confidence interval? Hint: if we want the \"middle\" 95% of the data, what percent of the data is left out on the ends? Hint: refer to [textbook](https://www.inferentialthinking.com/chapters/11/3/confidence-intervals.html) if you get stuck"
   ]
  },
  {
   "cell_type": "markdown",
   "metadata": {},
   "source": [
    "*Write your answer and reasoning here*"
   ]
  },
  {
   "cell_type": "markdown",
   "metadata": {},
   "source": [
    "*The left end of the confidence interval is the 2.5th percentile of the data array, and the right end is the 97.5th percentile of the data array. This is the middle 95% of data, because 5% of the data is left in the ends*"
   ]
  },
  {
   "cell_type": "markdown",
   "metadata": {},
   "source": [
    "### Question 6"
   ]
  },
  {
   "cell_type": "markdown",
   "metadata": {},
   "source": [
    "Define a function confidence_interval, which takes in the orginal_sample table of data, and a number of replications, and returns an array, where the first item in the array is the left end of the 95% confidence interval estimating the population median salary, and the second item is the right end of the interval. Hint: use the function you defined in question 4- don't repeat code. "
   ]
  },
  {
   "cell_type": "code",
   "execution_count": null,
   "metadata": {
    "collapsed": true
   },
   "outputs": [],
   "source": [
    "def confidence_interval(original_sample, replications):\n",
    "    result_medians = ..\n",
    "    for i in n...\n",
    "        resample_median = ...\n",
    "        result_medians = ...\n",
    "    left_end = ....\n",
    "    right_end = ...\n",
    "    return ...."
   ]
  },
  {
   "cell_type": "code",
   "execution_count": null,
   "metadata": {
    "collapsed": true
   },
   "outputs": [],
   "source": [
    "#Solution\n",
    "def confidence_interval(original_sample, replications):\n",
    "    result_medians = make_array()\n",
    "    for i in np.arange(replications):\n",
    "        resample_median = bootstrap_median(original_sample)\n",
    "        result_medians = np.append(result_medians, resample_median)\n",
    "    left_end = percentile(2.5, result_medians)\n",
    "    right_end = percentile(97.5, result_medians)\n",
    "    return make_array(left_end, right_end)"
   ]
  },
  {
   "cell_type": "markdown",
   "metadata": {},
   "source": [
    "### Question 7"
   ]
  },
  {
   "cell_type": "markdown",
   "metadata": {},
   "source": [
    "Now lets compute a confidence interval! Use the function defined in question 6 to compute a 95% confidence interval for the population median annual baseball player salary, using the table sample as your original sample, and 10,000 replications"
   ]
  },
  {
   "cell_type": "code",
   "execution_count": null,
   "metadata": {
    "collapsed": true
   },
   "outputs": [],
   "source": [
    "c_i_95 = ...\n",
    "c_i_95"
   ]
  },
  {
   "cell_type": "code",
   "execution_count": null,
   "metadata": {
    "collapsed": true
   },
   "outputs": [],
   "source": [
    "#Solution\n",
    "c_i_95 = confidence_interval(sample, 10000)\n",
    "c_i_95"
   ]
  },
  {
   "cell_type": "markdown",
   "metadata": {},
   "source": [
    "### Question 8"
   ]
  },
  {
   "cell_type": "markdown",
   "metadata": {},
   "source": [
    "Now lets test your conceptual understanding of the interval. Since we computed a 95% confidence interval, does that mean that 95% of baseball players have an annual salary between the left and right ends of your interval? If not, what does the 95% confidence level represent?"
   ]
  },
  {
   "cell_type": "markdown",
   "metadata": {},
   "source": [
    "*Write your answer and reasoning here*"
   ]
  },
  {
   "cell_type": "markdown",
   "metadata": {},
   "source": [
    "*No, 95% of players do not have annual incomes in this interval. A 95% confidence interval means that 95% of the time (ie we are 95% confident), this interval will contain the true population median annual income parameter*"
   ]
  },
  {
   "cell_type": "markdown",
   "metadata": {},
   "source": [
    "# Mean"
   ]
  },
  {
   "cell_type": "markdown",
   "metadata": {},
   "source": [
    "The terms \"mean\" and \"average\" are often used interchangeably. Their definition is the sum of all the elements in an array divided by the total size of the array.\n",
    "\n",
    "Formally in mathematical notation it can be written as $$\\frac{1}{n}\\sum^n_{i=1}x_i$$ where $n$ is the number of elements in the array and $x_i$ is the ith element in the array."
   ]
  },
  {
   "cell_type": "code",
   "execution_count": 11,
   "metadata": {
    "collapsed": false
   },
   "outputs": [],
   "source": [
    "some_numbers = make_array([0, 2, 3, 7, 15, 21])"
   ]
  },
  {
   "cell_type": "code",
   "execution_count": 12,
   "metadata": {
    "collapsed": false
   },
   "outputs": [
    {
     "data": {
      "text/plain": [
       "8.0"
      ]
     },
     "execution_count": 12,
     "metadata": {},
     "output_type": "execute_result"
    }
   ],
   "source": [
    "np.mean(some_numbers)"
   ]
  },
  {
   "cell_type": "markdown",
   "metadata": {},
   "source": [
    "Without using `numpy` functions `np.mean` or `np.average`, calculate the mean yourself and check that it is the same number."
   ]
  },
  {
   "cell_type": "code",
   "execution_count": 46,
   "metadata": {
    "collapsed": false
   },
   "outputs": [
    {
     "data": {
      "text/plain": [
       "8.0"
      ]
     },
     "execution_count": 46,
     "metadata": {},
     "output_type": "execute_result"
    }
   ],
   "source": [
    "#Solution\n",
    "np.sum(some_numbers) / np.size(some_numbers)"
   ]
  },
  {
   "cell_type": "markdown",
   "metadata": {},
   "source": [
    "For data consisting only of ones and zeroes, the mean will represent the proportion of elements that are one.\n",
    "\n",
    "Now lets try it on our dataset!\n",
    "Using `np.mean`, find the proportion of baseball players that are pitchers.\n",
    "*(Hint: boolean values `False` and `True` can also serve as the equivalent of 0 and 1)*"
   ]
  },
  {
   "cell_type": "code",
   "execution_count": 21,
   "metadata": {
    "collapsed": false,
    "scrolled": true
   },
   "outputs": [
    {
     "data": {
      "text/plain": [
       "0.47176913425345046"
      ]
     },
     "execution_count": 21,
     "metadata": {},
     "output_type": "execute_result"
    }
   ],
   "source": [
    "#Solution\n",
    "np.mean(all_players.column(\"position\") == 'P')"
   ]
  },
  {
   "cell_type": "markdown",
   "metadata": {},
   "source": [
    "Take a look at the histogram for the salaries of baseball players. Do you think that the median will be higher than the mean, the mean will be higher than the median, or they will be the same? "
   ]
  },
  {
   "cell_type": "code",
   "execution_count": 43,
   "metadata": {
    "collapsed": false
   },
   "outputs": [
    {
     "data": {
      "image/png": "[encoded data removed]",
      "text/plain": [
       "<matplotlib.figure.Figure at 0x114051710>"
      ]
     },
     "metadata": {},
     "output_type": "display_data"
    }
   ],
   "source": [
    "all_players.select(\"salary\").hist(bins = np.arange(0, 25000000, 1000000))"
   ]
  },
  {
   "cell_type": "markdown",
   "metadata": {},
   "source": [
    "*Answer*: The mean will be higher than the median because the data is skewed to the right, so players will extremely high salaries will pull the mean up."
   ]
  },
  {
   "cell_type": "markdown",
   "metadata": {},
   "source": [
    "If someone asked you about how much money most baseball players for their salaries, which would be a better statistic to use? The mean or median? Why? "
   ]
  },
  {
   "cell_type": "markdown",
   "metadata": {},
   "source": [
    "*Answer*: The median would be a better statistic to use because the mean will overrepresent players who earn extremely high salaries, suggesting that most player earn more than they actually do."
   ]
  },
  {
   "cell_type": "markdown",
   "metadata": {},
   "source": [
    "# Variance and Standard Deviation"
   ]
  },
  {
   "cell_type": "markdown",
   "metadata": {},
   "source": [
    "In lecture and the textbook, we went over the steps for calculating the variance of an array of data:\n",
    "\n",
    "1. Calculate the mean\n",
    "2. Subtract the mean from all the data points to get the deviations\n",
    "3. Square each deviation\n",
    "4. Calculate the mean of the squares of the deviations\n",
    "\n",
    "To put it in a nice mathematical formula:\n",
    "\n",
    "$$\\frac{1}{n}\\sum^n_{i=1}(x_i - \\bar{x})^2$$\n",
    "\n",
    "where $n$ is the number of elements in the array, $x_i$ is the ith element in the array, and $\\bar{x}$ is the mean of the array.\n",
    "\n",
    "The standard deviation is just the square root of the variance:\n",
    "\n",
    "$$\\sqrt{\\frac{1}{n}\\sum^n_{i=1}(x_i - \\bar{x})^2}$$"
   ]
  },
  {
   "cell_type": "code",
   "execution_count": 47,
   "metadata": {
    "collapsed": false
   },
   "outputs": [
    {
     "data": {
      "text/plain": [
       "7.5718777944003648"
      ]
     },
     "execution_count": 47,
     "metadata": {},
     "output_type": "execute_result"
    }
   ],
   "source": [
    "np.std(some_numbers)"
   ]
  },
  {
   "cell_type": "markdown",
   "metadata": {},
   "source": [
    "Without using `numpy` function `np.std`, calculate the standard deviation yourself and check that it is the same number. You can use `np.mean` this time!"
   ]
  },
  {
   "cell_type": "code",
   "execution_count": 55,
   "metadata": {
    "collapsed": false
   },
   "outputs": [
    {
     "data": {
      "text/plain": [
       "7.5718777944003648"
      ]
     },
     "execution_count": 55,
     "metadata": {},
     "output_type": "execute_result"
    }
   ],
   "source": [
    "#Solution\n",
    "np.sqrt(np.mean((some_numbers - np.mean(some_numbers))**2))"
   ]
  },
  {
   "cell_type": "markdown",
   "metadata": {},
   "source": [
    "Standard deviation gives us a good \"standard\" way of measuring how far away data points are from the mean. Since every dataset is different, standard deviation \"standardizes\" our data so that using phrases like \"one standard deviation away\" are universally understood.\n",
    "\n",
    "According to Chebychev's Bounds, the proportion of data points within $z$ standard deviations of the mean is lower bounded by $1 - \\frac{1}{z^2}$. Find the proportion of players who earn within salaries two standard deviations."
   ]
  },
  {
   "cell_type": "code",
   "execution_count": 68,
   "metadata": {
    "collapsed": false
   },
   "outputs": [
    {
     "data": {
      "text/plain": [
       "0.94479297365119197"
      ]
     },
     "execution_count": 68,
     "metadata": {},
     "output_type": "execute_result"
    }
   ],
   "source": [
    "#Solution\n",
    "sd = np.std(all_players.column(\"salary\"))\n",
    "m = np.mean(all_players.column(\"salary\"))\n",
    "\n",
    "np.mean(np.logical_and(all_players.column(\"salary\") - m < 2 * sd,  all_players.column(\"salary\") - m > - 2 * sd))"
   ]
  },
  {
   "cell_type": "markdown",
   "metadata": {},
   "source": [
    "Does the proportion you calculated agree with Chebychev's Bounds?"
   ]
  },
  {
   "cell_type": "markdown",
   "metadata": {},
   "source": [
    "*Answer*: Yes, 94.5% is greater than $1 - \\frac{1}{2^2} = .75$"
   ]
  }
 ],
 "metadata": {
  "kernelspec": {
   "display_name": "Python 3",
   "language": "python",
   "name": "python3"
  },
  "language_info": {
   "codemirror_mode": {
    "name": "ipython",
    "version": 3
   },
   "file_extension": ".py",
   "mimetype": "text/x-python",
   "name": "python",
   "nbconvert_exporter": "python",
   "pygments_lexer": "ipython3",
   "version": "3.4.5"
  }
 },
 "nbformat": 4,
 "nbformat_minor": 2
}
