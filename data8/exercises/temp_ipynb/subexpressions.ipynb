{
 "cells": [
  {
   "cell_type": "markdown",
   "metadata": {},
   "source": [
    "# Breaking Down Expressions"
   ]
  },
  {
   "cell_type": "markdown",
   "metadata": {},
   "source": [
    "The most important idea in Computer Science is that complicated, useful things can be built by putting together simple parts according to simple rules.  Python code is an important example of this principle.  Once you understand the basic rules, you can code with confidence.  These exercises are designed to give you some practice with those rules.\n",
    "\n",
    "First, a brief review of subexpressions.\n",
    "\n",
    "You can take any Python expression that has a value and combine it with other expressions.  For example, you can combine two number-valued expressions by putting a `+` between them to add their values together.  This forms a new, larger expression called a *compound expression*.  The expressions that were combined together are called *subexpressions*.\n",
    "\n",
    "You can tell if something is a subexpression by checking whether it would make sense to write it in a line by itself.  For example, in the expression `2 * 3`, `2` is a subexpression, but `2 *` isn't, because `2 *` isn't a valid expression.  (Try executing it!)"
   ]
  },
  {
   "cell_type": "markdown",
   "metadata": {},
   "source": [
    "**Question 1.** List all the subexpressions of the following expression:\n",
    "\n",
    "    2 + 3\n",
    "    \n",
    "Put each subexpression on its own line in the next cell.\n",
    "\n",
    "*Hint:* There are two of them."
   ]
  },
  {
   "cell_type": "code",
   "execution_count": null,
   "metadata": {
    "collapsed": true
   },
   "outputs": [],
   "source": [
    "...\n",
    "..."
   ]
  },
  {
   "cell_type": "markdown",
   "metadata": {},
   "source": [
    "**Question 2.** Consider the following expression:\n",
    "\n",
    "    (1 + 2) * ((3 / 4) ** 5)\n",
    "\n",
    "Here is a list of almost all the subexpressions of that expression.  One is missing.\n",
    "\n",
    "1. `1`\n",
    "2. `2`\n",
    "3. `3`\n",
    "4. `4`\n",
    "5. `5`\n",
    "6. `(1 + 2)`\n",
    "7. `((3 / 4) ** 5)`\n",
    "\n",
    "In the next cell, write the missing expression."
   ]
  },
  {
   "cell_type": "code",
   "execution_count": 12,
   "metadata": {
    "collapsed": false
   },
   "outputs": [],
   "source": [
    "..."
   ]
  },
  {
   "cell_type": "markdown",
   "metadata": {},
   "source": [
    "**Question 3.** List all the subexpressions of the following expression:\n",
    "\n",
    "    (((2**3) / 4) / 5) - 6\n",
    "\n",
    "Put each subexpression on its own line in the next cell."
   ]
  },
  {
   "cell_type": "code",
   "execution_count": null,
   "metadata": {
    "collapsed": true
   },
   "outputs": [],
   "source": [
    "...\n",
    "...\n",
    "...\n",
    "...\n",
    "...\n",
    "...\n",
    "...\n",
    "..."
   ]
  },
  {
   "cell_type": "code",
   "execution_count": null,
   "metadata": {
    "collapsed": false
   },
   "outputs": [],
   "source": [
    "# Run this cell to submit your work *after* you have passed all of the test cells.\n",
    "# It's ok to run this cell multiple times. Only your final submission will be scored.\n",
    "\n",
    "!TZ=America/Los_Angeles ipython nbconvert --output=\".subexpressions_$(date +%m%d_%H%M)_submission.html\" subexpressions.ipynb"
   ]
  }
 ],
 "metadata": {
  "kernelspec": {
   "display_name": "Python 3",
   "language": "python",
   "name": "python3"
  },
  "language_info": {
   "codemirror_mode": {
    "name": "ipython",
    "version": 3
   },
   "file_extension": ".py",
   "mimetype": "text/x-python",
   "name": "python",
   "nbconvert_exporter": "python",
   "pygments_lexer": "ipython3",
   "version": "3.4.4"
  }
 },
 "nbformat": 4,
 "nbformat_minor": 0
}

