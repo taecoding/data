{
 "cells": [
  {
   "cell_type": "markdown",
   "metadata": {},
   "source": [
    "## Creating Arrays"
   ]
  },
  {
   "cell_type": "code",
   "execution_count": 1,
   "metadata": {},
   "outputs": [],
   "source": [
    "# Run this cell to set up the notebook, but please don't change it.\n",
    "\n",
    "# These lines import the Numpy and Datascience modules.\n",
    "import numpy as np\n",
    "from datascience import *\n",
    "\n",
    "# These lines load the tests.\n",
    "from client.api.assignment import load_assignment \n",
    "tests = load_assignment('creating_arrays.ok')"
   ]
  },
  {
   "cell_type": "markdown",
   "metadata": {},
   "source": [
    "**Question 1.** Make an array called `weird_numbers` containing the following numbers (in the given order):\n",
    "\n",
    "1. -2\n",
    "2. the sine of 1.2\n",
    "3. 3\n",
    "4. 5 to the power of the cosine of 1.2\n",
    "\n",
    "*Hint:* `sin` and `cos` are functions in the `math` module."
   ]
  },
  {
   "cell_type": "code",
   "execution_count": 2,
   "metadata": {},
   "outputs": [],
   "source": [
    "# Our solution involved one extra line of code before creating\n",
    "# weird_numbers.\n",
    "...\n",
    "weird_numbers = ...\n",
    "weird_numbers"
   ]
  },
  {
   "cell_type": "code",
   "execution_count": 3,
   "metadata": {},
   "outputs": [],
   "source": [
    "_ = tests.grade('q1')"
   ]
  },
  {
   "cell_type": "markdown",
   "metadata": {},
   "source": [
    "**Question 2.** Make an array called `book_title_words` containing the following three strings: \"Eats\", \"Shoots\", and \"and Leaves\"."
   ]
  },
  {
   "cell_type": "code",
   "execution_count": 4,
   "metadata": {},
   "outputs": [],
   "source": [
    "book_title_words = ...\n",
    "book_title_words"
   ]
  },
  {
   "cell_type": "code",
   "execution_count": 5,
   "metadata": {},
   "outputs": [],
   "source": [
    "_ = tests.grade('q2')"
   ]
  },
  {
   "cell_type": "markdown",
   "metadata": {},
   "source": [
    "Strings have a method called `join`.  `join` takes one argument, an array of strings.  It returns a single string.  Specifically, the value of `a_string.join(an_array)` is a single string that's the [concatenation](https://en.wikipedia.org/wiki/Concatenation) (\"putting together\") of all the strings in `an_array`, **except** `a_string` is inserted in between each string\n",
    "\n",
    "**Question 3.** Use the array `book_title_words` and the method `join` to make two strings:\n",
    "\n",
    "1. \"Eats, Shoots, and Leaves\" (call this one `with_commas`)\n",
    "2. \"Eats Shoots and Leaves\" (call this one `without_commas`)\n",
    "\n",
    "*Hint:* If you're not sure what `join` does, first try just calling, for example, `\"foo\".join(book_title_words)` ."
   ]
  },
  {
   "cell_type": "code",
   "execution_count": 6,
   "metadata": {},
   "outputs": [],
   "source": [
    "with_commas = ...\n",
    "without_commas = ...\n",
    "\n",
    "# These lines are provided just to print out your answers.\n",
    "print('with_commas:', with_commas)\n",
    "print('without_commas:', without_commas)"
   ]
  },
  {
   "cell_type": "code",
   "execution_count": 7,
   "metadata": {},
   "outputs": [],
   "source": [
    "_ = tests.grade('q3')"
   ]
  },
  {
   "cell_type": "code",
   "execution_count": 8,
   "metadata": {},
   "outputs": [],
   "source": [
    "# For your convenience, you can run this cell to run all the tests at once!\n",
    "import os\n",
    "_ = [tests.grade(q[:-3]) for q in os.listdir(\"tests\") if q.startswith('q')]"
   ]
  },
  {
   "cell_type": "code",
   "execution_count": 9,
   "metadata": {},
   "outputs": [],
   "source": [
    "# Run this cell to submit your work *after* you have passed all of the test cells.\n",
    "# It's ok to run this cell multiple times. Only your final submission will be scored.\n",
    "\n",
    "!TZ=America/Los_Angeles ipython nbconvert --output=\".creating_arrays_$(date +%m%d_%H%M)_submission.html\" creating_arrays.ipynb"
   ]
  }
 ],
 "metadata": {
  "kernelspec": {
   "display_name": "Python 3",
   "language": "python",
   "name": "python3"
  },
  "language_info": {
   "codemirror_mode": {
    "name": "ipython",
    "version": 3
   },
   "file_extension": ".py",
   "mimetype": "text/x-python",
   "name": "python",
   "nbconvert_exporter": "python",
   "pygments_lexer": "ipython3",
   "version": "3.6.8"
  }
 },
 "nbformat": 4,
 "nbformat_minor": 1
}
