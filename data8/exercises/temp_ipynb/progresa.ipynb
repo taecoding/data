{
 "cells": [
  {
   "cell_type": "markdown",
   "metadata": {},
   "source": [
    "## PROGRESA"
   ]
  },
  {
   "cell_type": "markdown",
   "metadata": {},
   "source": [
    "A 2001 [study](http://198.62.77.13/WMSFiles/products/research/files/pubS-234.pdf) by two Berkeley researchers investigated a Mexican anti-poverty initiative called *PROGRESA*. (Your textbook describes a related study on *PROGRESA*, but not the same study.) *PROGRESA* gave money to poor families, but required as a condition for payment that the families participate in a range of programs to improve their health and education. The amount of money *PROGRESA* gave to participating families was substantial, increasing participating families’ income by a factor of roughly 1/3 on average.\n",
    "\n",
    "*PROGRESA* eventually covered families in around 50,000 Mexican communities, but the program’s managers initially evaluated it using a smaller group of 505 communities selected to have similar poverty levels. Out of those 505 communities, the managers randomly chose 320 to receive *PROGRESA* benefits in the first two years of the program (1998 to 2000). Families in the remaining 185 communities (out of the 505 selected) received no benefits in the first two years.\n",
    "\n",
    "The Berkeley researchers focused on the impacts of *PROGRESA* on health. They measured various health-related outcomes for the 505 communities.  They found that children in the 320 communities that received *PROGRESA* benefits had substantially lower average rates of illness than children in the other 185 communities when the two-year period ended."
   ]
  },
  {
   "cell_type": "markdown",
   "metadata": {},
   "source": [
    "**Question 1.** Did this analysis have a treatment group and a control group? If so, describe the two groups."
   ]
  },
  {
   "cell_type": "markdown",
   "metadata": {},
   "source": [
    "*Write your answer here, replacing this text.*"
   ]
  },
  {
   "cell_type": "markdown",
   "metadata": {},
   "source": [
    "**Question 2.** Was this an observational study or a randomized controlled experiment?"
   ]
  },
  {
   "cell_type": "markdown",
   "metadata": {},
   "source": [
    "*Write your answer here, replacing this text.*"
   ]
  },
  {
   "cell_type": "markdown",
   "metadata": {},
   "source": [
    "**Question 3.** Does the study provide evidence that, among the 505 studied communities, being in a community receiving *PROGRESA* benefits is *associated* with a lower rate of childhood illness?"
   ]
  },
  {
   "cell_type": "markdown",
   "metadata": {},
   "source": [
    "*Write your answer here, replacing this text.*"
   ]
  },
  {
   "cell_type": "markdown",
   "metadata": {},
   "source": [
    "**Question 4.** Does the study provide evidence that being in a community receiving *PROGRESA* benefits *causes* a lower rate of childhood illness?"
   ]
  },
  {
   "cell_type": "markdown",
   "metadata": {},
   "source": [
    "*Write your answer here, replacing this text.*"
   ]
  },
  {
   "cell_type": "markdown",
   "metadata": {},
   "source": [
    "**Question 5.** Most families eligible for *PROGRESA* participated in the required health programs, but around 3% did not. (Those families were unwilling or unable to participate. This study did not investigate the reasons for non-participation.)\n",
    "\n",
    "Suppose we limit our study to the 320 eligible communities, and within those communities we compare the health outcomes of the families that participated (and received *PROGRESA* money) with those that did not (and therefore received no *PROGRESA* money). Would that analysis constitute an observational study, a randomized controlled experiment, or neither?"
   ]
  },
  {
   "cell_type": "markdown",
   "metadata": {},
   "source": [
    "*Write your answer here, replacing this text.*"
   ]
  },
  {
   "cell_type": "code",
   "execution_count": null,
   "metadata": {
    "collapsed": false
   },
   "outputs": [],
   "source": [
    "# Run this cell to submit your work *after* you have passed all of the test cells.\n",
    "# It's ok to run this cell multiple times. Only your final submission will be scored.\n",
    "\n",
    "!TZ=America/Los_Angeles ipython nbconvert --output=\".progresa_$(date +%m%d_%H%M)_submission.html\" progresa.ipynb"
   ]
  }
 ],
 "metadata": {
  "kernelspec": {
   "display_name": "Python 3",
   "language": "python",
   "name": "python3"
  },
  "language_info": {
   "codemirror_mode": {
    "name": "ipython",
    "version": 3
   },
   "file_extension": ".py",
   "mimetype": "text/x-python",
   "name": "python",
   "nbconvert_exporter": "python",
   "pygments_lexer": "ipython3",
   "version": "3.4.4"
  }
 },
 "nbformat": 4,
 "nbformat_minor": 0
}

