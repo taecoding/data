{
 "cells": [
  {
   "cell_type": "markdown",
   "metadata": {},
   "source": [
    "## Working with Text using Functions"
   ]
  },
  {
   "cell_type": "code",
   "execution_count": 54,
   "metadata": {},
   "outputs": [],
   "source": [
    "# Run this cell to set up the notebook, but please don't change it.\n",
    "\n",
    "# These lines import the Numpy and Datascience modules.\n",
    "import numpy as np\n",
    "from datascience import *\n",
    "\n",
    "# These lines load the tests.\n",
    "from client.api.assignment import load_assignment \n",
    "tests = load_assignment('text_functions.ok')"
   ]
  },
  {
   "cell_type": "markdown",
   "metadata": {},
   "source": [
    "The following array contains the words from four chapters of Charles Dickins' [A Tale of Two Cities](http://www.gutenberg.org/cache/epub/98/pg98.txt).  We're going to compute some simple facts about each chapter.  Since we're performing the same computation on each chapter, it's best to encapsulate each computational procedure in a function, and then call the function several times."
   ]
  },
  {
   "cell_type": "code",
   "execution_count": 55,
   "metadata": {},
   "outputs": [],
   "source": [
    "# Just run this cell to load the data.\n",
    "tale_chapters = Table.read_table(\"tale.csv\").column(\"Chapter text\")\n",
    "tale_chapters"
   ]
  },
  {
   "cell_type": "markdown",
   "metadata": {},
   "source": [
    "**Question 1.** Write a function called `word_count` that takes a single argument, the text of a single chapter, and returns the number of words in that chapter.  Assume that words are separated from each other by spaces.\n",
    "\n",
    "*Hint:* Try the string method `split` and the function `len`."
   ]
  },
  {
   "cell_type": "code",
   "execution_count": 56,
   "metadata": {},
   "outputs": [],
   "source": [
    "def word_count(chapter_text):\n",
    "    return len(chapter_text.split(\" \"))\n",
    "\n",
    "word_count(tale_chapters.item(0))"
   ]
  },
  {
   "cell_type": "code",
   "execution_count": 29,
   "metadata": {},
   "outputs": [],
   "source": [
    "...\n",
    "\n",
    "word_count(tale_chapters.item(0))"
   ]
  },
  {
   "cell_type": "code",
   "execution_count": 57,
   "metadata": {},
   "outputs": [],
   "source": [
    "_ = tests.grade('q1')"
   ]
  },
  {
   "cell_type": "markdown",
   "metadata": {},
   "source": [
    "**Question 2.** Create an array called `chapter_lengths` containing the length of each chapter in `tale_chapters`."
   ]
  },
  {
   "cell_type": "code",
   "execution_count": null,
   "metadata": {
    "collapsed": true,
    "for_assignment_type": "student"
   },
   "outputs": [],
   "source": [
    "..."
   ]
  },
  {
   "cell_type": "code",
   "execution_count": 59,
   "metadata": {},
   "outputs": [],
   "source": [
    "_ = tests.grade('q2')"
   ]
  },
  {
   "cell_type": "markdown",
   "metadata": {},
   "source": [
    "**Question 3.** Write a function called `character_count`.  It should take a string as its argument and return the number of characters in that string that aren't spaces (\" \"), periods (\".\"), exclamation marks (\"!\"), or question marks (\"?\").\n",
    "\n",
    "*Hint:* Try using the string method `replace` several times to remove the characters we don't want to count."
   ]
  },
  {
   "cell_type": "code",
   "execution_count": 53,
   "metadata": {
    "for_assignment_type": "student"
   },
   "outputs": [],
   "source": [
    "..."
   ]
  },
  {
   "cell_type": "code",
   "execution_count": 61,
   "metadata": {},
   "outputs": [],
   "source": [
    "_ = tests.grade('q3')"
   ]
  },
  {
   "cell_type": "markdown",
   "metadata": {},
   "source": [
    "**Question 4.** Write a function called `chapter_number`.  It should take a single argument, the text of a chapter from our dataset, and return the number of that chapter, as a Roman numeral.  (For example, it should return the string \"I\" for the first chapter and \"II\" for the second.)  If the argument doesn't have a chapter number in the same place as the chapters in our dataset, `chapter_number` can return whatever you like.\n",
    "\n",
    "To help you with this, we've included a function called `text_before`.  Its documentation describes what it does."
   ]
  },
  {
   "cell_type": "code",
   "execution_count": 62,
   "metadata": {},
   "outputs": [],
   "source": [
    "def text_before(full_text, pattern):\n",
    "    \"\"\"Finds all the text that occurs in full_text before the specified pattern.\n",
    "\n",
    "    Parameters\n",
    "    ----------\n",
    "    full_text : str\n",
    "        The text we want to search within.\n",
    "    param2 : str\n",
    "        The thing we want to search for.\n",
    "\n",
    "    Returns\n",
    "    -------\n",
    "    str\n",
    "        All the text that occurs in full_text before pattern.  If pattern\n",
    "        doesn't appear anywhere, all of full_text is returned.\n",
    "    \n",
    "    Examples\n",
    "    --------\n",
    "    \n",
    "    >>> text_before(\"The rain in Spain falls mainly on the plain.\", \"Spain\")\n",
    "    'The rain in '\n",
    "    >>> text_before(\"The rain in Spain falls mainly on the plain.\", \"ain\")\n",
    "    'The r'\n",
    "    >>> text_before(\"The rain in Spain falls mainly on the plain.\", \"Portugal\")\n",
    "    'The rain in Spain falls mainly on the plain.'\n",
    "    \"\"\"\n",
    "    return np.array(full_text.split(pattern)).item(0)\n",
    "\n",
    "def chapter_number(chapter_text):\n",
    "    ..."
   ]
  },
  {
   "cell_type": "code",
   "execution_count": 63,
   "metadata": {},
   "outputs": [],
   "source": [
    "_ = tests.grade('q4')"
   ]
  },
  {
   "cell_type": "code",
   "execution_count": null,
   "metadata": {},
   "outputs": [],
   "source": [
    "# For your convenience, you can run this cell to run all the tests at once!\n",
    "import os\n",
    "_ = [tests.grade(q[:-3]) for q in os.listdir(\"tests\") if q.startswith('q')]"
   ]
  },
  {
   "cell_type": "code",
   "execution_count": null,
   "metadata": {},
   "outputs": [],
   "source": [
    "# Run this cell to submit your work *after* you have passed all of the test cells.\n",
    "# It's ok to run this cell multiple times. Only your final submission will be scored.\n",
    "\n",
    "!TZ=America/Los_Angeles ipython nbconvert --output=\".text_functions_$(date +%m%d_%H%M)_submission.html\" text_functions.ipynb"
   ]
  }
 ],
 "metadata": {
  "celltoolbar": "Edit Metadata",
  "kernelspec": {
   "display_name": "Python 3",
   "language": "python",
   "name": "python3"
  },
  "language_info": {
   "codemirror_mode": {
    "name": "ipython",
    "version": 3
   },
   "file_extension": ".py",
   "mimetype": "text/x-python",
   "name": "python",
   "nbconvert_exporter": "python",
   "pygments_lexer": "ipython3",
   "version": "3.6.8"
  }
 },
 "nbformat": 4,
 "nbformat_minor": 1
}
