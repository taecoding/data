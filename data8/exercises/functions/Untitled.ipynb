{
 "cells": [
  {
   "cell_type": "code",
   "execution_count": 5,
   "metadata": {},
   "outputs": [
    {
     "data": {
      "text/plain": [
       "0"
      ]
     },
     "execution_count": 5,
     "metadata": {},
     "output_type": "execute_result"
    }
   ],
   "source": [
    "import os\n",
    "\n",
    "# category = 'function'\n",
    "\n",
    "# for f in os.listdir():\n",
    "#     if os.path.isdir(f) and not f.startswith('.'):\n",
    "#         os.system('zip -r {0}.{1}.zip {1}'.format(category, f))\n",
    "\n",
    "targetDir = \"/Users/tjung/github.mastertaehee/taecoding.github.io/cs61/data8/{0}\".format(category)\n",
    "os.system('mkdir ' + targetDir)\n",
    "cpZips = \"cp -r *.zip {}\".format(targetDir)\n",
    "os.system(cpZips)\n",
    "\n",
    "# ls /Users/tjung/github.mastertaehee/taecoding.github.io/cs61/data8/expr"
   ]
  },
  {
   "cell_type": "code",
   "execution_count": 6,
   "metadata": {},
   "outputs": [
    {
     "data": {
      "text/plain": [
       "'/Users/tjung/github.mastertaehee/taecoding.github.io/cs61/data8/function'"
      ]
     },
     "execution_count": 6,
     "metadata": {},
     "output_type": "execute_result"
    }
   ],
   "source": [
    "targetDir"
   ]
  },
  {
   "cell_type": "code",
   "execution_count": 7,
   "metadata": {},
   "outputs": [
    {
     "name": "stdout",
     "output_type": "stream",
     "text": [
      "function.text_functions.zip         function.writing_documentation.zip\r\n"
     ]
    }
   ],
   "source": [
    "ls /Users/tjung/github.mastertaehee/taecoding.github.io/cs61/data8/function"
   ]
  },
  {
   "cell_type": "code",
   "execution_count": null,
   "metadata": {},
   "outputs": [],
   "source": []
  }
 ],
 "metadata": {
  "kernelspec": {
   "display_name": "Python [conda env:apollo] *",
   "language": "python",
   "name": "conda-env-apollo-py"
  },
  "language_info": {
   "codemirror_mode": {
    "name": "ipython",
    "version": 3
   },
   "file_extension": ".py",
   "mimetype": "text/x-python",
   "name": "python",
   "nbconvert_exporter": "python",
   "pygments_lexer": "ipython3",
   "version": "3.6.8"
  }
 },
 "nbformat": 4,
 "nbformat_minor": 2
}
