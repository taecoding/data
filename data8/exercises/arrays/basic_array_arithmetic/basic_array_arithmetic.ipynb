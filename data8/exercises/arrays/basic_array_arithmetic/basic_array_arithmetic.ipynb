{
 "cells": [
  {
   "cell_type": "markdown",
   "metadata": {},
   "source": [
    "## Basic Array Arithmetic"
   ]
  },
  {
   "cell_type": "code",
   "execution_count": 17,
   "metadata": {},
   "outputs": [
    {
     "name": "stdout",
     "output_type": "stream",
     "text": [
      "Collecting tae_grader\n",
      "  Downloading https://files.pythonhosted.org/packages/b3/29/fe6d48be5a7eec3125945c6605c57036afa76aa57fff5c26811ea0474d00/tae_grader-0.0.1-py3-none-any.whl\n",
      "Installing collected packages: tae-grader\n",
      "Successfully installed tae-grader-0.0.1\n",
      "\u001b[33mWARNING: You are using pip version 19.1.1, however version 20.0.2 is available.\n",
      "You should consider upgrading via the 'pip install --upgrade pip' command.\u001b[0m\n"
     ]
    }
   ],
   "source": [
    "!pip install tae_grader"
   ]
  },
  {
   "cell_type": "code",
   "execution_count": 18,
   "metadata": {},
   "outputs": [
    {
     "ename": "ImportError",
     "evalue": "cannot import name 'cs21'",
     "output_type": "error",
     "traceback": [
      "\u001b[0;31m---------------------------------------------------------------------------\u001b[0m",
      "\u001b[0;31mImportError\u001b[0m                               Traceback (most recent call last)",
      "\u001b[0;32m<ipython-input-18-8e42f9f2b0b9>\u001b[0m in \u001b[0;36m<module>\u001b[0;34m()\u001b[0m\n\u001b[0;32m----> 1\u001b[0;31m \u001b[0;32mfrom\u001b[0m \u001b[0mtae_grader\u001b[0m\u001b[0;34m.\u001b[0m\u001b[0mtae_grader\u001b[0m \u001b[0;32mimport\u001b[0m \u001b[0mcheck\u001b[0m\u001b[0;34m\u001b[0m\u001b[0m\n\u001b[0m",
      "\u001b[0;32m/anaconda3/lib/python3.6/site-packages/tae_grader/__init__.py\u001b[0m in \u001b[0;36m<module>\u001b[0;34m()\u001b[0m\n\u001b[0;32m----> 1\u001b[0;31m \u001b[0;32mfrom\u001b[0m \u001b[0;34m.\u001b[0m \u001b[0;32mimport\u001b[0m \u001b[0mcs21\u001b[0m\u001b[0;34m\u001b[0m\u001b[0m\n\u001b[0m\u001b[1;32m      2\u001b[0m \u001b[0;32mfrom\u001b[0m \u001b[0;34m.\u001b[0m\u001b[0mcs21\u001b[0m \u001b[0;32mimport\u001b[0m \u001b[0;34m*\u001b[0m\u001b[0;34m\u001b[0m\u001b[0m\n\u001b[1;32m      3\u001b[0m \u001b[0;34m\u001b[0m\u001b[0m\n\u001b[1;32m      4\u001b[0m \u001b[0;34m\u001b[0m\u001b[0m\n",
      "\u001b[0;31mImportError\u001b[0m: cannot import name 'cs21'"
     ]
    }
   ],
   "source": [
    "from tae_grader.tae_grader import check"
   ]
  },
  {
   "cell_type": "code",
   "execution_count": 4,
   "metadata": {},
   "outputs": [
    {
     "name": "stdout",
     "output_type": "stream",
     "text": [
      "Collecting datascience\n",
      "\u001b[?25l  Downloading https://files.pythonhosted.org/packages/06/12/9dfd266a18200e0c8668f130d310de1e32cdd84271311740629f460ad691/datascience-0.15.4.tar.gz (42kB)\n",
      "\u001b[K     |████████████████████████████████| 51kB 701kB/s eta 0:00:011\n",
      "\u001b[?25hCollecting folium>=0.9.1 (from datascience)\n",
      "\u001b[?25l  Downloading https://files.pythonhosted.org/packages/fd/a0/ccb3094026649cda4acd55bf2c3822bb8c277eb11446d13d384e5be35257/folium-0.10.1-py2.py3-none-any.whl (91kB)\n",
      "\u001b[K     |████████████████████████████████| 92kB 2.1MB/s eta 0:00:01\n",
      "\u001b[?25hRequirement already satisfied: sphinx in /anaconda3/lib/python3.6/site-packages (from datascience) (1.6.6)\n",
      "Requirement already satisfied: setuptools in /anaconda3/lib/python3.6/site-packages (from datascience) (38.4.0)\n",
      "Collecting matplotlib>=3.0.0 (from datascience)\n",
      "\u001b[?25l  Downloading https://files.pythonhosted.org/packages/94/77/a37c8877474f3b75dfe18f490189243d39aabd6c7629ffde5e5512d070fd/matplotlib-3.2.1-cp36-cp36m-macosx_10_9_x86_64.whl (12.4MB)\n",
      "\u001b[K     |████████████████████████████████| 12.5MB 3.5MB/s eta 0:00:01    |████████████████████████        | 9.3MB 4.2MB/s eta 0:00:01\n",
      "\u001b[?25hRequirement already satisfied: pandas in /anaconda3/lib/python3.6/site-packages (from datascience) (0.22.0)\n",
      "Requirement already satisfied: scipy in /anaconda3/lib/python3.6/site-packages (from datascience) (1.0.0)\n",
      "Requirement already satisfied: numpy in /anaconda3/lib/python3.6/site-packages (from datascience) (1.14.0)\n",
      "Requirement already satisfied: ipython in /anaconda3/lib/python3.6/site-packages (from datascience) (6.2.1)\n",
      "Requirement already satisfied: pytest in /anaconda3/lib/python3.6/site-packages (from datascience) (3.3.2)\n",
      "Requirement already satisfied: coverage in /anaconda3/lib/python3.6/site-packages (from datascience) (4.5.1)\n",
      "Collecting coveralls (from datascience)\n",
      "  Downloading https://files.pythonhosted.org/packages/47/51/d46ae73712af15a74e713067a68a26e5ed61e01bc9e1a752254f3b3f099e/coveralls-1.11.1-py2.py3-none-any.whl\n",
      "Requirement already satisfied: bokeh in /anaconda3/lib/python3.6/site-packages (from datascience) (0.12.13)\n",
      "Collecting branca>=0.3.0 (from folium>=0.9.1->datascience)\n",
      "  Downloading https://files.pythonhosted.org/packages/81/6d/31c83485189a2521a75b4130f1fee5364f772a0375f81afff619004e5237/branca-0.4.0-py3-none-any.whl\n",
      "Requirement already satisfied: jinja2>=2.9 in /anaconda3/lib/python3.6/site-packages (from folium>=0.9.1->datascience) (2.10)\n",
      "Requirement already satisfied: requests in /anaconda3/lib/python3.6/site-packages (from folium>=0.9.1->datascience) (2.18.4)\n",
      "Requirement already satisfied: six>=1.5 in /anaconda3/lib/python3.6/site-packages (from sphinx->datascience) (1.11.0)\n",
      "Requirement already satisfied: Pygments>=2.0 in /anaconda3/lib/python3.6/site-packages (from sphinx->datascience) (2.2.0)\n",
      "Requirement already satisfied: docutils>=0.11 in /Users/tjung/.local/lib/python3.6/site-packages (from sphinx->datascience) (0.14)\n",
      "Requirement already satisfied: snowballstemmer>=1.1 in /anaconda3/lib/python3.6/site-packages (from sphinx->datascience) (1.2.1)\n",
      "Requirement already satisfied: babel!=2.0,>=1.3 in /anaconda3/lib/python3.6/site-packages (from sphinx->datascience) (2.5.3)\n",
      "Requirement already satisfied: alabaster<0.8,>=0.7 in /anaconda3/lib/python3.6/site-packages (from sphinx->datascience) (0.7.10)\n",
      "Requirement already satisfied: imagesize in /anaconda3/lib/python3.6/site-packages (from sphinx->datascience) (0.7.1)\n",
      "Requirement already satisfied: sphinxcontrib-websupport in /anaconda3/lib/python3.6/site-packages (from sphinx->datascience) (1.0.1)\n",
      "Requirement already satisfied: cycler>=0.10 in /anaconda3/lib/python3.6/site-packages (from matplotlib>=3.0.0->datascience) (0.10.0)\n",
      "Requirement already satisfied: pyparsing!=2.0.4,!=2.1.2,!=2.1.6,>=2.0.1 in /anaconda3/lib/python3.6/site-packages (from matplotlib>=3.0.0->datascience) (2.2.0)\n",
      "Collecting kiwisolver>=1.0.1 (from matplotlib>=3.0.0->datascience)\n",
      "\u001b[?25l  Downloading https://files.pythonhosted.org/packages/06/b2/f7e88efd6323df9ae604f1ff35c629f266d4f424f2a244a7e1d5560c5d96/kiwisolver-1.2.0-cp36-cp36m-macosx_10_9_x86_64.whl (60kB)\n",
      "\u001b[K     |████████████████████████████████| 61kB 5.2MB/s eta 0:00:011\n",
      "\u001b[?25hRequirement already satisfied: python-dateutil>=2.1 in /anaconda3/lib/python3.6/site-packages (from matplotlib>=3.0.0->datascience) (2.6.1)\n",
      "Requirement already satisfied: pytz>=2011k in /anaconda3/lib/python3.6/site-packages (from pandas->datascience) (2017.3)\n",
      "Requirement already satisfied: jedi>=0.10 in /anaconda3/lib/python3.6/site-packages (from ipython->datascience) (0.11.1)\n",
      "Requirement already satisfied: decorator in /anaconda3/lib/python3.6/site-packages (from ipython->datascience) (4.2.1)\n",
      "Requirement already satisfied: pickleshare in /anaconda3/lib/python3.6/site-packages (from ipython->datascience) (0.7.4)\n",
      "Requirement already satisfied: simplegeneric>0.8 in /anaconda3/lib/python3.6/site-packages (from ipython->datascience) (0.8.1)\n",
      "Requirement already satisfied: traitlets>=4.2 in /anaconda3/lib/python3.6/site-packages (from ipython->datascience) (4.3.2)\n",
      "Requirement already satisfied: prompt_toolkit<2.0.0,>=1.0.4 in /anaconda3/lib/python3.6/site-packages (from ipython->datascience) (1.0.15)\n",
      "Requirement already satisfied: appnope in /anaconda3/lib/python3.6/site-packages (from ipython->datascience) (0.1.0)\n",
      "Requirement already satisfied: pexpect in /anaconda3/lib/python3.6/site-packages (from ipython->datascience) (4.3.1)\n",
      "Requirement already satisfied: py>=1.5.0 in /anaconda3/lib/python3.6/site-packages (from pytest->datascience) (1.5.2)\n",
      "Requirement already satisfied: attrs>=17.2.0 in /anaconda3/lib/python3.6/site-packages (from pytest->datascience) (17.4.0)\n",
      "Requirement already satisfied: pluggy<0.7,>=0.5 in /anaconda3/lib/python3.6/site-packages (from pytest->datascience) (0.6.0)\n",
      "Collecting docopt>=0.6.1 (from coveralls->datascience)\n",
      "Requirement already satisfied: PyYAML>=3.10 in /anaconda3/lib/python3.6/site-packages (from bokeh->datascience) (3.12)\n",
      "Requirement already satisfied: tornado>=4.3 in /anaconda3/lib/python3.6/site-packages (from bokeh->datascience) (4.5.3)\n",
      "Requirement already satisfied: MarkupSafe>=0.23 in /anaconda3/lib/python3.6/site-packages (from jinja2>=2.9->folium>=0.9.1->datascience) (1.0)\n",
      "Requirement already satisfied: chardet<3.1.0,>=3.0.2 in /anaconda3/lib/python3.6/site-packages (from requests->folium>=0.9.1->datascience) (3.0.4)\n",
      "Requirement already satisfied: idna<2.7,>=2.5 in /anaconda3/lib/python3.6/site-packages (from requests->folium>=0.9.1->datascience) (2.6)\n",
      "Requirement already satisfied: urllib3<1.23,>=1.21.1 in /anaconda3/lib/python3.6/site-packages (from requests->folium>=0.9.1->datascience) (1.22)\n",
      "Requirement already satisfied: certifi>=2017.4.17 in /anaconda3/lib/python3.6/site-packages (from requests->folium>=0.9.1->datascience) (2019.11.28)\n",
      "Requirement already satisfied: parso==0.1.* in /anaconda3/lib/python3.6/site-packages (from jedi>=0.10->ipython->datascience) (0.1.1)\n",
      "Requirement already satisfied: ipython_genutils in /anaconda3/lib/python3.6/site-packages (from traitlets>=4.2->ipython->datascience) (0.2.0)\n",
      "Requirement already satisfied: wcwidth in /anaconda3/lib/python3.6/site-packages (from prompt_toolkit<2.0.0,>=1.0.4->ipython->datascience) (0.1.7)\n",
      "Building wheels for collected packages: datascience\n",
      "  Building wheel for datascience (setup.py) ... \u001b[?25ldone\n",
      "\u001b[?25h  Stored in directory: /Users/tjung/Library/Caches/pip/wheels/3d/1e/6b/02c0963570fce5e82f2d3903486e27999e9c47c926fd132fd3\n",
      "Successfully built datascience\n",
      "Installing collected packages: branca, folium, kiwisolver, matplotlib, docopt, coveralls, datascience\n",
      "  Found existing installation: matplotlib 2.1.2\n",
      "    Uninstalling matplotlib-2.1.2:\n",
      "      Successfully uninstalled matplotlib-2.1.2\n",
      "Successfully installed branca-0.4.0 coveralls-1.11.1 datascience-0.15.4 docopt-0.6.2 folium-0.10.1 kiwisolver-1.2.0 matplotlib-3.2.1\n",
      "\u001b[33mWARNING: You are using pip version 19.1.1, however version 20.0.2 is available.\n",
      "You should consider upgrading via the 'pip install --upgrade pip' command.\u001b[0m\n"
     ]
    }
   ],
   "source": [
    "!pip install datascience\n"
   ]
  },
  {
   "cell_type": "code",
   "execution_count": 6,
   "metadata": {},
   "outputs": [
    {
     "name": "stdout",
     "output_type": "stream",
     "text": [
      "Collecting git+https://github.com/grading/gradememaybe.git\n",
      "  Cloning https://github.com/grading/gradememaybe.git to /private/var/folders/j4/c2958sh95mn257fy6btr8ys00000gp/T/pip-req-build-1uygnjbn\n",
      "  Running command git clone -q https://github.com/grading/gradememaybe.git /private/var/folders/j4/c2958sh95mn257fy6btr8ys00000gp/T/pip-req-build-1uygnjbn\n",
      "Requirement already satisfied: jinja2 in /anaconda3/lib/python3.6/site-packages (from gofer-grader==1.0.9) (2.10)\n",
      "Requirement already satisfied: pygments in /anaconda3/lib/python3.6/site-packages (from gofer-grader==1.0.9) (2.2.0)\n",
      "Requirement already satisfied: tornado in /anaconda3/lib/python3.6/site-packages (from gofer-grader==1.0.9) (4.5.3)\n",
      "Requirement already satisfied: MarkupSafe>=0.23 in /anaconda3/lib/python3.6/site-packages (from jinja2->gofer-grader==1.0.9) (1.0)\n",
      "Building wheels for collected packages: gofer-grader\n",
      "  Building wheel for gofer-grader (setup.py) ... \u001b[?25ldone\n",
      "\u001b[?25h  Stored in directory: /private/var/folders/j4/c2958sh95mn257fy6btr8ys00000gp/T/pip-ephem-wheel-cache-2emkwpc9/wheels/56/62/df/3b889d54ff30ac8a81eea6fd75a56e09e44318661e58f40764\n",
      "Successfully built gofer-grader\n",
      "Installing collected packages: gofer-grader\n",
      "Successfully installed gofer-grader-1.0.9\n",
      "\u001b[33mWARNING: You are using pip version 19.1.1, however version 20.0.2 is available.\n",
      "You should consider upgrading via the 'pip install --upgrade pip' command.\u001b[0m\n"
     ]
    }
   ],
   "source": [
    "!pip install git+https://github.com/grading/gradememaybe.git"
   ]
  },
  {
   "cell_type": "code",
   "execution_count": 9,
   "metadata": {},
   "outputs": [],
   "source": [
    "# Run this cell to set up the notebook, but please don't change it.\n",
    "\n",
    "# These lines import the Numpy and Datascience modules.\n",
    "import numpy as np\n",
    "from datascience import *\n",
    "\n",
    "# These lines do some fancy plotting magic\n",
    "import matplotlib\n",
    "%matplotlib inline\n",
    "import matplotlib.pyplot as plt\n",
    "plt.style.use('fivethirtyeight')\n",
    "import warnings\n",
    "warnings.simplefilter('ignore', FutureWarning)\n",
    "\n",
    "# These lines load the tests.\n",
    "# from client.api.assignment import load_assignment \n",
    "# tests = load_assignment('basic_array_arithmetic.ok')\n",
    "from gofer.ok import check"
   ]
  },
  {
   "cell_type": "markdown",
   "metadata": {},
   "source": [
    "**Question 1.** Multiply the numbers 42, 4224, 42422424, and -250 by 157.  For this question, **don't** use arrays."
   ]
  },
  {
   "cell_type": "code",
   "execution_count": 10,
   "metadata": {},
   "outputs": [
    {
     "name": "stdout",
     "output_type": "stream",
     "text": [
      "Ellipsis Ellipsis Ellipsis Ellipsis\n"
     ]
    }
   ],
   "source": [
    "first_product = ...\n",
    "second_product = ...\n",
    "third_product = ...\n",
    "fourth_product = ...\n",
    "print(first_product, second_product, third_product, fourth_product)"
   ]
  },
  {
   "cell_type": "code",
   "execution_count": 14,
   "metadata": {},
   "outputs": [
    {
     "name": "stdout",
     "output_type": "stream",
     "text": [
      "basic_array_arithmetic.ipynb \u001b[34mtests\u001b[m\u001b[m\r\n",
      "basic_array_arithmetic.ok    tests.zip\r\n",
      "temperatures.csv\r\n"
     ]
    }
   ],
   "source": [
    "!ls"
   ]
  },
  {
   "cell_type": "code",
   "execution_count": 16,
   "metadata": {},
   "outputs": [
    {
     "data": {
      "text/html": [
       "\n",
       "    \n",
       "    \n",
       "        <p>0 of 1 tests passed</p>\n",
       "        \n",
       "        \n",
       "        <p> <strong>Tests failed: </strong>\n",
       "            <ul>\n",
       "            \n",
       "                <li> \n",
       "    <p><strong style='color: red;'>tests/q1.py</strong></p>\n",
       "\n",
       "    <p><strong>Test code:</strong><pre><div class=\"highlight\" style=\"background: #f8f8f8\"><pre style=\"line-height: 125%\"><span></span><span style=\"color: #000080; font-weight: bold\">&gt;&gt;&gt; </span><span style=\"color: #008000; font-weight: bold\">print</span>(first_product, second_product, third_product, fourth_product)\n",
       "<span style=\"color: #888888\">6594 663168 6660320568 -39250</span>\n",
       "</pre></div>\n",
       "</pre></p>\n",
       "\n",
       "    <p><strong>Test result:</strong><pre>Trying:\n",
       "    print(first_product, second_product, third_product, fourth_product)\n",
       "Expecting:\n",
       "    6594 663168 6660320568 -39250\n",
       "**********************************************************************\n",
       "Line 2, in tests/q1.py 0\n",
       "Failed example:\n",
       "    print(first_product, second_product, third_product, fourth_product)\n",
       "Expected:\n",
       "    6594 663168 6660320568 -39250\n",
       "Got:\n",
       "    Ellipsis Ellipsis Ellipsis Ellipsis\n",
       "</pre></p>\n",
       "     </li>\n",
       "            \n",
       "            </ul>\n",
       "        \n",
       "    \n",
       "    "
      ],
      "text/plain": [
       "<gofer.ok.OKTestsResult at 0x107e40978>"
      ]
     },
     "execution_count": 16,
     "metadata": {},
     "output_type": "execute_result"
    }
   ],
   "source": [
    "check('tests/q1.py')"
   ]
  },
  {
   "cell_type": "markdown",
   "metadata": {},
   "source": [
    "**Question 2.** Now, do the same calculation, but using an array and only a single multiplication (`*`) operator.  Put the 4 results in an array named `products`."
   ]
  },
  {
   "cell_type": "code",
   "execution_count": 58,
   "metadata": {},
   "outputs": [],
   "source": [
    "# You may find it useful to first define an array called\n",
    "# numbers, but you don't have to.\n",
    "numbers = ...\n",
    "products = ...\n",
    "products"
   ]
  },
  {
   "cell_type": "code",
   "execution_count": 59,
   "metadata": {},
   "outputs": [],
   "source": [
    "_ = tests.grade('q2')"
   ]
  },
  {
   "cell_type": "markdown",
   "metadata": {},
   "source": [
    "**Question 3.** Oops, we made a typo!  Instead of 157, we wanted to multiply each number by 1577.  Compute the fixed products in the cell below using array arithmetic.  Notice that your job is really easy if you previously defined an array containing the 4 numbers."
   ]
  },
  {
   "cell_type": "code",
   "execution_count": 62,
   "metadata": {},
   "outputs": [],
   "source": [
    "fixed_products = numbers * 1577\n",
    "fixed_products"
   ]
  },
  {
   "cell_type": "code",
   "execution_count": 63,
   "metadata": {},
   "outputs": [],
   "source": [
    "_ = tests.grade('q3')"
   ]
  },
  {
   "cell_type": "markdown",
   "metadata": {},
   "source": [
    "**Question 4.** We've loaded an array of temperatures in the next cell.  Each number is the highest temperature observed on a day at a climate observation station, mostly from the US.  Since they're from the US government agency [NOAA](noaa.gov), all the temperatures are in Fahrenheit.  Convert them all to Celsius by first subtracting 32 from them, then multiplying the results by $\\frac{5}{9}$."
   ]
  },
  {
   "cell_type": "code",
   "execution_count": 70,
   "metadata": {},
   "outputs": [],
   "source": [
    "max_temperatures = Table.read_table(\"temperatures.csv\").column(\"Daily Max Temperature\")\n",
    "\n",
    "celsius_max_temperatures = ...\n",
    "celsius_max_temperatures"
   ]
  },
  {
   "cell_type": "code",
   "execution_count": 71,
   "metadata": {},
   "outputs": [],
   "source": [
    "_ = tests.grade('q4')"
   ]
  },
  {
   "cell_type": "markdown",
   "metadata": {},
   "source": [
    "**Question 5.** The cell below loads all the *lowest* temperatures from each day (in Fahrenheit).  Compute the size of the daily temperature range for each day.  That is, compute the difference between each daily maximum temperature and the corresponding daily minimum temperature.  **Give your answer in Celsius!**"
   ]
  },
  {
   "cell_type": "code",
   "execution_count": 66,
   "metadata": {},
   "outputs": [],
   "source": [
    "min_temperatures = Table.read_table(\"temperatures.csv\").column(\"Daily Min Temperature\")\n",
    "\n",
    "# You may find it useful to first define an array named\n",
    "# celsius_min_temperatures, but you don't have to do that.\n",
    "celsius_min_temperatures = ...\n",
    "celsius_temperature_ranges = ...\n",
    "celsius_temperature_ranges"
   ]
  },
  {
   "cell_type": "code",
   "execution_count": 67,
   "metadata": {},
   "outputs": [],
   "source": [
    "_ = tests.grade('q5')"
   ]
  },
  {
   "cell_type": "code",
   "execution_count": null,
   "metadata": {},
   "outputs": [],
   "source": [
    "# For your convenience, you can run this cell to run all the tests at once!\n",
    "import os\n",
    "_ = [tests.grade(q[:-3]) for q in os.listdir(\"tests\") if q.startswith('q')]"
   ]
  },
  {
   "cell_type": "code",
   "execution_count": null,
   "metadata": {},
   "outputs": [],
   "source": [
    "# Run this cell to submit your work *after* you have passed all of the test cells.\n",
    "# It's ok to run this cell multiple times. Only your final submission will be scored.\n",
    "\n",
    "!TZ=America/Los_Angeles ipython nbconvert --output=\".basic_array_arithmetic_$(date +%m%d_%H%M)_submission.html\" basic_array_arithmetic.ipynb\n",
    "\n"
   ]
  }
 ],
 "metadata": {
  "kernelspec": {
   "display_name": "Python 3",
   "language": "python",
   "name": "python3"
  },
  "language_info": {
   "codemirror_mode": {
    "name": "ipython",
    "version": 3
   },
   "file_extension": ".py",
   "mimetype": "text/x-python",
   "name": "python",
   "nbconvert_exporter": "python",
   "pygments_lexer": "ipython3",
   "version": "3.6.4"
  }
 },
 "nbformat": 4,
 "nbformat_minor": 1
}
