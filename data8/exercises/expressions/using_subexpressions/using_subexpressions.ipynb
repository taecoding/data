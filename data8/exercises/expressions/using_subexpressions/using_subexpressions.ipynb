{
 "cells": [
  {
   "cell_type": "markdown",
   "metadata": {},
   "source": [
    "## Using Subexpressions"
   ]
  },
  {
   "cell_type": "markdown",
   "metadata": {},
   "source": [
    "Once you've figured out the value of an expression, you can work with that value by making the expression a *subexpression* inside other expressions.  You'll practice that in these exercises."
   ]
  },
  {
   "cell_type": "markdown",
   "metadata": {},
   "source": [
    "**Question 1.** The expression\n",
    "\n",
    "    (42**2 - 40**2 - 10**2)**0.5\n",
    "\n",
    "has value 8.  What is the value of this expression?\n",
    "\n",
    "    (.5 * (42**2 - 40**2 - 10**2)**0.5)**0.5\n",
    "\n",
    "Try to figure out the answer without running any code (then type it into a code cell afterward to confirm).  Write your answer in the next cell."
   ]
  },
  {
   "cell_type": "code",
   "execution_count": null,
   "metadata": {
    "collapsed": true
   },
   "outputs": [],
   "source": [
    "..."
   ]
  },
  {
   "cell_type": "markdown",
   "metadata": {},
   "source": [
    "**Question 2.** The following expression is pretty convoluted, and it uses some parts of the Python language you won't learn for awhile.  All we'll tell you is that its value is [roughly](http://mathfaculty.fullerton.edu/mathews/n2003/montecarlopimod.html) $\\pi$.  That means you can use it in place of $\\pi$ wherever you want a rough approximation to $\\pi$."
   ]
  },
  {
   "cell_type": "code",
   "execution_count": null,
   "metadata": {
    "collapsed": true
   },
   "outputs": [],
   "source": [
    "(4*sum(1 if __import__(\"numpy\").random.random()**2 + __import__(\"numpy\").random.random()**2 < 1 else 0 for i in range(100000)) / 100000)"
   ]
  },
  {
   "cell_type": "markdown",
   "metadata": {},
   "source": [
    "In the next cell, compute (roughly) the circumference of a circle with diameter 5.  (The circumference of a circle is the length of its perimeter, and it's equal to $\\pi \\times \\texttt{diameter}$.)  **Your answer should be a one-line expression including only numbers, arithmetic operations, and the expression you see above.**"
   ]
  },
  {
   "cell_type": "code",
   "execution_count": null,
   "metadata": {
    "collapsed": true
   },
   "outputs": [],
   "source": [
    "..."
   ]
  },
  {
   "cell_type": "markdown",
   "metadata": {},
   "source": [
    "(Soon you'll learn a much better way to access $\\pi$, so we wouldn't recommend using this anywhere important.)"
   ]
  },
  {
   "cell_type": "code",
   "execution_count": null,
   "metadata": {
    "collapsed": false
   },
   "outputs": [],
   "source": [
    "# Run this cell to submit your work *after* you have passed all of the test cells.\n",
    "# It's ok to run this cell multiple times. Only your final submission will be scored.\n",
    "\n",
    "!TZ=America/Los_Angeles ipython nbconvert --output=\".using_subexpressions_$(date +%m%d_%H%M)_submission.html\" using_subexpressions.ipynb"
   ]
  }
 ],
 "metadata": {
  "kernelspec": {
   "display_name": "Python 3",
   "language": "python",
   "name": "python3"
  },
  "language_info": {
   "codemirror_mode": {
    "name": "ipython",
    "version": 3
   },
   "file_extension": ".py",
   "mimetype": "text/x-python",
   "name": "python",
   "nbconvert_exporter": "python",
   "pygments_lexer": "ipython3",
   "version": "3.4.4"
  }
 },
 "nbformat": 4,
 "nbformat_minor": 0
}

