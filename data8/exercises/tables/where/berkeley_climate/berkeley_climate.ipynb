{
 "cells": [
  {
   "cell_type": "markdown",
   "metadata": {},
   "source": [
    "## The Climate near Berkeley"
   ]
  },
  {
   "cell_type": "code",
   "execution_count": 1,
   "metadata": {
    "collapsed": false
   },
   "outputs": [],
   "source": [
    "# Run this cell to set up the notebook, but please don't change it.\n",
    "\n",
    "# These lines import the Numpy and Datascience modules.\n",
    "import numpy as np\n",
    "from datascience import *\n",
    "\n",
    "# These lines do some fancy plotting magic.\n",
    "import matplotlib\n",
    "%matplotlib inline\n",
    "import matplotlib.pyplot as plt\n",
    "plt.style.use('fivethirtyeight')\n",
    "import warnings\n",
    "warnings.simplefilter('ignore', FutureWarning)\n",
    "\n",
    "# These lines load the tests.\n",
    "from client.api.assignment import load_assignment \n",
    "tests = load_assignment('berkeley_climate.ok')"
   ]
  },
  {
   "cell_type": "markdown",
   "metadata": {},
   "source": [
    "The US National Oceanic and Atmospheric Administration (NOAA) operates thousands of climate observation stations (mostly in the US) that collect information about local climate.  Among other things, each station records the highest and lowest observed temperature each day.  These data, called \"Quality Controlled Local Climatological Data,\" are publicly available [here](http://www.ncdc.noaa.gov/orders/qclcd/) and described [here](https://www.ncdc.noaa.gov/data-access/land-based-station-data/land-based-datasets/quality-controlled-local-climatological-data-qclcd).\n",
    "\n",
    "We've provided you with an excerpt of that dataset.  All the readings are from 2015 and from California stations.\n",
    "\n",
    "**Question 1.** Load the data from `temperatures.csv` into a table called `temperatures`.  Check out the columns in the table.  Each row represents the data from one station on one day.  The column \"Date\" is in MMDD format, meaning that the last two digits denote the day of the month, and the first 1 or 2 digits denote the month."
   ]
  },
  {
   "cell_type": "code",
   "execution_count": 2,
   "metadata": {
    "collapsed": false
   },
   "outputs": [],
   "source": [
    "temperatures = ...\n",
    "temperatures"
   ]
  },
  {
   "cell_type": "code",
   "execution_count": 3,
   "metadata": {
    "collapsed": false
   },
   "outputs": [],
   "source": [
    "_ = tests.grade('q1')"
   ]
  },
  {
   "cell_type": "markdown",
   "metadata": {},
   "source": [
    "**Question 2.** Each station is named for the city in which it resides.  Is there a station in Berkeley?  Write code to help you answer the question in the next cell, and then write your answer in the cell after that, along with **an English explanation** of what your code does.\n",
    "\n",
    "*Hint:* Use the Table method `.where`."
   ]
  },
  {
   "cell_type": "code",
   "execution_count": 5,
   "metadata": {
    "collapsed": true
   },
   "outputs": [],
   "source": [
    "# Use this cell to work on this problem."
   ]
  },
  {
   "cell_type": "markdown",
   "metadata": {},
   "source": [
    "*Write your answer here, replacing this text.*"
   ]
  },
  {
   "cell_type": "markdown",
   "metadata": {},
   "source": [
    "Let's find the station closest to the UC Berkeley campus.  The campus is located roughly at latitude 37.871746 and longitude -122.259030.  We'll break this down into a few steps.\n",
    "\n",
    "**Question 3.** Create a table called `with_degree_differences` that's a copy of `temperatures`, but with 2 extra columns:\n",
    "\n",
    "1. \"Latitude difference\": The difference between the latitude of the row's station and the latitude of UC Berkeley.\n",
    "2. \"Longitude difference\": The difference between the longitude of the row's station and the longitude of UC Berkeley."
   ]
  },
  {
   "cell_type": "code",
   "execution_count": 6,
   "metadata": {
    "collapsed": false
   },
   "outputs": [],
   "source": [
    "# We've provided the lat/long of UC Berkeley so you don't have to retype them:\n",
    "BERKELEY_LATITUDE = 37.871746\n",
    "BERKELEY_LONGITUDE = -122.259030\n",
    "\n",
    "with_degree_differences = ...\n",
    "    ...\n",
    "    ...\n",
    "with_degree_differences"
   ]
  },
  {
   "cell_type": "code",
   "execution_count": 7,
   "metadata": {
    "collapsed": false
   },
   "outputs": [],
   "source": [
    "_ = tests.grade('q3')"
   ]
  },
  {
   "cell_type": "markdown",
   "metadata": {
    "for_assignment_type": "student"
   },
   "source": [
    "**Question 4.**  Degrees latitude and longitude don't correspond directly to distances, because the Earth is a sphere.  Near Berkeley, one degree latitude is [around 69 miles](https://www2.usgs.gov/faq/categories/9794/3022), and one degree longitude is around 54.6 miles.  Compute a table called `with_mile_differences` that's a copy of `with_degree_differences` with 2 extra columns:\n",
    "\n",
    "1. \"North-South difference\": The difference between UC Berkeley and the row's station along the North-South axis.  This is the difference in latitude times 69.\n",
    "2. \"East-West difference\": The difference between UC Berkeley and the row's station along the East-West axis.  This is the difference in latitude times 54.6."
   ]
  },
  {
   "cell_type": "code",
   "execution_count": 8,
   "metadata": {
    "collapsed": false
   },
   "outputs": [],
   "source": [
    "MILES_PER_DEGREE_LATITUDE = 69\n",
    "MILES_PER_DEGREE_LONGITUDE = 54.6\n",
    "with_mile_differences = ...\n",
    "    \"North-South difference (miles)\", with_degree_differences.column(\"Latitude difference\")*MILES_PER_DEGREE_LATITUDE,\n",
    "    \"East-West difference (miles)\", with_degree_differences.column(\"Longitude difference\")*MILES_PER_DEGREE_LONGITUDE)\n",
    "with_mile_differences"
   ]
  },
  {
   "cell_type": "code",
   "execution_count": 9,
   "metadata": {
    "collapsed": false
   },
   "outputs": [],
   "source": [
    "_ = tests.grade('q4')"
   ]
  },
  {
   "cell_type": "markdown",
   "metadata": {},
   "source": [
    "**Question 5.** Compute the distance from UC Berkeley to each row's station.  By the Pythagorean theorem, the distance is:\n",
    "$$\\sqrt{(\\text{North-South difference (miles)})^2 + (\\text{East-West difference (miles)})^2}$$\n",
    "\n",
    "Create a table called `with_distances` that's a copy of `with_mile_differences`, but with an extra column called \"Distance to UC Berkeley\" containing these distances.\n",
    "\n",
    "*Hint:* Use elementwise arithmetic operations to square each difference, add them, and square-root them."
   ]
  },
  {
   "cell_type": "code",
   "execution_count": 10,
   "metadata": {
    "collapsed": false
   },
   "outputs": [],
   "source": [
    "with_distances = with_mile_differences.with_column(\"Distance to UC Berkeley\", (with_mile_differences.column(\"North-South difference (miles)\")**2 + with_mile_differences.column(\"East-West difference (miles)\")**2)**0.5)\n",
    "with_distances"
   ]
  },
  {
   "cell_type": "code",
   "execution_count": 11,
   "metadata": {
    "collapsed": false
   },
   "outputs": [],
   "source": [
    "_ = tests.grade('q5')"
   ]
  },
  {
   "cell_type": "markdown",
   "metadata": {},
   "source": [
    "**Question 6.** Sort the table by distance to find the station that's closest to Berkeley.  Find its name and assign it to `closest_station_name`."
   ]
  },
  {
   "cell_type": "code",
   "execution_count": 12,
   "metadata": {
    "collapsed": false
   },
   "outputs": [],
   "source": [
    "closest_station_name = ...\n",
    "closest_station_name"
   ]
  },
  {
   "cell_type": "code",
   "execution_count": 13,
   "metadata": {
    "collapsed": false
   },
   "outputs": [],
   "source": [
    "_ = tests.grade('q6')"
   ]
  },
  {
   "cell_type": "markdown",
   "metadata": {},
   "source": [
    "**Question 7.** Make a table called `closest_station_readings`.  It should be a table like the original `temperatures` table, except it should contain only the rows from the station you found in the previous question.  Sort it in increasing order by date."
   ]
  },
  {
   "cell_type": "code",
   "execution_count": 14,
   "metadata": {
    "collapsed": false
   },
   "outputs": [],
   "source": [
    "closest_station_readings = temperatures.where(\"Station name\", are.equal_to(closest_station_name)).sort(\"Date\")\n",
    "\n",
    "# This prints out your whole table (with unnecessary columns removed).\n",
    "closest_station_readings.select(2, 1, 0).show()\n",
    "# This code makes a plot of the highs and lows over time in your table,\n",
    "# which is easier to read than the raw numbers.  You don't need to modify\n",
    "# this.\n",
    "closest_station_readings.scatter(2, make_array(0, 1))"
   ]
  },
  {
   "cell_type": "code",
   "execution_count": 15,
   "metadata": {
    "collapsed": false
   },
   "outputs": [],
   "source": [
    "_ = tests.grade('q7')"
   ]
  },
  {
   "cell_type": "markdown",
   "metadata": {},
   "source": [
    "**Question 8.** From the graph, can you figure out the hottest and coldest months in 2015, in terms of average minimum temperature?  (If it looks like there's a tie, name all the months that might qualify.  If you can't answer the question from these data, explain why.)"
   ]
  },
  {
   "cell_type": "markdown",
   "metadata": {},
   "source": [
    "*Write your answer here, replacing this text.*"
   ]
  },
  {
   "cell_type": "code",
   "execution_count": 16,
   "metadata": {
    "collapsed": false
   },
   "outputs": [],
   "source": [
    "# For your convenience, you can run this cell to run all the tests at once!\n",
    "import os\n",
    "_ = [tests.grade(q[:-3]) for q in os.listdir(\"tests\") if q.startswith('q')]"
   ]
  },
  {
   "cell_type": "code",
   "execution_count": 17,
   "metadata": {
    "collapsed": false
   },
   "outputs": [],
   "source": [
    "# Run this cell to submit your work *after* you have passed all of the test cells.\n",
    "# It's ok to run this cell multiple times. Only your final submission will be scored.\n",
    "\n",
    "!TZ=America/Los_Angeles ipython nbconvert --output=\".berkeley_climate_$(date +%m%d_%H%M)_submission.html\" berkeley_climate.ipynb"
   ]
  }
 ],
 "metadata": {
  "kernelspec": {
   "display_name": "Python 3",
   "language": "python",
   "name": "python3"
  },
  "language_info": {
   "codemirror_mode": {
    "name": "ipython",
    "version": 3
   },
   "file_extension": ".py",
   "mimetype": "text/x-python",
   "name": "python",
   "nbconvert_exporter": "python",
   "pygments_lexer": "ipython3",
   "version": "3.4.5"
  }
 },
 "nbformat": 4,
 "nbformat_minor": 0
}

