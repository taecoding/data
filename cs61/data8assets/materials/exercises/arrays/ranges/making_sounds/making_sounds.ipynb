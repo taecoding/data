{
 "cells": [
  {
   "cell_type": "markdown",
   "metadata": {},
   "source": [
    "## Making Sounds"
   ]
  },
  {
   "cell_type": "code",
   "execution_count": 1,
   "metadata": {
    "collapsed": false
   },
   "outputs": [],
   "source": [
    "# Run this cell to set up the notebook, but please don't change it.\n",
    "\n",
    "# These lines import the Numpy and Datascience modules.\n",
    "import numpy as np\n",
    "from datascience import *\n",
    "\n",
    "# These lines do some fancy plotting magic.\n",
    "import matplotlib\n",
    "%matplotlib inline\n",
    "import matplotlib.pyplot as plt\n",
    "plt.style.use('fivethirtyeight')\n",
    "import warnings\n",
    "warnings.simplefilter('ignore', FutureWarning)\n",
    "\n",
    "# These lines load the tests.\n",
    "from client.api.assignment import load_assignment \n",
    "tests = load_assignment('making_sounds.ok')"
   ]
  },
  {
   "cell_type": "markdown",
   "metadata": {},
   "source": [
    "Let's use arrays (and your computer's speakers) to generate sounds!\n",
    "\n",
    "##### Brief background on sound\n",
    "Sound happens when an object moves back-and-forth very quickly, pushing the air around it and creating rapidly oscillating increases and decreases in that air's pressure.  These patterned disturbances in the air move outward in all directions from the object (at the \"speed of sound\").\n",
    "\n",
    "[This webpage](https://auditoryneuroscience.com/acoustics/sound_propagation) has a nice visual depiction of a sound.\n",
    "\n",
    "When a disturbance in the air reaches your ear, your ear detects the air pressure changing at a certain rate, and you hear a particular sound.  Which sound you hear depends on how quickly the pressure goes up and down.  Simple, repeated oscillations sound like single musical *notes* to humans.  If the pressure goes up and down 220 times per second, you hear a note musicians call \"A below middle C\".\n",
    "\n",
    "Note that the changes in air pressure that your brain interprets as sound are very *small* and *fast* relative to the kinds of pressure you can feel, say, on your skin.  Ears are sensitive, specialized instruments for detecting small, fast oscillations in pressure."
   ]
  },
  {
   "cell_type": "markdown",
   "metadata": {},
   "source": [
    "##### Simulating the pressure pattern of a sound\n",
    "To generate a sound, then, we have to simulate pressure changes that would cause you to hear that sound.  Computer speakers take instructions like \"make the pressure X at time Y,\" so we will to calculate those pressures.  Let's generate A below middle C for 3 seconds.\n",
    "\n",
    "First, notice that we can't calculate the pressure at every point in time, because there are infinitely many points in time!\n",
    "\n",
    "Instead, we'll just pick a bunch of points in time, and find out the pressure on your ear at those snapshots in time.  These snapshots are called *frames*.  In a video, a sequence of still pictures creates the illusion of continuous movement.  In the same way, your brain interprets a quick sequence of different pressures as a continuous sound.\n",
    "\n",
    "Let's say we'll use 44100 of these frames (points in time where we figure out the pressure) per second.  First we'll compute all the times where we need a frame.\n",
    "\n",
    "**Question 1.** Create an array called `frame_times`.  It should contain the frame times for the 3-second period.  That is, it should start with 0, then $1/44100$, then $2/44100$, and so on, ending just before $3$."
   ]
  },
  {
   "cell_type": "code",
   "execution_count": 2,
   "metadata": {
    "collapsed": false
   },
   "outputs": [],
   "source": [
    "# You'll find these names useful.\n",
    "FRAMES_PER_SECOND = 44100\n",
    "SOUND_DURATION = 3\n",
    "\n",
    "frame_times = ...\n",
    "frame_times"
   ]
  },
  {
   "cell_type": "code",
   "execution_count": 3,
   "metadata": {
    "collapsed": false
   },
   "outputs": [],
   "source": [
    "_ = tests.grade('q1')"
   ]
  },
  {
   "cell_type": "markdown",
   "metadata": {},
   "source": [
    "Now we need a way to synthesize air pressure numbers that go up and down 220 times per second.  It's customary to use the `sine` function to do that, since it's a nice function that oscillates.  For a sound that oscillates 220 times per second, the pressure at time $t$ is:\n",
    "\n",
    "$$\\text{Pressure at time }t = \\texttt{sin}(2 \\times \\pi \\times 220 \\times t)$$\n",
    "\n",
    "The function `np.sin` takes as its argument an array of times and returns an array that's the `sine` of each of those times.  For example,\n",
    "\n",
    "    np.sin(make_array(0, 1, 2))\n",
    "\n",
    "is the same as\n",
    "    \n",
    "    make_array(math.sin(0), math.sin(1), math.sin(2))\n",
    "\n",
    "**Question 2.** Use `np.sin`, array arithmetic, and the `frame_times` array you generated above to generate the pressure on your ear at each frame."
   ]
  },
  {
   "cell_type": "code",
   "execution_count": 4,
   "metadata": {
    "collapsed": false
   },
   "outputs": [],
   "source": [
    "A_FREQUENCY = 220\n",
    "a_pressures = ...\n",
    "a_pressures"
   ]
  },
  {
   "cell_type": "code",
   "execution_count": 5,
   "metadata": {
    "collapsed": false
   },
   "outputs": [],
   "source": [
    "_ = tests.grade('q2')"
   ]
  },
  {
   "cell_type": "markdown",
   "metadata": {},
   "source": [
    "Here's a graph of 1000 frames of the data you generated, lasting around .025 seconds:"
   ]
  },
  {
   "cell_type": "code",
   "execution_count": 11,
   "metadata": {
    "collapsed": false
   },
   "outputs": [],
   "source": [
    "# Just run this cell.  It uses some programming concepts you'll see in the\n",
    "# next few weeks.\n",
    "Table().with_columns(\"Frame time (s)\", frame_times, \"Pressure on ear\", a_pressures).take(range(1000)).plot(0)\n",
    "plt.ylim(-1.2, 1.2)\n",
    "_ = plt.title(\"Pressure on ear over time (A below middle C)\")"
   ]
  },
  {
   "cell_type": "markdown",
   "metadata": {},
   "source": [
    "The peaks represent points in time when the pressure on your ear was high, and the troughs represent points in time when it was low.\n",
    "\n",
    "##### Turning it into sounds\n",
    "The function `Audio` (in the `IPython.display` module) takes pressure data and passes it to your computer's speakers to produce.  The speakers move rapidly (220 times per second, in this case), producing pressure changes in the air, and your ears interpret these as sound.\n",
    "\n",
    "`Audio` takes two arguments.  The first is an array containing the pressures you want to generate, like your `pressures` array.  The second is the number of frames per second the data were taken at.  This argument is a *named* argument, which means you have to write `rate=` before it, like this:\n",
    "\n",
    "    Audio(make_array(0, 1, 2), rate=120)\n",
    "\n",
    "`Audio` returns an object that represents the sound it will play.  If it's the value of the last line in a cell, it will play when you run that cell.\n",
    "\n",
    "**Question 3.** Import and call `Audio` to make a sound from your data.  Call it `a_below_middle_c`."
   ]
  },
  {
   "cell_type": "code",
   "execution_count": 6,
   "metadata": {
    "collapsed": false
   },
   "outputs": [],
   "source": [
    "# Warning: When you fill out this cell correctly, running it will\n",
    "# cause a sound to play!\n",
    "...\n",
    "a_below_middle_c = ...\n",
    "a_below_middle_c"
   ]
  },
  {
   "cell_type": "code",
   "execution_count": 7,
   "metadata": {
    "collapsed": false
   },
   "outputs": [],
   "source": [
    "_ = tests.grade('q3')"
   ]
  },
  {
   "cell_type": "markdown",
   "metadata": {},
   "source": [
    "##### Richer sounds\n",
    "When two things make sounds at once, the pressures they put on your ear just add together.  So to play two sounds at once, we just *add their pressure values* at each frame.\n",
    "\n",
    "**Question 4.** Create the pressure data for a sound that oscillates 277 times per second, calling it `c_sharp_pressures`, and a sound that oscillates 330 times per second, calling it `e_pressures`.  Add both of those arrays to `a_pressures`, producing an array called `chord_pressures`.  Then create a sound from that data, called `chord_sound`, and play it.  It's called an A-major chord."
   ]
  },
  {
   "cell_type": "code",
   "execution_count": 8,
   "metadata": {
    "collapsed": false
   },
   "outputs": [],
   "source": [
    "C_SHARP_FREQUENCY = 277\n",
    "c_sharp_pressures = ...\n",
    "E_FREQUENCY = 330\n",
    "e_pressures = ...\n",
    "chord_pressures = ...\n",
    "chord_sound = ...\n",
    "chord_sound"
   ]
  },
  {
   "cell_type": "code",
   "execution_count": 9,
   "metadata": {
    "collapsed": false
   },
   "outputs": [],
   "source": [
    "_ = tests.grade('q4')"
   ]
  },
  {
   "cell_type": "markdown",
   "metadata": {},
   "source": [
    "For a challenge, try changing the amount of pressure over time so you hear the volume increase over the 3-second period.  You can also change the rate of oscillations over time to change the notes you hear.  Real-world sounds, like human speech, are just combinations of many pitches that change very quickly."
   ]
  },
  {
   "cell_type": "code",
   "execution_count": 16,
   "metadata": {
    "collapsed": false
   },
   "outputs": [],
   "source": [
    "# For your convenience, you can run this cell to run all the tests at once!\n",
    "import os\n",
    "_ = [tests.grade(q[:-3]) for q in os.listdir(\"tests\") if q.startswith('q')]"
   ]
  },
  {
   "cell_type": "code",
   "execution_count": 17,
   "metadata": {
    "collapsed": false
   },
   "outputs": [],
   "source": [
    "# Run this cell to submit your work *after* you have passed all of the test cells.\n",
    "# It's ok to run this cell multiple times. Only your final submission will be scored.\n",
    "\n",
    "!TZ=America/Los_Angeles ipython nbconvert --output=\".making_sounds_$(date +%m%d_%H%M)_submission.html\" making_sounds.ipynb"
   ]
  }
 ],
 "metadata": {
  "kernelspec": {
   "display_name": "Python 3",
   "language": "python",
   "name": "python3"
  },
  "language_info": {
   "codemirror_mode": {
    "name": "ipython",
    "version": 3
   },
   "file_extension": ".py",
   "mimetype": "text/x-python",
   "name": "python",
   "nbconvert_exporter": "python",
   "pygments_lexer": "ipython3",
   "version": "3.4.5"
  }
 },
 "nbformat": 4,
 "nbformat_minor": 0
}

