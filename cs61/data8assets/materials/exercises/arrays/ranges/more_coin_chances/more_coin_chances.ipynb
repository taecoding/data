{
 "cells": [
  {
   "cell_type": "markdown",
   "metadata": {},
   "source": [
    "## Flipping Coins, Continued"
   ]
  },
  {
   "cell_type": "code",
   "execution_count": 4,
   "metadata": {
    "collapsed": false
   },
   "outputs": [],
   "source": [
    "# Run this cell to set up the notebook, but please don't change it.\n",
    "\n",
    "# These lines import the NumPy and Datascience modules.\n",
    "import numpy as np\n",
    "from datascience import *\n",
    "\n",
    "# These lines do some fancy plotting magic\n",
    "import matplotlib\n",
    "%matplotlib inline\n",
    "import matplotlib.pyplot as plt\n",
    "plt.style.use('fivethirtyeight')\n",
    "import warnings\n",
    "warnings.simplefilter('ignore', FutureWarning)\n",
    "\n",
    "# These lines load the tests.\n",
    "from client.api.assignment import load_assignment \n",
    "tests = load_assignment('more_coin_chances.ok')"
   ]
  },
  {
   "cell_type": "markdown",
   "metadata": {},
   "source": [
    "(This exercise continues the exercise called \"Coin Chances.\"  If you're stuck and haven't done the previous part, it might help to start there.)\n",
    "\n",
    "As you're walking down Bancroft one afternoon, a shadowy figure steps out of Sather Lane and offers you the following game:\n",
    "\n",
    "> \"First, you pay me \\$1 to play.  Then, I'll flip 4 fair coins.  (\"Fair\" means that there's a 50% chance the coin lands heads and a 50% chance it lands tails, and all the coins are independent of each other.)\n",
    "\n",
    "> \"If all of the coins come up heads, then I'll give you \\$10.\"\n",
    "\n",
    "Let's figure out whether this is a good deal.\n",
    "\n",
    "First, let's think about the outcomes that can happen. We'll order the coins left to right and denote an outcome by a string like `\"HHHH\"` (for all heads) or `\"THTH\"` (for alternating tails and heads).  There are $2^4$, or 16, possible outcomes.  The next cell defines that quantity in Python, for your convenience later."
   ]
  },
  {
   "cell_type": "code",
   "execution_count": 5,
   "metadata": {
    "collapsed": true
   },
   "outputs": [],
   "source": [
    "num_coins = 4\n",
    "num_outcomes_4_coins = 2**num_coins"
   ]
  },
  {
   "cell_type": "markdown",
   "metadata": {},
   "source": [
    "**Question 1.** Are the outcomes equally likely to happen, or are some more likely than others?\n",
    "\n",
    "*Hint:* Imagine you've seen that the first 3 coins are heads, but you haven't seen how the last coin landed yet.  Are you equally likely to see `\"HHHH\"` and `\"HHHT\"`?"
   ]
  },
  {
   "cell_type": "markdown",
   "metadata": {},
   "source": [
    "*Write your answer here, replacing this text.*"
   ]
  },
  {
   "cell_type": "markdown",
   "metadata": {},
   "source": [
    "**Question 2.** What is the chance of seeing all heads (`\"HHHH\"`)?\n",
    "\n",
    "*Hint:* Remember, the probabilities of all the potential outcomes must add up to 1.  So if there are 5 equally-likely outcomes and only 1 can happen, the probability of each individual outcome must be $\\frac{1}{5}$."
   ]
  },
  {
   "cell_type": "code",
   "execution_count": 6,
   "metadata": {
    "collapsed": false
   },
   "outputs": [],
   "source": [
    "all_heads_chance_4_coins = ...\n",
    "all_heads_chance_4_coins"
   ]
  },
  {
   "cell_type": "code",
   "execution_count": 7,
   "metadata": {
    "collapsed": false
   },
   "outputs": [],
   "source": [
    "_ = tests.grade('q2')"
   ]
  },
  {
   "cell_type": "markdown",
   "metadata": {},
   "source": [
    "**Question 3.** On one of the outcomes, `\"HHHH\"`, you make \\$10.  On all the others, you make nothing.  That means \\$`10*all_heads_chance_4_coins` is the average amount of money you make when you play the game.  You have to pay \\$1 to play the game.  So *on average*, do you make money or lose money?"
   ]
  },
  {
   "cell_type": "markdown",
   "metadata": {},
   "source": [
    "*Write your answer here, replacing this text.*"
   ]
  },
  {
   "cell_type": "markdown",
   "metadata": {},
   "source": [
    "**Question 4.** Compute the *probability* of getting all heads in a game with 1 coin, for a game with 2 coins, and so on, up to 50 coins.  Put the results in an array.\n",
    "\n",
    "*Hint:* Don't write an expression and copy it 50 times! Instead, think about the formula for each entry of the array you want, and use array arithmetic to implement that formula."
   ]
  },
  {
   "cell_type": "code",
   "execution_count": 8,
   "metadata": {
    "collapsed": false
   },
   "outputs": [],
   "source": [
    "all_heads_chances = ...\n",
    "all_heads_chances"
   ]
  },
  {
   "cell_type": "code",
   "execution_count": 9,
   "metadata": {
    "collapsed": false
   },
   "outputs": [],
   "source": [
    "_ = tests.grade('q4')"
   ]
  },
  {
   "cell_type": "markdown",
   "metadata": {},
   "source": [
    "**Question 5.** The shadowy figure offers to change the game by flipping a different number of coins.  (You still pay \\$1, and you still win \\$10 if all the coins come up heads.)  Calculate the amount of money that you win *on average* for games with 1 coin up to 50 coins.  Subtract the amount you must pay, \\$1.\n",
    "\n",
    "*Hint:* Use your answer to the previous question."
   ]
  },
  {
   "cell_type": "code",
   "execution_count": 10,
   "metadata": {
    "collapsed": false
   },
   "outputs": [],
   "source": [
    "average_winnings = ...\n",
    "average_winnings"
   ]
  },
  {
   "cell_type": "code",
   "execution_count": 11,
   "metadata": {
    "collapsed": false
   },
   "outputs": [],
   "source": [
    "_ = tests.grade('q5')"
   ]
  },
  {
   "cell_type": "markdown",
   "metadata": {},
   "source": [
    "Here's a graph of your answer:"
   ]
  },
  {
   "cell_type": "code",
   "execution_count": 12,
   "metadata": {
    "collapsed": false
   },
   "outputs": [],
   "source": [
    "Table().with_columns(\"number of coins\", np.arange(1, 50+1), \"average winnings ($)\", average_winnings).scatter(0)"
   ]
  },
  {
   "cell_type": "markdown",
   "metadata": {},
   "source": [
    "**Question 6.** For which numbers of coins are your average winnings positive?"
   ]
  },
  {
   "cell_type": "markdown",
   "metadata": {},
   "source": [
    "*Write your answer here, replacing this text.*"
   ]
  },
  {
   "cell_type": "markdown",
   "metadata": {},
   "source": [
    "**Question 7.** The shadowy figure changes the game again.  This time, you win \\$1.25 if the coins don't come up *either* all heads or all tails.  (So, if there are 4 coin flips, you win unless the results are `\"HHHH\"` or `\"TTTT\"`.)\n",
    "\n",
    "Compute the probability that you lose, for games with 1 coin up to 50 coins.  That's just the probability of getting all heads, plus the probability of getting all tails."
   ]
  },
  {
   "cell_type": "code",
   "execution_count": 23,
   "metadata": {
    "collapsed": false
   },
   "outputs": [],
   "source": [
    "loss_chances = ...\n",
    "loss_chances"
   ]
  },
  {
   "cell_type": "code",
   "execution_count": 24,
   "metadata": {
    "collapsed": false
   },
   "outputs": [],
   "source": [
    "_ = tests.grade('q7')"
   ]
  },
  {
   "cell_type": "markdown",
   "metadata": {},
   "source": [
    "**Question 8.** Compute the probability that you *win*, for games with 1 coin up to 50 coins.  The chance that you win is 1 minus the chance that you lose.\n",
    "\n",
    "*Hint:* Use your answer to the previous problem."
   ]
  },
  {
   "cell_type": "code",
   "execution_count": 15,
   "metadata": {
    "collapsed": false
   },
   "outputs": [],
   "source": [
    "win_chances = ...\n",
    "win_chances"
   ]
  },
  {
   "cell_type": "code",
   "execution_count": 16,
   "metadata": {
    "collapsed": false
   },
   "outputs": [],
   "source": [
    "_ = tests.grade('q8')"
   ]
  },
  {
   "cell_type": "markdown",
   "metadata": {},
   "source": [
    "**Question 9.** Compute your average winnings from this new game, for games with 1 coin up to 50 coins.  Again, that's \\$1.25 times the chance that you win, minus the \\$1 you pay to play."
   ]
  },
  {
   "cell_type": "code",
   "execution_count": 17,
   "metadata": {
    "collapsed": false
   },
   "outputs": [],
   "source": [
    "new_average_winnings = ...\n",
    "new_average_winnings"
   ]
  },
  {
   "cell_type": "code",
   "execution_count": 19,
   "metadata": {
    "collapsed": false
   },
   "outputs": [],
   "source": [
    "_ = tests.grade('q9')"
   ]
  },
  {
   "cell_type": "markdown",
   "metadata": {},
   "source": [
    "Here's a graph of your answers."
   ]
  },
  {
   "cell_type": "code",
   "execution_count": 20,
   "metadata": {
    "collapsed": false
   },
   "outputs": [],
   "source": [
    "Table().with_columns(\n",
    "        \"number of coins\", np.arange(1, 50+1),\n",
    "        \"first game average winnings ($)\", average_winnings,\n",
    "        \"second game average winnings ($)\", new_average_winnings)\\\n",
    "    .scatter(0)"
   ]
  },
  {
   "cell_type": "code",
   "execution_count": 21,
   "metadata": {
    "collapsed": false
   },
   "outputs": [],
   "source": [
    "# For your convenience, you can run this cell to run all the tests at once!\n",
    "import os\n",
    "_ = [tests.grade(q[:-3]) for q in os.listdir(\"tests\") if q.startswith('q')]"
   ]
  },
  {
   "cell_type": "code",
   "execution_count": 22,
   "metadata": {
    "collapsed": false
   },
   "outputs": [],
   "source": [
    "# Run this cell to submit your work *after* you have passed all of the test cells.\n",
    "# It's ok to run this cell multiple times. Only your final submission will be scored.\n",
    "\n",
    "!TZ=America/Los_Angeles ipython nbconvert --output=\".more_coin_chances_$(date +%m%d_%H%M)_submission.html\" more_coin_chances.ipynb"
   ]
  }
 ],
 "metadata": {
  "kernelspec": {
   "display_name": "Python 3",
   "language": "python",
   "name": "python3"
  },
  "language_info": {
   "codemirror_mode": {
    "name": "ipython",
    "version": 3
   },
   "file_extension": ".py",
   "mimetype": "text/x-python",
   "name": "python",
   "nbconvert_exporter": "python",
   "pygments_lexer": "ipython3",
   "version": "3.4.5"
  }
 },
 "nbformat": 4,
 "nbformat_minor": 0
}

