{
 "cells": [
  {
   "cell_type": "markdown",
   "metadata": {},
   "source": [
    "## Pell Grants by State (Discussion Questions)"
   ]
  },
  {
   "cell_type": "code",
   "execution_count": 1,
   "metadata": {
    "collapsed": false
   },
   "outputs": [],
   "source": [
    "# Run this cell to set up the notebook, but please don't change it.\n",
    "\n",
    "# These lines import the Numpy and Datascience modules.\n",
    "import numpy as np\n",
    "from datascience import *\n",
    "\n",
    "# These lines do some fancy plotting magic.\n",
    "import matplotlib\n",
    "%matplotlib inline\n",
    "import matplotlib.pyplot as plt\n",
    "plt.style.use('fivethirtyeight')\n",
    "import warnings\n",
    "warnings.simplefilter('ignore', FutureWarning)\n",
    "\n",
    "# These lines load the tests.\n",
    "from client.api.assignment import load_assignment \n",
    "tests = load_assignment('pell_grants_discussion.ok')"
   ]
  },
  {
   "cell_type": "markdown",
   "metadata": {},
   "source": [
    "In a previous exercise (FIXME: link?), we computed the proportion of students in various US states who receive financial aid from the US Federal government in the form of Pell grants.  This exercise is designed to be completed after that one; some parts of it won't make sense out of that context.  We've put the computational results of that exercise in a file called `pell_proportions`, which is loaded in the cell below."
   ]
  },
  {
   "cell_type": "code",
   "execution_count": 2,
   "metadata": {
    "collapsed": false
   },
   "outputs": [],
   "source": [
    "pell_proportions = Table.read_table(\"pell_proportions.csv\")\n",
    "pell_proportions"
   ]
  },
  {
   "cell_type": "markdown",
   "metadata": {},
   "source": [
    "**Question 1.** Sort the states in decreasing order by Pell proportion."
   ]
  },
  {
   "cell_type": "code",
   "execution_count": 3,
   "metadata": {
    "collapsed": false
   },
   "outputs": [],
   "source": [
    "pell_proportions_sorted = ...\n",
    "pell_proportions_sorted"
   ]
  },
  {
   "cell_type": "code",
   "execution_count": 4,
   "metadata": {
    "collapsed": false
   },
   "outputs": [],
   "source": [
    "_ = tests.grade('q1')"
   ]
  },
  {
   "cell_type": "markdown",
   "metadata": {},
   "source": [
    "You might notice that there are 59 rows in this table, while the US has only 50 states!  The abbrevations in the table may not help you unravel this mystery.  (If you're familiar with US state abbreviations, you'll even see some unfamiliar abbreviations.)\n",
    "\n",
    "Instead, let's get the name of each state.  The table `state_names.csv` has one row per state, with the state's abbrevation and its full name.  (It's based on a table from this [blog post](http://www.fonz.net/blog/archives/2008/04/06/csv-of-states-and-state-abbreviations/) and on this table at [Wikipedia](https://en.wikipedia.org/wiki/List_of_U.S._state_abbreviations).)"
   ]
  },
  {
   "cell_type": "markdown",
   "metadata": {},
   "source": [
    "**Question 2.** Load `state_names.csv` and use it to produce a table called `with_names` with one row per state, with the state's full name, abbrevation, and Pell proportion."
   ]
  },
  {
   "cell_type": "code",
   "execution_count": 5,
   "metadata": {
    "collapsed": false
   },
   "outputs": [],
   "source": [
    "state_names = Table.read_table('state_names.csv')\n",
    "with_names = pell_proportions.join(\"State (abbreviated)\", state_names, \"Abbreviation\").sort(\"Pell proportion\", descending=True)\n",
    "with_names"
   ]
  },
  {
   "cell_type": "code",
   "execution_count": 6,
   "metadata": {
    "collapsed": false
   },
   "outputs": [],
   "source": [
    "_ = tests.grade('q2')"
   ]
  },
  {
   "cell_type": "markdown",
   "metadata": {},
   "source": [
    "**Question 3.** Explain the mysterious 9 extra rows."
   ]
  },
  {
   "cell_type": "markdown",
   "metadata": {},
   "source": [
    "*Write your answer here, replacing this text.*"
   ]
  },
  {
   "cell_type": "markdown",
   "metadata": {},
   "source": [
    "**Question 4.** Look at the original data in the tables `sfa` and `hd` from the previous exericse (FIXME: link).  Why do you think schools are assigned IDs, instead of just using their names?  Concretely, describe what would have happened in the previous exercise if the `sfa` table had called Berkeley \"UC Berkeley\" while the `hd` table had called it \"University of California, Berkeley\" and we used these names to join the two tables."
   ]
  },
  {
   "cell_type": "markdown",
   "metadata": {},
   "source": [
    "*Write your answer here, replacing this text.*"
   ]
  },
  {
   "cell_type": "markdown",
   "metadata": {},
   "source": [
    "**Question 5.** In the previous exercise, we could have computed the proportion of Pell grant recipients in a different way.  First, compute the proportion of recipients at each school.  Then, after finding each school's state, we group by state.  For each state, we compute the *average* of the proportions of Pell grant recipients at each school.  Would that have produced the same result?  Why or why not?"
   ]
  },
  {
   "cell_type": "markdown",
   "metadata": {},
   "source": [
    "*Write your answer here, replacing this text.*"
   ]
  },
  {
   "cell_type": "code",
   "execution_count": null,
   "metadata": {
    "collapsed": false
   },
   "outputs": [],
   "source": [
    "# For your convenience, you can run this cell to run all the tests at once!\n",
    "import os\n",
    "_ = [tests.grade(q[:-3]) for q in os.listdir(\"tests\") if q.startswith('q')]"
   ]
  },
  {
   "cell_type": "code",
   "execution_count": null,
   "metadata": {
    "collapsed": false
   },
   "outputs": [],
   "source": [
    "# Run this cell to submit your work *after* you have passed all of the test cells.\n",
    "# It's ok to run this cell multiple times. Only your final submission will be scored.\n",
    "\n",
    "!TZ=America/Los_Angeles ipython nbconvert --output=\".pell_grants_discussion_$(date +%m%d_%H%M)_submission.html\" pell_grants_discussion.ipynb"
   ]
  }
 ],
 "metadata": {
  "kernelspec": {
   "display_name": "Python 3",
   "language": "python",
   "name": "python3"
  },
  "language_info": {
   "codemirror_mode": {
    "name": "ipython",
    "version": 3
   },
   "file_extension": ".py",
   "mimetype": "text/x-python",
   "name": "python",
   "nbconvert_exporter": "python",
   "pygments_lexer": "ipython3",
   "version": "3.4.5"
  }
 },
 "nbformat": 4,
 "nbformat_minor": 0
}

