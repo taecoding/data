{
 "cells": [
  {
   "cell_type": "markdown",
   "metadata": {},
   "source": [
    "## CFPB Complaints -- A Challenge"
   ]
  },
  {
   "cell_type": "code",
   "execution_count": 45,
   "metadata": {
    "collapsed": false
   },
   "outputs": [],
   "source": [
    "# Run this cell to set up the notebook, but please don't change it.\n",
    "\n",
    "# These lines import the Numpy and Datascience modules.\n",
    "import numpy as np\n",
    "from datascience import *\n",
    "\n",
    "# These lines load the tests.\n",
    "from client.api.assignment import load_assignment \n",
    "tests = load_assignment('cfpb_complaints_challenge.ok')"
   ]
  },
  {
   "cell_type": "markdown",
   "metadata": {},
   "source": [
    "This exercise continues another one [FIXME](), with a few more challenging data manipulations.\n",
    "\n",
    "The Consumer Financial Protection Bureau has collected and published consumer complaints against financial companies since 2011.  The data are available [here](https://dev.socrata.com/foundry/data.consumerfinance.gov/jhzv-w97w) (or at this [direct link](https://data.consumerfinance.gov/resource/jhzv-w97w.csv).  For this exercise, to make your code run faster, we've selected only the data from May 2016.\n",
    "\n",
    "Run the next cell to load the data.  Each row represents one consumer's complaint."
   ]
  },
  {
   "cell_type": "code",
   "execution_count": 46,
   "metadata": {
    "collapsed": false
   },
   "outputs": [],
   "source": [
    "complaints = Table.read_table(\"complaints.csv\")\n",
    "complaints"
   ]
  },
  {
   "cell_type": "markdown",
   "metadata": {},
   "source": [
    "Some financial institutions specialize in one kind of business, while others offer many products.  We can use the complaints against each company as a rough proxy for the size of its customer base for each product.  \n",
    "\n",
    "**Question 1.** Find all the companies that have at least 2 products with 100 or more complaints.  For each of those companies, also find the types of products they offer that have at least 100 complaints.  To do this, create a single table called `many_products_companies` with 2 columns: \n",
    "* `\"company\"`: the name of the company, and\n",
    "* `\"products with many complaints\"`: an array of names of product types for which the company has at least 100 complaints."
   ]
  },
  {
   "cell_type": "code",
   "execution_count": 47,
   "metadata": {
    "collapsed": false
   },
   "outputs": [],
   "source": [
    "# Hint: The staff solution took several lines and defined\n",
    "# a few extra tables.\n",
    "many_products_companies = ...\n",
    "many_products_companies"
   ]
  },
  {
   "cell_type": "code",
   "execution_count": 49,
   "metadata": {
    "collapsed": false
   },
   "outputs": [],
   "source": [
    "_ = tests.grade('q1')"
   ]
  },
  {
   "cell_type": "markdown",
   "metadata": {},
   "source": [
    "**Question 2.** Find all the complaints against those companies.  That is, make a table (called `complaints_against_big_companies`) that's a copy of `complaints`, but with only the rows that are complaints against the companies in `many_products_companies`."
   ]
  },
  {
   "cell_type": "code",
   "execution_count": 50,
   "metadata": {
    "collapsed": false,
    "for_assignment_type": "student"
   },
   "outputs": [],
   "source": [
    "complaints_against_big_companies = ...\n",
    "complaints_against_big_companies"
   ]
  },
  {
   "cell_type": "code",
   "execution_count": 51,
   "metadata": {
    "collapsed": false
   },
   "outputs": [],
   "source": [
    "# Here we're using join just to filter a table.  We join\n",
    "# the complaints table with the many_products_companies table,\n",
    "# not to add any columns, but just to take out the rows in\n",
    "# complaints that don't have a match in many_products_companies.\n",
    "complaints_against_big_companies = complaints.join('company', many_products_companies.select(0))\n",
    "complaints_against_big_companies"
   ]
  },
  {
   "cell_type": "code",
   "execution_count": 52,
   "metadata": {
    "collapsed": false
   },
   "outputs": [],
   "source": [
    "_ = tests.grade('q2')"
   ]
  },
  {
   "cell_type": "markdown",
   "metadata": {},
   "source": [
    "The column `\"company_response\"` tells us how the company acted in response to the complaint, at least according to the CFPB data. For example, a company might address the complaint (\"non-monetary relief\"), give the customer money to settle the problem (\"monetary relief\"), or just explain why they won't do anything.\n",
    "\n",
    "**Question 3.** Are the complaints against these companies more likely to be settled by explanation (rather than by monetary or non-monetary relief) than complaints in general?  Does this imply an association between being a company with several large products and complaint response, a causal relationship between the two, or neither?"
   ]
  },
  {
   "cell_type": "code",
   "execution_count": null,
   "metadata": {
    "collapsed": true,
    "for_assignment_type": "student"
   },
   "outputs": [],
   "source": [
    "# Use this cell to work on this problem."
   ]
  },
  {
   "cell_type": "code",
   "execution_count": null,
   "metadata": {
    "collapsed": false
   },
   "outputs": [],
   "source": [
    "# For your convenience, you can run this cell to run all the tests at once!\n",
    "import os\n",
    "_ = [tests.grade(q[:-3]) for q in os.listdir(\"tests\") if q.startswith('q')]"
   ]
  },
  {
   "cell_type": "code",
   "execution_count": null,
   "metadata": {
    "collapsed": false
   },
   "outputs": [],
   "source": [
    "# Run this cell to submit your work *after* you have passed all of the test cells.\n",
    "# It's ok to run this cell multiple times. Only your final submission will be scored.\n",
    "\n",
    "!TZ=America/Los_Angeles ipython nbconvert --output=\".cfpb_complaints_challenge_$(date +%m%d_%H%M)_submission.html\" cfpb_complaints_challenge.ipynb"
   ]
  }
 ],
 "metadata": {
  "kernelspec": {
   "display_name": "Python 3",
   "language": "python",
   "name": "python3"
  },
  "language_info": {
   "codemirror_mode": {
    "name": "ipython",
    "version": 3
   },
   "file_extension": ".py",
   "mimetype": "text/x-python",
   "name": "python",
   "nbconvert_exporter": "python",
   "pygments_lexer": "ipython3",
   "version": "3.4.5"
  }
 },
 "nbformat": 4,
 "nbformat_minor": 0
}

