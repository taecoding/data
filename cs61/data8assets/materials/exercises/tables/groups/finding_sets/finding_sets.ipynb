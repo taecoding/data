{
 "cells": [
  {
   "cell_type": "markdown",
   "metadata": {},
   "source": [
    "## Finding Sets in Poker Hands"
   ]
  },
  {
   "cell_type": "code",
   "execution_count": 1,
   "metadata": {
    "collapsed": false
   },
   "outputs": [],
   "source": [
    "# Run this cell to set up the notebook, but please don't change it.\n",
    "\n",
    "# These lines import the Numpy and Datascience modules.\n",
    "import numpy as np\n",
    "from datascience import *\n",
    "\n",
    "# These lines load the tests.\n",
    "from client.api.assignment import load_assignment \n",
    "tests = load_assignment('finding_sets.ok')"
   ]
  },
  {
   "cell_type": "markdown",
   "metadata": {},
   "source": [
    "`group` and `groups` are useful any time you want to aggregate information about groups of rows.  The way in which the information is \"aggregated\" is entirely up to you, since you can specify any function you want.\n",
    "\n",
    "In this exercise, you'll work with tables of playing cards, and you'll have to think about how to aggregate cards together to figure out whether groups of them satisfy certain properties.\n",
    "\n",
    "Run the cell below to load the card data.  It's a table with 52 rows, one for each type of card in a deck of playing cards.  A playing card has a \"suit\" (\"♠︎\", \"♣︎\", \"♥︎\", or \"♦︎\") and a \"rank\" (2 through 10, J, Q, K, or A).  There are 4 suits and 13 ranks, so there are $4 \\times 13 = 52$ different cards."
   ]
  },
  {
   "cell_type": "code",
   "execution_count": 2,
   "metadata": {
    "collapsed": false
   },
   "outputs": [],
   "source": [
    "deck = Table.read_table(\"deck.csv\")\n",
    "deck"
   ]
  },
  {
   "cell_type": "markdown",
   "metadata": {},
   "source": [
    "Since there are 4 suits, there are 4 cards of each rank.  For example, there is a 2 of spades (rank 2, suit ♠︎), a 2 of clubs (rank 2, suit ♣︎), a 2 of diamonds (rank 2, suit ♦︎), and 2 of hearts (rank 2, suit ♥︎).\n",
    "\n",
    "Suppose you draw 5 cards randomly from the deck.  This is called your *hand*.  If you have all 4 cards of any one rank, that's called \"four-of-a-kind\".  For example, a hand of [2♠︎, 2♣︎, 2♦︎, 2♥︎, K♣︎] has a four-of-a-kind.  (The last card, the king of clubs in this case, doesn't matter.)  There are also names for hands that contain sets of 3 or 2 same-ranked cards.\n",
    "\n",
    "Write a function called `biggest_set`.  It should take as its argument a table representing a hand of cards, which will look like `deck` but with only 5 rows.  It should return the size of the biggest set of same-ranked cards in that hand.  For example, for the hand\n",
    "    \n",
    "    [2♠︎, 2♣︎, 2♦︎, 2♥︎, K♣︎],\n",
    "\n",
    "it should return 4.  For the hand\n",
    "    \n",
    "    [5♠︎, 3♦︎, 4♥︎, 5♣︎, K♣︎],\n",
    "    \n",
    "it should return 2, since that hand contains two 5s.  It should also return 2 for the hand\n",
    "    \n",
    "    [5♠︎, 5♣︎, 4♦︎, 4♥︎, K♣︎]."
   ]
  },
  {
   "cell_type": "code",
   "execution_count": 3,
   "metadata": {
    "collapsed": false
   },
   "outputs": [],
   "source": [
    "def biggest_set(hand):\n",
    "    ...\n",
    "\n",
    "# Here we're calling your function with an example of a\n",
    "# hand with 1 four-of-a-kind:\n",
    "biggest_set(deck.take(np.arange(5)))"
   ]
  },
  {
   "cell_type": "code",
   "execution_count": 4,
   "metadata": {
    "collapsed": false
   },
   "outputs": [],
   "source": [
    "_ = tests.grade('q1')"
   ]
  },
  {
   "cell_type": "markdown",
   "metadata": {},
   "source": [
    "Now suppose instead of just 1 hand, there are several players playing a game, and each player has their own hand of 5.  We put all their cards in a single table with an extra column called \"Player\" for the name of the player.  Here's an example with 3 players:"
   ]
  },
  {
   "cell_type": "code",
   "execution_count": 5,
   "metadata": {
    "collapsed": false
   },
   "outputs": [],
   "source": [
    "hands = Table.read_table(\"hands.csv\")\n",
    "hands.show()"
   ]
  },
  {
   "cell_type": "markdown",
   "metadata": {},
   "source": [
    "**Question 2.** Write a function called `biggest_sets`.  It should take one argument that's a table like `hands`.  (The table will have 5 rows per player, but not necessarily 3 players.)  It should return a table with 1 row per player, a column for the player's name (\"Player\"), and a column for the size of the biggest set in that player's hand (\"Biggest set\").\n",
    "\n",
    "*Hint:* It's probably not useful to reuse your `biggest_set` function for this, but the idea is somewhat similar."
   ]
  },
  {
   "cell_type": "code",
   "execution_count": 6,
   "metadata": {
    "collapsed": false
   },
   "outputs": [],
   "source": [
    "def biggest_sets(hands_table):\n",
    "    # First we count the number of cards of each rank for\n",
    "    # each player.  Then we find the max of those for each\n",
    "    # player, which is the size of their biggest set.\n",
    "    return hands_table.groups(make_array('Player', 'Rank'))\\\n",
    "                      .drop('Rank')\\\n",
    "                      .group('Player', max)\\\n",
    "                      .relabeled('count max', 'Biggest set')\n",
    "\n",
    "biggest_sets(hands)"
   ]
  },
  {
   "cell_type": "code",
   "execution_count": 7,
   "metadata": {
    "collapsed": false,
    "for_assignment_type": "student"
   },
   "outputs": [],
   "source": [
    "# Write your function here:\n",
    "...\n",
    "\n",
    "# Example call to your function:\n",
    "biggest_sets(hands)"
   ]
  },
  {
   "cell_type": "code",
   "execution_count": 8,
   "metadata": {
    "collapsed": false
   },
   "outputs": [],
   "source": [
    "_ = tests.grade('q2')"
   ]
  },
  {
   "cell_type": "markdown",
   "metadata": {},
   "source": [
    "**Question 3.** Write a function called `winner`.  It should take one argument that's a table like `hands`.  It should return the name of the player with the biggest set in their hand."
   ]
  },
  {
   "cell_type": "code",
   "execution_count": 10,
   "metadata": {
    "collapsed": false,
    "for_assignment_type": "student"
   },
   "outputs": [],
   "source": [
    "# Write your function here:\n",
    "...\n",
    "\n",
    "# Example call to your function:\n",
    "winner(hands)"
   ]
  },
  {
   "cell_type": "code",
   "execution_count": 11,
   "metadata": {
    "collapsed": false
   },
   "outputs": [],
   "source": [
    "_ = tests.grade('q3')"
   ]
  },
  {
   "cell_type": "markdown",
   "metadata": {},
   "source": [
    "Now suppose our players played 3 games and we recorded their hands in each game.  The table `games`, loaded below, has one row for each card in a player's hand in one game.  It's like `hands`, except with an extra column that tells us which game the card appeared in.  Load the table and make sure you understand its format before you move on."
   ]
  },
  {
   "cell_type": "code",
   "execution_count": 12,
   "metadata": {
    "collapsed": false
   },
   "outputs": [],
   "source": [
    "games = Table.read_table('games.csv')\n",
    "games"
   ]
  },
  {
   "cell_type": "markdown",
   "metadata": {},
   "source": [
    "**Question 4.** Write a function called `best_hands`.  It should take one argument that's a table like `games`.  It should return a table with one row per *game*, a column for the game number (\"Game\"), and a column for the size of the biggest set among all the players in that game (\"Biggest set in game\").  (In other words, we're computing the size of the biggest set in the winning player's hand for each game.)\n",
    "\n",
    "*Hint:* There are many possible solutions, but the staff solution uses 2 calls to `groups` and 1 call to `group`, plus some dropping and relabeling of columns.  Think about the steps you went through in the previous questions and how you might extend them for this new situation."
   ]
  },
  {
   "cell_type": "code",
   "execution_count": 13,
   "metadata": {
    "collapsed": false
   },
   "outputs": [],
   "source": [
    "def best_hands(games_table):\n",
    "    # First we count the number of cards of each rank for\n",
    "    # each hand.  Each player has one hand for each game.\n",
    "    # Then we find the max of those for each hand.  Then\n",
    "    # we find the max of those for each game, and that's.\n",
    "    # the size of the biggest set among all hands in that\n",
    "    # game.\n",
    "    return games_table.groups(make_array('Player', 'Game', 'Rank'))\\\n",
    "                      .drop('Rank')\\\n",
    "                      .groups(make_array('Player', 'Game'), max)\\\n",
    "                      .drop('Player')\\\n",
    "                      .group('Game', max)\\\n",
    "                      .relabeled('count max max', \"Biggest set in game\")\n",
    "\n",
    "best_hands(games)"
   ]
  },
  {
   "cell_type": "code",
   "execution_count": 14,
   "metadata": {
    "collapsed": false
   },
   "outputs": [],
   "source": [
    "# Write your function here.\n",
    "...\n",
    "\n",
    "# Example call to your function:\n",
    "best_hands(games)"
   ]
  },
  {
   "cell_type": "code",
   "execution_count": 15,
   "metadata": {
    "collapsed": false
   },
   "outputs": [],
   "source": [
    "_ = tests.grade('q4')"
   ]
  },
  {
   "cell_type": "code",
   "execution_count": 16,
   "metadata": {
    "collapsed": false
   },
   "outputs": [],
   "source": [
    "# For your convenience, you can run this cell to run all the tests at once!\n",
    "import os\n",
    "_ = [tests.grade(q[:-3]) for q in os.listdir(\"tests\") if q.startswith('q')]"
   ]
  },
  {
   "cell_type": "code",
   "execution_count": 17,
   "metadata": {
    "collapsed": false
   },
   "outputs": [],
   "source": [
    "# Run this cell to submit your work *after* you have passed all of the test cells.\n",
    "# It's ok to run this cell multiple times. Only your final submission will be scored.\n",
    "\n",
    "!TZ=America/Los_Angeles ipython nbconvert --output=\".finding_sets_$(date +%m%d_%H%M)_submission.html\" finding_sets.ipynb"
   ]
  }
 ],
 "metadata": {
  "celltoolbar": "Edit Metadata",
  "kernelspec": {
   "display_name": "Python 3",
   "language": "python",
   "name": "python3"
  },
  "language_info": {
   "codemirror_mode": {
    "name": "ipython",
    "version": 3
   },
   "file_extension": ".py",
   "mimetype": "text/x-python",
   "name": "python",
   "nbconvert_exporter": "python",
   "pygments_lexer": "ipython3",
   "version": "3.4.5"
  }
 },
 "nbformat": 4,
 "nbformat_minor": 0
}

