{
 "cells": [
  {
   "cell_type": "markdown",
   "metadata": {},
   "source": [
    "## Counting Calories Burned from Exercise"
   ]
  },
  {
   "cell_type": "code",
   "execution_count": 45,
   "metadata": {
    "collapsed": false
   },
   "outputs": [],
   "source": [
    "# Run this cell to set up the notebook, but please don't change it.\n",
    "\n",
    "# These lines import the Numpy and Datascience modules.\n",
    "import numpy as np\n",
    "from datascience import *\n",
    "\n",
    "# These lines load the tests.\n",
    "from client.api.assignment import load_assignment \n",
    "tests = load_assignment('counting_exercise.ok')"
   ]
  },
  {
   "cell_type": "markdown",
   "metadata": {},
   "source": [
    "Suppose you'd like to count how many calories you've burned from exercise.  You do 4 kinds of exercise: yoga, walking, sprinting, and volleyball.  Every day in January, you record how many minutes of each kind of exercise you did that day.  Those data are in a table called `exercise.csv`."
   ]
  },
  {
   "cell_type": "code",
   "execution_count": 46,
   "metadata": {
    "collapsed": false
   },
   "outputs": [],
   "source": [
    "exercise = Table.read_table('exercise.csv')\n",
    "exercise"
   ]
  },
  {
   "cell_type": "markdown",
   "metadata": {},
   "source": [
    "Different forms of exercise burn calories at different rates; for example, sprinting is more vigorous than walking.  Using an online tool (for example, [this one](https://www.healthstatus.com/perl/calculator.cgi)), you've estimated how many calories you typically burn per minute of each kind of exercise.  Those estimates are provided below."
   ]
  },
  {
   "cell_type": "code",
   "execution_count": 48,
   "metadata": {
    "collapsed": false
   },
   "outputs": [],
   "source": [
    "calories_per_minute = Table.read_table('calories_per_minute.csv')\n",
    "cpm_yoga = calories_per_minute.where('Exercise', 'yoga').column(\"Calories per minute\").item(0)\n",
    "cpm_walking = calories_per_minute.where('Exercise', 'walking').column(\"Calories per minute\").item(0)\n",
    "cpm_sprinting = calories_per_minute.where('Exercise', 'sprinting').column(\"Calories per minute\").item(0)\n",
    "cpm_volleyball = calories_per_minute.where('Exercise', 'volleyball').column(\"Calories per minute\").item(0)\n",
    "calories_per_minute"
   ]
  },
  {
   "cell_type": "markdown",
   "metadata": {},
   "source": [
    "To compute the calories you've burned on a particular day, you multiply the time spent on each kind of exercise by the calories burned per minute by that exercise, then add up those 4 numbers.\n",
    "\n",
    "**Question 1.** Write a function called `compute_calories`.  It should take 4 arguments, the amounts of time (in minutes) spent on yoga, walking, sprinting, and volleyball, respectively.  It should return the total number of calories burned."
   ]
  },
  {
   "cell_type": "code",
   "execution_count": null,
   "metadata": {
    "collapsed": true,
    "for_assignment_type": "student"
   },
   "outputs": [],
   "source": [
    "..."
   ]
  },
  {
   "cell_type": "code",
   "execution_count": 49,
   "metadata": {
    "collapsed": true
   },
   "outputs": [],
   "source": [
    "def compute_calories(yoga_time, walking_time, sprinting_time, volleyball_time):\n",
    "    return yoga_time*cpm_yoga\\\n",
    "         + walking_time*cpm_walking\\\n",
    "         + sprinting_time*cpm_sprinting\\\n",
    "         + volleyball_time*cpm_volleyball"
   ]
  },
  {
   "cell_type": "code",
   "execution_count": 50,
   "metadata": {
    "collapsed": false
   },
   "outputs": [],
   "source": [
    "_ = tests.grade('q1')"
   ]
  },
  {
   "cell_type": "markdown",
   "metadata": {},
   "source": [
    "**Question 2.** Make a table called `exercise_with_totals` that's a copy of `exercise`, but with an additional column called \"Total calories burned exercising\".  That column should contain the total number of calories burned from exercise on each day.  Compute that column using `apply` and your `compute_calories` function.\n",
    "\n",
    "*Hint:* If the second argument to `apply` is an array of column names, your function will be called with several arguments, one for each of those columns."
   ]
  },
  {
   "cell_type": "code",
   "execution_count": 51,
   "metadata": {
    "collapsed": false
   },
   "outputs": [],
   "source": [
    "exercise_with_totals = ...\n",
    "exercise_with_totals"
   ]
  },
  {
   "cell_type": "code",
   "execution_count": 52,
   "metadata": {
    "collapsed": false
   },
   "outputs": [],
   "source": [
    "_ = tests.grade('q2')"
   ]
  },
  {
   "cell_type": "markdown",
   "metadata": {},
   "source": [
    "**Question 3.** How many calories were burned from exercise in the 2nd week of January (that is, on days 8 through 14, inclusive)?  Call that number `calories_burned`.  Compute the answer with code, not by looking at the data."
   ]
  },
  {
   "cell_type": "code",
   "execution_count": 53,
   "metadata": {
    "collapsed": false
   },
   "outputs": [],
   "source": [
    "calories_burned = ...\n",
    "calories_burned"
   ]
  },
  {
   "cell_type": "code",
   "execution_count": 54,
   "metadata": {
    "collapsed": false
   },
   "outputs": [],
   "source": [
    "_ = tests.grade('q3')"
   ]
  },
  {
   "cell_type": "code",
   "execution_count": 55,
   "metadata": {
    "collapsed": false
   },
   "outputs": [],
   "source": [
    "# For your convenience, you can run this cell to run all the tests at once!\n",
    "import os\n",
    "_ = [tests.grade(q[:-3]) for q in os.listdir(\"tests\") if q.startswith('q')]"
   ]
  },
  {
   "cell_type": "code",
   "execution_count": null,
   "metadata": {
    "collapsed": false
   },
   "outputs": [],
   "source": [
    "# Run this cell to submit your work *after* you have passed all of the test cells.\n",
    "# It's ok to run this cell multiple times. Only your final submission will be scored.\n",
    "\n",
    "!TZ=America/Los_Angeles ipython nbconvert --output=\".counting_exercise_$(date +%m%d_%H%M)_submission.html\" counting_exercise.ipynb"
   ]
  }
 ],
 "metadata": {
  "kernelspec": {
   "display_name": "Python 3",
   "language": "python",
   "name": "python3"
  },
  "language_info": {
   "codemirror_mode": {
    "name": "ipython",
    "version": 3
   },
   "file_extension": ".py",
   "mimetype": "text/x-python",
   "name": "python",
   "nbconvert_exporter": "python",
   "pygments_lexer": "ipython3",
   "version": "3.4.5"
  }
 },
 "nbformat": 4,
 "nbformat_minor": 0
}

