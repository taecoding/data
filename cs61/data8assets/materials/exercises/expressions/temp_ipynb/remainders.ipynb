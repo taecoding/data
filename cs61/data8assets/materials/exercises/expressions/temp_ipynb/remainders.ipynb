{
 "cells": [
  {
   "cell_type": "markdown",
   "metadata": {},
   "source": [
    "# Computing Remainders"
   ]
  },
  {
   "cell_type": "code",
   "execution_count": null,
   "metadata": {
    "collapsed": true
   },
   "outputs": [],
   "source": [
    "# Run this cell, but please don't change it.\n",
    "\n",
    "# These lines import the Numpy and Datascience modules.\n",
    "import numpy as np\n",
    "from datascience import *\n",
    "\n",
    "# These lines do some fancy plotting magic\n",
    "import matplotlib\n",
    "%matplotlib inline\n",
    "import matplotlib.pyplot as plt\n",
    "plt.style.use('fivethirtyeight')\n",
    "import warnings\n",
    "warnings.simplefilter('ignore', FutureWarning)\n",
    "\n",
    "# These lines load the tests.\n",
    "from client.api.assignment import load_assignment \n",
    "exercise03 = load_assignment('exercise03.ok')"
   ]
  },
  {
   "cell_type": "markdown",
   "metadata": {},
   "source": [
    "**Question 1.** Suppose you have an assignment due 17 days from now, and you want to know what day of the week that is.\n",
    "\n",
    "The number of weeks that pass don't matter, so let's first eliminate them to make the problem easier.  If you divide 17 by 7 (the number of days in a week), the remainder is 3.  That means the assignment is due on the day of the week that's 3 after the current day of the week.\n",
    "\n",
    "In Python, the operator `%` computes remainders, so `17 % 7` is 3.\n",
    "\n",
    "Let's arbitrarily label Sunday as day 0 in the week, Monday as day 1, etc.  If today is a Friday, compute the label of the day that's 34 days after today."
   ]
  },
  {
   "cell_type": "code",
   "execution_count": 2,
   "metadata": {
    "collapsed": false
   },
   "outputs": [],
   "source": [
    "today = 5\n",
    "assignment_day = ...\n",
    "assignment_day"
   ]
  },
  {
   "cell_type": "code",
   "execution_count": null,
   "metadata": {
    "collapsed": false
   },
   "outputs": [],
   "source": [
    "_ = exercise03.grade('q1')"
   ]
  },
  {
   "cell_type": "markdown",
   "metadata": {},
   "source": [
    "**Question 2.** [Halley's comet](https://en.wikipedia.org/wiki/Halley%27s_Comet) last passed near Earth on February 9, 1986, which was a Sunday.  Astronomers have calculated its next pass near Earth will come 27,563 days after that day.  What day of the week will that be?\n",
    "\n",
    "Compute your answer as a label (0 through 6) as in question 1."
   ]
  },
  {
   "cell_type": "code",
   "execution_count": 3,
   "metadata": {
    "collapsed": false
   },
   "outputs": [],
   "source": [
    "halleys_comet_day = ...\n",
    "halleys_comet_day"
   ]
  },
  {
   "cell_type": "code",
   "execution_count": null,
   "metadata": {
    "collapsed": true
   },
   "outputs": [],
   "source": [
    "_ = exercise03.grade('q2')"
   ]
  },
  {
   "cell_type": "markdown",
   "metadata": {},
   "source": [
    "**Question 3.** In an alternate universe, your evil Data8 professor announces at 23:00 (11:00PM) that everyone is assigned a surprise project!  Worse, she says it will be due exactly 55 hours after the announcement.\n",
    "\n",
    "Use the remainder (`%`) operator to help you compute the hour of the day at which the assignment is due.  (For example, the answer `5` would mean 5:00AM, and `15` would mean 3:00PM.)"
   ]
  },
  {
   "cell_type": "code",
   "execution_count": 5,
   "metadata": {
    "collapsed": false
   },
   "outputs": [],
   "source": [
    "assignment_hour = (23 + 55) % 24\n",
    "assignment_hour"
   ]
  },
  {
   "cell_type": "code",
   "execution_count": null,
   "metadata": {
    "collapsed": true
   },
   "outputs": [],
   "source": [
    "_ = exercise03.grade('q3')"
   ]
  },
  {
   "cell_type": "code",
   "execution_count": null,
   "metadata": {
    "collapsed": false
   },
   "outputs": [],
   "source": [
    "# For your convenience, you can run this cell to run all the tests at once!\n",
    "import os\n",
    "_ = [exercise03.grade(q[:-3]) for q in os.listdir(\"tests\") if q.startswith('q')]"
   ]
  },
  {
   "cell_type": "code",
   "execution_count": null,
   "metadata": {
    "collapsed": false
   },
   "outputs": [],
   "source": [
    "# Run this cell to submit your work *after* you have passed all of the test cells.\n",
    "# It's ok to run this cell multiple times. Only your final submission will be scored.\n",
    "\n",
    "!TZ=America/Los_Angeles ipython nbconvert --output=\".exercise03_$(date +%m%d_%H%M)_submission.html\" exercise03.ipynb"
   ]
  }
 ],
 "metadata": {
  "kernelspec": {
   "display_name": "Python 3",
   "language": "python",
   "name": "python3"
  },
  "language_info": {
   "codemirror_mode": {
    "name": "ipython",
    "version": 3
   },
   "file_extension": ".py",
   "mimetype": "text/x-python",
   "name": "python",
   "nbconvert_exporter": "python",
   "pygments_lexer": "ipython3",
   "version": "3.4.4"
  }
 },
 "nbformat": 4,
 "nbformat_minor": 0
}

