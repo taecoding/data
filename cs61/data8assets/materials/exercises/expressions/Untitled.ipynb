{
 "cells": [
  {
   "cell_type": "code",
   "execution_count": 13,
   "metadata": {},
   "outputs": [],
   "source": [
    "# import os\n",
    "\n",
    "# category = 'expr'\n",
    "\n",
    "# for f in os.listdir():\n",
    "#     if os.path.isdir(f) and not f.startswith('.'):\n",
    "#         os.system('zip -r expr.{0}.zip {0}'.format(f))\n",
    "\n",
    "# for i in range(1,13):\n",
    "#     padding = '0' if i < 10 else ''\n",
    "#     folder = 'hw' + padding + str(i)\n",
    "#     os.system('zip -r fa16.{0}.zip {0}'.format(folder))\n",
    "\n",
    "# targetDir = \"/Users/tjung/github.mastertaehee/taecoding.github.io/cs61/data8/{0}\".format(category)\n",
    "# os.system('mkdir ' + makeDir)\n",
    "# cpZips = \"cp -r *.zip {}\".format(targetDir)\n",
    "# os.system(cpZips)\n",
    "\n",
    "# ls /Users/tjung/github.mastertaehee/taecoding.github.io/cs61/data8/expr"
   ]
  },
  {
   "cell_type": "code",
   "execution_count": 7,
   "metadata": {},
   "outputs": [
    {
     "name": "stdout",
     "output_type": "stream",
     "text": [
      "Untitled.ipynb                 expr.subexpressions.zip\r\n",
      "\u001b[34mbasic_arithmetic\u001b[m\u001b[m/              expr.using_subexpressions.zip\r\n",
      "\u001b[34mcalls\u001b[m\u001b[m/                         \u001b[34mnames\u001b[m\u001b[m/\r\n",
      "expr.basic_arithmetic.zip      \u001b[34mremainders\u001b[m\u001b[m/\r\n",
      "expr.calls.zip                 \u001b[34msubexpressions\u001b[m\u001b[m/\r\n",
      "expr.names.zip                 \u001b[34musing_subexpressions\u001b[m\u001b[m/\r\n",
      "expr.remainders.zip\r\n"
     ]
    }
   ],
   "source": [
    "ls"
   ]
  },
  {
   "cell_type": "code",
   "execution_count": 14,
   "metadata": {},
   "outputs": [
    {
     "data": {
      "text/plain": [
       "0"
      ]
     },
     "execution_count": 14,
     "metadata": {},
     "output_type": "execute_result"
    }
   ],
   "source": []
  },
  {
   "cell_type": "code",
   "execution_count": 16,
   "metadata": {},
   "outputs": [
    {
     "data": {
      "text/plain": [
       "'/Users/tjung/github.mastertaehee/taecoding.github.io/cs61/data8/expr'"
      ]
     },
     "execution_count": 16,
     "metadata": {},
     "output_type": "execute_result"
    }
   ],
   "source": [
    "targetDir"
   ]
  },
  {
   "cell_type": "code",
   "execution_count": 17,
   "metadata": {},
   "outputs": [
    {
     "name": "stdout",
     "output_type": "stream",
     "text": [
      "expr.basic_arithmetic.zip      expr.remainders.zip\r\n",
      "expr.calls.zip                 expr.subexpressions.zip\r\n",
      "expr.names.zip                 expr.using_subexpressions.zip\r\n"
     ]
    }
   ],
   "source": []
  },
  {
   "cell_type": "code",
   "execution_count": null,
   "metadata": {},
   "outputs": [],
   "source": []
  }
 ],
 "metadata": {
  "kernelspec": {
   "display_name": "Python [conda env:apollo] *",
   "language": "python",
   "name": "conda-env-apollo-py"
  },
  "language_info": {
   "codemirror_mode": {
    "name": "ipython",
    "version": 3
   },
   "file_extension": ".py",
   "mimetype": "text/x-python",
   "name": "python",
   "nbconvert_exporter": "python",
   "pygments_lexer": "ipython3",
   "version": "3.6.8"
  }
 },
 "nbformat": 4,
 "nbformat_minor": 2
}
