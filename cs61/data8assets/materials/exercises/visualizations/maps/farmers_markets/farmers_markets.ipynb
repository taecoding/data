{
 "cells": [
  {
   "cell_type": "markdown",
   "metadata": {},
   "source": [
    "## Mapping Farmers' Markets"
   ]
  },
  {
   "cell_type": "code",
   "execution_count": 1,
   "metadata": {
    "collapsed": false
   },
   "outputs": [],
   "source": [
    "# Run this cell to set up the notebook, but please don't change it.\n",
    "\n",
    "# These lines import the Numpy and Datascience modules.\n",
    "import numpy as np\n",
    "from datascience import *\n",
    "\n",
    "# These lines do some fancy plotting magic.\n",
    "import matplotlib\n",
    "%matplotlib inline\n",
    "import matplotlib.pyplot as plt\n",
    "plt.style.use('fivethirtyeight')\n",
    "import warnings\n",
    "warnings.simplefilter('ignore', FutureWarning)\n",
    "\n",
    "# These lines load the tests.\n",
    "from client.api.assignment import load_assignment \n",
    "tests = load_assignment('farmers_markets.ok')"
   ]
  },
  {
   "cell_type": "markdown",
   "metadata": {},
   "source": [
    "In this exercise, you'll learn how to place markers on a map.  We'll be plotting the locations of farmers' markets around the United States, using a [dataset](https://apps.ams.usda.gov/FarmersMarketsExport/ExcelExport.aspx) collected by the USDA.\n",
    "\n",
    "The dataset lists the name and location of many farmers' markets.  For some of the markets, it also includes social media links, seasonal hours, and information about the kinds of products sold at the market.  (For those columns, \"Y\" means \"Yes\" and \"N\" means \"No\".)\n",
    "\n",
    "It's important to keep in mind that the dataset includes only farmers' markets that have registered with the USDA, and that all the data are self-reported.\n",
    "\n",
    "**Question 1.** The dataset is in a file called `farmers_markets.csv`.  Load it into a table named `farmers_markets`, and then count:\n",
    "\n",
    "1. the number of farmers' markets in California, and\n",
    "2. the proportion of farmers' markets in Wisconsin that sell cheese."
   ]
  },
  {
   "cell_type": "code",
   "execution_count": 3,
   "metadata": {
    "collapsed": false,
    "scrolled": true
   },
   "outputs": [],
   "source": [
    "farmers_markets = ...\n",
    "farmers_markets.show(5)\n",
    "\n",
    "num_markets_in_california = ...\n",
    "print(\"There are\", num_markets_in_california, \"markets in California.\")\n",
    "\n",
    "proportion_markets_selling_cheese_in_wisconsin = ...\n",
    "print(\"{:.1%} of markets in Wisconsin sell cheese.\".format(proportion_markets_selling_cheese_in_wisconsin))"
   ]
  },
  {
   "cell_type": "code",
   "execution_count": 3,
   "metadata": {
    "collapsed": false
   },
   "outputs": [],
   "source": [
    "_ = tests.grade('q1')"
   ]
  },
  {
   "cell_type": "markdown",
   "metadata": {},
   "source": [
    "The latitude and longitude of each farmer's market are contained in the \"y\" and \"x\" columns, respectively.\n",
    "\n",
    "**Question 2.** Check the documentation for the function `Marker.map`.  The `latitudes` and `longitudes` arguments should be arrays of latitudes and longitudes (numbers).  The first latitude and longitude in those arrays correspond to the first market, and so on.  Use `Marker.map` to draw a map with a marker at the location of every market in the dataset *that's in California*.\n",
    "\n",
    "(You can make a map of the whole United States if you want, but you may have to wait awhile for your computer to draw it.)\n",
    "\n",
    "**Note:** Follow the existing skeleton so that the output of the function call is given the name `simple_map`."
   ]
  },
  {
   "cell_type": "code",
   "execution_count": 4,
   "metadata": {
    "collapsed": false
   },
   "outputs": [],
   "source": [
    "california_markets = ...\n",
    "simple_map = ...\n",
    "simple_map"
   ]
  },
  {
   "cell_type": "code",
   "execution_count": 5,
   "metadata": {
    "collapsed": false
   },
   "outputs": [],
   "source": [
    "_ = tests.grade('q2')"
   ]
  },
  {
   "cell_type": "markdown",
   "metadata": {},
   "source": [
    "This is cool, but not all that useful.  It would be nice, for example, if clicking on the marker for a market showed us the name of the market.\n",
    "\n",
    "**Question 3.** Check the documentation for `Marker.map` again.  The named argument `labels` is an array of strings, one for each marker.  (So it should have the same length as the `latitudes` and `longitudes` arguments.)  Each string will be displayed as the label of each marker.  Make a map of the markets in California, using the names of the markets as labels.  Call it `labeled_map`."
   ]
  },
  {
   "cell_type": "code",
   "execution_count": 5,
   "metadata": {
    "collapsed": false
   },
   "outputs": [],
   "source": [
    "labeled_map = ...\n",
    "labeled_map"
   ]
  },
  {
   "cell_type": "code",
   "execution_count": 6,
   "metadata": {
    "collapsed": false
   },
   "outputs": [],
   "source": [
    "_ = tests.grade('q3')"
   ]
  },
  {
   "cell_type": "markdown",
   "metadata": {},
   "source": [
    "**Question 4.** The Downtown Berkeley Farmers' Market is located at the intersection of two streets.  (Actually, it takes up more space than that, so the marker is slightly misleading!)  Use `Marker.map` to find those two streets."
   ]
  },
  {
   "cell_type": "code",
   "execution_count": null,
   "metadata": {
    "collapsed": true,
    "for_assignment_type": "student"
   },
   "outputs": [],
   "source": [
    "# Use this cell to write code that helps you find the streets."
   ]
  },
  {
   "cell_type": "code",
   "execution_count": 110,
   "metadata": {
    "collapsed": true
   },
   "outputs": [],
   "source": [
    "# Fill in the names of the two streets here.\n",
    "north_south_street = ...\n",
    "east_west_street = ..."
   ]
  },
  {
   "cell_type": "code",
   "execution_count": 111,
   "metadata": {
    "collapsed": false
   },
   "outputs": [],
   "source": [
    "_ = tests.grade('q4')"
   ]
  },
  {
   "cell_type": "code",
   "execution_count": null,
   "metadata": {
    "collapsed": false
   },
   "outputs": [],
   "source": [
    "# For your convenience, you can run this cell to run all the tests at once!\n",
    "import os\n",
    "_ = [tests.grade(q[:-3]) for q in os.listdir(\"tests\") if q.startswith('q')]"
   ]
  },
  {
   "cell_type": "code",
   "execution_count": null,
   "metadata": {
    "collapsed": false
   },
   "outputs": [],
   "source": [
    "# Run this cell to submit your work *after* you have passed all of the test cells.\n",
    "# It's ok to run this cell multiple times. Only your final submission will be scored.\n",
    "\n",
    "!TZ=America/Los_Angeles ipython nbconvert --output=\".farmers_markets_$(date +%m%d_%H%M)_submission.html\" farmers_markets.ipynb"
   ]
  }
 ],
 "metadata": {
  "celltoolbar": "Edit Metadata",
  "kernelspec": {
   "display_name": "Python 3",
   "language": "python",
   "name": "python3"
  },
  "language_info": {
   "codemirror_mode": {
    "name": "ipython",
    "version": 3
   },
   "file_extension": ".py",
   "mimetype": "text/x-python",
   "name": "python",
   "nbconvert_exporter": "python",
   "pygments_lexer": "ipython3",
   "version": "3.4.5"
  }
 },
 "nbformat": 4,
 "nbformat_minor": 0
}

