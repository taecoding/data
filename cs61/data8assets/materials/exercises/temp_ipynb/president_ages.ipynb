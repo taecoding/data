{
 "cells": [
  {
   "cell_type": "markdown",
   "metadata": {},
   "source": [
    "## All the Presidents' Ages"
   ]
  },
  {
   "cell_type": "code",
   "execution_count": 1,
   "metadata": {
    "collapsed": false
   },
   "outputs": [],
   "source": [
    "# Run this cell to set up the notebook, but please don't change it.\n",
    "\n",
    "# These lines import the Numpy and Datascience modules.\n",
    "import numpy as np\n",
    "from datascience import *\n",
    "\n",
    "# These lines do some fancy plotting magic\n",
    "import matplotlib\n",
    "%matplotlib inline\n",
    "import matplotlib.pyplot as plt\n",
    "plt.style.use('fivethirtyeight')\n",
    "import warnings\n",
    "warnings.simplefilter('ignore', FutureWarning)\n",
    "\n",
    "# These lines load the tests.\n",
    "from client.api.assignment import load_assignment \n",
    "tests = load_assignment('president_ages.ok')"
   ]
  },
  {
   "cell_type": "markdown",
   "metadata": {},
   "source": [
    "As of this writing, the US has had 43 Presidents, and 38 are deceased.  Let's figure out how long they lived.\n",
    "\n",
    "First, a note.  These exercises are designed to give you practice *computing with arrays*.  Since there are only 38 Presidents, you could avoid using arrays by copying each computation 38 times.  You wouldn't learn much, so don't do that.\n",
    "\n",
    "Our data from [PresidentsUSA.net](http://www.presidentsusa.net/birth.html) tell us the birth and death date of each President.  The cell below loads these data, along with the Presidents' names.  (We've used a table for presentation purposes; you don't need to know about tables to do this exercise.)\n",
    "\n",
    "Note that the Presidents are presented in order by *birth date*, so for example John F. Kennedy (President from 1961-1963) comes after Richard M. Nixon (President from 1969-1974) because he was born earlier."
   ]
  },
  {
   "cell_type": "code",
   "execution_count": 2,
   "metadata": {
    "collapsed": false
   },
   "outputs": [],
   "source": [
    "# Just run this cell.\n",
    "\n",
    "presidents = Table.read_table(\"presidents.csv\").select(\"Name\", \"Birth Year\", \"Death Year\")\n",
    "# This is an array of the birth years of the dead presidents.  It's the data\n",
    "# you see displayed in the \"Birth Year\" column below.\n",
    "birth_years = presidents.column(\"Birth Year\")\n",
    "# This is an array of the death years of the dead presidents.  It's the data\n",
    "# you see displayed in the \"Death Year\" column below.  The first element of\n",
    "# this array describes the same president as the first element of birth_years,\n",
    "# and so on.\n",
    "death_years = presidents.column(\"Death Year\")\n",
    "presidents.show()"
   ]
  },
  {
   "cell_type": "markdown",
   "metadata": {},
   "source": [
    "**Question 1.** Compute the number of years between each President's birth and death (their longevity).  Put your answers in an array called `longevity`.  The first item of `longevity` should be the longevity of the first president in `dead_presidents_years`, and so on.  Use the arrays `death_years` and `birth_years`, which are loaded in the cell above."
   ]
  },
  {
   "cell_type": "code",
   "execution_count": 3,
   "metadata": {
    "collapsed": false
   },
   "outputs": [],
   "source": [
    "longevity = ...\n",
    "\n",
    "# This piece of code puts your results into a table for better\n",
    "# display.  You can ignore it.\n",
    "presidents.with_column(\"Longevity\", longevity).show()"
   ]
  },
  {
   "cell_type": "code",
   "execution_count": 4,
   "metadata": {
    "collapsed": false
   },
   "outputs": [],
   "source": [
    "_ = tests.grade('q1')"
   ]
  },
  {
   "cell_type": "markdown",
   "metadata": {},
   "source": [
    "Below, we've plotted the longevity of each president, which you just computed."
   ]
  },
  {
   "cell_type": "code",
   "execution_count": 5,
   "metadata": {
    "collapsed": false
   },
   "outputs": [],
   "source": [
    "# Just run this cell.\n",
    "Table().with_columns(\n",
    "        \"President number (by birth date)\", np.arange(1, presidents.num_rows+1),\n",
    "        \"longevity (years)\", longevity)\\\n",
    "    .scatter(0)"
   ]
  },
  {
   "cell_type": "markdown",
   "metadata": {},
   "source": [
    "**Question 2.** Suppose each President were [still alive](http://futurama.wikia.com/wiki/Richard_M._Nixon's_head) in 2016.  How old would each one be?"
   ]
  },
  {
   "cell_type": "code",
   "execution_count": 6,
   "metadata": {
    "collapsed": false
   },
   "outputs": [],
   "source": [
    "ages_today = ...\n",
    "\n",
    "# This piece of code puts your results into a table for better\n",
    "# display.  You can ignore it.\n",
    "presidents.with_column(\"Age Today\", ages_today).show()"
   ]
  },
  {
   "cell_type": "code",
   "execution_count": 7,
   "metadata": {
    "collapsed": false
   },
   "outputs": [],
   "source": [
    "_ = tests.grade('q2')"
   ]
  },
  {
   "cell_type": "markdown",
   "metadata": {},
   "source": [
    "**Question 3.** A colleague points out that John Adams died at age 90, but your answer to Question 1 probably says that he lived 91 years!  John Adams was born October 30, 1735, and died July 4, 1826.  Explain the discrepancy."
   ]
  },
  {
   "cell_type": "markdown",
   "metadata": {},
   "source": [
    "*Write your answer here, replacing this text.*"
   ]
  },
  {
   "cell_type": "markdown",
   "metadata": {},
   "source": [
    "Let's fix this.  Below, we've loaded a more precise dataset.  Instead of just birth year and death year, we also have the number of *days* that passed since January 1 of those years.  If someone was born on the 200th day of the year and died on the 100th day of the year, then their birthday hadn't already passed, so we should decrease their longevity by 1."
   ]
  },
  {
   "cell_type": "code",
   "execution_count": 8,
   "metadata": {
    "collapsed": false
   },
   "outputs": [],
   "source": [
    "# Just run this cell.\n",
    "detailed_ages = Table.read_table(\"presidents.csv\").select(\"Name\", \"Birth Year\", \"Days since January 1 at Birth\", \"Death Year\", \"Days since January 1 at Death\")\n",
    "birth_days = detailed_ages.column(\"Days since January 1 at Birth\")\n",
    "death_days = detailed_ages.column(\"Days since January 1 at Death\")\n",
    "detailed_ages"
   ]
  },
  {
   "cell_type": "markdown",
   "metadata": {},
   "source": [
    "**Question 4.** For each President, compute how many more days passed before their death in their year of death than before their birth in their year of birth.  For example, that number for George Washington is 295, and for John Adams it's -118.  We'll call this number the \"net additional life days.\""
   ]
  },
  {
   "cell_type": "code",
   "execution_count": 9,
   "metadata": {
    "collapsed": false
   },
   "outputs": [],
   "source": [
    "net_additional_life_days = death_days - birth_days\n",
    "\n",
    "# This piece of code puts your results into a table for better\n",
    "# display.  You can ignore it.\n",
    "detailed_ages.with_column(\"Net Additional Life Days\", net_additional_life_days)"
   ]
  },
  {
   "cell_type": "code",
   "execution_count": 10,
   "metadata": {
    "collapsed": false
   },
   "outputs": [],
   "source": [
    "_ = tests.grade('q4')"
   ]
  },
  {
   "cell_type": "markdown",
   "metadata": {},
   "source": [
    "To get each President's actual age at death, we should subtract 1 from the longevity of Presidents whose net additional life days are negative.  One way to do this is:\n",
    "\n",
    "* Divide each net additional life day amount by 366 to get a fraction of a year.\n",
    "* Round each fraction down to the nearest integer, using the function `np.floor`.  (`np.floor` takes as its argument an array of numbers.  It returns an array of those numbers rounded down to the nearest integer.)\n",
    "* Add the result to each President's longevity.\n",
    "\n",
    "**Question 5.** Compute each President's actual longevity by following the steps above.\n",
    "\n",
    "*Hint 1:* Use the arrays you've already calculated in previous questions.\n",
    "\n",
    "*Hint 2:* Our answer uses a single line with a compound expression, but you may find it simpler to perform each of the three steps on its own line, giving a name to each intermediate result so you can use it on the next line."
   ]
  },
  {
   "cell_type": "code",
   "execution_count": 11,
   "metadata": {
    "collapsed": false
   },
   "outputs": [],
   "source": [
    "true_longevity = ...\n",
    "\n",
    "# This piece of code puts your results into a table for better\n",
    "# display.  You can ignore it.\n",
    "detailed_ages.with_column(\"True Longevity\", true_longevity).show()"
   ]
  },
  {
   "cell_type": "code",
   "execution_count": 12,
   "metadata": {
    "collapsed": false
   },
   "outputs": [],
   "source": [
    "_ = tests.grade('q5')"
   ]
  },
  {
   "cell_type": "code",
   "execution_count": 13,
   "metadata": {
    "collapsed": false
   },
   "outputs": [],
   "source": [
    "# For your convenience, you can run this cell to run all the tests at once!\n",
    "import os\n",
    "_ = [tests.grade(q[:-3]) for q in os.listdir(\"tests\") if q.startswith('q')]"
   ]
  },
  {
   "cell_type": "code",
   "execution_count": 14,
   "metadata": {
    "collapsed": false
   },
   "outputs": [],
   "source": [
    "# Run this cell to submit your work *after* you have passed all of the test cells.\n",
    "# It's ok to run this cell multiple times. Only your final submission will be scored.\n",
    "\n",
    "!TZ=America/Los_Angeles ipython nbconvert --output=\".president_ages_$(date +%m%d_%H%M)_submission.html\" president_ages.ipynb"
   ]
  }
 ],
 "metadata": {
  "kernelspec": {
   "display_name": "Python 3",
   "language": "python",
   "name": "python3"
  },
  "language_info": {
   "codemirror_mode": {
    "name": "ipython",
    "version": 3
   },
   "file_extension": ".py",
   "mimetype": "text/x-python",
   "name": "python",
   "nbconvert_exporter": "python",
   "pygments_lexer": "ipython3",
   "version": "3.4.5"
  }
 },
 "nbformat": 4,
 "nbformat_minor": 0
}

