{
 "cells": [
  {
   "cell_type": "markdown",
   "metadata": {},
   "source": [
    "## Writing Documentation for Functions"
   ]
  },
  {
   "cell_type": "code",
   "execution_count": 34,
   "metadata": {},
   "outputs": [],
   "source": [
    "# Run this cell to set up the notebook, but please don't change it.\n",
    "\n",
    "# These lines import the Numpy and Datascience modules.\n",
    "import numpy as np\n",
    "from datascience import *"
   ]
  },
  {
   "cell_type": "markdown",
   "metadata": {},
   "source": [
    "When you want to figure out how to use a function, typing its name and a question mark in a code cell (and then running the cell) will show you its *documentation*.  It's a good idea to write documentation for the functions you write, too.  This exercise will give you practice with that.\n",
    "\n",
    "**Question 1.** The function below does something interesting, but it's been left without documentation.  Figure out what it does by calling it.  (We've given three example calls to get you started.)  Then write documentation that would help someone understand what the function does.  At a minimum, you should describe:\n",
    "\n",
    "* what the function does, in one short sentence;\n",
    "* the purpose and type of each argument; and\n",
    "* what the function returns.\n",
    "\n",
    "You can follow the [NumPy guidelines for documenting functions](http://sphinxcontrib-napoleon.readthedocs.io/en/latest/example_numpy.html) if you like.\n",
    "\n",
    "**Note:** To complete this exercise, you need to be able to hear audio output from the device you're using."
   ]
  },
  {
   "cell_type": "code",
   "execution_count": null,
   "metadata": {
    "collapsed": true,
    "for_assignment_type": "student"
   },
   "outputs": [],
   "source": [
    "def mystery_function(arg0, arg1, arg2):\n",
    "    \"\"\"\n",
    "    Documentation goes here.\n",
    "    \"\"\"\n",
    "    v = 10000\n",
    "    w = v*arg2\n",
    "    x = np.linspace(arg0, arg1, w)\n",
    "    y = np.cumsum(x) / v\n",
    "    z = np.sin(2*np.pi*y)\n",
    "    from IPython.display import Audio\n",
    "    return Audio(z, rate=v)"
   ]
  },
  {
   "cell_type": "code",
   "execution_count": 28,
   "metadata": {},
   "outputs": [],
   "source": [
    "mystery_function(440, 220, 2)"
   ]
  },
  {
   "cell_type": "code",
   "execution_count": 32,
   "metadata": {},
   "outputs": [],
   "source": [
    "mystery_function(220, 440, 2)"
   ]
  },
  {
   "cell_type": "code",
   "execution_count": 33,
   "metadata": {},
   "outputs": [],
   "source": [
    "mystery_function(220, 440, 4)"
   ]
  },
  {
   "cell_type": "code",
   "execution_count": null,
   "metadata": {},
   "outputs": [],
   "source": [
    "# For your convenience, you can run this cell to run all the tests at once!\n",
    "import os\n",
    "_ = [tests.grade(q[:-3]) for q in os.listdir(\"tests\") if q.startswith('q')]"
   ]
  },
  {
   "cell_type": "code",
   "execution_count": null,
   "metadata": {},
   "outputs": [],
   "source": [
    "# Run this cell to submit your work *after* you have passed all of the test cells.\n",
    "# It's ok to run this cell multiple times. Only your final submission will be scored.\n",
    "\n",
    "!TZ=America/Los_Angeles ipython nbconvert --output=\".writing_documentation_$(date +%m%d_%H%M)_submission.html\" writing_documentation.ipynb"
   ]
  }
 ],
 "metadata": {
  "celltoolbar": "Edit Metadata",
  "kernelspec": {
   "display_name": "Python 3",
   "language": "python",
   "name": "python3"
  },
  "language_info": {
   "codemirror_mode": {
    "name": "ipython",
    "version": 3
   },
   "file_extension": ".py",
   "mimetype": "text/x-python",
   "name": "python",
   "nbconvert_exporter": "python",
   "pygments_lexer": "ipython3",
   "version": "3.6.8"
  }
 },
 "nbformat": 4,
 "nbformat_minor": 1
}
