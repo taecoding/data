{
 "cells": [
  {
   "cell_type": "code",
   "execution_count": 2,
   "metadata": {},
   "outputs": [],
   "source": [
    "import os"
   ]
  },
  {
   "cell_type": "code",
   "execution_count": 3,
   "metadata": {},
   "outputs": [],
   "source": [
    "def createFolderToZips(rootDir):\n",
    "    folders = os.listdir(rootDir)\n",
    "    \n",
    "    for folder in folders:\n",
    "        folderPath = os.path.join(rootDir, folder)\n",
    "        if os.path.isdir(folderPath) and not folder.startswith('.'):\n",
    "            os.system('cd {0}; zip -r {1}.zip {1}'.format(rootDir, folder))\n",
    "\n",
    "for dir in os.listdir():\n",
    "    if os.path.isdir(dir) and not dir.startswith('.'):\n",
    "        createFolderToZips(dir)"
   ]
  },
  {
   "cell_type": "code",
   "execution_count": 4,
   "metadata": {},
   "outputs": [],
   "source": [
    "for dir in os.listdir():\n",
    "    if os.path.isdir(dir) and not dir.startswith('.'):\n",
    "        targetDir = \"/Users/tjung/github.mastertaehee/taecoding.github.io/cs61/data8/{0}\".format(dir)\n",
    "        os.system('mkdir ' + targetDir)\n",
    "        cpZips = \"cp -r {0}/*.zip {1}\".format(dir, targetDir)\n",
    "        os.system(cpZips)      "
   ]
  },
  {
   "cell_type": "code",
   "execution_count": 30,
   "metadata": {},
   "outputs": [],
   "source": [
    "\n",
    "def createZips(dir):\n",
    "    \n",
    "    for f in os.listdir(dir):\n",
    "        fpath = os.path.abspath(f)\n",
    "        print(os.path.isdir(fpath))\n",
    "#         if os.path.isdir(fpath) and not fpath.startswith('.'):\n",
    "#             print(fpath)\n",
    "#             print('zip -r {0}.{1}.zip {1}'.format(category, f))    \n",
    "\n",
    "# category = 'function'\n",
    "\n",
    "# for f in os.listdir():\n",
    "#     if os.path.isdir(f) and not f.startswith('.'):\n",
    "#         os.system('zip -r {0}.{1}.zip {1}'.format(category, f))\n",
    "\n",
    "# targetDir = \"/Users/tjung/github.mastertaehee/taecoding.github.io/cs61/data8/{0}\".format(category)\n",
    "# os.system('mkdir ' + targetDir)\n",
    "# cpZips = \"cp -r *.zip {}\".format(targetDir)\n",
    "# os.system(cpZips)\n",
    "\n",
    "# ls /Users/tjung/github.mastertaehee/taecoding.github.io/cs61/data8/expr"
   ]
  },
  {
   "cell_type": "code",
   "execution_count": 31,
   "metadata": {},
   "outputs": [
    {
     "name": "stdout",
     "output_type": "stream",
     "text": [
      "False\n",
      "False\n",
      "False\n",
      "False\n",
      "False\n",
      "False\n",
      "False\n",
      "False\n",
      "False\n",
      "False\n",
      "False\n",
      "False\n",
      "False\n"
     ]
    }
   ],
   "source": [
    "createZips('./arrays')"
   ]
  },
  {
   "cell_type": "code",
   "execution_count": 32,
   "metadata": {},
   "outputs": [
    {
     "data": {
      "text/plain": [
       "['.DS_Store',\n",
       " 'basic_array_arithmetic',\n",
       " 'basic_array_arithmetic.zip',\n",
       " 'creating_arrays',\n",
       " 'creating_arrays.zip',\n",
       " 'indexing_arrays',\n",
       " 'indexing_arrays.zip',\n",
       " 'more_universities',\n",
       " 'more_universities.zip',\n",
       " 'president_ages',\n",
       " 'president_ages.zip',\n",
       " 'ranges',\n",
       " 'ranges.zip']"
      ]
     },
     "execution_count": 32,
     "metadata": {},
     "output_type": "execute_result"
    }
   ],
   "source": [
    "os.listdir('arrays')"
   ]
  },
  {
   "cell_type": "code",
   "execution_count": 80,
   "metadata": {},
   "outputs": [],
   "source": [
    "def createFolderToZips(rootDir):\n",
    "    folders = os.listdir(rootDir)\n",
    "    \n",
    "    for folder in folders:\n",
    "        folderPath = os.path.join(rootDir, folder)\n",
    "        if os.path.isdir(folderPath) and not folder.startwith('.'):\n",
    "            os.system('cd {0}; zip -r {0}.{1}.zip {1}'.format(rootDir, folder, folderPath))"
   ]
  },
  {
   "cell_type": "code",
   "execution_count": 78,
   "metadata": {},
   "outputs": [],
   "source": [
    "createFolderToZips('arrays')"
   ]
  },
  {
   "cell_type": "code",
   "execution_count": 79,
   "metadata": {},
   "outputs": [
    {
     "name": "stdout",
     "output_type": "stream",
     "text": [
      "arrays.basic_array_arithmetic.zip  \u001b[34mbasic_array_arithmetic\u001b[m\u001b[m/\r\n",
      "arrays.creating_arrays.zip         \u001b[34mcreating_arrays\u001b[m\u001b[m/\r\n",
      "arrays.indexing_arrays.zip         \u001b[34mindexing_arrays\u001b[m\u001b[m/\r\n",
      "arrays.more_universities.zip       \u001b[34mmore_universities\u001b[m\u001b[m/\r\n",
      "arrays.president_ages.zip          \u001b[34mpresident_ages\u001b[m\u001b[m/\r\n",
      "arrays.ranges.zip                  \u001b[34mranges\u001b[m\u001b[m/\r\n"
     ]
    }
   ],
   "source": [
    "ls arrays"
   ]
  },
  {
   "cell_type": "code",
   "execution_count": 56,
   "metadata": {},
   "outputs": [],
   "source": [
    "mkdir temp"
   ]
  },
  {
   "cell_type": "code",
   "execution_count": 57,
   "metadata": {},
   "outputs": [],
   "source": [
    "cp arrays.basic_array_arithmetic.zip temp"
   ]
  },
  {
   "cell_type": "code",
   "execution_count": 58,
   "metadata": {},
   "outputs": [
    {
     "name": "stdout",
     "output_type": "stream",
     "text": [
      "arrays.basic_array_arithmetic.zip\r\n"
     ]
    }
   ],
   "source": [
    "ls temp"
   ]
  },
  {
   "cell_type": "code",
   "execution_count": 59,
   "metadata": {},
   "outputs": [
    {
     "name": "stdout",
     "output_type": "stream",
     "text": [
      "/Users/tjung/gitlab.taecoding/tae-public/data/cs61/data8assets/materials/exercises/temp\n"
     ]
    }
   ],
   "source": [
    "cd temp"
   ]
  },
  {
   "cell_type": "code",
   "execution_count": 62,
   "metadata": {},
   "outputs": [
    {
     "name": "stdout",
     "output_type": "stream",
     "text": [
      "Archive:  arrays.basic_array_arithmetic.zip\n",
      "   creating: arrays/basic_array_arithmetic/\n",
      "   creating: arrays/basic_array_arithmetic/.ipynb_checkpoints/\n",
      "  inflating: arrays/basic_array_arithmetic/.ipynb_checkpoints/basic_array_arithmetic-checkpoint.ipynb  \n",
      "  inflating: arrays/basic_array_arithmetic/basic_array_arithmetic.ipynb  \n",
      "  inflating: arrays/basic_array_arithmetic/basic_array_arithmetic.ok  \n",
      "  inflating: arrays/basic_array_arithmetic/temperatures.csv  \n",
      "   creating: arrays/basic_array_arithmetic/tests/\n",
      " extracting: arrays/basic_array_arithmetic/tests/__init__.py  \n",
      "  inflating: arrays/basic_array_arithmetic/tests/q1.py  \n",
      "  inflating: arrays/basic_array_arithmetic/tests/q2.py  \n",
      "  inflating: arrays/basic_array_arithmetic/tests/q3.py  \n",
      "  inflating: arrays/basic_array_arithmetic/tests/q4.py  \n",
      "  inflating: arrays/basic_array_arithmetic/tests/q5.py  \n",
      " extracting: arrays/basic_array_arithmetic/tests.zip  \n"
     ]
    }
   ],
   "source": [
    "!unzip arrays.basic_array_arithmetic.zip"
   ]
  },
  {
   "cell_type": "code",
   "execution_count": 63,
   "metadata": {},
   "outputs": [
    {
     "name": "stdout",
     "output_type": "stream",
     "text": [
      "\u001b[34marrays\u001b[m\u001b[m/                            arrays.basic_array_arithmetic.zip\r\n"
     ]
    }
   ],
   "source": [
    "ls"
   ]
  },
  {
   "cell_type": "code",
   "execution_count": 64,
   "metadata": {},
   "outputs": [
    {
     "name": "stdout",
     "output_type": "stream",
     "text": [
      "\u001b[34mbasic_array_arithmetic\u001b[m\u001b[m/\r\n"
     ]
    }
   ],
   "source": [
    "ls arrays/"
   ]
  },
  {
   "cell_type": "code",
   "execution_count": null,
   "metadata": {},
   "outputs": [],
   "source": []
  }
 ],
 "metadata": {
  "kernelspec": {
   "display_name": "Python [conda env:apollo] *",
   "language": "python",
   "name": "conda-env-apollo-py"
  },
  "language_info": {
   "codemirror_mode": {
    "name": "ipython",
    "version": 3
   },
   "file_extension": ".py",
   "mimetype": "text/x-python",
   "name": "python",
   "nbconvert_exporter": "python",
   "pygments_lexer": "ipython3",
   "version": "3.6.8"
  }
 },
 "nbformat": 4,
 "nbformat_minor": 2
}
