{
 "cells": [
  {
   "cell_type": "markdown",
   "metadata": {},
   "source": [
    "# Functions and Visualizations"
   ]
  },
  {
   "cell_type": "markdown",
   "metadata": {},
   "source": [
    "In the past week, you've learned a lot about using tables to work with datasets.  With your tools so far, you can:\n",
    "\n",
    "1. Load a dataset from the web;\n",
    "2. Work with (extract, add, drop, relabel) columns from the dataset;\n",
    "3. Filter and sort it according to certain criteria;\n",
    "4. Perform arithmetic on columns of numbers;\n",
    "5. Group rows by columns of categories, counting the number of rows in each category;\n",
    "6. Make a bar chart of the categories.\n",
    "\n",
    "These tools are fairly powerful, but they're not quite enough for all the analysis and data we'll eventually be doing in this course.  Today we'll learn a tool that dramatically expands this toolbox: the table method `apply`.  We'll also see how to make histograms, which are like bar charts for numerical data."
   ]
  },
  {
   "cell_type": "code",
   "execution_count": 1,
   "metadata": {},
   "outputs": [
    {
     "name": "stdout",
     "output_type": "stream",
     "text": [
      "=====================================================================\n",
      "Assignment: Functions and Visualizations\n",
      "OK, version v1.14.15\n",
      "=====================================================================\n",
      "\n"
     ]
    }
   ],
   "source": [
    "# Run this cell to set up the notebook, but please don't change it.\n",
    "\n",
    "# These lines import the Numpy and Datascience modules.\n",
    "import numpy as np\n",
    "from datascience import *\n",
    "\n",
    "# These lines do some fancy plotting magic.\n",
    "import matplotlib\n",
    "%matplotlib inline\n",
    "import matplotlib.pyplot as plt\n",
    "plt.style.use('fivethirtyeight')\n",
    "import warnings\n",
    "warnings.simplefilter('ignore', FutureWarning)\n",
    "\n",
    "# These lines load the tests.\n",
    "from client.api.assignment import load_assignment \n",
    "tests = load_assignment('lab04.ok')"
   ]
  },
  {
   "cell_type": "markdown",
   "metadata": {},
   "source": [
    "## 1. Functions and CEO Incomes\n",
    "##### In Which We Write Down a Recipe for Cake\n",
    "\n",
    "Let's start with a real data analysis task.  We'll look at the 2015 compensation of CEOs at the 100 largest companies in California.  The data were compiled for a Los Angeles Times analysis [here](http://spreadsheets.latimes.com/california-ceo-compensation/), and ultimately came from [filings](https://www.sec.gov/answers/proxyhtf.htm) mandated by the SEC from all publicly-traded companies.  Two companies have two CEOs, so there are 102 CEOs in the dataset.\n",
    "\n",
    "We've copied the data in raw form from the LA Times page into a file called `raw_compensation.csv`.  (The page notes that all dollar amounts are in millions of dollars.)"
   ]
  },
  {
   "cell_type": "code",
   "execution_count": 2,
   "metadata": {},
   "outputs": [
    {
     "data": {
      "text/html": [
       "<table border=\"1\" class=\"dataframe\">\n",
       "    <thead>\n",
       "        <tr>\n",
       "            <th>Rank</th> <th>Name</th> <th>Company (Headquarters)</th> <th>Total Pay</th> <th>% Change</th> <th>Cash Pay</th> <th>Equity Pay</th> <th>Other Pay</th> <th>Ratio of CEO pay to average industry worker pay</th>\n",
       "        </tr>\n",
       "    </thead>\n",
       "    <tbody>\n",
       "        <tr>\n",
       "            <td>1   </td> <td>Mark V. Hurd*     </td> <td>Oracle (Redwood City)         </td> <td>$53.25   </td> <td>(No previous year)</td> <td>$0.95   </td> <td>$52.27    </td> <td>$0.02    </td> <td>362                                            </td>\n",
       "        </tr>\n",
       "        <tr>\n",
       "            <td>2   </td> <td>Safra A. Catz*    </td> <td>Oracle (Redwood City)         </td> <td>$53.24   </td> <td>(No previous year)</td> <td>$0.95   </td> <td>$52.27    </td> <td>$0.02    </td> <td>362                                            </td>\n",
       "        </tr>\n",
       "        <tr>\n",
       "            <td>3   </td> <td>Robert A. Iger    </td> <td>Walt Disney (Burbank)         </td> <td>$44.91   </td> <td>-3%               </td> <td>$24.89  </td> <td>$17.28    </td> <td>$2.74    </td> <td>477                                            </td>\n",
       "        </tr>\n",
       "        <tr>\n",
       "            <td>4   </td> <td>Marissa A. Mayer  </td> <td>Yahoo! (Sunnyvale)            </td> <td>$35.98   </td> <td>-15%              </td> <td>$1.00   </td> <td>$34.43    </td> <td>$0.55    </td> <td>342                                            </td>\n",
       "        </tr>\n",
       "        <tr>\n",
       "            <td>5   </td> <td>Marc Benioff      </td> <td>salesforce.com (San Francisco)</td> <td>$33.36   </td> <td>-16%              </td> <td>$4.65   </td> <td>$27.26    </td> <td>$1.45    </td> <td>338                                            </td>\n",
       "        </tr>\n",
       "        <tr>\n",
       "            <td>6   </td> <td>John H. Hammergren</td> <td>McKesson (San Francisco)      </td> <td>$24.84   </td> <td>-4%               </td> <td>$12.10  </td> <td>$12.37    </td> <td>$0.37    </td> <td>222                                            </td>\n",
       "        </tr>\n",
       "        <tr>\n",
       "            <td>7   </td> <td>John S. Watson    </td> <td>Chevron (San Ramon)           </td> <td>$22.04   </td> <td>-15%              </td> <td>$4.31   </td> <td>$14.68    </td> <td>$3.05    </td> <td>183                                            </td>\n",
       "        </tr>\n",
       "        <tr>\n",
       "            <td>8   </td> <td>Jeffrey Weiner    </td> <td>LinkedIn (Mountain View)      </td> <td>$19.86   </td> <td>27%               </td> <td>$2.47   </td> <td>$17.26    </td> <td>$0.13    </td> <td>182                                            </td>\n",
       "        </tr>\n",
       "        <tr>\n",
       "            <td>9   </td> <td>John T. Chambers**</td> <td>Cisco Systems (San Jose)      </td> <td>$19.62   </td> <td>19%               </td> <td>$5.10   </td> <td>$14.51    </td> <td>$0.01    </td> <td>170                                            </td>\n",
       "        </tr>\n",
       "        <tr>\n",
       "            <td>10  </td> <td>John G. Stumpf    </td> <td>Wells Fargo  (San Francisco)  </td> <td>$19.32   </td> <td>-10%              </td> <td>$6.80   </td> <td>$12.50    </td> <td>$0.02    </td> <td>256                                            </td>\n",
       "        </tr>\n",
       "    </tbody>\n",
       "</table>\n",
       "<p>... (92 rows omitted)</p>"
      ],
      "text/plain": [
       "Rank | Name               | Company (Headquarters)         | Total Pay | % Change           | Cash Pay | Equity Pay | Other Pay | Ratio of CEO pay to average industry worker pay\n",
       "1    | Mark V. Hurd*      | Oracle (Redwood City)          | $53.25    | (No previous year) | $0.95    | $52.27     | $0.02     | 362\n",
       "2    | Safra A. Catz*     | Oracle (Redwood City)          | $53.24    | (No previous year) | $0.95    | $52.27     | $0.02     | 362\n",
       "3    | Robert A. Iger     | Walt Disney (Burbank)          | $44.91    | -3%                | $24.89   | $17.28     | $2.74     | 477\n",
       "4    | Marissa A. Mayer   | Yahoo! (Sunnyvale)             | $35.98    | -15%               | $1.00    | $34.43     | $0.55     | 342\n",
       "5    | Marc Benioff       | salesforce.com (San Francisco) | $33.36    | -16%               | $4.65    | $27.26     | $1.45     | 338\n",
       "6    | John H. Hammergren | McKesson (San Francisco)       | $24.84    | -4%                | $12.10   | $12.37     | $0.37     | 222\n",
       "7    | John S. Watson     | Chevron (San Ramon)            | $22.04    | -15%               | $4.31    | $14.68     | $3.05     | 183\n",
       "8    | Jeffrey Weiner     | LinkedIn (Mountain View)       | $19.86    | 27%                | $2.47    | $17.26     | $0.13     | 182\n",
       "9    | John T. Chambers** | Cisco Systems (San Jose)       | $19.62    | 19%                | $5.10    | $14.51     | $0.01     | 170\n",
       "10   | John G. Stumpf     | Wells Fargo  (San Francisco)   | $19.32    | -10%               | $6.80    | $12.50     | $0.02     | 256\n",
       "... (92 rows omitted)"
      ]
     },
     "execution_count": 2,
     "metadata": {},
     "output_type": "execute_result"
    }
   ],
   "source": [
    "raw_compensation = Table.read_table('raw_compensation.csv')\n",
    "raw_compensation"
   ]
  },
  {
   "cell_type": "markdown",
   "metadata": {},
   "source": [
    "**Question 1.** When we first loaded this dataset, we tried to compute the average of the CEOs' pay like this:\n",
    "\n",
    "    np.average(raw_compensation.column(\"Total Pay\"))\n",
    "\n",
    "Explain why that didn't work.  *Hint:* Try looking at some of the values in the \"Total Pay\" column."
   ]
  },
  {
   "cell_type": "markdown",
   "metadata": {},
   "source": [
    "*Write your answer here, replacing this text.*"
   ]
  },
  {
   "cell_type": "code",
   "execution_count": 6,
   "metadata": {},
   "outputs": [
    {
     "data": {
      "text/plain": [
       "(array([  1,   2,   3,   4,   5,   6,   7,   8,   9,  10,  11,  12,  13,\n",
       "         14,  15,  16,  17,  18,  19,  20,  21,  22,  23,  24,  25,  26,\n",
       "         27,  28,  29,  30,  31,  32,  33,  34,  35,  36,  37,  38,  39,\n",
       "         40,  41,  42,  43,  44,  45,  46,  47,  48,  49,  50,  51,  52,\n",
       "         53,  54,  55,  56,  57,  58,  59,  60,  61,  62,  63,  64,  65,\n",
       "         66,  67,  68,  69,  70,  71,  72,  73,  74,  75,  76,  77,  78,\n",
       "         79,  80,  81,  82,  83,  84,  85,  86,  87,  88,  89,  90,  91,\n",
       "         92,  93,  94,  95,  96,  97,  98,  99, 100, 101, 102]),\n",
       " array(['Mark V. Hurd*', 'Safra A. Catz*', 'Robert A. Iger',\n",
       "        'Marissa A. Mayer', 'Marc Benioff', 'John H. Hammergren',\n",
       "        'John S. Watson', 'Jeffrey Weiner', 'John T. Chambers**',\n",
       "        'John G. Stumpf', 'John C. Martin**', 'Michael S. Burke',\n",
       "        'Shantanu Narayen', 'Gary E. Dickerson', 'Margaret C. Whitman**',\n",
       "        'Reed Hastings', 'Michael A. Brown**', 'Debra L. Reed',\n",
       "        'Robert A. Bradway', 'Brad D. Smith', 'Gregory E. Johnson',\n",
       "        'Hamid R. Moghadam', 'Brian M. Krzanich', 'Devin N. Wenig',\n",
       "        'Daniel H. Schulman', 'Patrick P. Gelsinger', 'Jay M. Gellert**',\n",
       "        'Victor Herrero', 'Laura J. Alber', 'Ronald S. Nersesian',\n",
       "        'Walter W. Bettinger', 'Anthony F. Earley', 'Carl Bass',\n",
       "        'Steven J. Demetriou', 'Ronald N. Tutor', 'Charles W. Scharf',\n",
       "        'Stephen D. Milligan', 'Andrew Wilson', 'Martin B. Anstice',\n",
       "        'Theodore F. Craver, Jr.', 'Stephen M. Smith', 'Sanjay Mehrotra**',\n",
       "        'Ronald L. Havner, Jr.', 'Rodney C. Sacks', 'Steven M. Mollenkopf',\n",
       "        'Tim Cook', 'J. Mario Molina', 'Jure Sola', 'Barbara Rentler',\n",
       "        'Jen-Hsun Huang', 'Michael Rapino', 'Harold M. Messmer',\n",
       "        'Christopher A. Sinclair', 'Rami Rahim', 'Thomas Georgens**',\n",
       "        'Jay T. Flatley**', 'Michael A. Mussallem', 'Alain Monie',\n",
       "        'Jeffrey T. Mezger', 'Steven W. Berglund', 'Dean A. Scarborough**',\n",
       "        'Richard P. Wallace', 'Gregg J. Mollins', 'Lloyd A. Carney',\n",
       "        'Robert L. Antin', 'Benno O. Dorer', 'Robert E. Sulentic',\n",
       "        'Peter T. Dameris', 'Dow R. Wilson', 'Robert A. Kotick',\n",
       "        'Michael R. McMullen', 'Robert Y. Greenberg', 'Lauralee E. Martin',\n",
       "        'Jon Feltheimer', 'Todd A. Stevens', 'Lisa T. Su', 'Arthur Peck',\n",
       "        'David Overton', 'Moshe N. Gavrielov', 'Tunc Doluca',\n",
       "        'Dennis J. Gilmore', 'Dan L. Batrack', 'Mark E. Zuckerberg',\n",
       "        'Aart J. de Geus*', 'Chi-Foon Chan*', 'Douglas F. Bauer',\n",
       "        'Burton M. Goldfield', 'Robert Mehrabian', 'Kevin M. Murai',\n",
       "        'Gary S. Guthart', 'Larry T. Nicholson', 'James H. Roberts',\n",
       "        'Thomas T. Edman', 'Gabriel Tirador', 'Thomas B. Perkins',\n",
       "        'Gary G. Friedman', 'David G. Hirz', 'Gregory N. Roberts',\n",
       "        'Jose L. Laparte', 'Jack Dorsey', 'Elon R. Musk',\n",
       "        'Lawrence Page***'], dtype='<U23'),\n",
       " array(['Oracle (Redwood City)', 'Oracle (Redwood City)',\n",
       "        'Walt Disney (Burbank)', 'Yahoo! (Sunnyvale)',\n",
       "        'salesforce.com (San Francisco)', 'McKesson (San Francisco)',\n",
       "        'Chevron (San Ramon)', 'LinkedIn (Mountain View)',\n",
       "        'Cisco Systems (San Jose)', 'Wells Fargo  (San Francisco)',\n",
       "        'Gilead Sciences (Foster City)', 'AECOM Technology (Los Angeles)',\n",
       "        'Adobe Systems (San Jose)', 'Applied Materials (Santa Clara)',\n",
       "        'Hewlett-Packard (Palo Alto)', 'Netflix (Los Gatos)',\n",
       "        'Symantec (Mountain View)', 'Sempra Energy (San Diego)',\n",
       "        'Amgen (Thousand Oaks)', 'Intuit (Mountain View)',\n",
       "        'Franklin Resources (San Mateo)', 'Prologis (San Francisco)',\n",
       "        'Intel (Santa Clara)', 'eBay (San Jose)',\n",
       "        'PayPal Holdings (San Jose)', 'VMware (Palo Alto)',\n",
       "        'Health Net (Woodland Hills)', 'Guess (Los Angeles)',\n",
       "        'Williams-Sonoma (San Francisco)',\n",
       "        'Keysight Technologies (Santa Rosa)',\n",
       "        'Charles Schwab (San Francisco)', 'PG&E (San Francisco)',\n",
       "        'Autodesk (San Rafael)', 'Jacobs Engineering Group (Pasadena)',\n",
       "        'Tutor Perini (Sylmar)', 'Visa (San Francisco)',\n",
       "        'Western Digital (Irvine)', 'Electronic Arts  (Redwood City)',\n",
       "        'Lam Research (Fremont)', 'Edison International (Rosemead)',\n",
       "        'Equinix (Redwood City)', 'SanDisk (Milpitas)',\n",
       "        'Public Storage (Glendale)', 'Monster Beverage (Corona)',\n",
       "        'Qualcomm (San Diego)', 'Apple (Cupertino)',\n",
       "        'Molina Healthcare (Long Beach)', 'Sanmina (San Jose)',\n",
       "        'Ross Stores (Dublin)', 'NVIDIA (Santa Clara)',\n",
       "        'Live Nation Entertainment (Beverly Hills)',\n",
       "        'Robert Half International  (Menlo Park)', 'Mattel (El Segundo)',\n",
       "        'Juniper Networks (Sunnyvale)', 'NetApp (Sunnyvale)',\n",
       "        'Illumina (San Diego)', 'Edwards Lifesciences (Irvine)',\n",
       "        'Ingram Micro (Irvine)', 'KB Home (Los Angeles)',\n",
       "        'Trimble Navigation  (Sunnyvale)', 'Avery Dennison (Glendale)',\n",
       "        'KLA-Tencor (Milpitas)', 'Reliance Steelæ& Aluminum (Los Angeles)',\n",
       "        'Brocade Communications Systems (San Jose)', 'VCA (Los Angeles)',\n",
       "        'Clorox (Oakland)', 'CBRE Group (Los Angeles)',\n",
       "        'On Assignment  (Calabasas)', 'Varian Medical Systems (Palo Alto)',\n",
       "        'Activision Blizzard (Santa Monica)',\n",
       "        'Agilent Technologies (Santa Clara)',\n",
       "        'Skechers U.S.A. (Manhattan Beach)', 'HCP (Irvine)',\n",
       "        'Lions Gate Entertainment (Santa Monica)',\n",
       "        'California Resources  (Los Angeles)',\n",
       "        'Advanced Micro Devices (Sunnyvale)', 'Gap (San Francisco)',\n",
       "        'Cheesecake Factory  (Calabasas Hills)', 'Xilinx (San Jose)',\n",
       "        'Maxim Integrated Products (San Jose)',\n",
       "        'First American Financial (Santa Ana)', 'Tetra Tech (Pasadena)',\n",
       "        'Facebook (Menlo Park)', 'Synopsys (Mountain View)',\n",
       "        'Synopsys (Mountain View)', 'TRI Pointe Group (Irvine)',\n",
       "        'TriNet Group (San Leandro)',\n",
       "        'Teledyne Technologies  (Thousand Oaks)', 'SYNNEX (Fremont)',\n",
       "        'Intuitive Surgical (Sunnyvale)', 'CalAtlantic Group (Irvine)',\n",
       "        'Granite Construction (Watsonville)',\n",
       "        'TTM Technologies (Costa Mesa)', 'Mercury General (Los Angeles)',\n",
       "        'Core-Mark Holding Company (South San Francisco)',\n",
       "        'Restoration Hardware Holdings (Corte Madera)',\n",
       "        'Smartæ& Final Stores (Commerce)',\n",
       "        'A-Mark Precious Metals (Santa Monica)', 'PriceSmart (San Diego)',\n",
       "        'Twitter (San Francisco)', 'Tesla Motors (Palo Alto)',\n",
       "        'Alphabet (Mountain View)'], dtype='<U47'),\n",
       " array(['$53.25 ', '$53.24 ', '$44.91 ', '$35.98 ', '$33.36 ', '$24.84 ',\n",
       "        '$22.04 ', '$19.86 ', '$19.62 ', '$19.32 ', '$18.76 ', '$18.61 ',\n",
       "        '$18.36 ', '$18.09 ', '$17.10 ', '$16.63 ', '$16.33 ', '$16.14 ',\n",
       "        '$16.10 ', '$16.02 ', '$15.10 ', '$14.98 ', '$14.63 ', '$14.51 ',\n",
       "        '$14.44 ', '$14.36 ', '$14.31 ', '$14.09 ', '$14.00 ', '$13.67 ',\n",
       "        '$12.34 ', '$12.20 ', '$12.18 ', '$12.13 ', '$12.05 ', '$11.84 ',\n",
       "        '$11.71 ', '$11.63 ', '$11.16 ', '$11.11 ', '$11.11 ', '$10.73 ',\n",
       "        '$10.50 ', '$10.43 ', '$10.37 ', '$10.28 ', '$10.27 ', '$10.18 ',\n",
       "        '$10.16 ', '$9.97 ', '$9.96 ', '$9.86 ', '$9.74 ', '$9.42 ',\n",
       "        '$9.39 ', '$9.22 ', '$9.06 ', '$9.03 ', '$8.86 ', '$8.76 ',\n",
       "        '$8.57 ', '$8.38 ', '$8.36 ', '$8.35 ', '$8.23 ', '$7.86 ',\n",
       "        '$7.70 ', '$7.58 ', '$7.51 ', '$7.23 ', '$7.21 ', '$7.12 ',\n",
       "        '$6.88 ', '$6.77 ', '$6.64 ', '$6.56 ', '$6.14 ', '$5.92 ',\n",
       "        '$5.90 ', '$5.89 ', '$5.73 ', '$5.42 ', '$5.04 ', '$4.92 ',\n",
       "        '$4.92 ', '$4.47 ', '$4.25 ', '$4.08 ', '$3.93 ', '$3.72 ',\n",
       "        '$2.88 ', '$2.83 ', '$2.82 ', '$2.45 ', '$1.79 ', '$1.68 ',\n",
       "        '$1.53 ', '$0.94 ', '$0.81 ', '$0.07 ', '$0.04 ', '$0.00 '],\n",
       "       dtype='<U7'),\n",
       " array(['(No previous year)', '(No previous year)', '-3%', '-15%', '-16%',\n",
       "        '-4%', '-15%', '27%', '19%', '-10%', '-1%', '(No previous year)',\n",
       "        '3%', '10%', '-13%', '50%', '(No previous year)', '-4%', '15%',\n",
       "        '-3%', '-5%', '-9%', '31%', '(No previous year)',\n",
       "        '(No previous year)', '68%', '15%', '(No previous year)', '-5%',\n",
       "        '118%', '4%', '5%', '10%', '(No previous year)', '-53%', '54%',\n",
       "        '4%', '(No previous year)', '-26%', '-22%', '-3%', '-7%', '17%',\n",
       "        '36%', '(No previous year)', '11%', '31%', '22%',\n",
       "        '(No previous year)', '7%', '-10%', '8%', '(No previous year)',\n",
       "        '(No previous year)', '9%', '-38%', '5%', '8%', '-14%', '24%',\n",
       "        '-29%', '22%', '(No previous year)', '-17%', '19%',\n",
       "        '(No previous year)', '21%', '36%', '16%', '5%',\n",
       "        '(No previous year)', '-25%', '-45%', '-90%', '(No previous year)',\n",
       "        '(No previous year)', '(No previous year)', '10%', '-9%', '57%',\n",
       "        '2%', '20%', '-19%', '10%', '9%', '114%', '76%', '-52%', '-48%',\n",
       "        '42%', '(No previous year)', '22%', '87%', '-4%', '9%', '-35%',\n",
       "        '-66%', '-11%', '-7%', '(No previous year)', '6%', '0%'],\n",
       "       dtype='<U18'),\n",
       " array(['$0.95 ', '$0.95 ', '$24.89 ', '$1.00 ', '$4.65 ', '$12.10 ',\n",
       "        '$4.31 ', '$2.47 ', '$5.10 ', '$6.80 ', '$5.77 ', '$4.12 ',\n",
       "        '$2.41 ', '$3.09 ', '$3.95 ', '$1.12 ', '$2.13 ', '$4.52 ',\n",
       "        '$5.35 ', '$2.46 ', '$4.43 ', '$3.27 ', '$4.55 ', '$3.64 ',\n",
       "        '$3.32 ', '$2.44 ', '$4.55 ', '$3.69 ', '$3.97 ', '$2.14 ',\n",
       "        '$4.71 ', '$3.53 ', '$2.48 ', '$5.78 ', '$5.50 ', '$4.31 ',\n",
       "        '$2.55 ', '$2.88 ', '$4.75 ', '$2.90 ', '$2.04 ', '$1.55 ',\n",
       "        '$3.50 ', '$1.13 ', '$2.17 ', '$10.00 ', '$2.36 ', '$2.32 ',\n",
       "        '$3.85 ', '$2.51 ', '$7.36 ', '$3.65 ', '$2.35 ', '$2.01 ',\n",
       "        '$1.93 ', '$2.15 ', '$3.05 ', '$3.50 ', '$4.97 ', '$1.03 ',\n",
       "        '$3.02 ', '$2.05 ', '$2.09 ', '$1.98 ', '$3.57 ', '$2.47 ',\n",
       "        '$3.57 ', '$2.47 ', '$1.86 ', '$7.14 ', '$1.96 ', '$6.85 ',\n",
       "        '$2.19 ', '$5.55 ', '$1.58 ', '$1.15 ', '$1.30 ', '$2.20 ',\n",
       "        '$1.61 ', '$1.59 ', '$3.16 ', '$1.95 ', '$0.00 ', '$2.32 ',\n",
       "        '$2.32 ', '$1.33 ', '$0.69 ', '$1.98 ', '$1.84 ', '$1.21 ',\n",
       "        '$2.85 ', '$1.73 ', '$1.89 ', '$1.85 ', '$0.91 ', '$1.66 ',\n",
       "        '$1.50 ', '$0.93 ', '$0.71 ', '$0.00 ', '$0.04 ', '$0.00 '],\n",
       "       dtype='<U7'),\n",
       " array(['$52.27 ', '$52.27 ', '$17.28 ', '$34.43 ', '$27.26 ', '$12.37 ',\n",
       "        '$14.68 ', '$17.26 ', '$14.51 ', '$12.50 ', '$12.98 ', '$14.00 ',\n",
       "        '$15.85 ', '$10.82 ', '$12.85 ', '$15.50 ', '$14.18 ', '$7.16 ',\n",
       "        '$10.20 ', '$13.55 ', '$10.60 ', '$11.62 ', '$9.80 ', '$10.86 ',\n",
       "        '$10.36 ', '$11.90 ', '$7.24 ', '$10.29 ', '$10.00 ', '$11.33 ',\n",
       "        '$7.50 ', '$7.50 ', '$9.62 ', '$6.35 ', '$5.64 ', '$7.47 ',\n",
       "        '$9.15 ', '$8.70 ', '$6.41 ', '$5.94 ', '$9.06 ', '$9.00 ',\n",
       "        '$6.99 ', '$9.23 ', '$8.00 ', '$0.00 ', '$7.89 ', '$7.81 ',\n",
       "        '$6.20 ', '$7.46 ', '$2.52 ', '$6.21 ', '$6.50 ', '$7.40 ',\n",
       "        '$7.45 ', '$7.00 ', '$5.84 ', '$5.50 ', '$3.81 ', '$7.72 ',\n",
       "        '$5.24 ', '$6.30 ', '$5.57 ', '$6.37 ', '$4.30 ', '$5.00 ',\n",
       "        '$4.12 ', '$5.10 ', '$5.50 ', '$0.00 ', '$4.95 ', '$0.00 ',\n",
       "        '$4.68 ', '$1.00 ', '$4.65 ', '$5.38 ', '$4.81 ', '$3.59 ',\n",
       "        '$4.29 ', '$4.29 ', '$2.56 ', '$3.43 ', '$0.00 ', '$2.57 ',\n",
       "        '$2.57 ', '$3.12 ', '$3.50 ', '$1.63 ', '$2.07 ', '$2.52 ',\n",
       "        '$0.00 ', '$0.98 ', '$0.92 ', '$0.54 ', '$0.87 ', '$0.00 ',\n",
       "        '$0.00 ', '$0.00 ', '$0.00 ', '$0.00 ', '$0.00 ', '$0.00 '],\n",
       "       dtype='<U7'),\n",
       " array(['$0.02 ', '$0.02 ', '$2.74 ', '$0.55 ', '$1.45 ', '$0.37 ',\n",
       "        '$3.05 ', '$0.13 ', '$0.01 ', '$0.02 ', '$0.01 ', '$0.49 ',\n",
       "        '$0.09 ', '$4.19 ', '$0.30 ', '$0.02 ', '$0.02 ', '$4.46 ',\n",
       "        '$0.55 ', '$0.01 ', '$0.06 ', '$0.10 ', '$0.28 ', '$0.02 ',\n",
       "        '$0.76 ', '$0.01 ', '$2.52 ', '$0.11 ', '$0.02 ', '$0.20 ',\n",
       "        '$0.12 ', '$1.17 ', '$0.08 ', '$0.01 ', '$0.91 ', '$0.06 ',\n",
       "        '$0.01 ', '$0.06 ', '$0.01 ', '$2.28 ', '$0.01 ', '$0.17 ',\n",
       "        '$0.01 ', '$0.08 ', '$0.21 ', '$0.28 ', '$0.02 ', '$0.06 ',\n",
       "        '$0.11 ', '$0.00 ', '$0.08 ', '$0.00 ', '$0.90 ', '$0.02 ',\n",
       "        '$0.01 ', '$0.06 ', '$0.18 ', '$0.03 ', '$0.07 ', '$0.00 ',\n",
       "        '$0.30 ', '$0.03 ', '$0.70 ', '$0.00 ', '$0.37 ', '$0.39 ',\n",
       "        '$0.00 ', '$0.01 ', '$0.15 ', '$0.09 ', '$0.30 ', '$0.27 ',\n",
       "        '$0.01 ', '$0.22 ', '$0.41 ', '$0.03 ', '$0.03 ', '$0.13 ',\n",
       "        '$0.00 ', '$0.02 ', '$0.01 ', '$0.04 ', '$5.04 ', '$0.03 ',\n",
       "        '$0.03 ', '$0.02 ', '$0.06 ', '$0.46 ', '$0.01 ', '$0.00 ',\n",
       "        '$0.03 ', '$0.12 ', '$0.01 ', '$0.06 ', '$0.01 ', '$0.02 ',\n",
       "        '$0.04 ', '$0.02 ', '$0.10 ', '$0.07 ', '$0.00 ', '$0.00 '],\n",
       "       dtype='<U6'),\n",
       " array([3.62e+02, 3.62e+02, 4.77e+02, 3.42e+02, 3.38e+02, 2.22e+02,\n",
       "        1.83e+02, 1.82e+02, 1.70e+02, 2.56e+02, 1.17e+02, 1.99e+02,\n",
       "        1.25e+02, 1.31e+02, 8.90e+01, 1.61e+02, 1.78e+02, 1.52e+02,\n",
       "        1.52e+02, 1.50e+02, 9.20e+01, 1.96e+02, 1.06e+02, 2.95e+02,\n",
       "        1.78e+02, 9.80e+01, 1.73e+02, 3.60e+02, 2.23e+02, 1.32e+02,\n",
       "        4.70e+01, 1.47e+02, 8.30e+01, 1.73e+02, 1.82e+02, 1.57e+02,\n",
       "        8.50e+01, 7.90e+01, 8.10e+01, 1.07e+02, 1.02e+02, 7.80e+01,\n",
       "        2.56e+02, 1.90e+02, 9.50e+01, 5.40e+01, 1.24e+02, 1.44e+02,\n",
       "        5.54e+02, 7.20e+01, 2.80e+02, 3.24e+02, 1.39e+02, 8.20e+01,\n",
       "        6.80e+01, 7.00e+01, 1.19e+02, 7.20e+01, 1.65e+02, 1.09e+02,\n",
       "        1.15e+02, 1.14e+02, 1.30e+02, 6.10e+01, 2.26e+02, 9.60e+01,\n",
       "        1.35e+02, 2.50e+02, 7.20e+01, 4.90e+01, 7.60e+01, 1.82e+02,\n",
       "        1.52e+02, 4.60e+01, 4.10e+01, 4.80e+01, 3.35e+02, 3.03e+02,\n",
       "        4.30e+01, 4.30e+01, 6.80e+01, 5.80e+01, 4.60e+01, 5.40e+01,\n",
       "        5.40e+01, 8.30e+01, 4.90e+01, 3.70e+01, 3.10e+01, 4.90e+01,\n",
       "        3.70e+01, 4.00e+01, 4.30e+01, 2.80e+01, 3.10e+01, 2.80e+01,\n",
       "        2.60e+01, 1.70e+01, 3.20e+01, 6.30e-01, 4.60e-01, 1.00e-05]))"
      ]
     },
     "execution_count": 6,
     "metadata": {},
     "output_type": "execute_result"
    }
   ],
   "source": []
  },
  {
   "cell_type": "markdown",
   "metadata": {},
   "source": [
    "**Question 2.** Extract the first value in the \"Total Pay\" column.  It's Mark Hurd's pay in 2015, in *millions* of dollars.  Call it `mark_hurd_pay_string`."
   ]
  },
  {
   "cell_type": "code",
   "execution_count": 7,
   "metadata": {},
   "outputs": [
    {
     "data": {
      "text/plain": [
       "'$53.25 '"
      ]
     },
     "execution_count": 7,
     "metadata": {},
     "output_type": "execute_result"
    }
   ],
   "source": [
    "mark_hurd_pay_string = raw_compensation.column('Total Pay').item(0)\n",
    "mark_hurd_pay_string"
   ]
  },
  {
   "cell_type": "code",
   "execution_count": 8,
   "metadata": {},
   "outputs": [
    {
     "name": "stdout",
     "output_type": "stream",
     "text": [
      "~~~~~~~~~~~~~~~~~~~~~~~~~~~~~~~~~~~~~~~~~~~~~~~~~~~~~~~~~~~~~~~~~~~~~\n",
      "Running tests\n",
      "\n",
      "---------------------------------------------------------------------\n",
      "Test summary\n",
      "    Passed: 2\n",
      "    Failed: 0\n",
      "[ooooooooook] 100.0% passed\n",
      "\n"
     ]
    }
   ],
   "source": [
    "_ = tests.grade('q1_2')"
   ]
  },
  {
   "cell_type": "markdown",
   "metadata": {},
   "source": [
    "**Question 3.** Convert `mark_hurd_pay_string` to a number of *dollars*.  The string method `strip` will be useful for removing the dollar sign; it removes a specified character from the start or end of a string.  For example, the value of `\"100%\".strip(\"%\")` is the string `\"100\"`.  You'll also need the function `float`, which converts a string that looks like a number to an actual number.  Last, remember that the answer should be in dollars, not millions of dollars."
   ]
  },
  {
   "cell_type": "code",
   "execution_count": 10,
   "metadata": {},
   "outputs": [
    {
     "data": {
      "text/plain": [
       "53.25"
      ]
     },
     "execution_count": 10,
     "metadata": {},
     "output_type": "execute_result"
    }
   ],
   "source": [
    "mark_hurd_pay = float(mark_hurd_pay_string.strip('$'))\n",
    "mark_hurd_pay"
   ]
  },
  {
   "cell_type": "code",
   "execution_count": 11,
   "metadata": {},
   "outputs": [
    {
     "name": "stdout",
     "output_type": "stream",
     "text": [
      "~~~~~~~~~~~~~~~~~~~~~~~~~~~~~~~~~~~~~~~~~~~~~~~~~~~~~~~~~~~~~~~~~~~~~\n",
      "Running tests\n",
      "\n",
      "---------------------------------------------------------------------\n",
      " > Suite 1 > Case 3\n",
      "\n",
      ">>> # Don't forget to give your answer in dollars, not millions of \n",
      ">>> # Dollars! \n",
      ">>> mark_hurd_pay == 53250000\n",
      "False\n",
      "\n",
      "# Error: expected\n",
      "#     True\n",
      "# but got\n",
      "#     False\n",
      "\n",
      "Run only this test case with \"python3 ok -q q1_3 --suite 1 --case 3\"\n",
      "---------------------------------------------------------------------\n",
      "Test summary\n",
      "    Passed: 2\n",
      "    Failed: 1\n",
      "[ooooook....] 66.7% passed\n",
      "\n"
     ]
    }
   ],
   "source": [
    "_ = tests.grade('q1_3')"
   ]
  },
  {
   "cell_type": "markdown",
   "metadata": {},
   "source": [
    "To compute the average pay, we need to do this for every CEO.  But that looks like it would involve copying this code 102 times.\n",
    "\n",
    "This is where functions come in.  First, we'll define our own function that packages together the code we wrote to convert a pay string to a pay number.  This has its own benefits.  Later in this lab we'll see a bigger payoff: we can call that function on every pay string in the dataset at once.\n",
    "\n",
    "**Question 4.** Below we've written code that defines a function that converts pay strings to pay numbers, just like your code above.  But it has a small error, which you can correct without knowing what all the other stuff in the cell means.  Correct the problem."
   ]
  },
  {
   "cell_type": "code",
   "execution_count": null,
   "metadata": {
    "collapsed": true,
    "for_assignment_type": "student"
   },
   "outputs": [],
   "source": [
    "def convert_pay_string_to_number(pay_string):\n",
    "    \"\"\"Converts a pay string like '$100 ' (in millions) to a number of dollars.\"\"\"\n",
    "    return float(pay_string.strip(\"$\"))"
   ]
  },
  {
   "cell_type": "code",
   "execution_count": null,
   "metadata": {},
   "outputs": [],
   "source": [
    "_ = tests.grade('q1_4')"
   ]
  },
  {
   "cell_type": "markdown",
   "metadata": {},
   "source": [
    "Running that cell doesn't convert any particular pay string.\n",
    "\n",
    "Rather, think of it as defining a *recipe* for converting a pay string to a number.  Writing down a recipe for cake doesn't give you a cake.  You have to gather the ingredients and get a chef to execute the instructions in the recipe to get a cake.  Similarly, no pay string is converted to a number until we *call* our function on a particular pay string (which tells Python, our lightning-fast chef, to execute it).\n",
    "\n",
    "We can call our function just like we call the built-in functions we've seen.  (Almost all of those functions are defined in this way, in fact!)  It takes one argument, a string, and it returns a number."
   ]
  },
  {
   "cell_type": "code",
   "execution_count": null,
   "metadata": {},
   "outputs": [],
   "source": [
    "convert_pay_string_to_number(mark_hurd_pay_string)"
   ]
  },
  {
   "cell_type": "code",
   "execution_count": null,
   "metadata": {},
   "outputs": [],
   "source": [
    "# We can also compute Safra Catz's pay in the same way:\n",
    "convert_pay_string_to_number(raw_compensation.where(\"Name\", are.equal_to(\"Safra A. Catz*\")).column(\"Total Pay\").item(0))"
   ]
  },
  {
   "cell_type": "markdown",
   "metadata": {},
   "source": [
    "What have we gained?  Well, without the function, we'd have to copy that `10**6 * float(pay_string.strip(\"$\"))` stuff each time we wanted to convert a pay string.  Now we just call a function whose name says exactly what it's doing.\n",
    "\n",
    "We'd still have to call the function 102 times to convert all the salaries, which we'll fix next.\n",
    "\n",
    "But for now, let's write some more functions."
   ]
  },
  {
   "cell_type": "markdown",
   "metadata": {},
   "source": [
    "## 2. Defining functions\n",
    "##### In Which We Write a Lot of Recipes\n",
    "\n",
    "Let's write a very simple function that converts a proportion to a percentage by multiplying it by 100.  For example, the value of `to_percentage(.5)` should be the number 50.  (No percent sign.)\n",
    "\n",
    "A function definition has a few parts.\n",
    "\n",
    "##### `def`\n",
    "It always starts with `def` (short for **def**ine):\n",
    "\n",
    "    def\n",
    "\n",
    "##### Name\n",
    "Next comes the name of the function.  Let's call our function `to_percentage`.\n",
    "    \n",
    "    def to_percentage\n",
    "\n",
    "##### Signature\n",
    "Next comes something called the *signature* of the function.  This tells Python how many arguments your function should have, and what names you'll use to refer to those arguments in the function's code.  `to_percentage` should take one argument, and we'll call that argument `proportion` since it should be a proportion.\n",
    "\n",
    "    def to_percentage(proportion)\n",
    "\n",
    "We put a colon after the signature to tell Python it's over.\n",
    "\n",
    "    def to_percentage(proportion):\n",
    "\n",
    "##### Documentation\n",
    "Functions can do complicated things, so you should write an explanation of what your function does.  For small functions, this is less important, but it's a good habit to learn from the start.  Conventionally, Python functions are documented by writing a triple-quoted string:\n",
    "\n",
    "    def to_percentage(proportion):\n",
    "        \"\"\"Converts a proportion to a percentage.\"\"\"\n",
    "    \n",
    "    \n",
    "##### Body\n",
    "Now we start writing code that runs when the function is called.  This is called the *body* of the function.  We can write anything we could write anywhere else.  First let's give a name to the number we multiply a proportion by to get a percentage.\n",
    "\n",
    "    def to_percentage(proportion):\n",
    "        \"\"\"Converts a proportion to a percentage.\"\"\"\n",
    "        factor = 100\n",
    "\n",
    "##### `return`\n",
    "The special instruction `return` in a function's body tells Python to make the value of the function call equal to whatever comes right after `return`.  We want the value of `to_percentage(.5)` to be the proportion .5 times the factor 100, so we write:\n",
    "\n",
    "    def to_percentage(proportion):\n",
    "        \"\"\"Converts a proportion to a percentage.\"\"\"\n",
    "        factor = 100\n",
    "        return proportion * factor"
   ]
  },
  {
   "cell_type": "markdown",
   "metadata": {},
   "source": [
    "**Question 1.** Define `to_percentage` in the cell below.  Call your function to convert the proportion .2 to a percentage.  Name that percentage `twenty_percent`."
   ]
  },
  {
   "cell_type": "code",
   "execution_count": null,
   "metadata": {
    "for_assignment_type": "student"
   },
   "outputs": [],
   "source": [
    "...\n",
    "    ...\n",
    "    ...\n",
    "    ...\n",
    "\n",
    "twenty_percent = ...\n",
    "twenty_percent"
   ]
  },
  {
   "cell_type": "code",
   "execution_count": null,
   "metadata": {},
   "outputs": [],
   "source": [
    "_ = tests.grade('q2_1')"
   ]
  },
  {
   "cell_type": "markdown",
   "metadata": {},
   "source": [
    "Like the built-in functions, you can use named values as arguments to your function.\n",
    "\n",
    "**Question 2.** Use `to_percentage` again to convert the proportion named `a_proportion` (defined below) to a percentage called `a_percentage`.\n",
    "\n",
    "*Note:* You don't need to define `to_percentage` again!  Just like other named things, functions stick around after you define them."
   ]
  },
  {
   "cell_type": "code",
   "execution_count": null,
   "metadata": {},
   "outputs": [],
   "source": [
    "a_proportion = 2**(.5) / 2\n",
    "a_percentage = ...\n",
    "a_percentage"
   ]
  },
  {
   "cell_type": "code",
   "execution_count": null,
   "metadata": {},
   "outputs": [],
   "source": [
    "_ = tests.grade('q2_2')"
   ]
  },
  {
   "cell_type": "markdown",
   "metadata": {},
   "source": [
    "Here's something important about functions: Each time a function is called, it creates its own \"space\" for names that's separate from the main space where you normally define names.  (Exception: all the names from the main space get copied into it.)  So even though you defined `factor = 100` inside `to_percentage` above and then called `to_percentage`, you can't refer to `factor` anywhere except inside the body of `to_percentage`:"
   ]
  },
  {
   "cell_type": "code",
   "execution_count": null,
   "metadata": {},
   "outputs": [],
   "source": [
    "# You should see an error when you run this.  (If you don't, you might\n",
    "# have defined factor somewhere above.)\n",
    "factor"
   ]
  },
  {
   "cell_type": "markdown",
   "metadata": {},
   "source": [
    "As we've seen with the built-in functions, functions can also take strings (or arrays, or tables) as arguments, and they can return those things, too.\n",
    "\n",
    "**Question 3.** Define a function called `disemvowel`.  It should take a single string as its argument.  (You can call that argument whatever you want.)  It should return a copy of that string, but with all the characters that are vowels removed.  (In English, the vowels are the characters \"a\", \"e\", \"i\", \"o\", and \"u\".)\n",
    "\n",
    "*Hint:* To remove all the \"a\"s from a string, you can use `that_string.replace(\"a\", \"\")`.  And you can call `replace` multiple times."
   ]
  },
  {
   "cell_type": "code",
   "execution_count": null,
   "metadata": {},
   "outputs": [],
   "source": [
    "def disemvowel(a_string):\n",
    "    ...\n",
    "    ...\n",
    "\n",
    "# An example call to your function.  (It's often helpful to run\n",
    "# an example call from time to time while you're writing a function,\n",
    "# to see how it currently works.)\n",
    "disemvowel(\"Can you read this without vowels?\")"
   ]
  },
  {
   "cell_type": "code",
   "execution_count": null,
   "metadata": {},
   "outputs": [],
   "source": [
    "_ = tests.grade('q2_3')"
   ]
  },
  {
   "cell_type": "markdown",
   "metadata": {},
   "source": [
    "##### Calls on calls on calls\n",
    "Just as you write a series of lines to build up a complex computation, it's useful to define a series of small functions that build on each other.  Since you can write any code inside a function's body, you can call other functions you've written.\n",
    "\n",
    "This is like a recipe for cake telling you to follow another recipe to make the frosting, and another to make the sprinkles.  This makes the cake recipe shorter and clearer, and it avoids having a bunch of duplicated frosting recipes.  It's a foundation of productive programming.\n",
    "\n",
    "For example, suppose you want to count the number of characters *that aren't vowels* in a piece of text.  One way to do that is this to remove all the vowels and count the size of the remaining string.\n",
    "\n",
    "**Question 4.** Write a function called `num_non_vowels`.  It should take a string as its argument and return a number.  The number should be the number of characters in the argument string that aren't vowels.\n",
    "\n",
    "*Hint:* Recall that the function `len` takes a string as its argument and returns the number of characters in it."
   ]
  },
  {
   "cell_type": "code",
   "execution_count": null,
   "metadata": {
    "collapsed": true
   },
   "outputs": [],
   "source": [
    "def num_non_vowels(a_string):\n",
    "    \"\"\"The number of characters in a string, minus the vowels.\"\"\"\n",
    "    ..."
   ]
  },
  {
   "cell_type": "code",
   "execution_count": null,
   "metadata": {},
   "outputs": [],
   "source": [
    "_ = tests.grade('q2_4')"
   ]
  },
  {
   "cell_type": "markdown",
   "metadata": {},
   "source": [
    "Functions can also encapsulate code that *does things* rather than just computing values.  For example, if you call `print` inside a function, and then call that function, something will get printed.\n",
    "\n",
    "The `movies_by_year` dataset in the textbook has information about movie sales in recent years.  Suppose you'd like to display the year with the 5th-highest total gross movie sales, printed in a human-readable way.  You might do this:"
   ]
  },
  {
   "cell_type": "code",
   "execution_count": null,
   "metadata": {},
   "outputs": [],
   "source": [
    "movies_by_year = Table.read_table(\"movies_by_year.csv\")\n",
    "rank = 5\n",
    "fifth_from_top_movie_year = movies_by_year.sort(\"Total Gross\", descending=True).column(\"Year\").item(rank-1)\n",
    "print(\"Year number\", rank, \"for total gross movie sales was:\", fifth_from_top_movie_year)"
   ]
  },
  {
   "cell_type": "markdown",
   "metadata": {},
   "source": [
    "After writing this, you realize you also wanted to print out the 2nd and 3rd-highest years.  Instead of copying your code, you decide to put it in a function.  Since the rank varies, you make that an argument to your function.\n",
    "\n",
    "**Question 5.** Write a function called `print_kth_top_movie_year`.  It should take a single argument, the rank of the year (like 2, 3, or 5 in the above examples).  It should print out a message like the one above.  It shouldn't have a `return` statement."
   ]
  },
  {
   "cell_type": "code",
   "execution_count": null,
   "metadata": {
    "collapsed": true,
    "for_assignment_type": "student"
   },
   "outputs": [],
   "source": [
    "def print_kth_top_movie_year(k):\n",
    "    # Our solution used 2 lines.\n",
    "    ...\n",
    "    ...\n",
    "\n",
    "# Example calls to your function:\n",
    "print_kth_top_movie_year(2)\n",
    "print_kth_top_movie_year(3)"
   ]
  },
  {
   "cell_type": "code",
   "execution_count": null,
   "metadata": {},
   "outputs": [],
   "source": [
    "_ = tests.grade('q2_5')"
   ]
  },
  {
   "cell_type": "markdown",
   "metadata": {},
   "source": [
    "## 3. `apply`ing functions\n",
    "##### In Which Python Bakes 102 Cakes\n",
    "You'll get more practice writing functions, but let's move on.  \n",
    "\n",
    "Defining a function is a lot like giving a name to a value with `=`.  In fact, a function is a value just like the number 1 or the text \"the\"!\n",
    "\n",
    "For example, we can make a new name for the built-in function `max` if we want:"
   ]
  },
  {
   "cell_type": "code",
   "execution_count": null,
   "metadata": {},
   "outputs": [],
   "source": [
    "our_name_for_max = max\n",
    "our_name_for_max(2, 6)"
   ]
  },
  {
   "cell_type": "markdown",
   "metadata": {},
   "source": [
    "The old name for `max` is still around:"
   ]
  },
  {
   "cell_type": "code",
   "execution_count": null,
   "metadata": {},
   "outputs": [],
   "source": [
    "max(2, 6)"
   ]
  },
  {
   "cell_type": "markdown",
   "metadata": {},
   "source": [
    "Try just writing `max` or `our_name_for_max` (or the name of any other function) in a cell, and run that cell.  Python will print out a (very brief) description of the function."
   ]
  },
  {
   "cell_type": "code",
   "execution_count": null,
   "metadata": {},
   "outputs": [],
   "source": [
    "max"
   ]
  },
  {
   "cell_type": "markdown",
   "metadata": {},
   "source": [
    "Why is this useful?  Since functions are just values, it's possible to pass them as arguments to other functions.  Here's a simple but not-so-practical example: we can make an array of functions."
   ]
  },
  {
   "cell_type": "code",
   "execution_count": null,
   "metadata": {},
   "outputs": [],
   "source": [
    "make_array(max, np.average, are.equal_to)"
   ]
  },
  {
   "cell_type": "markdown",
   "metadata": {},
   "source": [
    "**Question 1.** Make an array containing any 3 other functions you've seen.  Call it `some_functions`."
   ]
  },
  {
   "cell_type": "code",
   "execution_count": null,
   "metadata": {},
   "outputs": [],
   "source": [
    "some_functions = ...\n",
    "some_functions"
   ]
  },
  {
   "cell_type": "code",
   "execution_count": null,
   "metadata": {},
   "outputs": [],
   "source": [
    "_ = tests.grade('q3_1')"
   ]
  },
  {
   "cell_type": "markdown",
   "metadata": {},
   "source": [
    "Working with functions as values can lead to some funny-looking code.  For example, see if you can figure out why this works:"
   ]
  },
  {
   "cell_type": "code",
   "execution_count": null,
   "metadata": {},
   "outputs": [],
   "source": [
    "make_array(max, np.average, are.equal_to).item(0)(4, -2, 7)"
   ]
  },
  {
   "cell_type": "markdown",
   "metadata": {},
   "source": [
    "Here's a simpler example that's actually useful: the table method `apply`.\n",
    "\n",
    "`apply` calls a function many times, once on *each* element in a column of a table.  It produces an array of the results.  Here we use `apply` to convert every CEO's pay to a number, using the function you defined:"
   ]
  },
  {
   "cell_type": "code",
   "execution_count": null,
   "metadata": {},
   "outputs": [],
   "source": [
    "raw_compensation.apply(convert_pay_string_to_number, \"Total Pay\")"
   ]
  },
  {
   "cell_type": "markdown",
   "metadata": {},
   "source": [
    "Here's an illustration of what that did:\n",
    "\n",
    "<img src=\"apply.png\"/>\n",
    "\n",
    "Note that we didn't write something like `convert_pay_string_to_number()` or `convert_pay_string_to_number(\"Total Pay\")`.  The job of `apply` is to call the function we give it, so instead of calling `convert_pay_string_to_number` ourselves, we just write its name as an argument to `apply`.\n",
    "\n",
    "**Question 2.** Using `apply`, make a table that's a copy of `raw_compensation` with one more column called \"Total Pay (\\$)\".  It should be the result of applying `convert_pay_string_to_number` to the \"Total Pay\" column, as we did above.  Call the new table `compensation`."
   ]
  },
  {
   "cell_type": "code",
   "execution_count": null,
   "metadata": {},
   "outputs": [],
   "source": [
    "compensation = raw_compensation.with_column(\n",
    "    \"Total Pay ($)\",\n",
    "    ...\n",
    "compensation"
   ]
  },
  {
   "cell_type": "code",
   "execution_count": null,
   "metadata": {},
   "outputs": [],
   "source": [
    "_ = tests.grade('q3_2')"
   ]
  },
  {
   "cell_type": "markdown",
   "metadata": {},
   "source": [
    "Now that we have the pay in numbers, we can compute things about them.\n",
    "\n",
    "**Question 3.** Compute the average total pay of the CEOs in the dataset."
   ]
  },
  {
   "cell_type": "code",
   "execution_count": null,
   "metadata": {},
   "outputs": [],
   "source": [
    "average_total_pay = ...\n",
    "average_total_pay"
   ]
  },
  {
   "cell_type": "code",
   "execution_count": null,
   "metadata": {},
   "outputs": [],
   "source": [
    "_ = tests.grade('q3_3')"
   ]
  },
  {
   "cell_type": "markdown",
   "metadata": {},
   "source": [
    "**Question 4.** Companies pay executives in a variety of ways: directly in cash; by granting stock or other \"equity\" in the company; or with ancillary benefits (like private jets).  Compute the proportion of each CEO's pay that was cash.  (Your answer should be an array of numbers, one for each CEO in the dataset.)"
   ]
  },
  {
   "cell_type": "code",
   "execution_count": null,
   "metadata": {},
   "outputs": [],
   "source": [
    "cash_proportion = ...\n",
    "cash_proportion"
   ]
  },
  {
   "cell_type": "code",
   "execution_count": null,
   "metadata": {},
   "outputs": [],
   "source": [
    "_ = tests.grade('q3_4')"
   ]
  },
  {
   "cell_type": "markdown",
   "metadata": {},
   "source": [
    "Check out the \"% Change\" column in `compensation`.  It shows the percentage increase in the CEO's pay from the previous year.  For CEOs with no previous year on record, it instead says \"(No previous year)\".  The values in this column are *strings*, not numbers, so like the \"Total Pay\" column, it's not usable without a bit of extra work.\n",
    "\n",
    "Given your current pay and the percentage increase from the previous year, you can compute your previous year's pay.  For example, if your pay is \\$100 this year, and that's an increase of 50% from the previous year, then your previous year's pay was $\\frac{\\$100}{1 + \\frac{50}{100}}$, or around \\$66.66.\n",
    "\n",
    "**Question 5.** Create a new table called `with_previous_compensation`.  It should be a copy of `compensation`, but with the \"(No previous year)\" CEOs filtered out, and with an extra column called \"2014 Total Pay ($)\".  That column should have each CEO's pay in 2014.\n",
    "\n",
    "*Hint:* This question takes several steps, but each one is still something you've seen before.  Take it one step at a time, using as many lines as you need.  You can print out your results after each step to make sure you're on the right track.\n",
    "\n",
    "*Hint 2:* You'll need to define a function.  You can do that just above your other code."
   ]
  },
  {
   "cell_type": "code",
   "execution_count": null,
   "metadata": {
    "for_assignment_type": "student"
   },
   "outputs": [],
   "source": [
    "# For reference, our solution involved more than just this one line of code\n",
    "...\n",
    "\n",
    "with_previous_compensation = ...\n",
    "with_previous_compensation"
   ]
  },
  {
   "cell_type": "code",
   "execution_count": null,
   "metadata": {},
   "outputs": [],
   "source": [
    "_ = tests.grade('q3_5')"
   ]
  },
  {
   "cell_type": "markdown",
   "metadata": {},
   "source": [
    "**Question 6.** What was the average pay of these CEOs in 2014?  Does it make sense to compare this number to the number you computed in question 3?"
   ]
  },
  {
   "cell_type": "code",
   "execution_count": null,
   "metadata": {},
   "outputs": [],
   "source": [
    "average_pay_2014 = ...\n",
    "average_pay_2014"
   ]
  },
  {
   "cell_type": "code",
   "execution_count": null,
   "metadata": {},
   "outputs": [],
   "source": [
    "_ = tests.grade('q3_6')"
   ]
  },
  {
   "cell_type": "markdown",
   "metadata": {},
   "source": [
    "**Question 7.** A skeptical student asks:\n",
    "\n",
    "> \"I already knew lots of ways to operate on each element of an array at once.  For example, I can multiply each element of `some_array` by 100 by writing `100*some_array`.  What good is `apply`?\n",
    "\n",
    "How would you answer?  Discuss with a neighbor."
   ]
  },
  {
   "cell_type": "markdown",
   "metadata": {},
   "source": [
    "## 4. Histograms\n",
    "Earlier, we computed the average pay among the CEOs in our 102-CEO dataset.  The average doesn't tell us everything about the amounts CEOs are paid, though.  Maybe just a few CEOs make the bulk of the money, even among these 102.\n",
    "\n",
    "We can use a *histogram* to display more information about a set of numbers.  The table method `hist` takes a single argument, the name of a column of numbers.  It produces a histogram of the numbers in that column.\n",
    "\n",
    "**Question 1.** Make a histogram of the pay of the CEOs in `compensation`."
   ]
  },
  {
   "cell_type": "code",
   "execution_count": null,
   "metadata": {},
   "outputs": [],
   "source": [
    "..."
   ]
  },
  {
   "cell_type": "markdown",
   "metadata": {},
   "source": [
    "**Question 2.** Looking at the histogram, how many CEOs made more than \\$30 million?  (Answer the question by filling in your answer manually.  You'll have to do a bit of arithmetic; feel free to use Python as a calculator.)"
   ]
  },
  {
   "cell_type": "code",
   "execution_count": null,
   "metadata": {
    "collapsed": true
   },
   "outputs": [],
   "source": [
    "num_ceos_more_than_30_million = ..."
   ]
  },
  {
   "cell_type": "markdown",
   "metadata": {},
   "source": [
    "**Question 3.** Answer the same question with code.  *Hint:* Use the table method `where` and the property `num_rows`."
   ]
  },
  {
   "cell_type": "code",
   "execution_count": null,
   "metadata": {},
   "outputs": [],
   "source": [
    "num_ceos_more_than_30_million_2 = ...\n",
    "num_ceos_more_than_30_million_2"
   ]
  },
  {
   "cell_type": "code",
   "execution_count": null,
   "metadata": {},
   "outputs": [],
   "source": [
    "_ = tests.grade('q4_3')"
   ]
  },
  {
   "cell_type": "markdown",
   "metadata": {},
   "source": [
    "**Question 4.** Do most CEOs make around the same amount, or are there some who make a lot more than the rest?  Discuss with someone near you."
   ]
  },
  {
   "cell_type": "code",
   "execution_count": null,
   "metadata": {},
   "outputs": [],
   "source": [
    "# For your convenience, you can run this cell to run all the tests at once!\n",
    "import os\n",
    "_ = [tests.grade(q[:-3]) for q in os.listdir(\"tests\") if q.startswith('q')]"
   ]
  },
  {
   "cell_type": "code",
   "execution_count": null,
   "metadata": {},
   "outputs": [],
   "source": [
    "# Run this cell to submit your work *after* you have passed all of the test cells.\n",
    "# It's ok to run this cell multiple times. Only your final submission will be scored.\n",
    "\n",
    "!TZ=America/Los_Angeles ipython nbconvert --output=\".lab04_$(date +%m%d_%H%M)_submission.html\" lab04.ipynb"
   ]
  }
 ],
 "metadata": {
  "anaconda-cloud": {},
  "kernelspec": {
   "display_name": "Python [default]",
   "language": "python",
   "name": "python3"
  },
  "language_info": {
   "codemirror_mode": {
    "name": "ipython",
    "version": 3
   },
   "file_extension": ".py",
   "mimetype": "text/x-python",
   "name": "python",
   "nbconvert_exporter": "python",
   "pygments_lexer": "ipython3",
   "version": "3.6.5"
  }
 },
 "nbformat": 4,
 "nbformat_minor": 1
}
