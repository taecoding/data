{
 "cells": [
  {
   "cell_type": "code",
   "execution_count": 1,
   "metadata": {},
   "outputs": [],
   "source": [
    "import os\n",
    "\n",
    "for i in range(1,13):\n",
    "    padding = '0' if i < 10 else ''\n",
    "    folder = 'lab' + padding + str(i)\n",
    "    os.system('zip -r fa16.{0}.zip {0}'.format(folder))\n",
    "    "
   ]
  },
  {
   "cell_type": "code",
   "execution_count": 2,
   "metadata": {},
   "outputs": [
    {
     "name": "stdout",
     "output_type": "stream",
     "text": [
      "Untitled.ipynb  fa16.lab05.zip  fa16.lab10.zip  \u001b[34mlab05\u001b[m\u001b[m/          \u001b[34mlab10\u001b[m\u001b[m/\r\n",
      "fa16.lab01.zip  fa16.lab06.zip  \u001b[34mlab01\u001b[m\u001b[m/          \u001b[34mlab06\u001b[m\u001b[m/\r\n",
      "fa16.lab02.zip  fa16.lab07.zip  \u001b[34mlab02\u001b[m\u001b[m/          \u001b[34mlab07\u001b[m\u001b[m/\r\n",
      "fa16.lab03.zip  fa16.lab08.zip  \u001b[34mlab03\u001b[m\u001b[m/          \u001b[34mlab08\u001b[m\u001b[m/\r\n",
      "fa16.lab04.zip  fa16.lab09.zip  \u001b[34mlab04\u001b[m\u001b[m/          \u001b[34mlab09\u001b[m\u001b[m/\r\n"
     ]
    }
   ],
   "source": [
    "ls"
   ]
  },
  {
   "cell_type": "code",
   "execution_count": 3,
   "metadata": {},
   "outputs": [],
   "source": [
    "cp *.zip /Users/tjung/github.mastertaehee/taecoding.github.io/cs61/data8/."
   ]
  },
  {
   "cell_type": "code",
   "execution_count": null,
   "metadata": {},
   "outputs": [],
   "source": []
  }
 ],
 "metadata": {
  "kernelspec": {
   "display_name": "Python [conda env:apollo] *",
   "language": "python",
   "name": "conda-env-apollo-py"
  },
  "language_info": {
   "codemirror_mode": {
    "name": "ipython",
    "version": 3
   },
   "file_extension": ".py",
   "mimetype": "text/x-python",
   "name": "python",
   "nbconvert_exporter": "python",
   "pygments_lexer": "ipython3",
   "version": "3.6.8"
  }
 },
 "nbformat": 4,
 "nbformat_minor": 2
}
