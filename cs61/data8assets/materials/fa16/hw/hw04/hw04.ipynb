{
 "cells": [
  {
   "cell_type": "code",
   "execution_count": 4,
   "metadata": {},
   "outputs": [
    {
     "name": "stdout",
     "output_type": "stream",
     "text": [
      "Collecting datascience\n",
      "\u001b[?25l  Downloading https://files.pythonhosted.org/packages/89/ba/545f100399c7f49aca9ae5a648b39a959bf594bcb54f08af4833fcff5485/datascience-0.13.5.tar.gz (41kB)\n",
      "\u001b[K    100% |████████████████████████████████| 51kB 2.9MB/s ta 0:00:011\n",
      "\u001b[?25hCollecting folium>=0.9.1 (from datascience)\n",
      "\u001b[?25l  Downloading https://files.pythonhosted.org/packages/4f/86/1ab30184cb60bc2b95deffe2bd86b8ddbab65a4fac9f7313c278c6e8d049/folium-0.9.1-py2.py3-none-any.whl (91kB)\n",
      "\u001b[K    100% |████████████████████████████████| 92kB 5.2MB/s ta 0:00:011\n",
      "\u001b[?25hCollecting sphinx (from datascience)\n",
      "\u001b[?25l  Downloading https://files.pythonhosted.org/packages/6e/e5/c9ba68935cd2d72c553d49bc156bfb15ddb40e734ea7e3f238d8bd6ca6f1/Sphinx-2.1.2-py3-none-any.whl (3.2MB)\n",
      "\u001b[K    100% |████████████████████████████████| 3.3MB 6.4MB/s eta 0:00:01\n",
      "\u001b[?25hRequirement already satisfied: setuptools in /anaconda3/envs/cs61_env/lib/python3.6/site-packages (from datascience) (39.1.0)\n",
      "Collecting pytest (from datascience)\n",
      "\u001b[?25l  Downloading https://files.pythonhosted.org/packages/69/1d/2430053122a3c6106f7fd1ff0bc68eb73e27db8f951db70fcd942da52c7b/pytest-5.0.1-py3-none-any.whl (221kB)\n",
      "\u001b[K    100% |████████████████████████████████| 225kB 11.4MB/s ta 0:00:01\n",
      "\u001b[?25hCollecting coverage==4.5.3 (from datascience)\n",
      "\u001b[?25l  Downloading https://files.pythonhosted.org/packages/82/70/2280b5b29a0352519bb95ab0ef1ea942d40466ca71c53a2085bdeff7b0eb/coverage-4.5.3.tar.gz (384kB)\n",
      "\u001b[K    100% |████████████████████████████████| 389kB 2.4MB/s ta 0:00:011\n",
      "\u001b[?25hCollecting coveralls (from datascience)\n",
      "  Downloading https://files.pythonhosted.org/packages/7c/f0/80c6957c3e88981d608681568460972156b5b2b870c76ab976b909e0003f/coveralls-1.8.1-py2.py3-none-any.whl\n",
      "Requirement already satisfied: jinja2>=2.9 in /anaconda3/envs/cs61_env/lib/python3.6/site-packages (from folium>=0.9.1->datascience) (2.10)\n",
      "Requirement already satisfied: requests in /anaconda3/envs/cs61_env/lib/python3.6/site-packages (from folium>=0.9.1->datascience) (2.18.4)\n",
      "Collecting branca>=0.3.0 (from folium>=0.9.1->datascience)\n",
      "  Downloading https://files.pythonhosted.org/packages/63/36/1c93318e9653f4e414a2e0c3b98fc898b4970e939afeedeee6075dd3b703/branca-0.3.1-py3-none-any.whl\n",
      "Requirement already satisfied: numpy in /anaconda3/envs/cs61_env/lib/python3.6/site-packages (from folium>=0.9.1->datascience) (1.14.3)\n",
      "Requirement already satisfied: docutils>=0.12 in /Users/tjung/.local/lib/python3.6/site-packages (from sphinx->datascience) (0.14)\n",
      "Collecting sphinxcontrib-devhelp (from sphinx->datascience)\n",
      "  Using cached https://files.pythonhosted.org/packages/b0/a3/fea98741f0b2f2902fbf6c35c8e91b22cd0dd13387291e81d457f9a93066/sphinxcontrib_devhelp-1.0.1-py2.py3-none-any.whl\n",
      "Collecting snowballstemmer>=1.1 (from sphinx->datascience)\n",
      "\u001b[?25l  Downloading https://files.pythonhosted.org/packages/a0/5e/d9ead2d57d39b3e1c1868ce84212319e5543a19c4185dce7e42a9dd968b0/snowballstemmer-1.9.0.tar.gz (76kB)\n",
      "\u001b[K    100% |████████████████████████████████| 81kB 12.9MB/s ta 0:00:01\n",
      "\u001b[?25hCollecting babel!=2.0,>=1.3 (from sphinx->datascience)\n",
      "  Using cached https://files.pythonhosted.org/packages/2c/60/f2af68eb046c5de5b1fe6dd4743bf42c074f7141fe7b2737d3061533b093/Babel-2.7.0-py2.py3-none-any.whl\n",
      "Requirement already satisfied: Pygments>=2.0 in /anaconda3/envs/cs61_env/lib/python3.6/site-packages (from sphinx->datascience) (2.2.0)\n",
      "Collecting sphinxcontrib-serializinghtml (from sphinx->datascience)\n",
      "  Using cached https://files.pythonhosted.org/packages/57/b3/3648e48fa5682e61e9839d62de4e23af1795ceb738d68d73bd974257a95c/sphinxcontrib_serializinghtml-1.1.3-py2.py3-none-any.whl\n",
      "Collecting sphinxcontrib-applehelp (from sphinx->datascience)\n",
      "  Using cached https://files.pythonhosted.org/packages/13/9a/4428b3114d654cb1cd34d90d5e6fab938d5436f94a571155187ea1dd78b4/sphinxcontrib_applehelp-1.0.1-py2.py3-none-any.whl\n",
      "Collecting packaging (from sphinx->datascience)\n",
      "  Using cached https://files.pythonhosted.org/packages/91/32/58bc30e646e55eab8b21abf89e353f59c0cc02c417e42929f4a9546e1b1d/packaging-19.0-py2.py3-none-any.whl\n",
      "Collecting sphinxcontrib-jsmath (from sphinx->datascience)\n",
      "  Using cached https://files.pythonhosted.org/packages/c2/42/4c8646762ee83602e3fb3fbe774c2fac12f317deb0b5dbeeedd2d3ba4b77/sphinxcontrib_jsmath-1.0.1-py2.py3-none-any.whl\n",
      "Collecting imagesize (from sphinx->datascience)\n",
      "  Using cached https://files.pythonhosted.org/packages/fc/b6/aef66b4c52a6ad6ac18cf6ebc5731ed06d8c9ae4d3b2d9951f261150be67/imagesize-1.1.0-py2.py3-none-any.whl\n",
      "Collecting sphinxcontrib-qthelp (from sphinx->datascience)\n",
      "  Using cached https://files.pythonhosted.org/packages/ce/5b/4747c3ba98b3a3e21a66faa183d8f79b9ded70e74212a7988d236a6eb78a/sphinxcontrib_qthelp-1.0.2-py2.py3-none-any.whl\n",
      "Collecting alabaster<0.8,>=0.7 (from sphinx->datascience)\n",
      "  Using cached https://files.pythonhosted.org/packages/10/ad/00b090d23a222943eb0eda509720a404f531a439e803f6538f35136cae9e/alabaster-0.7.12-py2.py3-none-any.whl\n",
      "Collecting sphinxcontrib-htmlhelp (from sphinx->datascience)\n",
      "  Using cached https://files.pythonhosted.org/packages/e4/35/80a67cc493f4a8a9634ab203a77aaa1b84d79ccb1c02eca72cb084d2c7f7/sphinxcontrib_htmlhelp-1.0.2-py2.py3-none-any.whl\n",
      "Collecting pluggy<1.0,>=0.12 (from pytest->datascience)\n",
      "  Using cached https://files.pythonhosted.org/packages/06/ee/de89e0582276e3551df3110088bf20844de2b0e7df2748406876cc78e021/pluggy-0.12.0-py2.py3-none-any.whl\n",
      "Collecting more-itertools>=4.0.0 (from pytest->datascience)\n",
      "\u001b[?25l  Downloading https://files.pythonhosted.org/packages/1f/9e/942df77ddde2fae3f319f2ab8b5d00d5f6b115496e2eb4bad37d1aaefeea/more_itertools-7.1.0-py3-none-any.whl (55kB)\n",
      "\u001b[K    100% |████████████████████████████████| 61kB 10.1MB/s ta 0:00:01\n",
      "\u001b[?25hRequirement already satisfied: wcwidth in /anaconda3/envs/cs61_env/lib/python3.6/site-packages (from pytest->datascience) (0.1.7)\n",
      "Collecting py>=1.5.0 (from pytest->datascience)\n",
      "  Using cached https://files.pythonhosted.org/packages/76/bc/394ad449851729244a97857ee14d7cba61ddb268dce3db538ba2f2ba1f0f/py-1.8.0-py2.py3-none-any.whl\n",
      "Collecting attrs>=17.4.0 (from pytest->datascience)\n",
      "  Using cached https://files.pythonhosted.org/packages/23/96/d828354fa2dbdf216eaa7b7de0db692f12c234f7ef888cc14980ef40d1d2/attrs-19.1.0-py2.py3-none-any.whl\n",
      "Collecting importlib-metadata>=0.12 (from pytest->datascience)\n",
      "  Downloading https://files.pythonhosted.org/packages/bd/23/dce4879ec58acf3959580bfe769926ed8198727250c5e395e6785c764a02/importlib_metadata-0.18-py2.py3-none-any.whl\n",
      "Collecting atomicwrites>=1.0 (from pytest->datascience)\n",
      "  Using cached https://files.pythonhosted.org/packages/52/90/6155aa926f43f2b2a22b01be7241be3bfd1ceaf7d0b3267213e8127d41f4/atomicwrites-1.3.0-py2.py3-none-any.whl\n",
      "Collecting docopt>=0.6.1 (from coveralls->datascience)\n",
      "  Using cached https://files.pythonhosted.org/packages/a2/55/8f8cab2afd404cf578136ef2cc5dfb50baa1761b68c9da1fb1e4eed343c9/docopt-0.6.2.tar.gz\n",
      "Requirement already satisfied: MarkupSafe>=0.23 in /anaconda3/envs/cs61_env/lib/python3.6/site-packages (from jinja2>=2.9->folium>=0.9.1->datascience) (1.0)\n",
      "Requirement already satisfied: chardet<3.1.0,>=3.0.2 in /anaconda3/envs/cs61_env/lib/python3.6/site-packages (from requests->folium>=0.9.1->datascience) (3.0.4)\n",
      "Requirement already satisfied: idna<2.7,>=2.5 in /anaconda3/envs/cs61_env/lib/python3.6/site-packages (from requests->folium>=0.9.1->datascience) (2.6)\n",
      "Collecting urllib3<1.23,>=1.21.1 (from requests->folium>=0.9.1->datascience)\n",
      "\u001b[?25l  Downloading https://files.pythonhosted.org/packages/63/cb/6965947c13a94236f6d4b8223e21beb4d576dc72e8130bd7880f600839b8/urllib3-1.22-py2.py3-none-any.whl (132kB)\n",
      "\u001b[K    100% |████████████████████████████████| 133kB 10.8MB/s ta 0:00:01\n",
      "\u001b[?25hRequirement already satisfied: certifi>=2017.4.17 in /anaconda3/envs/cs61_env/lib/python3.6/site-packages (from requests->folium>=0.9.1->datascience) (2018.4.16)\n",
      "Requirement already satisfied: six in /anaconda3/envs/cs61_env/lib/python3.6/site-packages (from branca>=0.3.0->folium>=0.9.1->datascience) (1.11.0)\n",
      "Requirement already satisfied: pytz>=2015.7 in /anaconda3/envs/cs61_env/lib/python3.6/site-packages (from babel!=2.0,>=1.3->sphinx->datascience) (2018.4)\n",
      "Requirement already satisfied: pyparsing>=2.0.2 in /anaconda3/envs/cs61_env/lib/python3.6/site-packages (from packaging->sphinx->datascience) (2.2.0)\n"
     ]
    },
    {
     "name": "stdout",
     "output_type": "stream",
     "text": [
      "Collecting zipp>=0.5 (from importlib-metadata>=0.12->pytest->datascience)\n",
      "  Using cached https://files.pythonhosted.org/packages/a0/0f/9bf71d438d2e9d5fd0e4569ea4d1a2b6f5a524c234c6d221b494298bb4d1/zipp-0.5.1-py2.py3-none-any.whl\n",
      "Building wheels for collected packages: datascience, coverage, snowballstemmer, docopt\n",
      "  Running setup.py bdist_wheel for datascience ... \u001b[?25ldone\n",
      "\u001b[?25h  Stored in directory: /Users/tjung/Library/Caches/pip/wheels/86/64/f2/f665d36604e306b46b3b9dd710bc3b193c30edf893bd62df6a\n",
      "  Running setup.py bdist_wheel for coverage ... \u001b[?25ldone\n",
      "\u001b[?25h  Stored in directory: /Users/tjung/Library/Caches/pip/wheels/5a/8e/cc/e8e6791c9a7cafbe0d078fda0855646e2bad210092dae7670f\n",
      "  Running setup.py bdist_wheel for snowballstemmer ... \u001b[?25ldone\n",
      "\u001b[?25h  Stored in directory: /Users/tjung/Library/Caches/pip/wheels/93/db/97/496f1d6bbcad1fecbc58fe45363540414be519312eded82bab\n",
      "  Running setup.py bdist_wheel for docopt ... \u001b[?25ldone\n",
      "\u001b[?25h  Stored in directory: /Users/tjung/Library/Caches/pip/wheels/9b/04/dd/7daf4150b6d9b12949298737de9431a324d4b797ffd63f526e\n",
      "Successfully built datascience coverage snowballstemmer docopt\n",
      "Installing collected packages: branca, folium, sphinxcontrib-devhelp, snowballstemmer, babel, sphinxcontrib-serializinghtml, sphinxcontrib-applehelp, packaging, sphinxcontrib-jsmath, imagesize, sphinxcontrib-qthelp, alabaster, sphinxcontrib-htmlhelp, sphinx, zipp, importlib-metadata, pluggy, more-itertools, py, attrs, atomicwrites, pytest, coverage, docopt, coveralls, datascience, urllib3\n",
      "  Found existing installation: urllib3 1.24.1\n",
      "    Uninstalling urllib3-1.24.1:\n",
      "      Successfully uninstalled urllib3-1.24.1\n",
      "Successfully installed alabaster-0.7.12 atomicwrites-1.3.0 attrs-19.1.0 babel-2.7.0 branca-0.3.1 coverage-4.5.3 coveralls-1.8.1 datascience-0.13.5 docopt-0.6.2 folium-0.9.1 imagesize-1.1.0 importlib-metadata-0.18 more-itertools-7.1.0 packaging-19.0 pluggy-0.12.0 py-1.8.0 pytest-5.0.1 snowballstemmer-1.9.0 sphinx-2.1.2 sphinxcontrib-applehelp-1.0.1 sphinxcontrib-devhelp-1.0.1 sphinxcontrib-htmlhelp-1.0.2 sphinxcontrib-jsmath-1.0.1 sphinxcontrib-qthelp-1.0.2 sphinxcontrib-serializinghtml-1.1.3 urllib3-1.22 zipp-0.5.1\n",
      "\u001b[33mYou are using pip version 10.0.1, however version 19.1.1 is available.\n",
      "You should consider upgrading via the 'pip install --upgrade pip' command.\u001b[0m\n"
     ]
    }
   ],
   "source": [
    "!pip install datascience"
   ]
  },
  {
   "cell_type": "code",
   "execution_count": 6,
   "metadata": {},
   "outputs": [
    {
     "name": "stdout",
     "output_type": "stream",
     "text": [
      "Collecting okpy\n",
      "\u001b[?25l  Downloading https://files.pythonhosted.org/packages/28/c8/0a2cb5bba774551781297902400f2a7c68a68fd36b8a685b6d176c2e24d9/okpy-1.14.15-py3-none-any.whl (97kB)\n",
      "\u001b[K    100% |████████████████████████████████| 102kB 3.1MB/s a 0:00:01\n",
      "\u001b[?25hCollecting coverage==3.7.1 (from okpy)\n",
      "  Using cached https://files.pythonhosted.org/packages/09/4f/89b06c7fdc09687bca507dc411c342556ef9c5a3b26756137a4878ff19bf/coverage-3.7.1.tar.gz\n",
      "Collecting requests==2.12.4 (from okpy)\n",
      "\u001b[?25l  Downloading https://files.pythonhosted.org/packages/ed/9e/60cc074968c095f728f0d8d28370e8d396fa60afb7582735563cccf223dd/requests-2.12.4-py2.py3-none-any.whl (576kB)\n",
      "\u001b[K    100% |████████████████████████████████| 583kB 9.8MB/s eta 0:00:01\n",
      "\u001b[?25hBuilding wheels for collected packages: coverage\n",
      "  Running setup.py bdist_wheel for coverage ... \u001b[?25ldone\n",
      "\u001b[?25h  Stored in directory: /Users/tjung/Library/Caches/pip/wheels/68/58/66/f1fc9afad272df0df0fa38cdef34ee2d5d8d6a85f4eb5acab5\n",
      "Successfully built coverage\n",
      "\u001b[31mdatascience 0.13.5 has requirement coverage==4.5.3, but you'll have coverage 3.7.1 which is incompatible.\u001b[0m\n",
      "Installing collected packages: coverage, requests, okpy\n",
      "  Found existing installation: coverage 4.5.3\n",
      "    Uninstalling coverage-4.5.3:\n",
      "      Successfully uninstalled coverage-4.5.3\n",
      "  Found existing installation: requests 2.18.4\n",
      "    Uninstalling requests-2.18.4:\n",
      "      Successfully uninstalled requests-2.18.4\n",
      "Successfully installed coverage-3.7.1 okpy-1.14.15 requests-2.12.4\n",
      "\u001b[33mYou are using pip version 10.0.1, however version 19.1.1 is available.\n",
      "You should consider upgrading via the 'pip install --upgrade pip' command.\u001b[0m\n"
     ]
    }
   ],
   "source": [
    "!pip install okpy"
   ]
  },
  {
   "cell_type": "markdown",
   "metadata": {},
   "source": [
    "# Homework 4: Functions and Histograms\n",
    "\n",
    "Please complete this notebook by filling in the cells provided. When you’re done, follow the instructions in [this short explainer video](https://www.youtube.com/watch?v=gMt_Rq43y_4&ab_channel=FahadKamran) to submit your homework.\n",
    "\n",
    "If you cannot submit online, come to office hours for assistance. The office hours\n",
    "schedule appears on [data8.org/fa16/weekly.html](http://data8.org/fa16/weekly.html).\n",
    "\n",
    "This assignment is due Thursday, September 22 at 5PM. You will receive an early submission bonus point if you turn it in by Wednesday, September 21 at 5PM. Directly sharing answers is not okay, but discussing problems with course staff or with other students is encouraged.\n",
    "\n",
    "Reading:\n",
    "- Textbook chapters [6](http://www.inferentialthinking.com/chapters/06/visualization.html) and [7](http://www.inferentialthinking.com/chapters/07/functions-and-tables.html)"
   ]
  },
  {
   "cell_type": "markdown",
   "metadata": {},
   "source": [
    "Run the cell below to prepare the notebook and the tests. **Passing the automatic tests does not guarantee full credit on any question.** The tests are provided to help catch some common errors, but it is *your* responsibility to answer the questions correctly."
   ]
  },
  {
   "cell_type": "code",
   "execution_count": 7,
   "metadata": {},
   "outputs": [
    {
     "name": "stdout",
     "output_type": "stream",
     "text": [
      "=====================================================================\n",
      "Assignment: Homework 4: Functions and Histograms\n",
      "OK, version v1.14.15\n",
      "=====================================================================\n",
      "\n"
     ]
    }
   ],
   "source": [
    "# Run this cell to set up the notebook, but please don't change it.\n",
    "import numpy as np\n",
    "from datascience import *\n",
    "\n",
    "# These lines do some fancy plotting magic.\n",
    "import matplotlib\n",
    "%matplotlib inline\n",
    "import matplotlib.pyplot as plt\n",
    "plt.style.use('fivethirtyeight')\n",
    "import warnings\n",
    "warnings.simplefilter('ignore', FutureWarning)\n",
    "\n",
    "from client.api.assignment import load_assignment\n",
    "tests = load_assignment('hw04.ok')"
   ]
  },
  {
   "cell_type": "markdown",
   "metadata": {},
   "source": [
    "## 1. Predicting Temperatures\n"
   ]
  },
  {
   "cell_type": "markdown",
   "metadata": {},
   "source": [
    "In this exercise, we will try to predict the weather in California using the prediction method  discussed in [section 7.1 of the textbook](https://www.inferentialthinking.com/chapters/07/1/applying-a-function-to-a-column.html).  Much of the code is provided for you; you will be asked to understand and run the code and interpret the results.\n",
    "\n",
    "The US National Oceanic and Atmospheric Administration (NOAA) operates thousands of climate observation stations (mostly in the US) that collect information about local climate.  Among other things, each station records the highest and lowest observed temperature each day.  These data, called \"Quality Controlled Local Climatological Data,\" are publicly available [here](http://www.ncdc.noaa.gov/orders/qclcd/) and described [here](https://www.ncdc.noaa.gov/data-access/land-based-station-data/land-based-datasets/quality-controlled-local-climatological-data-qclcd).\n",
    "\n",
    "`temperatures.csv` contains an excerpt of that dataset.  Each row represents a temperature reading in Fahrenheit from one station on one day.  (The temperature is actually the highest temperature observed at that station on that day.)  All the readings are from 2015 and from California stations."
   ]
  },
  {
   "cell_type": "code",
   "execution_count": 8,
   "metadata": {},
   "outputs": [
    {
     "data": {
      "text/html": [
       "<table border=\"1\" class=\"dataframe\">\n",
       "    <thead>\n",
       "        <tr>\n",
       "            <th>Temperature</th> <th>Date</th> <th>Latitude</th> <th>Longitude</th> <th>Station name</th>\n",
       "        </tr>\n",
       "    </thead>\n",
       "    <tbody>\n",
       "        <tr>\n",
       "            <td>67         </td> <td>1013</td> <td>40.9781 </td> <td>-124.109 </td> <td>Arcata/Eureka</td>\n",
       "        </tr>\n",
       "        <tr>\n",
       "            <td>63         </td> <td>811 </td> <td>38.3208 </td> <td>-123.075 </td> <td>Bodega       </td>\n",
       "        </tr>\n",
       "        <tr>\n",
       "            <td>94         </td> <td>706 </td> <td>39.1019 </td> <td>-121.568 </td> <td>Marysville   </td>\n",
       "        </tr>\n",
       "        <tr>\n",
       "            <td>59         </td> <td>1211</td> <td>36.9358 </td> <td>-121.789 </td> <td>Watsonville  </td>\n",
       "        </tr>\n",
       "        <tr>\n",
       "            <td>111        </td> <td>620 </td> <td>32.8342 </td> <td>-115.579 </td> <td>Imperial     </td>\n",
       "        </tr>\n",
       "        <tr>\n",
       "            <td>88         </td> <td>821 </td> <td>33.9    </td> <td>-117.25  </td> <td>Riverside    </td>\n",
       "        </tr>\n",
       "        <tr>\n",
       "            <td>68         </td> <td>606 </td> <td>33.938  </td> <td>-118.389 </td> <td>Los Angeles  </td>\n",
       "        </tr>\n",
       "        <tr>\n",
       "            <td>66         </td> <td>205 </td> <td>37.2847 </td> <td>-120.513 </td> <td>Merced       </td>\n",
       "        </tr>\n",
       "        <tr>\n",
       "            <td>89         </td> <td>902 </td> <td>39.49   </td> <td>-121.618 </td> <td>Oroville     </td>\n",
       "        </tr>\n",
       "        <tr>\n",
       "            <td>105        </td> <td>728 </td> <td>34.8536 </td> <td>-116.786 </td> <td>Daggett      </td>\n",
       "        </tr>\n",
       "    </tbody>\n",
       "</table>\n",
       "<p>... (990 rows omitted)</p>"
      ],
      "text/plain": [
       "Temperature | Date | Latitude | Longitude | Station name\n",
       "67          | 1013 | 40.9781  | -124.109  | Arcata/Eureka\n",
       "63          | 811  | 38.3208  | -123.075  | Bodega\n",
       "94          | 706  | 39.1019  | -121.568  | Marysville\n",
       "59          | 1211 | 36.9358  | -121.789  | Watsonville\n",
       "111         | 620  | 32.8342  | -115.579  | Imperial\n",
       "88          | 821  | 33.9     | -117.25   | Riverside\n",
       "68          | 606  | 33.938   | -118.389  | Los Angeles\n",
       "66          | 205  | 37.2847  | -120.513  | Merced\n",
       "89          | 902  | 39.49    | -121.618  | Oroville\n",
       "105         | 728  | 34.8536  | -116.786  | Daggett\n",
       "... (990 rows omitted)"
      ]
     },
     "execution_count": 8,
     "metadata": {},
     "output_type": "execute_result"
    }
   ],
   "source": [
    "temperatures = Table.read_table(\"temperatures.csv\")\n",
    "temperatures"
   ]
  },
  {
   "cell_type": "markdown",
   "metadata": {},
   "source": [
    "Here is a scatter plot:"
   ]
  },
  {
   "cell_type": "code",
   "execution_count": 9,
   "metadata": {},
   "outputs": [
    {
     "data": {
      "image/png": "[encoded data removed]",
      "text/plain": [
       "<Figure size 360x360 with 1 Axes>"
      ]
     },
     "metadata": {},
     "output_type": "display_data"
    }
   ],
   "source": [
    "temperatures.scatter(\"Date\", \"Temperature\")"
   ]
  },
  {
   "cell_type": "markdown",
   "metadata": {},
   "source": [
    "Each entry in the column \"Date\" is a number in MMDD format, meaning that the last two digits denote the day of the month, and the first 1 or 2 digits denote the month.\n",
    "\n",
    "**Question 1.** Why do the data form vertical bands with gaps?"
   ]
  },
  {
   "cell_type": "markdown",
   "metadata": {},
   "source": [
    "The day in month is displayed with 2 digits. "
   ]
  },
  {
   "cell_type": "markdown",
   "metadata": {},
   "source": [
    "Let us solve that problem.  We will convert each date to the number of days since the start of the year."
   ]
  },
  {
   "cell_type": "code",
   "execution_count": 16,
   "metadata": {},
   "outputs": [
    {
     "data": {
      "text/html": [
       "<table border=\"1\" class=\"dataframe\">\n",
       "    <thead>\n",
       "        <tr>\n",
       "            <th>Temperature</th> <th>Date</th> <th>Latitude</th> <th>Longitude</th> <th>Station name</th> <th>Days since start of year</th>\n",
       "        </tr>\n",
       "    </thead>\n",
       "    <tbody>\n",
       "        <tr>\n",
       "            <td>67         </td> <td>1013</td> <td>40.9781 </td> <td>-124.109 </td> <td>Arcata/Eureka</td> <td>286                     </td>\n",
       "        </tr>\n",
       "        <tr>\n",
       "            <td>63         </td> <td>811 </td> <td>38.3208 </td> <td>-123.075 </td> <td>Bodega       </td> <td>223                     </td>\n",
       "        </tr>\n",
       "        <tr>\n",
       "            <td>94         </td> <td>706 </td> <td>39.1019 </td> <td>-121.568 </td> <td>Marysville   </td> <td>187                     </td>\n",
       "        </tr>\n",
       "        <tr>\n",
       "            <td>59         </td> <td>1211</td> <td>36.9358 </td> <td>-121.789 </td> <td>Watsonville  </td> <td>345                     </td>\n",
       "        </tr>\n",
       "        <tr>\n",
       "            <td>111        </td> <td>620 </td> <td>32.8342 </td> <td>-115.579 </td> <td>Imperial     </td> <td>171                     </td>\n",
       "        </tr>\n",
       "        <tr>\n",
       "            <td>88         </td> <td>821 </td> <td>33.9    </td> <td>-117.25  </td> <td>Riverside    </td> <td>233                     </td>\n",
       "        </tr>\n",
       "        <tr>\n",
       "            <td>68         </td> <td>606 </td> <td>33.938  </td> <td>-118.389 </td> <td>Los Angeles  </td> <td>157                     </td>\n",
       "        </tr>\n",
       "        <tr>\n",
       "            <td>66         </td> <td>205 </td> <td>37.2847 </td> <td>-120.513 </td> <td>Merced       </td> <td>36                      </td>\n",
       "        </tr>\n",
       "        <tr>\n",
       "            <td>89         </td> <td>902 </td> <td>39.49   </td> <td>-121.618 </td> <td>Oroville     </td> <td>245                     </td>\n",
       "        </tr>\n",
       "        <tr>\n",
       "            <td>105        </td> <td>728 </td> <td>34.8536 </td> <td>-116.786 </td> <td>Daggett      </td> <td>209                     </td>\n",
       "        </tr>\n",
       "    </tbody>\n",
       "</table>\n",
       "<p>... (990 rows omitted)</p>"
      ],
      "text/plain": [
       "Temperature | Date | Latitude | Longitude | Station name  | Days since start of year\n",
       "67          | 1013 | 40.9781  | -124.109  | Arcata/Eureka | 286\n",
       "63          | 811  | 38.3208  | -123.075  | Bodega        | 223\n",
       "94          | 706  | 39.1019  | -121.568  | Marysville    | 187\n",
       "59          | 1211 | 36.9358  | -121.789  | Watsonville   | 345\n",
       "111         | 620  | 32.8342  | -115.579  | Imperial      | 171\n",
       "88          | 821  | 33.9     | -117.25   | Riverside     | 233\n",
       "68          | 606  | 33.938   | -118.389  | Los Angeles   | 157\n",
       "66          | 205  | 37.2847  | -120.513  | Merced        | 36\n",
       "89          | 902  | 39.49    | -121.618  | Oroville      | 245\n",
       "105         | 728  | 34.8536  | -116.786  | Daggett       | 209\n",
       "... (990 rows omitted)"
      ]
     },
     "execution_count": 16,
     "metadata": {},
     "output_type": "execute_result"
    }
   ],
   "source": [
    "def get_month(date):\n",
    "    \"\"\"The month in the year for a given date.\n",
    "    \n",
    "    >>> get_month(315)\n",
    "    3\n",
    "    \"\"\"\n",
    "    return int(date / 100)\n",
    "\n",
    "def get_day_in_month(date):\n",
    "    \"\"\"The day in the month for a given date.\n",
    "    \n",
    "    >>> get_day_in_month(315)\n",
    "    15\n",
    "    \"\"\"\n",
    "    return date % 100\n",
    "\n",
    "DAYS_IN_MONTHS = Table().with_columns(\n",
    "    \"Month\", np.arange(1, 12+1),\n",
    "    \"Days in Month\", make_array(31, 28, 31, 30, 31, 30, 31, 31, 30, 31, 30, 31))\n",
    "\n",
    "# A table with one row for each month.  For each month, we have\n",
    "# the number of the month (e.g. 3 for March), the number of\n",
    "# days in that month in 2015 (e.g. 31 for March), and the\n",
    "# number of days in the year before the first day of that month\n",
    "# (e.g. 0 for January or 59 for March).\n",
    "DAYS_SINCE_YEAR_START = DAYS_IN_MONTHS.with_column(\n",
    "    \"Days since start of year\", np.cumsum(DAYS_IN_MONTHS.column(\"Days in Month\")) - DAYS_IN_MONTHS.column(\"Days in Month\"))\n",
    "\n",
    "def days_since_year_start(month):\n",
    "    \"\"\"The number of days in the year before this month starts.\n",
    "    \n",
    "    month should be the number of a month, like 3 for March.\n",
    "    \n",
    "    >>> days_since_year_start(3)\n",
    "    59\n",
    "    \"\"\"\n",
    "    return DAYS_SINCE_YEAR_START.where(\"Month\", are.equal_to(month))\\\n",
    "                                .column(\"Days since start of year\")\\\n",
    "                                .item(0)\n",
    "\n",
    "# First, extract the month and day for each reading.\n",
    "with_month_and_day = temperatures.with_columns(\n",
    "    \"Month\", temperatures.apply(get_month, \"Date\"),\n",
    "    \"Day in month\", temperatures.apply(get_day_in_month, \"Date\"))\n",
    "# Compute the days-since-year-start for each month and day.\n",
    "fixed_dates = with_month_and_day.apply(days_since_year_start, \"Month\") + with_month_and_day.column(\"Day in month\")\n",
    "# Add those to the table.\n",
    "with_dates_fixed = with_month_and_day.with_column(\"Days since start of year\", fixed_dates).drop(\"Month\", \"Day in month\")\n",
    "with_dates_fixed"
   ]
  },
  {
   "cell_type": "markdown",
   "metadata": {},
   "source": [
    "**Question 2.** In the cell above, what is the value of this expression?\n",
    "\n",
    "    np.cumsum(DAYS_IN_MONTHS.column(\"Days in Month\")) - DAYS_IN_MONTHS.column(\"Days in Month\")\n",
    "    \n",
    "Describe its type and what its value (or the values in it, if it's an array or table) means.\n",
    "\n",
    "*Hint:* You can write `np.cumsum?` to get documentation for the function `cumsum`."
   ]
  },
  {
   "cell_type": "code",
   "execution_count": 17,
   "metadata": {
    "for_assignment_type": "student"
   },
   "outputs": [
    {
     "data": {
      "text/plain": [
       "array([ 31,  59,  90, 120, 151, 181, 212, 243, 273, 304, 334, 365])"
      ]
     },
     "execution_count": 17,
     "metadata": {},
     "output_type": "execute_result"
    }
   ],
   "source": [
    "# You can write code in this cell to help you answer this\n",
    "# question, if you want to.\n",
    "np.cumsum(DAYS_IN_MONTHS.column(\"Days in Month\"))"
   ]
  },
  {
   "cell_type": "markdown",
   "metadata": {},
   "source": [
    "*Write your answer here, replacing this text.*"
   ]
  },
  {
   "cell_type": "markdown",
   "metadata": {},
   "source": [
    "Now we can make a better scatter plot."
   ]
  },
  {
   "cell_type": "code",
   "execution_count": 18,
   "metadata": {},
   "outputs": [
    {
     "data": {
      "image/png": "[encoded data removed]",
      "text/plain": [
       "<Figure size 360x360 with 1 Axes>"
      ]
     },
     "metadata": {},
     "output_type": "display_data"
    }
   ],
   "source": [
    "with_dates_fixed.scatter(\"Days since start of year\", \"Temperature\")"
   ]
  },
  {
   "cell_type": "markdown",
   "metadata": {},
   "source": [
    "Let's do some prediction.  For any reading on any day, we will predict its value using all the readings from the week before and after that day.  A reasonable prediction is that the reading will be the average of all those readings.  We will package our code in a function."
   ]
  },
  {
   "cell_type": "code",
   "execution_count": 19,
   "metadata": {},
   "outputs": [],
   "source": [
    "PREDICTION_RADIUS = 7\n",
    "\n",
    "def predict_temperature(day):\n",
    "    \"\"\"A prediction of the temperature (in Fahrenheit) on a given day at some station.\n",
    "    \"\"\"\n",
    "    nearby_readings = with_dates_fixed.where(\"Days since start of year\", are.between_or_equal_to(day - PREDICTION_RADIUS, day + PREDICTION_RADIUS))\n",
    "    return np.average(nearby_readings.column(\"Temperature\"))"
   ]
  },
  {
   "cell_type": "markdown",
   "metadata": {},
   "source": [
    "**Question 3.** Suppose you're planning a trip to Yosemite for Thanksgiving break this year, and you'd like to predict the temperature on November 26 (the Saturday after Thanksgiving). Use `predict_temperature` to compute a prediction for a temperature reading on that day.\n",
    "\n",
    "*Hint:* In addition to `predict_temperature`, another function we wrote earlier will be helpful."
   ]
  },
  {
   "cell_type": "code",
   "execution_count": 20,
   "metadata": {},
   "outputs": [
    {
     "data": {
      "text/plain": [
       "64.31914893617021"
      ]
     },
     "execution_count": 20,
     "metadata": {},
     "output_type": "execute_result"
    }
   ],
   "source": [
    "thanksgiving_prediction = predict_temperature(days_since_year_start(11) + 26)\n",
    "thanksgiving_prediction"
   ]
  },
  {
   "cell_type": "code",
   "execution_count": 21,
   "metadata": {},
   "outputs": [
    {
     "name": "stdout",
     "output_type": "stream",
     "text": [
      "~~~~~~~~~~~~~~~~~~~~~~~~~~~~~~~~~~~~~~~~~~~~~~~~~~~~~~~~~~~~~~~~~~~~~\n",
      "Running tests\n",
      "\n",
      "---------------------------------------------------------------------\n",
      "Test summary\n",
      "    Passed: 1\n",
      "    Failed: 0\n",
      "[ooooooooook] 100.0% passed\n",
      "\n"
     ]
    }
   ],
   "source": [
    "_ = tests.grade('q1_3')"
   ]
  },
  {
   "cell_type": "markdown",
   "metadata": {},
   "source": [
    "Below we have computed a predicted temperature for each reading in the table and plotted both.  (It may take a **minute or two** to run the cell.)"
   ]
  },
  {
   "cell_type": "code",
   "execution_count": 71,
   "metadata": {},
   "outputs": [],
   "source": [
    "with_predictions = with_dates_fixed.with_column(\n",
    "    \"Predicted temperature\",\n",
    "    with_dates_fixed.apply(predict_temperature, \"Days since start of year\"))\n",
    "with_predictions.select(\"Days since start of year\", \"Temperature\", \"Predicted temperature\")\\\n",
    "                .scatter(\"Days since start of year\")"
   ]
  },
  {
   "cell_type": "markdown",
   "metadata": {},
   "source": [
    "**Question 4.** How many times was the first line of the body of the function `predict_temperature` (the one that starts with `nearby_readings = ...`) executed when you ran the cell above?"
   ]
  },
  {
   "cell_type": "markdown",
   "metadata": {},
   "source": [
    "*Write your answer here, replacing this text.*"
   ]
  },
  {
   "cell_type": "markdown",
   "metadata": {},
   "source": [
    "**Question 5.** The scatter plot is called a *graph of averages*.  In the [example in the textbook](https://www.inferentialthinking.com/chapters/07/1/applying-a-function-to-a-column.html#Example:-Prediction), the graph of averages roughly followed a straight line.  Is that true for this one?  Using your knowledge about the weather, explain why or why not."
   ]
  },
  {
   "cell_type": "markdown",
   "metadata": {},
   "source": [
    "*Write your answer here, replacing this text.*"
   ]
  },
  {
   "cell_type": "markdown",
   "metadata": {},
   "source": [
    "**Question 6.** According to the [Wikipedia article](https://en.wikipedia.org/wiki/Climate_of_California) on California's climate, \"[t]he climate of California varies widely, from hot desert to subarctic.\"  Suppose we limited our data to weather stations in a smaller area whose climate varied less from place to place (for example, the state of Vermont, or the San Francisco Bay Area).  If we made the same graph for that dataset, in what ways would you expect it to look different?"
   ]
  },
  {
   "cell_type": "markdown",
   "metadata": {},
   "source": [
    "*Write your answer here, replacing this text.*"
   ]
  },
  {
   "cell_type": "markdown",
   "metadata": {},
   "source": [
    "## 2. Reading Documents\n"
   ]
  },
  {
   "cell_type": "markdown",
   "metadata": {},
   "source": [
    "Often, we have to work with data that aren't in CSV format, but instead come in some less nice form.  In this exercise, we'll look at the text of some Reuters news reports from 1987.  Our dataset doesn't include *all* the news reports from that year, but it includes 1,000 of them.  Reuters doesn't say how the articles were selected.\n",
    "\n",
    "We've put the text of all the articles in a file called `reuters.txt`.  The cell below loads that file into a single big string and prints a few thousand characters, which is just enough to see one full article and the start of the next.  (Don't try to print the whole thing, because it's very long.)"
   ]
  },
  {
   "cell_type": "code",
   "execution_count": 2,
   "metadata": {},
   "outputs": [],
   "source": [
    "# Just run this cell to load the dataset as one big string of text.\n",
    "with open('reuters.txt', 'r') as file:\n",
    "    big_reuters_string = file.read()\n",
    "\n",
    "print(\"{:.5000}\\n[...]\".format(big_reuters_string))"
   ]
  },
  {
   "cell_type": "markdown",
   "metadata": {},
   "source": [
    "There's a bunch of weird text for each article.  Each article is separated from its neighbors by the string `\"***ARTICLE***\"`.\n",
    "\n",
    "**Question 1.** Use the String method `split` to make an array of the text of all the articles.  That is, each entry of this array should be the text of one article.  Put that array in a new table called `reuters` as a column with the name \"Raw text\".\n",
    "\n",
    "*Hint:* When you split the articles correctly, you should see that each article starts with `\"<reuters...\"` and ends with `\"...</reuters>\"`.  There should be 1,000 articles.\n",
    "\n",
    "*Hint 2:* As an example, `\"steamcleaner\".split(\"ea\")` is the same as `make_array('st', 'mcl', 'ner')`.  So you want to split the big string that contains all the data, splitting with the text `\"***ARTICLE***\"`."
   ]
  },
  {
   "cell_type": "code",
   "execution_count": 3,
   "metadata": {},
   "outputs": [],
   "source": [
    "reuters = Table().with_column(\n",
    "        ...\n",
    "    )\n",
    "reuters"
   ]
  },
  {
   "cell_type": "code",
   "execution_count": 4,
   "metadata": {},
   "outputs": [],
   "source": [
    "_ = tests.grade('q2_1')"
   ]
  },
  {
   "cell_type": "markdown",
   "metadata": {},
   "source": [
    "Each article has a line containing its title that looks something like this:\n",
    "\n",
    "    <title>LYNG SETS TOUGH U.S. STANCE WITH JAPAN ON BEEF</title>\n",
    "\n",
    "You could find that yourself for a few of the articles, but it would be very tedious to do it for all 1,000 articles.  So we'll write code to do it instead.\n",
    "\n",
    "**Question 2.** Below, we've written a function called `get_text_in_markers` that will help you find the title text for an article.  Use it to write a function called `get_title`, which is also documented below."
   ]
  },
  {
   "cell_type": "code",
   "execution_count": 5,
   "metadata": {},
   "outputs": [],
   "source": [
    "# This function is provided for you to use.  Read at least\n",
    "# its documentation (the stuff at the beginning in red).\n",
    "# You can also type in get_text_in_markers? somewhere and\n",
    "# run it to see the documentation in a slightly nicer form.\n",
    "# We haven't used any tools you haven't seen yet, so it\n",
    "# wouldn't hurt to read the code itself, too.\n",
    "def get_text_in_markers(text, marker):\n",
    "    \"\"\"Finds the part of a piece of text that's between specified markers.\n",
    "    \n",
    "    Parameters\n",
    "    ----------\n",
    "    text : str\n",
    "        The text in which you want to find something.\n",
    "    marker : str\n",
    "        The name of the marker that delimits the part of the\n",
    "        text you want to grab.  In the text itself, this string\n",
    "        will be surrounded by \"<>\" or \"</>\", but don't include\n",
    "        those angle brackets in this argument.\n",
    "    \n",
    "    Returns\n",
    "    -------\n",
    "    str\n",
    "        The parts of the text that are inside the markers.\n",
    "    \n",
    "    Examples\n",
    "    --------\n",
    "    >>> get_text_in_markers(\"stuff <interesting>yay exciting</interesting> more stuff\", \"interesting\")\n",
    "    'yay exciting'\n",
    "    \"\"\"\n",
    "    start_marker = \"<{}>\".format(marker)\n",
    "    end_marker = \"</{}>\".format(marker)\n",
    "    split_before = np.array(text.split(start_marker))\n",
    "    marker_text_and_after = split_before.item(1)\n",
    "    split_on_end_marker = np.array(marker_text_and_after.split(end_marker))\n",
    "    return split_on_end_marker.item(0)\n",
    "\n",
    "# Fill in this function.\n",
    "def get_title(article_text):\n",
    "    \"\"\"Takes the text of an article and returns its title.\"\"\"\n",
    "    ...\n",
    "\n",
    "# When you're done, this should produce 'LYNG SETS TOUGH U.S. STANCE WITH JAPAN ON BEEF'.\n",
    "get_title(reuters.column(\"Raw text\").item(0))"
   ]
  },
  {
   "cell_type": "code",
   "execution_count": 6,
   "metadata": {},
   "outputs": [],
   "source": [
    "_ = tests.grade('q2_2')"
   ]
  },
  {
   "cell_type": "markdown",
   "metadata": {},
   "source": [
    "**Question 3.** Now use your function to find the title of every article in `reuters`.  Create a new table called `with_titles` that's a copy of `reuters` with an extra column named \"Title\" that contains these titles.\n",
    "\n",
    "*Note:* This might take a few seconds to run."
   ]
  },
  {
   "cell_type": "code",
   "execution_count": 7,
   "metadata": {},
   "outputs": [],
   "source": [
    "with_titles = ...\n",
    "with_titles"
   ]
  },
  {
   "cell_type": "code",
   "execution_count": 8,
   "metadata": {},
   "outputs": [],
   "source": [
    "_ = tests.grade('q2_3')"
   ]
  },
  {
   "cell_type": "markdown",
   "metadata": {},
   "source": [
    "Now we'll go through a similar process to get the date of each article.  In each article, the date is on its own line, separated from the rest of the article by `<date>` and `</date>` markers.  You can check one of the articles for an example.\n",
    "\n",
    "**Question 4.** Write a function called `get_date`.  It should take as its argument the whole text of an article and return the date.  The date should be just the day of the year (so January 1 is day 1, and February 1 is day 32, since January has 31 days).  Note that all the articles are from the year 1987, so the year is irrelevant.\n",
    "\n",
    "We've written a function called `date_string_to_day` that will help you do this."
   ]
  },
  {
   "cell_type": "code",
   "execution_count": 31,
   "metadata": {},
   "outputs": [],
   "source": [
    "# This function is provided for you to use.  Read at least\n",
    "# its documentation (the stuff at the beginning in red).\n",
    "def date_string_to_day(date_string):\n",
    "    \"\"\"Converts a string that looks like a date into the day of the year.\n",
    "    \n",
    "    Parameters\n",
    "    ----------\n",
    "    date_string : str\n",
    "        Text that contains a date in any reasonable format.\n",
    "        For example, \"September 13, 1994\" or \"9/13/94\" or\n",
    "        \"13-SEP-1994 15:02:20.00\" all work.\n",
    "    \n",
    "    Returns\n",
    "    -------\n",
    "    int\n",
    "        The day of the year that the date represents.\n",
    "    \n",
    "    Examples\n",
    "    --------\n",
    "    >>> date_string_to_day(\"January 3, 2016\")\n",
    "    3\n",
    "    \n",
    "    >>> date_string_to_day(\"February 4, 2000\")\n",
    "    35\n",
    "    \"\"\"\n",
    "    from dateutil import parser\n",
    "    import re\n",
    "    # Some of the Reuters dates have extraneous text at the end.\n",
    "    # This removes that text.\n",
    "    date_part = re.sub(\" [A-Z]*$\", \"\", date_string)\n",
    "    try:\n",
    "        date = parser.parse(date_part)\n",
    "    except:\n",
    "        print(\"Failed on\", date_string)\n",
    "    day_in_year = date.timetuple().tm_yday\n",
    "    return day_in_year\n",
    "\n",
    "# Fill in this function.\n",
    "def get_date(article_text):\n",
    "    date_text = ...\n",
    "    day_in_year = ...\n",
    "    ...\n",
    "\n",
    "# When you're done, this should produce 92.\n",
    "get_date(reuters.column(\"Raw text\").item(0))"
   ]
  },
  {
   "cell_type": "code",
   "execution_count": 33,
   "metadata": {},
   "outputs": [],
   "source": [
    "_ = tests.grade('q2_4')"
   ]
  },
  {
   "cell_type": "markdown",
   "metadata": {},
   "source": [
    "**Question 5.** Use your function to find the date of every article in `with_titles`. Create a new table called `with_dates` that's a copy of `with_titles` with an extra column named \"Date\" that contains the dates."
   ]
  },
  {
   "cell_type": "code",
   "execution_count": 30,
   "metadata": {},
   "outputs": [],
   "source": [
    "with_dates = ...\n",
    "with_dates"
   ]
  },
  {
   "cell_type": "code",
   "execution_count": 13,
   "metadata": {},
   "outputs": [],
   "source": [
    "_ = tests.grade('q2_5')"
   ]
  },
  {
   "cell_type": "markdown",
   "metadata": {},
   "source": [
    "**Question 6.** There was a series of earthquakes in Ecuador on March 6, 1987.  Most Reuters news stories about Ecuador from that period were related to the earthquake or its political and economic consequences.  Find out when Reuters reported on the earthquake by making a histogram of all the dates of the articles whose *titles* include the word `\"ECUADOR\"`.  Use bins of width 3.\n",
    "\n",
    "*Hint:* The function `are.containing` creates a predicate that matches strings that contain a given string.  You can find its documentation by running `are.containing?`."
   ]
  },
  {
   "cell_type": "code",
   "execution_count": 14,
   "metadata": {},
   "outputs": [],
   "source": [
    "# Use these bins:\n",
    "bins = np.arange(0, 375, 3)\n",
    "\n",
    "..."
   ]
  },
  {
   "cell_type": "markdown",
   "metadata": {},
   "source": [
    "**Question 7.** Make another histogram of the same data, but this time using different bins.  The first bin should start at day 0, and each bin should have a width of 10 days. Then, **using only your own inspection of the histogram (and no other Python code)**, estimate the proportion of Ecuador articles that were reported between days 50 and 100 of the year (including day 50 but not day 100). (The proportion should be out of the total number of articles whose titles include \"ECUADOR\".) Give that number the name `proportion_50_to_100`."
   ]
  },
  {
   "cell_type": "code",
   "execution_count": 15,
   "metadata": {},
   "outputs": [],
   "source": [
    "# Make a histogram as described above.  (Be sure to use the\n",
    "# bins described in the question.)\n",
    "...\n",
    "\n",
    "# By inspecting your histogram, estimate the proportion of\n",
    "# Ecuador articles that were reported between days 50 and 100\n",
    "# of the year.  (It's hard to get exactly the right answer\n",
    "# from a histogram like this, so it's okay if your answer is\n",
    "# off by a little bit.)\n",
    "proportion_50_to_100 = ..."
   ]
  },
  {
   "cell_type": "markdown",
   "metadata": {},
   "source": [
    "**Question 8.** Your histogram should show several long gaps in coverage about Ecuador during the year.  By exploring the dataset, try to explain this.  Use the code cell below for your explorations."
   ]
  },
  {
   "cell_type": "code",
   "execution_count": null,
   "metadata": {
    "collapsed": true,
    "for_assignment_type": "student"
   },
   "outputs": [],
   "source": [
    "# Use this cell to answer the question."
   ]
  },
  {
   "cell_type": "markdown",
   "metadata": {},
   "source": [
    "*Write your answer here, replacing this text.*"
   ]
  },
  {
   "cell_type": "markdown",
   "metadata": {},
   "source": [
    "## 3. Causes of Death in California\n"
   ]
  },
  {
   "cell_type": "markdown",
   "metadata": {},
   "source": [
    "This exercise is designed to give you practice using the Table method `group`.\n",
    "\n",
    "We'll be looking at a dataset from the California Department of Public Health (available [here](http://www.healthdata.gov/dataset/leading-causes-death-zip-code-1999-2013) and described [here](http://www.cdph.ca.gov/data/statistics/Pages/DeathProfilesbyZIPCode.aspx)) that records the cause of death (as recorded on a death certificate) for everyone who died in California from 1999 to 2013.  The data are in the file `causes_of_death.csv.zip`.  Each row records the number of deaths by one cause in one year in one ZIP code.\n",
    "\n",
    "To make the file smaller, we've compressed it; run the next cell to unzip and load it."
   ]
  },
  {
   "cell_type": "code",
   "execution_count": 52,
   "metadata": {},
   "outputs": [],
   "source": [
    "!unzip -o causes_of_death.csv.zip\n",
    "causes = Table.read_table('causes_of_death.csv')\n",
    "causes"
   ]
  },
  {
   "cell_type": "markdown",
   "metadata": {},
   "source": [
    "The causes of death in the data are abbreviated.  If you want to know what the abbreviations mean, we've provided a table called `abbreviations.csv`."
   ]
  },
  {
   "cell_type": "markdown",
   "metadata": {},
   "source": [
    "**Question 1.** Find the top 5 causes of death in California over the entire period covered by the data.  To do that, create a table with one row for each of the top 5 causes of death, a column called \"Cause of Death\", and a column called \"Count\" that records the total number of deaths due to that cause.  Sort it in descending order by count, and call it `top_5_causes`."
   ]
  },
  {
   "cell_type": "code",
   "execution_count": 43,
   "metadata": {
    "collapsed": true,
    "for_assignment_type": "student"
   },
   "outputs": [],
   "source": [
    "# Use this cell to find the top 5 causes of death."
   ]
  },
  {
   "cell_type": "code",
   "execution_count": 54,
   "metadata": {},
   "outputs": [],
   "source": [
    "_ = tests.grade('q3_1')"
   ]
  },
  {
   "cell_type": "markdown",
   "metadata": {},
   "source": [
    "**Question 2.** Create a bar chart that displays the *proportion of all deaths* by each cause."
   ]
  },
  {
   "cell_type": "code",
   "execution_count": 38,
   "metadata": {
    "for_assignment_type": "student"
   },
   "outputs": [],
   "source": [
    "# Use this cell to make your plot."
   ]
  },
  {
   "cell_type": "markdown",
   "metadata": {},
   "source": [
    "**Question 3.** Create a plot of the total number of deaths per year in California.\n",
    "\n",
    "*Hint:* Use the Table method `plot`.  The first argument is the name or index of the column to put on the horizontal axis."
   ]
  },
  {
   "cell_type": "code",
   "execution_count": 46,
   "metadata": {},
   "outputs": [],
   "source": [
    "...\n",
    "\n",
    "# This line will make the vertical axis start at 0.  You can remove\n",
    "# it if you want to see the default plot, which is more zoomed-in.\n",
    "plt.ylim(0, 300000)"
   ]
  },
  {
   "cell_type": "markdown",
   "metadata": {},
   "source": [
    "**Question 4.** You should see that deaths have increased a little over time, though not uniformly.  How would you explain that?  Describe a dataset you'd like to see to test whether your explanation is valid."
   ]
  },
  {
   "cell_type": "markdown",
   "metadata": {},
   "source": [
    "*Write your answer here, replacing this text.*"
   ]
  },
  {
   "cell_type": "code",
   "execution_count": null,
   "metadata": {
    "collapsed": true
   },
   "outputs": [],
   "source": [
    "# For your convenience, you can run this cell to run all the tests at once!\n",
    "import os\n",
    "print(\"Running all tests...\")\n",
    "_ = [tests.grade(q[:-3]) for q in os.listdir(\"tests\") if q.startswith('q')]\n",
    "print(\"Finished running all tests.\")"
   ]
  }
 ],
 "metadata": {
  "kernelspec": {
   "display_name": "Python 3",
   "language": "python",
   "name": "python3"
  },
  "language_info": {
   "codemirror_mode": {
    "name": "ipython",
    "version": 3
   },
   "file_extension": ".py",
   "mimetype": "text/x-python",
   "name": "python",
   "nbconvert_exporter": "python",
   "pygments_lexer": "ipython3",
   "version": "3.6.8"
  }
 },
 "nbformat": 4,
 "nbformat_minor": 1
}
