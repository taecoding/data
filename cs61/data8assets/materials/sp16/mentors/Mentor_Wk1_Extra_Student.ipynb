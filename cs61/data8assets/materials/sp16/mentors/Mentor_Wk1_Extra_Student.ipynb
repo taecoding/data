{
 "cells": [
  {
   "cell_type": "markdown",
   "metadata": {},
   "source": [
    "DS8 Tutoring Wk1"
   ]
  },
  {
   "cell_type": "code",
   "execution_count": 10,
   "metadata": {
    "collapsed": true
   },
   "outputs": [],
   "source": [
    "# HIDDEN\n",
    "\n",
    "from datascience import *\n",
    "%matplotlib inline\n",
    "import matplotlib.pyplot as plots\n",
    "plots.style.use('fivethirtyeight')\n",
    "import numpy as np"
   ]
  },
  {
   "cell_type": "markdown",
   "metadata": {
    "collapsed": true
   },
   "source": [
    "Welcome to week one!\n",
    "\n",
    "Let's start by loading the file top250_movies.txt into the table movies."
   ]
  },
  {
   "cell_type": "code",
   "execution_count": 11,
   "metadata": {
    "collapsed": false
   },
   "outputs": [],
   "source": [
    "#Answer here"
   ]
  },
  {
   "cell_type": "markdown",
   "metadata": {},
   "source": [
    "Since 250 rows is a lot, we want to look just at 100 rows from this table. \n",
    "We'll write code to randomly select 100 different rows from this table.\n",
    "\n",
    "Start by creating an empty list `rowNums`.\n"
   ]
  },
  {
   "cell_type": "code",
   "execution_count": 12,
   "metadata": {
    "collapsed": true
   },
   "outputs": [],
   "source": [
    "#Answer here"
   ]
  },
  {
   "cell_type": "markdown",
   "metadata": {},
   "source": [
    "Then generate 100 random integers (from 0 to 249) to put inside `rowNums`, making sure that there are no repeats. Do this in two ways (if short on time, do just one).\n",
    "\n",
    "*Hint for Method 1:* Use for loops and np.random.randint. How many times do you need to iterate?\n",
    "To account for the fact that you might have generated a repeat, use a nested while loop. What do you need to keep track of whether or not there has been a repeat?\n",
    "\n",
    "*Hint for Method 2:* Use np.random.choice(). Read the doc:http://docs.scipy.org/doc/numpy-1.10.0/reference/generated/numpy.random.choice.html\n",
    "How does it work? What are its inputs and outputs? Remember if you're doing both, you want to reset `rowNums` beforehand so you don't end up with 200 numbers!"
   ]
  },
  {
   "cell_type": "code",
   "execution_count": 13,
   "metadata": {
    "collapsed": false
   },
   "outputs": [],
   "source": [
    "#Answer here"
   ]
  },
  {
   "cell_type": "markdown",
   "metadata": {},
   "source": [
    "Excellent. Now we have a list of row numbers. We'll use it to sample from the table. Was this a deterministic or probability sample?\n",
    "\n",
    "If your answer was deterministic, how might we have chosen a probability sample?\n",
    "If your answer was probability, how might we have chosen a deterministic sample?\n"
   ]
  },
  {
   "cell_type": "markdown",
   "metadata": {},
   "source": [
    "*#Answer here, no code, just text.*\n",
    "\n",
    "\n"
   ]
  },
  {
   "cell_type": "markdown",
   "metadata": {},
   "source": [
    "Use `rowNums` to select 100 rows from the table, save it in the variable `shortMov`.\n",
    "\n",
    "#sampling"
   ]
  },
  {
   "cell_type": "code",
   "execution_count": 14,
   "metadata": {
    "collapsed": false
   },
   "outputs": [],
   "source": [
    "#Answer here"
   ]
  },
  {
   "cell_type": "markdown",
   "metadata": {},
   "source": [
    "Now we want to draw some histograms based on the ratings for these movies.\n",
    "Let's pivot the table by ratings (pivot column) and then year (pivot row), and have the pivot values be the sum of the votes.\n",
    "Save this pivoted table in `ratingYear`."
   ]
  },
  {
   "cell_type": "code",
   "execution_count": 15,
   "metadata": {
    "collapsed": false
   },
   "outputs": [],
   "source": [
    "#Answer here"
   ]
  },
  {
   "cell_type": "markdown",
   "metadata": {},
   "source": [
    "Take a look at this pivoted table. What does it tell us? \n",
    "What does it mean for a cell to be 0?"
   ]
  },
  {
   "cell_type": "markdown",
   "metadata": {},
   "source": [
    "*#Answer here, no code, just text.*\n",
    "\n",
    "\n",
    "\n"
   ]
  },
  {
   "cell_type": "markdown",
   "metadata": {},
   "source": [
    "The table `ratingYear` is useful, but it doesn't help us visualize how many movies were in each rating. \n",
    "Using `shortMov`, create a table `ratings` that contains *only* the column of ratings."
   ]
  },
  {
   "cell_type": "code",
   "execution_count": 16,
   "metadata": {
    "collapsed": true
   },
   "outputs": [],
   "source": [
    "#Answer here"
   ]
  },
  {
   "cell_type": "markdown",
   "metadata": {},
   "source": [
    "Make a histogram with ratings. Have bins that go in increments of .1 starting from the lowest value in ratings all the way to 10."
   ]
  },
  {
   "cell_type": "code",
   "execution_count": 17,
   "metadata": {
    "collapsed": false
   },
   "outputs": [],
   "source": [
    "#Answer here"
   ]
  },
  {
   "cell_type": "markdown",
   "metadata": {},
   "source": [
    "Let's see how our histogram compares to the entire 250 movies dataset.\n",
    "Draw another histogram using the exact same bins as you did above, but this time use the table `fullRatings` that contains a column of all 250 ratings."
   ]
  },
  {
   "cell_type": "code",
   "execution_count": 18,
   "metadata": {
    "collapsed": false
   },
   "outputs": [],
   "source": [
    "#Answer here"
   ]
  },
  {
   "cell_type": "markdown",
   "metadata": {},
   "source": [
    "Do the two histograms look similar? How might we produce a more similar looking histogram without increasing the number of rows selected (100)?"
   ]
  },
  {
   "cell_type": "markdown",
   "metadata": {},
   "source": [
    "*#Answer here, no code, just text.*"
   ]
  },
  {
   "cell_type": "markdown",
   "metadata": {},
   "source": [
    "Congratulations! You've finished your first tutoring exercise. Be sure to give your tutor feedback on what you liked, didn't like, and would like to cover in the coming weeks!"
   ]
  }
 ],
 "metadata": {
  "kernelspec": {
   "display_name": "Python 3",
   "language": "python",
   "name": "python3"
  },
  "language_info": {
   "codemirror_mode": {
    "name": "ipython",
    "version": 3
   },
   "file_extension": ".py",
   "mimetype": "text/x-python",
   "name": "python",
   "nbconvert_exporter": "python",
   "pygments_lexer": "ipython3",
   "version": "3.4.3"
  }
 },
 "nbformat": 4,
 "nbformat_minor": 0
}
