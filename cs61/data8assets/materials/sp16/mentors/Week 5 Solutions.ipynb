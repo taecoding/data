{
 "cells": [
  {
   "cell_type": "code",
   "execution_count": null,
   "metadata": {
    "collapsed": true
   },
   "outputs": [],
   "source": [
    "from datascience import *\n",
    "%matplotlib inline\n",
    "import matplotlib.pyplot as plots\n",
    "plots.style.use('fivethirtyeight')\n",
    "import numpy as np"
   ]
  },
  {
   "cell_type": "markdown",
   "metadata": {},
   "source": [
    "# Tables"
   ]
  },
  {
   "cell_type": "markdown",
   "metadata": {},
   "source": [
    "In this exercise, we will continue exploring the baseball salaries dataset you saw in a previous exercise. In this section, we want to find out if teams that pay higher salaries tend to win more than teams who pay lower salaries."
   ]
  },
  {
   "cell_type": "code",
   "execution_count": null,
   "metadata": {
    "collapsed": true
   },
   "outputs": [],
   "source": [
    "#Load tables\n",
    "salaries = Table.read_table(\"salaries.csv\")\n",
    "teams = Table.read_table(\"teams.csv\")"
   ]
  },
  {
   "cell_type": "code",
   "execution_count": null,
   "metadata": {
    "collapsed": false
   },
   "outputs": [],
   "source": [
    "salaries"
   ]
  },
  {
   "cell_type": "code",
   "execution_count": null,
   "metadata": {
    "collapsed": false
   },
   "outputs": [],
   "source": [
    "teams"
   ]
  },
  {
   "cell_type": "code",
   "execution_count": null,
   "metadata": {
    "collapsed": false
   },
   "outputs": [],
   "source": [
    "#Histogram of salaries\n",
    "salaries.hist(\"salary\", bins=np.arange(0, 30000000, 1000000))"
   ]
  },
  {
   "cell_type": "code",
   "execution_count": null,
   "metadata": {
    "collapsed": false
   },
   "outputs": [],
   "source": [
    "#Create a histogram of the number of wins (the column named 'W'). What would you estimate as the average number of\n",
    "#wins per season for a baseball team?\n",
    "teams.hist(\"W\", bins=np.arange(55, 110, 5))"
   ]
  },
  {
   "cell_type": "code",
   "execution_count": null,
   "metadata": {
    "collapsed": true
   },
   "outputs": [],
   "source": [
    "#There's a lot of data, but let's just look at the most recent year: 2015.\n",
    "salaries_2015 = salaries.where(salaries[\"yearID\"] == 2015)\n",
    "teams_2015 = teams.where(teams[\"yearID\"] == 2015)"
   ]
  },
  {
   "cell_type": "markdown",
   "metadata": {},
   "source": [
    "We don't actually care about the individual salary of a player; we care about the total amount each team is paying its players. Let's create a new table to store this information."
   ]
  },
  {
   "cell_type": "code",
   "execution_count": null,
   "metadata": {
    "collapsed": false
   },
   "outputs": [],
   "source": [
    "#Create a table called 'salaries_by_team' that has one row per team (so 30 rows). The table should have three columns:\n",
    "#one for the year, one for the team, and one for the total salary that team payed players that year.\n",
    "#Hint: the 'groups' method takes in a list of column labels (instead of just one column label in 'group'), and groups\n",
    "#by both the labels.\n",
    "salaries_by_team = salaries_2015.groups([\"yearID\", \"teamID\"], collect=sum).select([0,1,4])\n",
    "salaries_by_team"
   ]
  },
  {
   "cell_type": "code",
   "execution_count": null,
   "metadata": {
    "collapsed": false
   },
   "outputs": [],
   "source": [
    "#Let's reformat the table. Relabel the table so that the column labels are: 'yearID', 'teamID', and 'salary'.\n",
    "salaries_by_team.relabel(\"salary sum\", \"salary\")\n",
    "salaries_by_team.set_format(\"salary\", NumberFormatter)"
   ]
  },
  {
   "cell_type": "code",
   "execution_count": null,
   "metadata": {
    "collapsed": false
   },
   "outputs": [],
   "source": [
    "#Now we want to find out if teams with a higher salary tend to win more games. Create a new table that has all the\n",
    "#information from salaries_by_team and teams.\n",
    "salaries_with_team = salaries_by_team.join(\"teamID\", teams_2015)\n",
    "salaries_with_team.set_format(\"attendance\", NumberFormatter)\n",
    "salaries_with_team"
   ]
  },
  {
   "cell_type": "markdown",
   "metadata": {},
   "source": [
    "For simplicity's sake, let's categorize every team into division winners and non-division winners. Division winner have the value \"Y\" in the \"DivWin\" column. We want to know if division winners pay their players more than non-division winners do, and if that is consistent across both leagues (The league of a team is in the column \"lgID\": \"AL\" for American League and \"NL\" for National League)."
   ]
  },
  {
   "cell_type": "code",
   "execution_count": null,
   "metadata": {
    "collapsed": false
   },
   "outputs": [],
   "source": [
    "#Create a new table that has a row for each league. The table should have two columns, one for division winners and\n",
    "#one for non-division winners. The value in the table should be the average salary for a team in that category.\n",
    "division_salary = salaries_with_team.pivot(\"DivWin\", \"lgID\", \"salary\", collect=np.mean)\n",
    "division_salary"
   ]
  },
  {
   "cell_type": "markdown",
   "metadata": {},
   "source": [
    "What does the table you produced above tell you about the average salary of division winners? Do they spend more on players than non-division winners? Justify your answer."
   ]
  },
  {
   "cell_type": "markdown",
   "metadata": {},
   "source": [
    "***Your answer here***"
   ]
  },
  {
   "cell_type": "markdown",
   "metadata": {},
   "source": [
    "# Correlation and Regression"
   ]
  },
  {
   "cell_type": "markdown",
   "metadata": {},
   "source": [
    "We will now explore the correlation between two sets of variables: salary and the number of wins, and the number of wins and attendance."
   ]
  },
  {
   "cell_type": "code",
   "execution_count": null,
   "metadata": {
    "collapsed": true
   },
   "outputs": [],
   "source": [
    "#Some useful functions.\n",
    "def standard_units(any_numbers):\n",
    "    \"Convert any array of numbers to standard units.\"\n",
    "    return (any_numbers - np.mean(any_numbers))/np.std(any_numbers)  \n",
    "\n",
    "def correlation(t, x, y):\n",
    "    \"Compute r.\"\n",
    "    return np.mean(standard_units(t.column(x))*standard_units(t.column(y)))\n",
    "\n",
    "def slope(table, x, y):\n",
    "    r = correlation(table, x, y)\n",
    "    return r * np.std(table.column(y))/np.std(table.column(x))\n",
    "\n",
    "def intercept(table, x, y):\n",
    "    a = slope(table, x, y)\n",
    "    return np.mean(table.column(y)) - a * np.mean(table.column(x))\n",
    "\n",
    "def fit(table, x, y):\n",
    "    \"\"\"Return the height of the regression line at each x value.\"\"\"\n",
    "    a = slope(table, x, y)\n",
    "    b = intercept(table, x, y)\n",
    "    return a * table.column(x) + b"
   ]
  },
  {
   "cell_type": "code",
   "execution_count": null,
   "metadata": {
    "collapsed": false
   },
   "outputs": [],
   "source": [
    "#Create a new table 'plot_wins' with a column 'salary' and a column 'W', and plot (with salary on the x-axis).\n",
    "plot_wins = salaries_with_team.select([\"salary\", \"W\"])\n",
    "plot_wins.scatter(\"salary\", fit_line=True)"
   ]
  },
  {
   "cell_type": "code",
   "execution_count": null,
   "metadata": {
    "collapsed": false
   },
   "outputs": [],
   "source": [
    "#Find the correlation between salary and number of wins.\n",
    "correlation(plot_wins, \"salary\", \"W\")"
   ]
  },
  {
   "cell_type": "markdown",
   "metadata": {},
   "source": [
    "Explain the above number. What does it mean? Is it consistent with your findings in using the table division_salary?"
   ]
  },
  {
   "cell_type": "markdown",
   "metadata": {},
   "source": [
    "***Your answer here***"
   ]
  },
  {
   "cell_type": "markdown",
   "metadata": {},
   "source": [
    "Now let's move on to another correlation that might be interesting: the number of wins and attendance."
   ]
  },
  {
   "cell_type": "code",
   "execution_count": null,
   "metadata": {
    "collapsed": false
   },
   "outputs": [],
   "source": [
    "#Create a table 'plot_attendance' that has two columns: 'W' for number of wins, and 'attendance'. Use the original\n",
    "#'teams' table to do this!\n",
    "plot_attendance = teams.select([\"W\", \"attendance\"])\n",
    "plot_attendance"
   ]
  },
  {
   "cell_type": "code",
   "execution_count": null,
   "metadata": {
    "collapsed": false
   },
   "outputs": [],
   "source": [
    "plot_attendance.scatter(\"W\", fit_line=True)"
   ]
  },
  {
   "cell_type": "code",
   "execution_count": null,
   "metadata": {
    "collapsed": false
   },
   "outputs": [],
   "source": [
    "#Find the correlation coefficient of number of wins and attendance.\n",
    "correlation(plot_attendance, \"W\", \"attendance\")"
   ]
  },
  {
   "cell_type": "markdown",
   "metadata": {},
   "source": [
    "Explain the number above. What does it mean?"
   ]
  },
  {
   "cell_type": "markdown",
   "metadata": {},
   "source": [
    "***Your answer here***"
   ]
  },
  {
   "cell_type": "code",
   "execution_count": null,
   "metadata": {
    "collapsed": false
   },
   "outputs": [],
   "source": [
    "#slope of the regression line\n",
    "slope(plot_attendance, \"W\", \"attendance\")"
   ]
  },
  {
   "cell_type": "code",
   "execution_count": null,
   "metadata": {
    "collapsed": false
   },
   "outputs": [],
   "source": [
    "#intercept of the regression line\n",
    "intercept(plot_attendance, \"W\", \"attendance\")"
   ]
  },
  {
   "cell_type": "code",
   "execution_count": null,
   "metadata": {
    "collapsed": false
   },
   "outputs": [],
   "source": [
    "#Create a new table 'fitted' that has a column 'W' for wins, a column 'attendance' for attendance, and a column\n",
    "#'attendance (fitted)' for the estimated attendance based on the regression line.\n",
    "fitted = plot_attendance.with_column('attendance (fitted)', fit(plot_attendance, 'W', 'attendance'))\n",
    "#These lines just format the table\n",
    "fitted.set_format(\"attendance\", NumberFormatter)\n",
    "fitted.set_format(\"attendance (fitted)\", NumberFormatter)\n",
    "fitted"
   ]
  },
  {
   "cell_type": "code",
   "execution_count": null,
   "metadata": {
    "collapsed": false
   },
   "outputs": [],
   "source": [
    "#Plot the fitted attendance. Does it resemble the fit line above?\n",
    "fitted.scatter(0, s=10)"
   ]
  },
  {
   "cell_type": "markdown",
   "metadata": {},
   "source": [
    "Suppose you are the owner of the San Francisco Giants, and you want to predict your attendance for the 2016 season. Your general manager tells you that in all likelihood, your team will win 86 to 88 games this season. Based on these numbers, what should you expect your attendance to be in the range of?"
   ]
  },
  {
   "cell_type": "code",
   "execution_count": null,
   "metadata": {
    "collapsed": true
   },
   "outputs": [],
   "source": [
    "win_86 = slope(plot_attendance, \"W\", \"attendance\") * 86 + intercept(plot_attendance, \"W\", \"attendance\")\n",
    "win_88 = slope(plot_attendance, \"W\", \"attendance\") * 88 + intercept(plot_attendance, \"W\", \"attendance\")\n",
    "\n",
    "(win_86, win_88)"
   ]
  },
  {
   "cell_type": "code",
   "execution_count": null,
   "metadata": {
    "collapsed": false
   },
   "outputs": [],
   "source": [
    "# Add a column 'residuals' to the table.\n",
    "residuals = fitted.column(\"attendance\") - fitted.column(\"attendance (fitted)\")\n",
    "fitted = fitted.with_column(\"residuals\", residuals)\n",
    "fitted"
   ]
  },
  {
   "cell_type": "code",
   "execution_count": null,
   "metadata": {
    "collapsed": false
   },
   "outputs": [],
   "source": [
    "#Plot the residuals against number of wins.\n",
    "fitted.scatter(\"W\", \"residuals\")"
   ]
  },
  {
   "cell_type": "markdown",
   "metadata": {},
   "source": [
    "What does the shape of the residuals graph say about the relationship between wins and attendance?"
   ]
  },
  {
   "cell_type": "markdown",
   "metadata": {},
   "source": [
    "***Your answer here***"
   ]
  }
 ],
 "metadata": {
  "kernelspec": {
   "display_name": "Python 3",
   "language": "python",
   "name": "python3"
  },
  "language_info": {
   "codemirror_mode": {
    "name": "ipython",
    "version": 3
   },
   "file_extension": ".py",
   "mimetype": "text/x-python",
   "name": "python",
   "nbconvert_exporter": "python",
   "pygments_lexer": "ipython3",
   "version": "3.5.1"
  }
 },
 "nbformat": 4,
 "nbformat_minor": 0
}
