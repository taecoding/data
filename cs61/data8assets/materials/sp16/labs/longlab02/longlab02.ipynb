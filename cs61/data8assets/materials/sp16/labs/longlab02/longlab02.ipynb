{
 "cells": [
  {
   "cell_type": "markdown",
   "metadata": {},
   "source": [
    "# Lab 2: Types of Data\n",
    "\n",
    "So far, we've only used Python to manipulate numbers.  In this lab, you'll see how to represent and manipulate some another fundamental type of data: text.  A piece of text is called a *string* in Python.\n",
    "\n",
    "You'll also see how to invoke *methods*, which are functions that are specialized to a piece of data.\n",
    "\n",
    "Last, you'll see how to work with datasets in Python -- collections of data like text or numbers.  In this class, we principally use two kinds of *collections*:\n",
    "  * **Arrays:** An array is a collection of many pieces of one kind of data.  An array is like a single column in an Excel spreadsheet.\n",
    "  * **Tables:** A table is a collection of many pieces of different kinds of data.  Each kind of data is in its own *column*.  A table is like an entire Excel spreadsheet."
   ]
  },
  {
   "cell_type": "markdown",
   "metadata": {},
   "source": [
    "For your later reference, here are the principal types of data we'll work with in this course.\n",
    "\n",
    "|English name|Python name|Example|Example Python expressions|\n",
    "|-|-|-|-|\n",
    "|Number|`float` (numbers with decimals) or `int` (integers)|The number of words in a book|`2`, `.25`, `2+2`|\n",
    "|Text|`string`|A word, chapter, or whole text of a book|`\"I <3 Data Science\"`|\n",
    "|A collection of one kind of data|`array`|All the numerical grades on a homework assignment; all the letter grades in a class|`Table.read_table(\"course_data.csv\").column(\"Grades\")`|\n",
    "|A collection of multiple kinds of data|`table`|The letter grades and all the project, midterm, and final exam scores in a class|`Table.read_table(\"course_data.csv\")`|\n",
    "\n",
    "The material in this lab corresponds roughly to the second and third weeks of the semester-long course."
   ]
  },
  {
   "cell_type": "markdown",
   "metadata": {},
   "source": [
    "# 1. Text\n",
    "Programming doesn't just concern numbers. Text is one of the most common types of values used in programs. \n",
    "\n",
    "A snippet of text is represented by a *string value* in Python. The word \"*string*\" is a computer science term for a sequence of characters. A string might contain a single character, a word, a sentence, or a whole book. Strings have quotation marks around them. Single quotes (`'`) and double quotes (`\"`) are both valid. The contents can be any sequence of characters, including numbers and symbols. \n",
    "\n",
    "We've seen strings before in `print` statements.  Below, two different strings are passed as arguments to the `print` function. "
   ]
  },
  {
   "cell_type": "code",
   "execution_count": 19,
   "metadata": {
    "collapsed": false
   },
   "outputs": [],
   "source": [
    "print(\"I <3\", 'Data Science')"
   ]
  },
  {
   "cell_type": "markdown",
   "metadata": {},
   "source": [
    "`print` prints all of its arguments together, separated by single spaces.\n",
    "\n",
    "Just like names can be given to numbers, names can be given to string values.  The names and strings aren't required to be similar. Any name can be given to any string."
   ]
  },
  {
   "cell_type": "markdown",
   "metadata": {},
   "source": [
    "**Question 1.1.** Replace each `...` with a single-word string literal below so that the final expression prints its punchline.\n",
    "\n",
    "<img src=\"https://s-media-cache-ak0.pinimg.com/236x/1c/8f/cf/1c8fcf8892a14c474e77dcb108e7e8f8.jpg\"/>"
   ]
  },
  {
   "cell_type": "code",
   "execution_count": 3,
   "metadata": {
    "collapsed": false
   },
   "outputs": [],
   "source": [
    "why_was = \"Because\"\n",
    "six = ...\n",
    "afraid_of = \"eight\"\n",
    "seven = ...\n",
    "print(why_was, six, afraid_of, seven)"
   ]
  },
  {
   "cell_type": "code",
   "execution_count": 4,
   "metadata": {
    "collapsed": false
   },
   "outputs": [],
   "source": [
    "# Run this cell after the one above to test your work (or get a hint).\n",
    "from client.api.assignment import load_assignment \n",
    "lab02 = load_assignment('longlab02.ok')\n",
    "_ = lab02.grade('q11')"
   ]
  },
  {
   "cell_type": "markdown",
   "metadata": {},
   "source": [
    "## 1.1. String Methods"
   ]
  },
  {
   "cell_type": "markdown",
   "metadata": {},
   "source": [
    "Strings can be transformed using *methods*, which are functions that involve an existing string and some other arguments. For example, the `replace` method replaces all instances of some part of a string with some replacement. A method is invoked on a string by placing a `.` after the string value, then the name of the method, and finally parentheses containing the arguments. \n",
    "\n",
    "    <string>.<method name>(<argument>, <argument>, ...)\n",
    "\n",
    "Otherwise, a method is pretty similar to a function.\n",
    "\n",
    "Try to predict the output of these examples, then execute them."
   ]
  },
  {
   "cell_type": "code",
   "execution_count": 22,
   "metadata": {
    "collapsed": false
   },
   "outputs": [],
   "source": [
    "# Replace one letter\n",
    "'Hello'.replace('o', 'a')"
   ]
  },
  {
   "cell_type": "code",
   "execution_count": 23,
   "metadata": {
    "collapsed": false
   },
   "outputs": [],
   "source": [
    "# Replace a sequence of letters, which appears twice\n",
    "'hitchhiker'.replace('hi', 'ma')"
   ]
  },
  {
   "cell_type": "code",
   "execution_count": 24,
   "metadata": {
    "collapsed": false
   },
   "outputs": [],
   "source": [
    "# Two calls to replace\n",
    "'train'.replace('t', 'ing').replace('in', 'de')"
   ]
  },
  {
   "cell_type": "markdown",
   "metadata": {},
   "source": [
    "Once a name is bound to a string value, methods can be invoked on that name as well. The name doesn't change in this case, so a new name is needed to capture the result. "
   ]
  },
  {
   "cell_type": "code",
   "execution_count": 25,
   "metadata": {
    "collapsed": false
   },
   "outputs": [],
   "source": [
    "sharp = 'edged'\n",
    "hot = sharp.replace('ed', 'ma')\n",
    "print('sharp =', sharp)\n",
    "print('hot =', hot)"
   ]
  },
  {
   "cell_type": "markdown",
   "metadata": {},
   "source": [
    "**Question 1.1.1.** Assign strings to the names `you` and `this` so that the final expression evaluates to a 10-letter English word with three double letters in a row. You can run the tests for a hint."
   ]
  },
  {
   "cell_type": "code",
   "execution_count": 26,
   "metadata": {
    "collapsed": false
   },
   "outputs": [],
   "source": [
    "you = ...\n",
    "this = ...\n",
    "a = 'beeper'\n",
    "the = a.replace('p', you) \n",
    "the.replace('bee', this)"
   ]
  },
  {
   "cell_type": "code",
   "execution_count": 2,
   "metadata": {
    "collapsed": false
   },
   "outputs": [],
   "source": [
    "_ = lab02.grade('q111')"
   ]
  },
  {
   "cell_type": "markdown",
   "metadata": {},
   "source": [
    "Other string methods do not take any arguments at all, because the original string is all that's needed to compute the result. In this case, parentheses are still needed, but there's nothing in between the parentheses. For example, \n",
    "\n",
    "    lower:      return a lowercased version of the string\n",
    "    upper:      return a lowercased version of the string\n",
    "    capitalize: return a version with the first letter capitalized\n",
    "    title:      return a version with the first letter of every word capitalized"
   ]
  },
  {
   "cell_type": "code",
   "execution_count": 28,
   "metadata": {
    "collapsed": false
   },
   "outputs": [],
   "source": [
    "'unIverSITy of caliFORnia'.title()"
   ]
  },
  {
   "cell_type": "markdown",
   "metadata": {},
   "source": [
    "Methods can also take arguments that aren't strings.  For example, strings have a method called `zfill` that \"pads\" them with the character `0` so that they reach a certain length.  This can be useful for displaying numbers in a uniform format:"
   ]
  },
  {
   "cell_type": "code",
   "execution_count": 29,
   "metadata": {
    "collapsed": false
   },
   "outputs": [],
   "source": [
    "print(\"5.12\".zfill(6))\n",
    "print(\"10.50\".zfill(6))"
   ]
  },
  {
   "cell_type": "markdown",
   "metadata": {},
   "source": [
    "All these string methods are useful, but most programmers don't memorize their names or how to use them.  You can refer back to this lab for the ones we mention, or just Google search for something like \"`how to pad a string in Python`\".  The website Stack Overflow often has useful answers."
   ]
  },
  {
   "cell_type": "markdown",
   "metadata": {},
   "source": [
    "## 1.2. Converting to and from Strings"
   ]
  },
  {
   "cell_type": "markdown",
   "metadata": {},
   "source": [
    "Strings and numbers are different *types* of values, even when a string contains the digits of a number. For example, evaluating the following cell causes an error because an integer cannot be added to a string."
   ]
  },
  {
   "cell_type": "code",
   "execution_count": 30,
   "metadata": {
    "collapsed": false
   },
   "outputs": [],
   "source": [
    "8 + \"8\""
   ]
  },
  {
   "cell_type": "markdown",
   "metadata": {},
   "source": [
    "However, there are built-in functions to convert numbers to strings and strings to numbers. \n",
    "\n",
    "    int:   Converts a string of digits without a decimal point to a number\n",
    "    float: Converts a string of digits, perhaps with a decimal point, to a number\n",
    "    str:   Converts any value to a string"
   ]
  },
  {
   "cell_type": "markdown",
   "metadata": {},
   "source": [
    "Suppose you're writing a program that looks for dates in a text, and you want your program to find the difference between two years it has identified.  It doesn't make sense to subtract two texts, but you can first convert the text containing the years into numbers:"
   ]
  },
  {
   "cell_type": "code",
   "execution_count": 37,
   "metadata": {
    "collapsed": false
   },
   "outputs": [],
   "source": [
    "one_year = \"1618\"\n",
    "another_year = \"1648\"\n",
    "\n",
    "# We can't just write:\n",
    "#   another_year - one_year\n",
    "# If you don't see why, try writing that here and running it.\n",
    "difference = int(another_year) - int(one_year)\n",
    "difference"
   ]
  },
  {
   "cell_type": "markdown",
   "metadata": {},
   "source": [
    "Try to predict what the following cell will evaluate to, then evaluate it."
   ]
  },
  {
   "cell_type": "code",
   "execution_count": 31,
   "metadata": {
    "collapsed": false
   },
   "outputs": [],
   "source": [
    "int(\"20\" + str(8 + int(\"8\")))"
   ]
  },
  {
   "cell_type": "markdown",
   "metadata": {},
   "source": [
    "## 1.3. Strings as function arguments\n",
    "String values, like numbers, can be arguments to functions and can be returned by functions.  The function `len` takes a single string as its argument and returns the number of characters in the string: its **len**gth.\n",
    "\n",
    "**Question 1.3.1.**  Use `len` to find out the length of the very long string in the next cell.  (It's the first sentence of the French [Declaration of the Rights of Man and Citizen](http://avalon.law.yale.edu/18th_century/rightsof.asp).)  The length of a string is the total number of **characters** in it, including things like spaces and punctuation.  Assign `sentence_length` to that number."
   ]
  },
  {
   "cell_type": "code",
   "execution_count": 3,
   "metadata": {
    "collapsed": false
   },
   "outputs": [],
   "source": [
    "a_very_long_sentence = \"Les Représentans du Peuple François, constitués en Assemblée Nationale, considérant que l’ignorance, l’oubli ou le mépris des droits de l’Homme sont les seules causes des malheurs publics et de la corruption des Gouvernemens, ont résolu d’exposer, dans une Déclaration solemnelle, les droits naturels, inaliénables et sacrés de l’Homme, afin que cette Déclaration, constamment présente à tous les Membres du corps social, leur rappelle sans cesse leurs droits et leurs devoirs ; afin que les actes du pouvoir législatif, et ceux du pouvoir exécutif pouvant à chaque instant être comparés avec le but de toute institution politique, en soient plus respectés ; afin que les réclamations des Citoyens, fondées désormais sur des principes simples et incontestables, tournent toujours au maintien de la Constitution, et au bonheur de tous.\"\n",
    "sentence_length = ...\n",
    "sentence_length"
   ]
  },
  {
   "cell_type": "code",
   "execution_count": 35,
   "metadata": {
    "collapsed": false
   },
   "outputs": [],
   "source": [
    "_ = lab02.grade('q131')"
   ]
  },
  {
   "cell_type": "markdown",
   "metadata": {},
   "source": [
    "# 2. Importing code\n",
    "\n",
    "> What has been will be again,  \n",
    "> what has been done will be done again;  \n",
    "> there is nothing new under the sun.\n",
    "\n",
    "Most programming involves work that is very similar to work that has been done before.  Since writing code is time-consuming, it's good to rely on others' published code when you can.  Rather than copy-pasting their code into ours, Python allows us to *import* it, creating a *module* that contains all of the names created by that code.\n",
    "\n",
    "Python includes many useful modules that are just an `import` away.  We'll look at the `math` module as a first example.\n",
    "\n",
    "Suppose we want to very accurately compute the area of a circle with radius 5 meters.  For that, we need the constant $\\pi$, which is roughly 3.14.  Conveniently, the `math` module defines `pi` for us:"
   ]
  },
  {
   "cell_type": "code",
   "execution_count": 4,
   "metadata": {
    "collapsed": false
   },
   "outputs": [],
   "source": [
    "import math\n",
    "radius = 5\n",
    "area_of_circle = radius**2 * math.pi\n",
    "area_of_circle"
   ]
  },
  {
   "cell_type": "markdown",
   "metadata": {},
   "source": [
    "`pi` is defined inside `math`, and the way that we access names that are inside modules is by writing the module's name, then a dot, then the name of the thing we want:\n",
    "\n",
    "    <module name>.<name>\n",
    "    \n",
    "In order to use a module at all, we must first write the statement `import <module name>`.  That statement creates a module object with things like `pi` in it and then assigns the name `math` to that module.  Above we have done that for `math`."
   ]
  },
  {
   "cell_type": "markdown",
   "metadata": {},
   "source": [
    "`math` also provides the name `e` for the base of the natural logarithm, which is roughly 2.71.  Here we've computed $e^{\\pi}-\\pi$, giving it the name `near_twenty`."
   ]
  },
  {
   "cell_type": "code",
   "execution_count": 39,
   "metadata": {
    "collapsed": false
   },
   "outputs": [],
   "source": [
    "near_twenty = math.e ** math.pi - math.pi\n",
    "near_twenty"
   ]
  },
  {
   "cell_type": "markdown",
   "metadata": {},
   "source": [
    "![XKCD](http://imgs.xkcd.com/comics/e_to_the_pi_minus_pi.png)"
   ]
  },
  {
   "cell_type": "markdown",
   "metadata": {},
   "source": [
    "## 2.1. Importing functions\n",
    "Modules can provide other named things, including functions.  For example, `math` provides the name `sin` for the sine function.  Having imported `math` already, we can write `math.sin(3)` to compute the sine of 3.  (Note that this sine function considers its argument to be in [radians](https://en.wikipedia.org/wiki/Radian), not degrees.  180 degrees are equivalent to $\\pi$ radians.)\n",
    "\n",
    "Here we've computed the sine of $\\frac{\\pi}{4}$ using `sin` and `pi` from the `math` module.\n",
    "\n",
    "<img src=\"http://mathworld.wolfram.com/images/eps-gif/TrigonometryAnglesPi4_1000.gif\">\n",
    "(Source: [Wolfram MathWorld](http://mathworld.wolfram.com/images/eps-gif/TrigonometryAnglesPi4_1000.gif))"
   ]
  },
  {
   "cell_type": "code",
   "execution_count": 41,
   "metadata": {
    "collapsed": false
   },
   "outputs": [],
   "source": [
    "sine_of_pi_over_four = ...\n",
    "sine_of_pi_over_four"
   ]
  },
  {
   "cell_type": "markdown",
   "metadata": {},
   "source": [
    "For your reference, here are some more examples of functions from the `math` module:"
   ]
  },
  {
   "cell_type": "code",
   "execution_count": 43,
   "metadata": {
    "collapsed": false
   },
   "outputs": [],
   "source": [
    "# Calculating factorials.\n",
    "math.factorial(5)"
   ]
  },
  {
   "cell_type": "code",
   "execution_count": 44,
   "metadata": {
    "collapsed": false
   },
   "outputs": [],
   "source": [
    "# Calculating logarithms (the logarithm of 8 in base 2).\n",
    "math.log(8, 2)"
   ]
  },
  {
   "cell_type": "code",
   "execution_count": 45,
   "metadata": {
    "collapsed": false
   },
   "outputs": [],
   "source": [
    "# Calculating square roots.\n",
    "math.sqrt(5)"
   ]
  },
  {
   "cell_type": "code",
   "execution_count": 46,
   "metadata": {
    "collapsed": false
   },
   "outputs": [],
   "source": [
    "# Calculating cosines.\n",
    "math.cos(math.pi)"
   ]
  },
  {
   "cell_type": "markdown",
   "metadata": {},
   "source": [
    "##### A function that displays a picture\n",
    "People have written Python functions that do very cool and complicated things, like crawling web pages for data, transforming videos, or doing machine learning with lots of data.  Now that you can import things, when you want to do something with code, first check to see if someone else has done it for you.  Let's see an example of a function that's used for downloading and displaying pictures.\n",
    "\n",
    "The module `IPython.display` provides a function called `Image`.  `Image` takes a single argument, a string that is the URL of the image on the web.  It returns an *image* value that this Jupyter notebook understands how to display.  To display an image, make it the value of the last expression in a cell, just like you'd display a number or a string.\n",
    "\n",
    "In the next cell, we've imported the module `IPython.display` and used its `Image` function to display the image at this URL, which depicts the death of Socrates:\n",
    "\n",
    "https://upload.wikimedia.org/wikipedia/commons/thumb/8/8c/David_-_The_Death_of_Socrates.jpg/1024px-David_-_The_Death_of_Socrates.jpg"
   ]
  },
  {
   "cell_type": "code",
   "execution_count": 4,
   "metadata": {
    "collapsed": false
   },
   "outputs": [],
   "source": [
    "import IPython.display\n",
    "art = IPython.display.Image('https://upload.wikimedia.org/wikipedia/commons/thumb/8/8c/David_-_The_Death_of_Socrates.jpg/1024px-David_-_The_Death_of_Socrates.jpg')\n",
    "art"
   ]
  },
  {
   "cell_type": "markdown",
   "metadata": {},
   "source": [
    "# 3. Arrays\n",
    "Up to now, we haven't done much that you couldn't do yourself by hand or with a calculator.  Computers are most useful when you can use a small amount of code to *do the same action* to *many different things*.  For example, in the time it takes you to calculate an 18% tip on a restaurant bill, a laptop can calculate 18% tips for every restaurant bill paid by every human on Earth that day.  (That's if you're pretty fast at doing arithmetic in your head!)\n",
    "\n",
    "Arrays are how we put many values in one place so that we can operate on them as a group.  For example, if `billions_of_numbers` is an array of numbers, the expression `0.18 * billions_of_numbers` gives a new array of numbers that's the result of multiplying each number in `billions_of_numbers` by 0.18.  Arrays are not limited to numbers; we can also put all the words in a book into an array of strings.\n",
    "\n",
    "Arrays are provided by a package called [NumPy](http://www.numpy.org/) (pronounced \"NUM-pie\" or, if you prefer to pronounce things incorrectly, \"NUM-pee\").  The package is called `numpy`, but it's standard to rename it `np` for brevity.  You can do that with:\n",
    "\n",
    "    import numpy as np\n",
    "\n",
    "We've created a companion package of functions for working with large datasets.  It's called `datascience`.  It's typically imported with:\n",
    "\n",
    "    from datascience import *\n",
    "\n",
    "...which is just a slightly different way of importing a module.  Run the next cell to import both."
   ]
  },
  {
   "cell_type": "code",
   "execution_count": 38,
   "metadata": {
    "collapsed": true
   },
   "outputs": [],
   "source": [
    "# Just run this cell.\n",
    "import numpy as np\n",
    "from datascience import *"
   ]
  },
  {
   "cell_type": "markdown",
   "metadata": {},
   "source": [
    "You can type in an array yourself, but that's not typically how programs work.  Normally, we create arrays by loading them from an external source, like a data file.\n",
    "\n",
    "The next cell loads an array containing the world population in each year from 1950 to roughly the present.  You'll learn what a Table is soon.  (The estimates come from the [US Census Bureau website](http://www.census.gov/population/international/data/worldpop/table_population.php).  You can check out the data file [here](world_population.csv) if you want.)"
   ]
  },
  {
   "cell_type": "code",
   "execution_count": 7,
   "metadata": {
    "collapsed": false
   },
   "outputs": [],
   "source": [
    "world_population = Table.read_table(\"world_population.csv\").column(\"Population\")\n",
    "world_population"
   ]
  },
  {
   "cell_type": "markdown",
   "metadata": {},
   "source": [
    "We can get individual numbers out of our array by calling the `item` method on it."
   ]
  },
  {
   "cell_type": "code",
   "execution_count": null,
   "metadata": {
    "collapsed": true
   },
   "outputs": [],
   "source": [
    "population_1950 = world_population.item(0)\n",
    "population_1950"
   ]
  },
  {
   "cell_type": "code",
   "execution_count": null,
   "metadata": {
    "collapsed": true
   },
   "outputs": [],
   "source": [
    "population_1962 = world_population.item(12)\n",
    "population_1962"
   ]
  },
  {
   "cell_type": "markdown",
   "metadata": {},
   "source": [
    "Notice that, to get the first population value in our array, we asked for item \"0\", not item 1.  In Python, and in many programming languages, a thing in an array is referred to by its \"index,\" and indices start from 0, not 1.\n",
    "\n",
    "This is often confusing for new programmers.  A good way to remember it is that the index of an item is the number of things before it in an array.\n",
    "\n",
    "Fortunately, since arrays are primarily useful for doing the same operation many times, we don't often have to work with single elements anyway."
   ]
  },
  {
   "cell_type": "markdown",
   "metadata": {},
   "source": [
    "## 3.1. Doing something with every element of an array\n",
    "##### Logarithms\n",
    "Here is one simple question we might ask about world population:\n",
    "\n",
    "> How big is the population in *orders of magnitude*?\n",
    "\n",
    "The logarithm function is one way of measuring how big a number is. The logarithm (base 10) of a number increases by 1 every time we multiply the number by 10. It's like a measure of how many decimal digits the number has, or how big it is in orders of magnitude.\n",
    "\n",
    "We could try to answer our question like this, using the `log10` function from the `math` module:"
   ]
  },
  {
   "cell_type": "code",
   "execution_count": 39,
   "metadata": {
    "collapsed": false
   },
   "outputs": [],
   "source": [
    "population_1950_magnitude = math.log10(world_population.item(0))\n",
    "population_1951_magnitude = math.log10(world_population.item(1))\n",
    "population_1952_magnitude = math.log10(world_population.item(2))\n",
    "population_1953_magnitude = math.log10(world_population.item(3))\n",
    "..."
   ]
  },
  {
   "cell_type": "markdown",
   "metadata": {},
   "source": [
    "But this is tedious and doesn't really take advantage of the fact that we are using a computer.\n",
    "\n",
    "Instead, NumPy provides its own version of `log10` that takes the logarithm of each element of an array.  It takes a single array of numbers as its argument.  It returns an array of the same length, where the first element of the result is the logarithm of the first element of the argument, and so on."
   ]
  },
  {
   "cell_type": "code",
   "execution_count": 9,
   "metadata": {
    "collapsed": false
   },
   "outputs": [],
   "source": [
    "population_magnitudes = np.log10(world_population)\n",
    "population_magnitudes"
   ]
  },
  {
   "cell_type": "markdown",
   "metadata": {},
   "source": [
    "<img src=\"array_logarithm.jpg\">\n",
    "\n",
    "This is called *elementwise* application of the function, since it operates separately on each element of the array it's called on.  The textbook's section on arrays has a useful list of NumPy functions that are designed to work elementwise, like `np.log10`.\n",
    "\n",
    "##### Arithmetic\n",
    "Arithmetic also works elementwise on arrays.  For example, you can divide all the population numbers by 1 billion to get numbers in billions:"
   ]
  },
  {
   "cell_type": "code",
   "execution_count": 10,
   "metadata": {
    "collapsed": false
   },
   "outputs": [],
   "source": [
    "population_in_billions = world_population / 1000000000\n",
    "population_in_billions"
   ]
  },
  {
   "cell_type": "markdown",
   "metadata": {},
   "source": [
    "You can do the same with addition, subtraction, multiplication, and exponentiation (`**`).  For example, you can calculate a tip on several restaurant bills at once (in this case just 3):"
   ]
  },
  {
   "cell_type": "code",
   "execution_count": 14,
   "metadata": {
    "collapsed": false
   },
   "outputs": [],
   "source": [
    "restaurant_bills = Table.read_table(\"restaurant_bills.csv\").column(\"Bill\")\n",
    "print(restaurant_bills)\n",
    "tips = .2 * restaurant_bills\n",
    "print(tips)"
   ]
  },
  {
   "cell_type": "markdown",
   "metadata": {},
   "source": [
    "<img src=\"array_multiplication.jpg\">\n",
    "\n",
    "You can also do arithmetic on many *pairs* of numbers at once, if they're in two arrays of the same length.  For example, to compute the 3 bill totals, we can add each bill and tip together:"
   ]
  },
  {
   "cell_type": "code",
   "execution_count": 13,
   "metadata": {
    "collapsed": false
   },
   "outputs": [],
   "source": [
    "total_bills = restaurant_bills + tips"
   ]
  },
  {
   "cell_type": "markdown",
   "metadata": {},
   "source": [
    "<img src=\"array_addition.jpg\">\n",
    "\n",
    "To include a 9.5% sales tax and a flat $2 delivery charge, we could perform array arithmetic several times:"
   ]
  },
  {
   "cell_type": "code",
   "execution_count": 15,
   "metadata": {
    "collapsed": true
   },
   "outputs": [],
   "source": [
    "tax_rate = .095\n",
    "delivery_charge = 2\n",
    "total_bills_with_tax = restaurant_bills + tips + tax_rate*restaurant_bills + delivery_charge"
   ]
  },
  {
   "cell_type": "markdown",
   "metadata": {},
   "source": [
    "### 3.2. Making a range of numbers\n",
    "Very often in data science, we want to work with many numbers that are evenly spaced.  For example, suppose we want to label each element of `world_population` with the year it came from.  The years ranged from 1950 to 2015 at intervals of 1, so we would write this:"
   ]
  },
  {
   "cell_type": "code",
   "execution_count": 40,
   "metadata": {
    "collapsed": false
   },
   "outputs": [],
   "source": [
    "years = np.arange(1950, 2016, 1)\n",
    "years"
   ]
  },
  {
   "cell_type": "markdown",
   "metadata": {},
   "source": [
    "`np.arange(start, stop, space)` produces an array with all the numbers starting at `start` and counting up by `space`, stopping before `stop` is reached.  So the second argument to `arange` was 2016, *not* 2015, because we want the numbers to stop right before 2016.  (Like 0-based indexing, this can be confusing.)\n",
    "\n",
    "More commonly, we just want an array of numbers in order, say the first 1000 numbers.  `np.arange(1000)` is shorthand for `np.arange(0, 1000, 1)`, so it's useful for that purpose.\n",
    "\n",
    "##### Perfect squares\n",
    "For example, suppose we want to know the first 100 perfect squares. (A perfect square is a number that is equal to some integer times itself, like 4 ($2 \\times 2$) or 169 ($13 \\times 13$).)  Instead of checking a bunch of numbers to see if they're perfect squares, an easy way to do this is to square all the numbers from 0 to 99.  We can use `np.arange` and elementwise exponentiation `**` to do that:"
   ]
  },
  {
   "cell_type": "code",
   "execution_count": null,
   "metadata": {
    "collapsed": true
   },
   "outputs": [],
   "source": [
    "first_100_numbers = np.arange(100)\n",
    "first_100_perfect_squares = first_100_numbers**2\n",
    "first_100_perfect_squares"
   ]
  },
  {
   "cell_type": "markdown",
   "metadata": {},
   "source": [
    "For a challenge, try computing the first 10 *powers of 2*, which are 1, 2, 4, 8, 16, 32, 64, 128, 256, and 512.  *Hint:* Equivalently, we could have written, in Python, `2**0`, `2**1`, `2**2`, `2**3`, etc."
   ]
  },
  {
   "cell_type": "code",
   "execution_count": 41,
   "metadata": {
    "collapsed": false
   },
   "outputs": [],
   "source": [
    "first_10_powers_of_2 = ...\n",
    "first_10_powers_of_2"
   ]
  },
  {
   "cell_type": "markdown",
   "metadata": {},
   "source": [
    "### 3.3. Arrays of other things\n",
    "An array can contain any one kind of data, not just numbers.  In particular, when we work with text data, we often use arrays of strings.\n",
    "\n",
    "For example, if we want to work with each chapter of *Little Women*, we can make the text of each chapter a separate element of an array:"
   ]
  },
  {
   "cell_type": "code",
   "execution_count": 48,
   "metadata": {
    "collapsed": false
   },
   "outputs": [],
   "source": [
    "little_women_chapters = Table.read_table(\"little_women_chapters.csv\").column(\"Chapter Text\")\n",
    "little_women_chapters"
   ]
  },
  {
   "cell_type": "markdown",
   "metadata": {},
   "source": [
    "We can use elementwise functions to perform operations on many strings at once.  Let's count how many times Jo appears in each chapter:"
   ]
  },
  {
   "cell_type": "code",
   "execution_count": 49,
   "metadata": {
    "collapsed": false
   },
   "outputs": [],
   "source": [
    "jo_counts = np.char.count(little_women_chapters, \"Jo\")\n",
    "jo_counts"
   ]
  },
  {
   "cell_type": "markdown",
   "metadata": {},
   "source": [
    "NumPy provides some nice functions for manipulating strings this way, but often it doesn't have exactly what you want.  It's more common to define your own function and apply it to every string in an array.  You'll see how to do that later."
   ]
  },
  {
   "cell_type": "markdown",
   "metadata": {},
   "source": [
    "# 4. Tables\n",
    "Arrays are useful for holding and working with one kind of data about many entities.  For example, `world_population` contains the world population for each year from 1950 to 2015, and `years` contains the years in which the measurements were taken, 1950 to 2015.  But what if we want to ask a question that combines those two pieces of information, like:\n",
    "\n",
    "> In what year did the world population cross 6 billion?\n",
    "\n",
    "Tables let us answer this kind of question by associating several arrays of information about the same entities.\n",
    "\n",
    "## 4.1. Making a table\n",
    "Let's put the world populations together with their years:"
   ]
  },
  {
   "cell_type": "code",
   "execution_count": 30,
   "metadata": {
    "collapsed": false
   },
   "outputs": [],
   "source": [
    "population_table = Table().with_column(\"Year\", years).with_column(\"Population\", world_population)\n",
    "population_table"
   ]
  },
  {
   "cell_type": "markdown",
   "metadata": {},
   "source": [
    "To make that table, we:\n",
    "1. Made an empty table by calling the function `Table`.\n",
    "2. Extended that table with the column of years, named \"Year\".  We did this by calling `with_column` on the empty table.\n",
    "3. Extended that table with the column of populations, named \"Population\".  We did this by calling `with_column` on the table with only the Year column.\n",
    "\n",
    "Usually, though, we load tables directly from a data file.  The function `Table.read_table` does that.\n",
    "\n",
    "Let's load data about some highly-rated movies, which are provided by imdb.com:"
   ]
  },
  {
   "cell_type": "code",
   "execution_count": 31,
   "metadata": {
    "collapsed": false
   },
   "outputs": [],
   "source": [
    "imdb = Table.read_table(\"imdb_ratings.csv\")\n",
    "imdb"
   ]
  },
  {
   "cell_type": "markdown",
   "metadata": {},
   "source": [
    "If we want just the ratings of the movies, we can get an array that contains the data in that column:"
   ]
  },
  {
   "cell_type": "code",
   "execution_count": 32,
   "metadata": {
    "collapsed": false
   },
   "outputs": [],
   "source": [
    "imdb.column(\"Rank\")"
   ]
  },
  {
   "cell_type": "markdown",
   "metadata": {},
   "source": [
    "We could find the rating of the highest-rated movie using just that array, like this:"
   ]
  },
  {
   "cell_type": "code",
   "execution_count": 33,
   "metadata": {
    "collapsed": false
   },
   "outputs": [],
   "source": [
    "highest_rating = max(imdb.column(\"Rank\"))\n",
    "highest_rating"
   ]
  },
  {
   "cell_type": "markdown",
   "metadata": {},
   "source": [
    "But that's not very useful; you'd probably want to know the *name* of the highest-rated movie.  To do that, we can sort the table by rating."
   ]
  },
  {
   "cell_type": "code",
   "execution_count": 35,
   "metadata": {
    "collapsed": false
   },
   "outputs": [],
   "source": [
    "imdb.sort(\"Rank\")"
   ]
  },
  {
   "cell_type": "markdown",
   "metadata": {},
   "source": [
    "Well, that actually doesn't help much -- now we know the lowest-rated movies.  To look at the highest-rated movies, sort in reverse order:"
   ]
  },
  {
   "cell_type": "code",
   "execution_count": 36,
   "metadata": {
    "collapsed": false
   },
   "outputs": [],
   "source": [
    "imdb.sort(\"Rank\", descending=True)"
   ]
  },
  {
   "cell_type": "markdown",
   "metadata": {},
   "source": [
    "So the highest-rated movies in the dataset are *The Shawshank Redemption* and *The Godfather*.\n",
    "\n",
    "Tables provide many other kinds of functionality that we'll explore throughout this class.  They're documented [here](http://datascience.readthedocs.io/en/master/), and their source code is [here](https://github.com/data-8/datascience/tree/master/datascience), if you're interested."
   ]
  }
 ],
 "metadata": {
  "kernelspec": {
   "display_name": "Python 3",
   "language": "python",
   "name": "python3"
  },
  "language_info": {
   "codemirror_mode": {
    "name": "ipython",
    "version": 3
   },
   "file_extension": ".py",
   "mimetype": "text/x-python",
   "name": "python",
   "nbconvert_exporter": "python",
   "pygments_lexer": "ipython3",
   "version": "3.4.4"
  }
 },
 "nbformat": 4,
 "nbformat_minor": 0
}

