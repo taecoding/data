{
 "cells": [
  {
   "cell_type": "markdown",
   "metadata": {},
   "source": [
    "# Lab 1: Computing with Jupyter notebooks\n",
    "\n",
    "# 1. Labs\n",
    "Welcome to the Data Science 8 Faculty Short Course!\n",
    "\n",
    "## 1.1. Today's 3 labs\n",
    "\n",
    "Today's labs are about the basics of computing for data science.  The rest of the week will be about applications, but today you'll get a taste of the more technical parts of computing.  We'll touch on how to:\n",
    "1. navigate a Jupyter notebook (the format of all the labs);\n",
    "2. write and evaluate some basic *expressions* in Python, the computer language of the course;\n",
    "3. represent and manipulate some of the different types of information we use in data science:\n",
    "  * numbers (called *ints* or *floats*),\n",
    "  * text (called *strings*),\n",
    "  * containers for many pieces of one kind of data (called *arrays*), and\n",
    "  * containers for many pieces of different kinds of data (called *tables*);\n",
    "4. invoke *functions* and *methods* to use code others have written;\n",
    "5. make some basic *visualizations* from data in tables; and\n",
    "6. use these visualizations to examine the behavior of random samples of datasets.\n",
    "\n",
    "This material is covered in more depth in sections [1.4-3.1](http://www.inferentialthinking.com/chapter1/expressions.html) of the online textbook.\n",
    "\n",
    "## 1.2. What we won't cover\n",
    "A week isn't enough time to develop a working knowledge of Python.  The remaining labs will focus mostly on data science applications, and you'll get more out of these activities if you can read the code and get the gist of what it's doing.  But you won't need to be an expert.\n",
    "\n",
    "If you want to go deeper into the programming material from the longer course, we're happy to share.  The late-afternoon labs on Wednesday and Thursday will also get more into the details of Python programming.\n",
    "\n",
    "## 1.3. This lab\n",
    "The first lab of the day introduces you to the basics of Jupyter notebooks and Python.  It covers material from roughly the first week of the semester-long course."
   ]
  },
  {
   "cell_type": "markdown",
   "metadata": {},
   "source": [
    "# 2. Jupyter notebooks\n",
    "This webpage is called a Jupyter notebook. A notebook is a place to write programs and view their results.\n",
    "\n",
    "## 2.1. Text cells\n",
    "In a notebook, each rectangle containing text or code is called a *cell*.\n",
    "\n",
    "Text cells (like this one) can be edited by double-clicking on them. They're written in a simple format called [Markdown](http://daringfireball.net/projects/markdown/syntax) to add formatting and section headings.  If you want to write your own notebooks, it will be useful to know the basics of Markdown, but there's not too much to know.\n",
    "\n",
    "After you edit a text cell, click the \"run cell\" button at the top that looks like ▶ to confirm any changes. (Try not to delete the instructions of the lab.)"
   ]
  },
  {
   "cell_type": "markdown",
   "metadata": {},
   "source": [
    "**Question 2.1.1.** This paragraph is in its own text cell.  Try editing it so that this sentence is the last sentence in the paragraph.  This sentence, for example, should be deleted.  So should this one."
   ]
  },
  {
   "cell_type": "markdown",
   "metadata": {},
   "source": [
    "## 2.2. Code cells\n",
    "Other cells contain code in the Python 3 language. Running a code cell will execute all of the code it contains. To run the code in a code cell, first click on that cell to activate it. Next, either press ▶ or hold down the `shift` key and press `return` or `enter`.\n",
    "\n",
    "Try running this cell:"
   ]
  },
  {
   "cell_type": "code",
   "execution_count": 2,
   "metadata": {
    "collapsed": false
   },
   "outputs": [],
   "source": [
    "print(\"Hello, World!\")"
   ]
  },
  {
   "cell_type": "markdown",
   "metadata": {},
   "source": [
    "And this one:"
   ]
  },
  {
   "cell_type": "code",
   "execution_count": 3,
   "metadata": {
    "collapsed": false
   },
   "outputs": [],
   "source": [
    "print(\"\\N{WAVING HAND SIGN}, \\N{EARTH GLOBE ASIA-AUSTRALIA}!\")"
   ]
  },
  {
   "cell_type": "markdown",
   "metadata": {},
   "source": [
    "The fundamental building block of Python code is an expression. Cells can contain multiple lines with multiple expressions. When you run a cell, the lines of code are executed in the order in which they appear. Every `print` expression prints a line. Run the next cell and notice the order of the output."
   ]
  },
  {
   "cell_type": "code",
   "execution_count": 4,
   "metadata": {
    "collapsed": false
   },
   "outputs": [],
   "source": [
    "print(\"First this line is printed,\")\n",
    "print(\"and then this one.\")"
   ]
  },
  {
   "cell_type": "markdown",
   "metadata": {},
   "source": [
    "**Question 2.2.1.** Change the cell above so that it prints out:\n",
    "\n",
    "    First this line,\n",
    "    then the whole 🌏,\n",
    "    and then this one."
   ]
  },
  {
   "cell_type": "markdown",
   "metadata": {},
   "source": [
    "## 2.3. Writing Jupyter notebooks\n",
    "As an instructor, the interface for creating lab documents like this one is exactly the same as the interface you're using now to interact with the lab!  You just write text and code, and then give each student their own copy of the lab file to fill out.\n",
    "\n",
    "To add a cell, click the + button in the menu bar.  It'll start out as a text cell.  You can change it to a code cell by clicking inside it so it's highlighted, clicking the drop-down box next to the restart (⟳) button in the menu bar, and choosing \"Code\".\n",
    "\n",
    "**Question 2.3.1.** Add a code cell below this one.  Write code in it that prints out:\n",
    "   \n",
    "    A whole new cell! ♪\n",
    "\n",
    "(The code for that musical note is `\\N{eighth note}`.)\n",
    "\n",
    "Run your cell to verify that it works."
   ]
  },
  {
   "cell_type": "markdown",
   "metadata": {},
   "source": [
    "## 2.4. Errors\n",
    "Python is a language, and like natural human languages, it has rules.  It differs from natural language in at least two important ways:\n",
    "1. The rules are *simple*.  You can learn most of them in a few weeks and gain reasonable proficiency with the language in a semester.\n",
    "2. The rules are *rigid*.  If you're proficient in a natural language, you can understand a non-proficient speaker, glossing over small mistakes.  A computer running Python code is not smart enough to do that.\n",
    "\n",
    "Whenever you write code, you'll make mistakes.  When you run a code cell that has errors, Python will sometimes produce error messages to tell you what you did wrong.  Errors are okay; even experienced programmers make many errors.  When you make an error, you just have to find the source of the problem, fix it, and move on.\n",
    "\n",
    "We have made an error in the next cell.  Run it and see what happens."
   ]
  },
  {
   "cell_type": "code",
   "execution_count": 5,
   "metadata": {
    "collapsed": false
   },
   "outputs": [],
   "source": [
    "print(\"This line is missing something.\""
   ]
  },
  {
   "cell_type": "markdown",
   "metadata": {},
   "source": [
    "You should see something like this (minus our annotations):\n",
    "\n",
    "<img src=\"error.jpg\"/>\n",
    "\n",
    "The last line of the error output attempts to tell you what went wrong. The *syntax* of a language is its structure, and this `SyntaxError` tells you that you have created an illegal structure.  \"`EOF`\" means \"end of file,\" so the message is saying Python expected you to write something more (in this case, a right parenthesis) before finishing the cell.\n",
    "\n",
    "There's a lot of terminology in programming languages, but you don't need to know it all in order to program effectively. If you see a cryptic message like this, you can often get by without deciphering it.\n",
    "\n",
    "Try to fix the code above so that you can run the cell and see the intended message instead of an error."
   ]
  },
  {
   "cell_type": "markdown",
   "metadata": {},
   "source": [
    "# 3. Numbers\n",
    "\n",
    "Quantitative information arises everywhere in data science. In addition to representing commands to print out lines, expressions can represent numbers and methods of combining numbers. The expression `3.2500` evaluates to the number 3.25. (Run the cell and see.)"
   ]
  },
  {
   "cell_type": "code",
   "execution_count": 6,
   "metadata": {
    "collapsed": false
   },
   "outputs": [],
   "source": [
    "3.2500"
   ]
  },
  {
   "cell_type": "markdown",
   "metadata": {},
   "source": [
    "Notice that we didn't have to `print`. When you run a notebook cell, if the last line has a value, then Jupyter helpfully prints out that value for you. However, it won't print out prior lines automatically."
   ]
  },
  {
   "cell_type": "code",
   "execution_count": 7,
   "metadata": {
    "collapsed": false
   },
   "outputs": [],
   "source": [
    "print(2)\n",
    "3\n",
    "4"
   ]
  },
  {
   "cell_type": "markdown",
   "metadata": {},
   "source": [
    "Above, you should see that 4 is the value of the last expression, 2 is printed, but 3 is lost forever because it was neither printed nor last. You don't want to print everything all the time anyway. (But if you feel sorry for 3, you can print it.)"
   ]
  },
  {
   "cell_type": "markdown",
   "metadata": {},
   "source": [
    "## 3.1. Arithmetic\n",
    "The line in the next cell subtracts.  Its value is what you'd expect.  Run it."
   ]
  },
  {
   "cell_type": "code",
   "execution_count": null,
   "metadata": {
    "collapsed": false
   },
   "outputs": [],
   "source": [
    "3.25 - 1.5"
   ]
  },
  {
   "cell_type": "markdown",
   "metadata": {},
   "source": [
    "Many basic arithmetic operations are built in to Python.  The textbook section on [Expressions](http://www.inferentialthinking.com/chapter1/expressions.html) describes all the arithmetic operators used in the course.  The common operator that differs from typical math notation is `**`, which raises one number to the power of the other. So, `2**3` stands for $2^3$ and evaluates to 8. \n",
    "\n",
    "The order of operations is what you learned in elementary school, and Python also has parentheses.  For example, compare the outputs of the cells below. Use parentheses for a happy new year!"
   ]
  },
  {
   "cell_type": "code",
   "execution_count": 8,
   "metadata": {
    "collapsed": false
   },
   "outputs": [],
   "source": [
    "6*5-6*3**2*2**3/4*7"
   ]
  },
  {
   "cell_type": "code",
   "execution_count": 9,
   "metadata": {
    "collapsed": false
   },
   "outputs": [],
   "source": [
    "(6*5-(6*3))**2*((2**3)/4*7)"
   ]
  },
  {
   "cell_type": "markdown",
   "metadata": {},
   "source": [
    "**Question 3.1.1.** Write a Python expression in this next cell that's equal to $7^{3 \\frac{10}{11}}+4\\frac{1}{3}$. (That's seven to the power of three and ten elevenths, plus 4 and a third.  By \"$3 \\frac{10}{11}$\" we mean $3+\\frac{10}{11}$, not $3 \\times \\frac{10}{11}$.) Try to use parentheses only when necessary. The correct output should start with a familiar number."
   ]
  },
  {
   "cell_type": "code",
   "execution_count": null,
   "metadata": {
    "collapsed": false
   },
   "outputs": [],
   "source": [
    "..."
   ]
  },
  {
   "cell_type": "markdown",
   "metadata": {},
   "source": [
    "*Hint:* If you try to write `3 10/11`, you'll get an error.  You need to tell Python explicitly how to combine numbers together, as in `3 + 10/11`."
   ]
  },
  {
   "cell_type": "markdown",
   "metadata": {},
   "source": [
    "# 4. Names\n",
    "In natural language, we have terminology that lets us quickly reference very complicated concepts.  We don't say, \"That's a large mammal with brown fur and sharp teeth!\"  Instead, we say, \"Bear!\"\n",
    "\n",
    "Similarly, an effective strategy for writing code is to define names to data as we compute it, like a lawyer would define terms for complex ideas at the start of a legal document.  Python lets us do this with *assignment statements*. An assignment statement always has a name on the left side of an `=` sign and an expression to be evaluated on the right."
   ]
  },
  {
   "cell_type": "code",
   "execution_count": null,
   "metadata": {
    "collapsed": false
   },
   "outputs": [],
   "source": [
    "ten = 3 * 2 + 4"
   ]
  },
  {
   "cell_type": "markdown",
   "metadata": {},
   "source": [
    "When you run that cell, Python first evaluates the first (and in this case, only) line.  It computes the value of the expression `3 * 2 + 4`, which is the number 10.  Then it gives that value the name `ten`.  Now, the value 10 is bound to the name `ten`:"
   ]
  },
  {
   "cell_type": "code",
   "execution_count": null,
   "metadata": {
    "collapsed": false
   },
   "outputs": [],
   "source": [
    "ten"
   ]
  },
  {
   "cell_type": "markdown",
   "metadata": {},
   "source": [
    "The statement `ten = 3 * 2 + 4` is not asserting that `ten` is already equal to `3 * 2 + 4`, as we might expect by analogy with math notation.  Rather, that line of code changes what `ten` means; it now refers to the value 10, whereas before it meant nothing at all.\n",
    "\n",
    "If the designers of Python had been ruthlessly pedantic, they might have made us write \"`define the name ten to have the value of 3 * 2 + 4`\" instead, but you will probably appreciate the brevity of \"`=`\"!"
   ]
  },
  {
   "cell_type": "markdown",
   "metadata": {},
   "source": [
    "**Question 4.1.** Try writing code that uses a name (like `foo` or `eleven`) that hasn't been assigned to anything.  You'll see an error!"
   ]
  },
  {
   "cell_type": "code",
   "execution_count": null,
   "metadata": {
    "collapsed": true
   },
   "outputs": [],
   "source": []
  },
  {
   "cell_type": "markdown",
   "metadata": {},
   "source": [
    "A common pattern in Jupyter notebooks is to assign a value to a name and then immediately evaluate the name in the last line in the cell so that the value is displayed as output. "
   ]
  },
  {
   "cell_type": "code",
   "execution_count": null,
   "metadata": {
    "collapsed": false
   },
   "outputs": [],
   "source": [
    "close_to_pi = 355/113\n",
    "close_to_pi"
   ]
  },
  {
   "cell_type": "markdown",
   "metadata": {},
   "source": [
    "Another common pattern is that a series of lines in a single cell will build up a complex computation in stages, naming the intermediate results."
   ]
  },
  {
   "cell_type": "code",
   "execution_count": null,
   "metadata": {
    "collapsed": false
   },
   "outputs": [],
   "source": [
    "bimonthly_salary = 840\n",
    "monthly_salary = 2 * bimonthly_salary\n",
    "number_of_months_in_a_year = 12\n",
    "yearly_salary = number_of_months_in_a_year * monthly_salary\n",
    "yearly_salary"
   ]
  },
  {
   "cell_type": "markdown",
   "metadata": {},
   "source": [
    "Names in Python can have letters (upper- and lower-case letters are both okay and count as different letters), underscores, and numbers.  The first character can't be a number (otherwise a name might look like a number).\n",
    "\n",
    "Other than those rules, what you name something doesn't matter *to Python* -- we could have called `yearly_salary` instead `my_birthday` and the code would do nothing different.\n",
    "\n",
    "**However**, names are very important for making your code *readable* to yourself and others.  According to a famous joke among computer scientists, naming things is one of the two hardest problems in computer science.  The other two are cache invalidation and \"off-by-one\" errors.  (And people say computer scientists have an odd sense of humor...)"
   ]
  },
  {
   "cell_type": "markdown",
   "metadata": {},
   "source": [
    "**Question 4.2.** Assign the name `seconds_in_a_decade` to the number of seconds between midnight January 1, 2010 and midnight January 1, 2020."
   ]
  },
  {
   "cell_type": "code",
   "execution_count": 24,
   "metadata": {
    "collapsed": false
   },
   "outputs": [],
   "source": [
    "# Change the next line so that it computes the number of\n",
    "# seconds in a decade and assigns that number the name\n",
    "# seconds_in_a_decade.\n",
    "seconds_in_a_decade = ...\n",
    "\n",
    "# We've put this line in this cell so that it will print\n",
    "# the value you've given to seconds_in_a_decade when you\n",
    "# run it.  You don't need to change this.\n",
    "seconds_in_a_decade"
   ]
  },
  {
   "cell_type": "markdown",
   "metadata": {},
   "source": [
    "## 4.1. Checking your code\n",
    "Now that you know how to name things, you can start using the built-in *tests* to check whether your work is correct. Try not to change the contents of the test cells.\n",
    "\n",
    "Running the following cell will test whether you have assigned `seconds_in_a_decade` correctly in Question 4.2. If you haven't, this test will tell you the correct answer. Resist the urge to just copy it, and instead try to adjust your expression. (Sometimes the tests will give hints about what went wrong...)"
   ]
  },
  {
   "cell_type": "code",
   "execution_count": 23,
   "metadata": {
    "collapsed": false
   },
   "outputs": [],
   "source": [
    "# Test cell; please do not change!\n",
    "from client.api.assignment import load_assignment \n",
    "lab01 = load_assignment('longlab01.ok')\n",
    "_ = lab01.grade('q41')"
   ]
  },
  {
   "cell_type": "markdown",
   "metadata": {},
   "source": [
    "If you want, you can include tests like this in your own assignment notebooks.  For those who are interested, we'll go over that in lab on Thursday."
   ]
  },
  {
   "cell_type": "markdown",
   "metadata": {},
   "source": [
    "## 4.2. Comments\n",
    "You may have noticed this line in the cell above:\n",
    "\n",
    "    # Test cell; please do not change!\n",
    "\n",
    "That is called a *comment*.  It doesn't make anything happen in Python; Python ignores anything on a line after a #.  Instead, it's there to communicate something about the code to you, the human reader.  Comments are extremely useful.\n",
    "\n",
    "<img src=\"http://imgs.xkcd.com/comics/future_self.png\">"
   ]
  },
  {
   "cell_type": "markdown",
   "metadata": {},
   "source": [
    "## 4.3. Application: A physics experiment\n",
    "\n",
    "On the Apollo 15 mission to the Moon, astronaut David Scott famously replicated Galileo's physics experiment in which he showed that gravity accelerates objects of different mass at the same rate. Because there is no air resistance for a falling object on the surface of the Moon, even two objects with very different masses and densities should fall at the same rate. David Scott compared a feather and a hammer.\n",
    "\n",
    "You can run the following cell to watch a video of the experiment."
   ]
  },
  {
   "cell_type": "code",
   "execution_count": 1,
   "metadata": {
    "collapsed": false
   },
   "outputs": [],
   "source": [
    "from IPython.display import YouTubeVideo\n",
    "YouTubeVideo(\"U7db6ZeLR5s\")"
   ]
  },
  {
   "cell_type": "markdown",
   "metadata": {},
   "source": [
    "Here's the transcript of the video:\n",
    "\n",
    "**167:22:06 Scott**: Well, in my left hand, I have a feather; in my right hand, a hammer. And I guess one of the reasons we got here today was because of a gentleman named Galileo, a long time ago, who made a rather significant discovery about falling objects in gravity fields. And we thought where would be a better place to confirm his findings than on the Moon. And so we thought we'd try it here for you. The feather happens to be, appropriately, a falcon feather for our Falcon. And I'll drop the two of them here and, hopefully, they'll hit the ground at the same time. \n",
    "\n",
    "**167:22:43 Scott**: How about that!\n",
    "\n",
    "**167:22:45 Allen**: How about that! (Applause in Houston)\n",
    "\n",
    "**167:22:46 Scott**: Which proves that Mr. Galileo was correct in his findings."
   ]
  },
  {
   "cell_type": "markdown",
   "metadata": {},
   "source": [
    "**Newton's Law.** Using this footage, we can also attempt to confirm another famous bit of physics: Newton's law of universal gravitation. Newton's laws predict that any object dropped near the surface of the Moon should fall\n",
    "\n",
    "$$\\frac{1}{2} G \\frac{M}{R^2} t^2 \\text{ meters}$$\n",
    "\n",
    "after $t$ seconds, where $G$ is a universal constant, $M$ is the moon's mass in kilograms, and $R$ is the moon's radius in meters.  So if we know $G$, $M$, and $R$, then Newton's laws let us predict how far an object will fall over any amount of time.\n",
    "\n",
    "To verify the accuracy of this law, we will calculate the difference between the predicted distance the hammer drops and the actual distance.  (If they are different, it might be because Newton's laws are wrong, or because our measurements are imprecise, or because there are other factors affecting the hammer for which we haven't accounted.)\n",
    "\n",
    "Someone studied the video and estimated that the hammer was dropped 113 cm from the surface. Counting frames in the video, the hammer falls for 1.2 seconds (36 frames)."
   ]
  },
  {
   "cell_type": "markdown",
   "metadata": {},
   "source": [
    "**Question 4.3.1.** Below we've written code to compute the difference between the predicted and estimated *distances in meters* that the hammer fell in this experiment.  Peruse the code and see how it implements the formula given by Newton's law.  We've left it to you to **fill in the data** from the experiment; the places where you see ellipses (`...`) should be replaced with the appropriate numbers."
   ]
  },
  {
   "cell_type": "code",
   "execution_count": 6,
   "metadata": {
    "collapsed": false
   },
   "outputs": [],
   "source": [
    "# t, the duration of the fall in the experiment, in seconds.\n",
    "# Fill this in.\n",
    "time = ...\n",
    "\n",
    "# The estimated distance the hammer actually fell, in meters.\n",
    "# Fill this in.\n",
    "estimated_distance_m = ...\n",
    "\n",
    "# G, the universal constant measuring the strength of gravity.\n",
    "gravity_constant = 6.674 * 10**-11\n",
    "\n",
    "# M, the moon's mass, in kilograms.\n",
    "moon_mass_kg = 7.34767309 * 10**22\n",
    "\n",
    "# R, the radius of the moon, in meters.\n",
    "moon_radius_m = 1.737 * 10**6\n",
    "\n",
    "# The distance the hammer should have fallen over the\n",
    "# duration of the fall, in meters, according to Newton's\n",
    "# law of gravity.  (The text above describes the formula\n",
    "# for this distance given by Newton's law.)\n",
    "predicted_distance_m = (1/2) * gravity_constant * (moon_mass_kg / moon_radius_m**2) * time**2\n",
    "\n",
    "# Here we've computed the difference between the predicted\n",
    "# fall distance and the distance we actually measured.\n",
    "# If you've filled in the above code to define time and\n",
    "# predicted_distance_m, this should just work.\n",
    "difference = predicted_distance_m - estimated_distance_m\n",
    "difference"
   ]
  },
  {
   "cell_type": "code",
   "execution_count": 26,
   "metadata": {
    "collapsed": false
   },
   "outputs": [],
   "source": [
    "_ = lab01.grade('q431')"
   ]
  },
  {
   "cell_type": "markdown",
   "metadata": {},
   "source": [
    "## 5. Calling functions\n",
    "\n",
    "The most common way to combine or manipulate values in Python is by calling functions. Python comes with many built-in functions that perform common operations.\n",
    "\n",
    "For example, the `abs` function takes a single number as its argument and returns the absolute value of that number.  The absolute value of a number is its distance from 0 on the number line, so `abs(5)` is 5 and `abs(-5)` is also 5."
   ]
  },
  {
   "cell_type": "code",
   "execution_count": null,
   "metadata": {
    "collapsed": false
   },
   "outputs": [],
   "source": [
    "abs(5)"
   ]
  },
  {
   "cell_type": "code",
   "execution_count": null,
   "metadata": {
    "collapsed": false
   },
   "outputs": [],
   "source": [
    "abs(-5)"
   ]
  },
  {
   "cell_type": "markdown",
   "metadata": {},
   "source": [
    "## 5.1. Application: Computing walking distances\n",
    "Chunhua is on the corner of 7th Avenue and 42nd Street in Midtown Manhattan, and she wants to know far she'd have to walk to get to Gramercy School on the corner of 10th Avenue and 34th Street.\n",
    "\n",
    "She can't cut across blocks diagonally, since there are buildings in the way.  She has to walk along the sidewalks.  Using the map below, she sees she'd have to walk 3 avenues (long blocks) and 8 streets (short blocks).  In terms of the given numbers, she computed 3 as the difference between 7 and 10, *in absolute value*, and 8 similarly.  \n",
    "\n",
    "Chunhua also knows that blocks in Manhattan are all about 80m by 274m (avenues are farther apart than streets).  So in total, she'd have to walk $(80 \\times |42 - 34| + 274 \\times |7 - 10|)$ meters to get to the park.\n",
    "\n",
    "<img src=\"map.jpg\"/>\n",
    "\n",
    "**Question 5.1.1.** Finish the line `num_avenues_away = ...` in the next cell so that the cell calculates the distance Chunhua must walk and gives it the name `manhattan_distance`.  Everything else has been filled in for you.  **Use the `abs` function.**"
   ]
  },
  {
   "cell_type": "code",
   "execution_count": 34,
   "metadata": {
    "collapsed": false
   },
   "outputs": [],
   "source": [
    "# Here's the number of streets away:\n",
    "num_streets_away = abs(42-34)\n",
    "\n",
    "# Compute the number of avenues away in a similar way:\n",
    "num_avenues_away = ...\n",
    "\n",
    "street_length_m = 80\n",
    "avenue_length_m = 274\n",
    "\n",
    "# Now we compute the total distance Chunhua must walk.\n",
    "manhattan_distance = street_length_m*num_streets_away + avenue_length_m*num_avenues_away\n",
    "\n",
    "# We've included this line so that you see the distance\n",
    "# you've computed when you run this cell.  You don't need\n",
    "# to change it, but you can if you want.\n",
    "manhattan_distance"
   ]
  },
  {
   "cell_type": "markdown",
   "metadata": {},
   "source": [
    "Be sure to run the next cell to test your code."
   ]
  },
  {
   "cell_type": "code",
   "execution_count": 33,
   "metadata": {
    "collapsed": false
   },
   "outputs": [],
   "source": [
    "_ = lab01.grade('q511')"
   ]
  },
  {
   "cell_type": "markdown",
   "metadata": {},
   "source": [
    "##### Multiple arguments\n",
    "Some functions take multiple arguments, separated by commas. For example, the built-in `max` function returns the maximum argument passed to it."
   ]
  },
  {
   "cell_type": "code",
   "execution_count": null,
   "metadata": {
    "collapsed": false
   },
   "outputs": [],
   "source": [
    "max(2, -3, 4, -5)"
   ]
  },
  {
   "cell_type": "markdown",
   "metadata": {},
   "source": [
    "# 6. Understanding nested expressions\n",
    "Function calls and arithmetic expressions can themselves contain expressions.  You saw an example in the last question:\n",
    "\n",
    "    abs(42-34)\n",
    "\n",
    "has 2 number expressions in a subtraction expression in a function call expression.  And you probably wrote something like `abs(7-10)` to compute `num_avenues_away`.\n",
    "\n",
    "Nested expressions can turn into complicated-looking code. However, the way in which complicated expressions break down is very regular.\n",
    "\n",
    "Suppose we are interested in heights that are very unusual.  We'll say that a height is unusual to the extent that it's far away on the number line from the average human height.  [An estimate](http://press.endocrine.org/doi/full/10.1210/jcem.86.9.7875?ck=nck&) of the average adult human height (averaging, we hope, over all humans on Earth today) is 1.688 meters.\n",
    "\n",
    "So if Aditya is 1.21 meters tall, then his height is $|1.21 - 1.688|$, or $.478$, meters away from the average.  Here's a picture of that:\n",
    "\n",
    "<img src=\"numberline_0.png\">\n",
    "\n",
    "And here's how we'd write that in one line of Python code:"
   ]
  },
  {
   "cell_type": "code",
   "execution_count": null,
   "metadata": {
    "collapsed": false
   },
   "outputs": [],
   "source": [
    "abs(1.21 - 1.688)"
   ]
  },
  {
   "cell_type": "markdown",
   "metadata": {},
   "source": [
    "What's going on here?  `abs` takes just one argument, so the stuff inside the parentheses is all part of that *single argument*.  Specifically, the argument is the value of the expression `1.21 - 1.688`.  The value of that expression is `-.478`.  That value then becomes the argument to `abs`.  The absolute value of `-.478` is `.478`, so `.478` is the value of the full expression `abs(1.21 - 1.688)`.\n",
    "\n",
    "Picture simplifying the expression in several steps:\n",
    "\n",
    "1. `abs(1.21 - 1.688)`\n",
    "2. `abs(-.478)`\n",
    "3. `.478`\n",
    "\n",
    "In fact, that's basically what Python does to compute the value of the expression."
   ]
  },
  {
   "cell_type": "markdown",
   "metadata": {},
   "source": [
    "**Question 6.1.** Say that Botan's height is 1.85 meters.  In the next cell, use `abs` to compute the absolute value of the difference between Botan's height and the average human height.  Give that value the name `botan_distance_from_average_m`.\n",
    "\n",
    "<img src=\"numberline_1.png\">"
   ]
  },
  {
   "cell_type": "code",
   "execution_count": 37,
   "metadata": {
    "collapsed": false
   },
   "outputs": [],
   "source": [
    "# Replace the ... with an expression to compute the absolute\n",
    "# value of the difference between Botan's height (1.85m) and\n",
    "# the average human height.\n",
    "botan_distance_from_average_m = ...\n",
    "\n",
    "# Again, we've written this here so that the distance you\n",
    "# compute will get printed when you run this cell.\n",
    "botan_distance_from_average_m"
   ]
  },
  {
   "cell_type": "code",
   "execution_count": 38,
   "metadata": {
    "collapsed": false
   },
   "outputs": [],
   "source": [
    "_ = lab01.grade('q61')"
   ]
  },
  {
   "cell_type": "markdown",
   "metadata": {},
   "source": [
    "## 6.1. More nesting\n",
    "Now say that we want to compute the most unusual height among Aditya's and Botan's heights.  We'll use the function `max`, which (again) takes two numbers as arguments and returns the larger of the two arguments.  Combining that with the `abs` function, we can compute the biggest distance from the average among the two heights:"
   ]
  },
  {
   "cell_type": "code",
   "execution_count": 5,
   "metadata": {
    "collapsed": false
   },
   "outputs": [],
   "source": [
    "# Just read and run this cell.\n",
    "\n",
    "aditya_height_m = 1.21\n",
    "botan_height_m = 1.85\n",
    "average_adult_human_height_m = 1.688\n",
    "\n",
    "# The biggest distance from the average human height, among the two heights:\n",
    "biggest_distance_m = max(abs(aditya_height_m - average_adult_human_height_m), abs(botan_height_m - average_adult_human_height_m))\n",
    "\n",
    "# Print out our results in a nice readable format:\n",
    "print(\"The biggest distance from the average height among these two people is\", biggest_distance_m, \"meters.\")"
   ]
  },
  {
   "cell_type": "markdown",
   "metadata": {},
   "source": [
    "The line where `biggest_distance_m` is computed looks complicated, but we can break it down into simpler components just like we did before.\n",
    "\n",
    "The basic recipe is repeated simplification of small parts of the expression:\n",
    "* We start with the simplest components whose values we know, like plain names or numbers.  (Examples: `aditya_height_m` or `5`.)\n",
    "* We look for simple expressions that are immediately connected in the code, for example by arithmetic or as arguments to a function call.  Then we glom them together by evaluating the arithmetic expressions or function calls they're part of.  (Example: `aditya_height_m - average_adult_human_height_m` becomes `-.478`.)\n",
    "* Then we continue this process, using the values of the glommed-together stuff as our new basic components.  (Example: `abs(-.478)` becomes `.478`, and `max(.478, .162)` later becomes `.478`.)\n",
    "* We keep doing that until we've evaluated the whole expression.\n",
    "\n",
    "You can run the next cell to see a slideshow of that process."
   ]
  },
  {
   "cell_type": "code",
   "execution_count": 1,
   "metadata": {
    "collapsed": false
   },
   "outputs": [],
   "source": [
    "from IPython.display import IFrame\n",
    "IFrame('https://docs.google.com/presentation/d/1urkX-nRsD8VJvcOnJsjmCy0Jpv752Ssn5Pphg2sMC-0/embed?start=false&loop=false&delayms=3000', 800, 600)"
   ]
  },
  {
   "cell_type": "markdown",
   "metadata": {},
   "source": [
    "Ok, your turn to build a complicated expression.\n",
    "\n",
    "**Exercise 6.1.1.** Given the heights of the last three U.S. Presidents, write an expression that computes the smallest difference between any of the three heights. Your expression shouldn't have any numbers in it; only function calls and the names `obama`, `clinton`, and `bush`.  We've filled in most of the code for you."
   ]
  },
  {
   "cell_type": "code",
   "execution_count": null,
   "metadata": {
    "collapsed": true
   },
   "outputs": [],
   "source": [
    "obama = 1.85\n",
    "clinton = 1.88\n",
    "bush = 1.82\n",
    "\n",
    "# We look at all 3 pairs of heights, compute the absolute difference between\n",
    "# each pair, and then find the smallest of those 3 absolute differences.\n",
    "# The last part of the code that does this is left to you.  Replace the\n",
    "# \"...\" with something appropriate.\n",
    "min_height_difference = min(abs(obama-clinton), abs(obama-bush), ...)"
   ]
  },
  {
   "cell_type": "code",
   "execution_count": null,
   "metadata": {
    "collapsed": false
   },
   "outputs": [],
   "source": [
    "_ = lab01.grade('q611')"
   ]
  },
  {
   "cell_type": "markdown",
   "metadata": {},
   "source": [
    "Congratulations!  You've learned a real chunk of Python."
   ]
  }
 ],
 "metadata": {
  "kernelspec": {
   "display_name": "Python 3",
   "language": "python",
   "name": "python3"
  },
  "language_info": {
   "codemirror_mode": {
    "name": "ipython",
    "version": 3
   },
   "file_extension": ".py",
   "mimetype": "text/x-python",
   "name": "python",
   "nbconvert_exporter": "python",
   "pygments_lexer": "ipython3",
   "version": "3.4.4"
  }
 },
 "nbformat": 4,
 "nbformat_minor": 0
}

