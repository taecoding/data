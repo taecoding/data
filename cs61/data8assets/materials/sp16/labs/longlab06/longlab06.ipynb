{
 "cells": [
  {
   "cell_type": "markdown",
   "metadata": {},
   "source": [
    "# Lab 6\n",
    "\n",
    "Welcome to lab 6!  In lab 5, we used simulation to investigate the random variation in an estimate that was based on a random sample.  Now we'll flip that idea on its head to make it useful for *statistical inference*."
   ]
  },
  {
   "cell_type": "markdown",
   "metadata": {},
   "source": [
    "As usual, **run the cell below** to prepare the lab and the automatic tests."
   ]
  },
  {
   "cell_type": "code",
   "execution_count": 52,
   "metadata": {
    "collapsed": false
   },
   "outputs": [],
   "source": [
    "# Run this cell, but please don't change it.\n",
    "\n",
    "# These lines import the NumPy and datascience modules.\n",
    "import numpy as np\n",
    "# This way of importing the datascience module lets you write \"Table\" instead\n",
    "# of \"datascience.Table\".  The \"*\" means \"import everything in the module.\"\n",
    "from datascience import *\n",
    "# Some extra utility functions for this lab:\n",
    "from lab_utils import *\n",
    "\n",
    "# These lines set up visualizations.\n",
    "import matplotlib\n",
    "%matplotlib inline\n",
    "import matplotlib.pyplot as plt\n",
    "plt.style.use('fivethirtyeight')\n",
    "import warnings\n",
    "warnings.simplefilter('ignore', FutureWarning)\n",
    "\n",
    "# These lines load the tests.\n",
    "from client.api.assignment import load_assignment \n",
    "lab06 = load_assignment('longlab06.ok')"
   ]
  },
  {
   "cell_type": "markdown",
   "metadata": {
    "collapsed": true
   },
   "source": [
    "# 1. Warplanes again"
   ]
  },
  {
   "cell_type": "markdown",
   "metadata": {},
   "source": [
    "Last time, we saw how various estimates of the number of warplanes would typically vary.  Now let's make that more useful by producing *confidence intervals* to quantify our uncertainty in a *given estimate*.\n",
    "\n",
    "Remember the setup: We (the RAF in World War II) want to know the number of warplanes fielded by the Germans.  That's equal to the largest serial number on any of the warplanes.  We only see a small number of serial numbers (assumed to be a random sample from among all the serial numbers), so we have to use estimation.\n",
    "\n",
    "To simulate this, we're going to hide the true number of warplanes from you, which we'll call `N`.  You'll have access only to this random sample:"
   ]
  },
  {
   "cell_type": "code",
   "execution_count": 39,
   "metadata": {
    "collapsed": false,
    "scrolled": true
   },
   "outputs": [],
   "source": [
    "observations = Table.read_table(\"serial_numbers.csv\")\n",
    "num_observations = observations.num_rows\n",
    "\n",
    "# Let's use a histogram to plot the serial numbers we've observed.\n",
    "# This function takes an table of serial numbers and produces a\n",
    "# histogram of them.  It's a useful visualization that we'll\n",
    "# use several times.\n",
    "def plot_serial_numbers(numbers):\n",
    "    numbers.hist(bins=np.arange(1, 200))\n",
    "    plt.ylim(0, .25)\n",
    "\n",
    "plot_serial_numbers(observations)"
   ]
  },
  {
   "cell_type": "markdown",
   "metadata": {},
   "source": [
    "Your job is to estimate `N`.  You'll see that a confidence interval will help you understand how sure you should be about your answer.\n",
    "\n",
    "We saw that one way to estimate `N` was to take twice the mean of the serial numbers we see."
   ]
  },
  {
   "cell_type": "code",
   "execution_count": 49,
   "metadata": {
    "collapsed": false
   },
   "outputs": [],
   "source": [
    "# Returns twice the mean of the argument nums, which should\n",
    "# be an array of serial numbers.  This is one way of estimating\n",
    "# N.\n",
    "def mean_based_estimator(nums):\n",
    "    return 2*np.average(nums)\n",
    "\n",
    "mean_based_estimate = mean_based_estimator(observations.column(\"serial number\"))\n",
    "mean_based_estimate"
   ]
  },
  {
   "cell_type": "markdown",
   "metadata": {},
   "source": [
    "**Question 1.1.** In this particular sample, what's the biggest number?  Compute it, giving it the name `max_estimate`. The value of this number actually implies something about how accurate `mean_based_estimate` is; what is that implication?"
   ]
  },
  {
   "cell_type": "code",
   "execution_count": 50,
   "metadata": {
    "collapsed": false
   },
   "outputs": [],
   "source": [
    "max_estimate = ...\n",
    "max_estimate"
   ]
  },
  {
   "cell_type": "code",
   "execution_count": 53,
   "metadata": {
    "collapsed": false
   },
   "outputs": [],
   "source": [
    "_ = lab06.grade(\"q11\")"
   ]
  },
  {
   "cell_type": "markdown",
   "metadata": {},
   "source": [
    "`N` is surely at least as big as the biggest serial number in our sample.  So in this case, we can tell that the mean-based estimate is off.\n",
    "\n",
    "If we knew the sampling distribution of the mean-based estimate, we'd know how far off it typically is.  Unfortunately, since we don't know `N`, we can't just simulate to compute that sampling distribution.  Remember, our `simulate_observations` function in lab 5 looked like this:"
   ]
  },
  {
   "cell_type": "code",
   "execution_count": 30,
   "metadata": {
    "collapsed": false,
    "scrolled": true
   },
   "outputs": [],
   "source": [
    "# Infeasible: We can't write this part, because we don't know N!\n",
    "N = ...\n",
    "\n",
    "# Attempts to simulate one sample from the population of all serial\n",
    "# numbers, returning an array of the sampled serial numbers.\n",
    "def simulate_observations():\n",
    "    # You'll get an error message if you try to call this\n",
    "    # function, because we didn't define N properly!\n",
    "    return np.random.randint(1, N+1, num_observations)"
   ]
  },
  {
   "cell_type": "markdown",
   "metadata": {},
   "source": [
    "Here's a picture of how we computed the *sampling distribution* of an estimator of `N` using this kind of simulation:\n",
    "\n",
    "<img src=\"sampling_distribution.jpg\">"
   ]
  },
  {
   "cell_type": "markdown",
   "metadata": {},
   "source": [
    "## 1.1. Resampling\n",
    "Instead, we'll use resampling.  That is, we won't exactly simulate the observations the RAF would have really seen.  Rather we sample from our sample.\n",
    "\n",
    "Why does that make any sense?  Here's an analogy.  It seems pretty intuitive to estimate the proportion of Democrats in a population using the proportion of Democrats in a random sample from that population.  We'd like to compute something from the population, and the closest thing we have to the population is the sample, so we just \"plug in\" the sample.\n",
    "\n",
    "Similarly, we'd like to simulate sampling from the population, but we can't, so we simulate sampling from the data we actually have.  We call that resampling."
   ]
  },
  {
   "cell_type": "code",
   "execution_count": 42,
   "metadata": {
    "collapsed": true
   },
   "outputs": [],
   "source": [
    "# Simulates one sample from our observations (a resample),\n",
    "# returning an array of the sampled serial numbers.\n",
    "def simulate_resample():\n",
    "    return observations.sample(num_observations, with_replacement=True).column(\"serial number\")"
   ]
  },
  {
   "cell_type": "markdown",
   "metadata": {},
   "source": [
    "Let's do that once."
   ]
  },
  {
   "cell_type": "code",
   "execution_count": 44,
   "metadata": {
    "collapsed": false
   },
   "outputs": [],
   "source": [
    "# This is a little magic to make sure that you see the same results\n",
    "# we did, just to make the exposition easier.\n",
    "np.random.seed(123)\n",
    "one_resample = simulate_resample()\n",
    "one_resample"
   ]
  },
  {
   "cell_type": "markdown",
   "metadata": {},
   "source": [
    "**Question 1.1.1.** Make a histogram to display the distribution of serial numbers in `one_resample`.  Use the function `plot_serial_numbers`, which was defined and used a few screens above.\n",
    "\n",
    "*Hint:* `plot_serial_numbers` expects a table as its argument, but `one_resample` is an array.  You can make a table with `one_resample` as its only column by writing:\n",
    "    \n",
    "    Table().with_column(\"serial number\", one_resample)"
   ]
  },
  {
   "cell_type": "code",
   "execution_count": 34,
   "metadata": {
    "collapsed": false
   },
   "outputs": [],
   "source": [
    "..."
   ]
  },
  {
   "cell_type": "markdown",
   "metadata": {},
   "source": [
    "To compare, here's the actual observations again:"
   ]
  },
  {
   "cell_type": "code",
   "execution_count": 54,
   "metadata": {
    "collapsed": false,
    "scrolled": true
   },
   "outputs": [],
   "source": [
    "plot_serial_numbers(observations)"
   ]
  },
  {
   "cell_type": "markdown",
   "metadata": {},
   "source": [
    "You should see that the little sticks in the first histogram, the resample, only appear at the same places as little sticks in the second histogram, the sample.  The resample has only the elements of the sample.  Some are repeated several times, and some don't get into the resample at all.\n",
    "\n",
    "The mean of the resample is:"
   ]
  },
  {
   "cell_type": "code",
   "execution_count": 36,
   "metadata": {
    "collapsed": false,
    "scrolled": true
   },
   "outputs": [],
   "source": [
    "mean_based_estimator(one_resample)"
   ]
  },
  {
   "cell_type": "markdown",
   "metadata": {},
   "source": [
    "Let's repeat this many times and see what we get.  Here's a picture of the whole resampling process (except we repeat things 20000 times, not 3 times.  Remember, it's an *approximation* to the earlier picture, where we computed the actual sampling distribution of our estimates.  It may be useful to refer to that previous picture now.\n",
    "\n",
    "<img src=\"resampling_distribution.jpg\">"
   ]
  },
  {
   "cell_type": "code",
   "execution_count": 55,
   "metadata": {
    "collapsed": false
   },
   "outputs": [],
   "source": [
    "num_simulations = 20000\n",
    "\n",
    "# Returns an array of many estimates, based on simulating samples\n",
    "# many times by calling simulator (a function) and calling estimator\n",
    "# (another function) on each sample.  So the returned array is an\n",
    "# array of estimates produced by the given estimator.\n",
    "def simulate_estimates(estimator, simulator):\n",
    "    simulations = Table().with_column(\"resample\", repeat(simulator, num_simulations))\n",
    "    return simulations.apply(estimator, \"resample\")\n",
    "\n",
    "bins = np.arange(50, 250, 1)\n",
    "\n",
    "# Simulate samples many times by calling simulator, compute the\n",
    "# estimator on each one, and draw a histogram of the estimates.\n",
    "# That's an empirical histogram of estimates based on sampling\n",
    "# or resampling, depending on what the provided simulator function\n",
    "# does.\n",
    "def draw_simulated_distribution(estimator, simulator):\n",
    "    Table().with_column(\"estimates\", simulate_estimates(estimator, simulator)).hist(\"estimates\", bins=bins)\n",
    "\n",
    "# draw_simulated_distribution is a \"higher-order function\" that takes\n",
    "# 2 functions as its arguments!  In English, we're telling it a way to\n",
    "# generate samples (viz. by resampling from our observations) and a\n",
    "# way to estimate N from each of those samples (by taking twice their\n",
    "# mean).\n",
    "# \n",
    "draw_simulated_distribution(mean_based_estimator, simulate_resample)"
   ]
  },
  {
   "cell_type": "markdown",
   "metadata": {},
   "source": [
    "We call this a \"resampling\" or \"bootstrap\" distribution of our twice-the-mean estimate.\n",
    "\n",
    "Its interpretation is: If the population looked like our sample, then we'd expect our estimator usually to produce estimates between around 80 and 170, and often between around 100 and 140.  We just looked at the histogram to come up with those numbers.\n",
    "\n",
    "We can be more quantitative about this by computing intervals that cover different proportions of the resampling distribution.  We call these coverage intervals, though soon you'll see that we compute confidence intervals in exactly the same way."
   ]
  },
  {
   "cell_type": "code",
   "execution_count": 59,
   "metadata": {
    "collapsed": false
   },
   "outputs": [],
   "source": [
    "resample_estimates = simulate_estimates(mean_based_estimator, simulate_resample)\n",
    "\n",
    "# numbers should be an array of numbers, and coverage should be\n",
    "# a percentage (like 95 or 99.9).\n",
    "# Returns a 2-element array with the lower and upper limits of\n",
    "# an interval.  That interval covers a percentage of the given\n",
    "# numbers equal to the second argument, coverage.\n",
    "def coverage_interval(numbers, coverage):\n",
    "    return np.percentile(numbers, [(100-coverage)/2, (100+coverage)/2])\n",
    "\n",
    "# Computes and prints out a coverage interval for the given\n",
    "# numbers.\n",
    "# The first argument, numbers, should be an array of numbers,\n",
    "# and the second argument, coverage, should be a percentage\n",
    "# (like 95 or 99.9).\n",
    "def print_coverage_interval(numbers, coverage):\n",
    "    interval = coverage_interval(numbers, coverage)\n",
    "    pattern = \"If the population looked like our sample, our sample-based estimates of N would be between {:.2f} and {:.2f} {:.1f}% of the time.\"\n",
    "    message = pattern.format(interval.item(0), interval.item(1), coverage)\n",
    "    print(message)\n",
    "\n",
    "print_coverage_interval(resample_estimates, 80)\n",
    "print_coverage_interval(resample_estimates, 95)\n",
    "print_coverage_interval(resample_estimates, 99.9)"
   ]
  },
  {
   "cell_type": "markdown",
   "metadata": {},
   "source": [
    "Below we've written some code to display a resampling distribution with these percentiles overlaid."
   ]
  },
  {
   "cell_type": "code",
   "execution_count": 72,
   "metadata": {
    "collapsed": false
   },
   "outputs": [],
   "source": [
    "def draw_distribution_and_interval(estimator, simulator, coverage):\n",
    "    estimates = simulate_estimates(estimator, simulator)\n",
    "    interval = coverage_interval(estimates, coverage)\n",
    "    estimates_table = Table().with_column(\"estimates\", estimates)\n",
    "    estimates_table.hist(\"estimates\", bins=bins)\n",
    "    biggest_bin_height = max(estimates_table.bin(\"estimates\", bins=bins).column(\"estimates count\")) / estimates_table.num_rows\n",
    "    def draw_bar(x):\n",
    "        plt.plot([x, x], [0, biggest_bin_height], color=\"red\", alpha=.5)\n",
    "    \n",
    "    draw_bar(interval.item(0))\n",
    "    draw_bar(interval.item(1))\n",
    "    plt.title(\"{:.2f}% coverage interval\".format(coverage))\n",
    "\n",
    "draw_distribution_and_interval(mean_based_estimator, simulate_resample, 80)\n",
    "draw_distribution_and_interval(mean_based_estimator, simulate_resample, 95)\n",
    "draw_distribution_and_interval(mean_based_estimator, simulate_resample, 99.9)"
   ]
  },
  {
   "cell_type": "markdown",
   "metadata": {},
   "source": [
    "## 1.2. Confidence Intervals\n",
    "Now comes the tricky part.  We'd like to move from a statement like this:\n",
    "\n",
    "> \"If the population looked like this, then we'd usually get estimates for `N` between A and B.\"\n",
    "\n",
    "...to what we really want:\n",
    "\n",
    "> \"We claim `N` is actually between X and Y, and usually our claims are right.\"\n",
    "\n",
    "The first claim seems much weaker.  For example, notice that the resampling distribution is centered around 122, but that can't be where the sampling distribution is centered, because we know `N` is at least 135!  So we know the resampling distribution isn't centered in the right place.\n",
    "\n",
    "We can't cover the intricacies of the idea in full here.  But the idea is to flip our thinking around.  Assume that the *shape* of our resampling distribution is roughly similar to the *shape* of the sampling distribution.  Then if we put an interval around our estimate of `N` that covers 95% of the resamples, it's also true that 95% of the time our estimate will be close enough to `N` that our interval will cover `N`.\n",
    "\n",
    "Anyway, the basic bootstrap method turns out to be very simple: We just use the coverage intervals we were just computing!  So those were in fact 80%, 95%, and 99.9% confidence intervals, respectively.\n",
    "\n",
    "**Question 1.2.1.** The true value of `N` was 150.  Go back and look at the intervals we computed.  Do they cover `N`?  If they don't, does that mean the method is wrong?"
   ]
  },
  {
   "cell_type": "markdown",
   "metadata": {},
   "source": [
    "*Use this space to write an answer, or just discuss with a neighbor.*"
   ]
  },
  {
   "cell_type": "markdown",
   "metadata": {},
   "source": [
    "**Question 1.2.2.** If you've seen confidence intervals before, you probably saw a method that can compute confidence intervals for means.  That method is based on approximating the sampling and resampling distributions by Normal curves, though it may not have been taught that way.  Could you have used that method here?"
   ]
  },
  {
   "cell_type": "markdown",
   "metadata": {},
   "source": [
    "*Use this space to write an answer, or just discuss with a neighbor.*"
   ]
  },
  {
   "cell_type": "markdown",
   "metadata": {},
   "source": [
    "## 1.3. A different estimator\n",
    "Suppose we didn't think about using twice the mean, but we had a similar idea instead: \n",
    "\n",
    "> \"The *middle* serial number in our sample should be close to `N`/2, so twice the middle serial number should be a decent estimate of `N`!\n",
    "\n",
    "Now we're not dealing with a mean any more, so the standard methods for computing confidence intervals don't work at all.  But the bootstrap works just fine.\n",
    "\n",
    "Here is a function that computes twice the middle number of a sample of serial numbers:"
   ]
  },
  {
   "cell_type": "code",
   "execution_count": 64,
   "metadata": {
    "collapsed": true
   },
   "outputs": [],
   "source": [
    "def median_based_estimator(nums):\n",
    "    return 2*np.median(nums)"
   ]
  },
  {
   "cell_type": "markdown",
   "metadata": {},
   "source": [
    "**Question 1.3.1.** Use the function `draw_distribution_and_interval` to plot a confidence interval for `N` using this estimator instead of `mean_based_estimator`.  You can choose the coverage levels (like 95% or 98%), or try several coverage levels.\n",
    "\n",
    "*Hint:* The code should be very short, and it should look very similar to our code at the end of section 1.1.  That's the power of abstraction!"
   ]
  },
  {
   "cell_type": "code",
   "execution_count": 74,
   "metadata": {
    "collapsed": false
   },
   "outputs": [],
   "source": [
    "..."
   ]
  },
  {
   "cell_type": "markdown",
   "metadata": {},
   "source": [
    "**Question 1.3.2.** Why is the resampling distribution so spiky?\n",
    "\n",
    "*Hint:* Go back to a histogram of the sample.  The spikes in the resampling distribution occur at serial numbers in our sample!"
   ]
  },
  {
   "cell_type": "markdown",
   "metadata": {},
   "source": [
    "*Use this space to write an answer, or just discuss with a neighbor.*"
   ]
  }
 ],
 "metadata": {
  "kernelspec": {
   "display_name": "Python 3",
   "language": "python",
   "name": "python3"
  },
  "language_info": {
   "codemirror_mode": {
    "name": "ipython",
    "version": 3
   },
   "file_extension": ".py",
   "mimetype": "text/x-python",
   "name": "python",
   "nbconvert_exporter": "python",
   "pygments_lexer": "ipython3",
   "version": "3.4.4"
  }
 },
 "nbformat": 4,
 "nbformat_minor": 0
}

