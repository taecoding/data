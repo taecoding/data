{
 "cells": [
  {
   "cell_type": "code",
   "execution_count": 18,
   "metadata": {
    "collapsed": true
   },
   "outputs": [],
   "source": [
    "import numpy as np\n",
    "from datascience import *\n",
    "\n",
    "%matplotlib inline\n",
    "import matplotlib.pyplot as plots\n",
    "plots.style.use('fivethirtyeight')"
   ]
  },
  {
   "cell_type": "markdown",
   "metadata": {},
   "source": [
    "# Data 8 Tutoring Week 4\n",
    "\n",
    "Topics to go over: \n",
    "    - Joins\n",
    "        - Implementation\n",
    "    - Maps\n",
    "        - Implementation \n",
    "    - Iteration\n",
    "        - Comparison/Booleans\n",
    "        - Random Selection\n",
    "        - Control Statements"
   ]
  },
  {
   "cell_type": "markdown",
   "metadata": {},
   "source": [
    "# The Incumbency Effect\n",
    "The following table contains data about every congressional representative from the 50 states (DC is not included) from 1995 onward. If an entry contains \"nan\" it means that there is no entry (i.e. a middlename of \"nan\" means the congressman or woman had no middle name)."
   ]
  },
  {
   "cell_type": "code",
   "execution_count": 19,
   "metadata": {
    "collapsed": false
   },
   "outputs": [
    {
     "data": {
      "text/html": [
       "<table border=\"1\" class=\"dataframe\">\n",
       "    <thead>\n",
       "        <tr>\n",
       "            <th>congress</th> <th>chamber</th> <th>firstname</th> <th>middlename</th> <th>lastname</th> <th>birthday</th> <th>state</th> <th>party</th> <th>incumbent</th> <th>age</th> <th>Term Start</th>\n",
       "        </tr>\n",
       "    </thead>\n",
       "    <tbody>\n",
       "        <tr>\n",
       "            <td>104     </td> <td>house  </td> <td>Sidney   </td> <td>Richard   </td> <td>Yates     </td> <td>8/27/1909</td> <td>IL   </td> <td>D    </td> <td>Yes      </td> <td>85.4</td> <td>1995      </td>\n",
       "        </tr>\n",
       "    </tbody>\n",
       "        <tr>\n",
       "            <td>104     </td> <td>house  </td> <td>James    </td> <td>Henry     </td> <td>Quillen   </td> <td>1/11/1916</td> <td>TN   </td> <td>R    </td> <td>Yes      </td> <td>79  </td> <td>1995      </td>\n",
       "        </tr>\n",
       "    </tbody>\n",
       "        <tr>\n",
       "            <td>104     </td> <td>house  </td> <td>Henry    </td> <td>Barbosa   </td> <td>González  </td> <td>5/3/1916 </td> <td>TX   </td> <td>D    </td> <td>Yes      </td> <td>78.7</td> <td>1995      </td>\n",
       "        </tr>\n",
       "    </tbody>\n",
       "        <tr>\n",
       "            <td>104     </td> <td>house  </td> <td>Sam      </td> <td>Melville  </td> <td>Gibbons   </td> <td>1/20/1920</td> <td>FL   </td> <td>D    </td> <td>Yes      </td> <td>75  </td> <td>1995      </td>\n",
       "        </tr>\n",
       "    </tbody>\n",
       "        <tr>\n",
       "            <td>104     </td> <td>house  </td> <td>George   </td> <td>E.        </td> <td>Brown     </td> <td>3/6/1920 </td> <td>CA   </td> <td>D    </td> <td>Yes      </td> <td>74.8</td> <td>1995      </td>\n",
       "        </tr>\n",
       "    </tbody>\n",
       "        <tr>\n",
       "            <td>104     </td> <td>house  </td> <td>Gillespie</td> <td>V.        </td> <td>Montgomery</td> <td>8/5/1920 </td> <td>MS   </td> <td>D    </td> <td>Yes      </td> <td>74.4</td> <td>1995      </td>\n",
       "        </tr>\n",
       "    </tbody>\n",
       "        <tr>\n",
       "            <td>104     </td> <td>house  </td> <td>Tom      </td> <td>nan       </td> <td>Bevill    </td> <td>3/27/1921</td> <td>AL   </td> <td>D    </td> <td>Yes      </td> <td>73.8</td> <td>1995      </td>\n",
       "        </tr>\n",
       "    </tbody>\n",
       "        <tr>\n",
       "            <td>104     </td> <td>house  </td> <td>Barbara  </td> <td>Farrell   </td> <td>Vucanovich</td> <td>6/22/1921</td> <td>NV   </td> <td>R    </td> <td>Yes      </td> <td>73.5</td> <td>1995      </td>\n",
       "        </tr>\n",
       "    </tbody>\n",
       "        <tr>\n",
       "            <td>104     </td> <td>house  </td> <td>Carlos   </td> <td>John      </td> <td>Moorhead  </td> <td>5/6/1922 </td> <td>CA   </td> <td>R    </td> <td>Yes      </td> <td>72.7</td> <td>1995      </td>\n",
       "        </tr>\n",
       "    </tbody>\n",
       "        <tr>\n",
       "            <td>104     </td> <td>house  </td> <td>Benjamin </td> <td>nan       </td> <td>Gilman    </td> <td>12/6/1922</td> <td>NY   </td> <td>R    </td> <td>Yes      </td> <td>72.1</td> <td>1995      </td>\n",
       "        </tr>\n",
       "    </tbody>\n",
       "</table>\n",
       "<p>... (5439 rows omitted)</p"
      ],
      "text/plain": [
       "congress | chamber | firstname | middlename | lastname   | birthday  | state | party | incumbent | age  | Term Start\n",
       "104      | house   | Sidney    | Richard    | Yates      | 8/27/1909 | IL    | D     | Yes       | 85.4 | 1995\n",
       "104      | house   | James     | Henry      | Quillen    | 1/11/1916 | TN    | R     | Yes       | 79   | 1995\n",
       "104      | house   | Henry     | Barbosa    | González   | 5/3/1916  | TX    | D     | Yes       | 78.7 | 1995\n",
       "104      | house   | Sam       | Melville   | Gibbons    | 1/20/1920 | FL    | D     | Yes       | 75   | 1995\n",
       "104      | house   | George    | E.         | Brown      | 3/6/1920  | CA    | D     | Yes       | 74.8 | 1995\n",
       "104      | house   | Gillespie | V.         | Montgomery | 8/5/1920  | MS    | D     | Yes       | 74.4 | 1995\n",
       "104      | house   | Tom       | nan        | Bevill     | 3/27/1921 | AL    | D     | Yes       | 73.8 | 1995\n",
       "104      | house   | Barbara   | Farrell    | Vucanovich | 6/22/1921 | NV    | R     | Yes       | 73.5 | 1995\n",
       "104      | house   | Carlos    | John       | Moorhead   | 5/6/1922  | CA    | R     | Yes       | 72.7 | 1995\n",
       "104      | house   | Benjamin  | nan        | Gilman     | 12/6/1922 | NY    | R     | Yes       | 72.1 | 1995\n",
       "... (5439 rows omitted)"
      ]
     },
     "execution_count": 19,
     "metadata": {},
     "output_type": "execute_result"
    }
   ],
   "source": [
    "congress = Table().read_table(\"congress-terms-since1995.csv\").drop(2,6,13,14).where(\"incumbent\", are.not_equal_to(\"nan\"))\n",
    "true_date = make_array()\n",
    "for i in congress.column(\"termstart\"):\n",
    "     true_date = np.append(true_date, int(i[:-5:-1][::-1]))\n",
    "congress = congress.with_column(\n",
    "    \"Term Start\", true_date).drop(\"termstart\")\n",
    "congress"
   ]
  },
  {
   "cell_type": "markdown",
   "metadata": {},
   "source": [
    "# Question 1.1:\n",
    "Often times people who've already served in office are said to have an incumbency advantage: an advantage that comes from having prior experience, a well known name, and franking priviledges (they can send mail without paying postage). But just how big is this supposed advantage? Is there an advantage?\n",
    "\n",
    "In the cell below find out what proportion of representatives have been incumbents since 1995."
   ]
  },
  {
   "cell_type": "code",
   "execution_count": 20,
   "metadata": {
    "collapsed": false
   },
   "outputs": [
    {
     "data": {
      "text/plain": [
       "0.8566709487979446"
      ]
     },
     "execution_count": 20,
     "metadata": {},
     "output_type": "execute_result"
    }
   ],
   "source": [
    "prop_incumbents = congress.where(\"incumbent\", are.equal_to(\"Yes\")).num_rows/congress.num_rows\n",
    "prop_incumbents"
   ]
  },
  {
   "cell_type": "markdown",
   "metadata": {},
   "source": [
    "# Question 1.2\n",
    "Of course the House and the Senate differ in many ways, from term lengths, to number of representatives, to jurisdiction of powers. Does one chamber have a higher incidence of incumbent advantage that the other?"
   ]
  },
  {
   "cell_type": "code",
   "execution_count": 21,
   "metadata": {
    "collapsed": false
   },
   "outputs": [
    {
     "name": "stdout",
     "output_type": "stream",
     "text": [
      "Proportion of House who have been incumbents: 0.8434389140271493\n",
      "Proportion of Senate who have been incumbents: 0.9135082604470359\n"
     ]
    }
   ],
   "source": [
    "# house and senate are tables that only have data about their respective chambers \n",
    "house = congress.where(\"chamber\", are.equal_to(\"house\"))\n",
    "senate = congress.where(\"chamber\", are.equal_to(\"senate\"))\n",
    "\n",
    "prop_incumbents_house = house.where(\"incumbent\", are.equal_to(\"Yes\")).num_rows/house.num_rows\n",
    "prop_incumbents_senate = senate.where(\"incumbent\", are.equal_to(\"Yes\")).num_rows/senate.num_rows\n",
    "\n",
    "print(\"Proportion of House who have been incumbents:\", prop_incumbents_house)\n",
    "print(\"Proportion of Senate who have been incumbents:\", prop_incumbents_senate)"
   ]
  },
  {
   "cell_type": "markdown",
   "metadata": {},
   "source": [
    "So it would seem that the senate, at least since 1995, has had a more pronounced incumbency effect. I encourage you to think about why this may be"
   ]
  },
  {
   "cell_type": "markdown",
   "metadata": {},
   "source": [
    "# Parties of Congressional Representatives\n",
    "Next, we are going to find what proportion of each state's representatives, since 1995, have been Republican or Democrat. Eventually, we're going to use that information to build a map."
   ]
  },
  {
   "cell_type": "markdown",
   "metadata": {},
   "source": [
    "First, let's see how the composition of each chamber Congress has changed since 1995."
   ]
  },
  {
   "cell_type": "code",
   "execution_count": 22,
   "metadata": {
    "collapsed": false
   },
   "outputs": [
    {
     "data": {
      "image/png": "[encoded data removed]",
      "text/plain": [
       "<matplotlib.figure.Figure at 0x7f18198c4978>"
      ]
     },
     "metadata": {},
     "output_type": "display_data"
    }
   ],
   "source": [
    "#run cell\n",
    "house_plot = congress.where(\"chamber\", \"house\").pivot(\"party\", \"Term Start\").select(\"Term Start\", \"D\", \"R\")\\\n",
    ".relabeled(\"D\", \"Democrats\").relabeled(\"R\", \"Republicans\").scatter(0)\n",
    "house_plot"
   ]
  },
  {
   "cell_type": "code",
   "execution_count": 23,
   "metadata": {
    "collapsed": false
   },
   "outputs": [
    {
     "data": {
      "image/png": "[encoded data removed]",
      "text/plain": [
       "<matplotlib.figure.Figure at 0x7f1817179828>"
      ]
     },
     "metadata": {},
     "output_type": "display_data"
    }
   ],
   "source": [
    "#run cell\n",
    "senate_plot = congress.where(\"chamber\", \"senate\").pivot(\"party\", \"Term Start\").select(\"Term Start\", \"D\", \"R\")\\\n",
    ".relabeled(\"D\", \"Democrats\").relabeled(\"R\", \"Republicans\").scatter(0)\n",
    "senate_plot"
   ]
  },
  {
   "cell_type": "markdown",
   "metadata": {},
   "source": [
    "Obviously, the composition of congress has changed dramatically over the past few years. For the sake of simplicity, we'll only be looking at the overall proportion of democratic versus republican representatives a state has had in the given time."
   ]
  },
  {
   "cell_type": "markdown",
   "metadata": {},
   "source": [
    "The following cell creates a table called states that associates each state with the latitude and longitude of one of it's cities (for our purposes it doesn't matter which city it is, so long as the coordinates correspond with a point within each State's borders)."
   ]
  },
  {
   "cell_type": "code",
   "execution_count": 24,
   "metadata": {
    "collapsed": false
   },
   "outputs": [
    {
     "data": {
      "text/html": [
       "<table border=\"1\" class=\"dataframe\">\n",
       "    <thead>\n",
       "        <tr>\n",
       "            <th>Abbreviation</th> <th>US State</th> <th>latitude</th> <th>longitude</th>\n",
       "        </tr>\n",
       "    </thead>\n",
       "    <tbody>\n",
       "        <tr>\n",
       "            <td>AK          </td> <td>Alaska     </td> <td>61.2876 </td> <td>-149.487 </td>\n",
       "        </tr>\n",
       "    </tbody>\n",
       "        <tr>\n",
       "            <td>AL          </td> <td>Alabama    </td> <td>33.6035 </td> <td>-86.4668 </td>\n",
       "        </tr>\n",
       "    </tbody>\n",
       "        <tr>\n",
       "            <td>AR          </td> <td>Arkansas   </td> <td>34.209  </td> <td>-91.9859 </td>\n",
       "        </tr>\n",
       "    </tbody>\n",
       "        <tr>\n",
       "            <td>AZ          </td> <td>Arizona    </td> <td>33.704  </td> <td>-112.352 </td>\n",
       "        </tr>\n",
       "    </tbody>\n",
       "        <tr>\n",
       "            <td>CA          </td> <td>California </td> <td>33.974  </td> <td>-118.248 </td>\n",
       "        </tr>\n",
       "    </tbody>\n",
       "        <tr>\n",
       "            <td>CO          </td> <td>Colorado   </td> <td>39.522  </td> <td>-105.224 </td>\n",
       "        </tr>\n",
       "    </tbody>\n",
       "        <tr>\n",
       "            <td>CT          </td> <td>Connecticut</td> <td>41.7579 </td> <td>-72.7283 </td>\n",
       "        </tr>\n",
       "    </tbody>\n",
       "        <tr>\n",
       "            <td>DE          </td> <td>Delaware   </td> <td>39.5947 </td> <td>-75.6939 </td>\n",
       "        </tr>\n",
       "    </tbody>\n",
       "        <tr>\n",
       "            <td>FL          </td> <td>Florida    </td> <td>29.9377 </td> <td>-81.4206 </td>\n",
       "        </tr>\n",
       "    </tbody>\n",
       "        <tr>\n",
       "            <td>GA          </td> <td>Georgia    </td> <td>33.7717 </td> <td>-84.2394 </td>\n",
       "        </tr>\n",
       "    </tbody>\n",
       "</table>\n",
       "<p>... (40 rows omitted)</p"
      ],
      "text/plain": [
       "Abbreviation | US State    | latitude | longitude\n",
       "AK           | Alaska      | 61.2876  | -149.487\n",
       "AL           | Alabama     | 33.6035  | -86.4668\n",
       "AR           | Arkansas    | 34.209   | -91.9859\n",
       "AZ           | Arizona     | 33.704   | -112.352\n",
       "CA           | California  | 33.974   | -118.248\n",
       "CO           | Colorado    | 39.522   | -105.224\n",
       "CT           | Connecticut | 41.7579  | -72.7283\n",
       "DE           | Delaware    | 39.5947  | -75.6939\n",
       "FL           | Florida     | 29.9377  | -81.4206\n",
       "GA           | Georgia     | 33.7717  | -84.2394\n",
       "... (40 rows omitted)"
      ]
     },
     "execution_count": 24,
     "metadata": {},
     "output_type": "execute_result"
    }
   ],
   "source": [
    "#run cell\n",
    "abbreviations = Table().read_table(\"State_names_w_abbreviations.csv\")\n",
    "states_w_cities = Table.read_table(\"zip_codes_states.csv\").where(\n",
    "    \"latitude\", are.between_or_equal_to(0.01,360))\n",
    "states = abbreviations.join(\"Abbreviation\", states_w_cities, \"state\").drop(2,5,6)\n",
    "states"
   ]
  },
  {
   "cell_type": "markdown",
   "metadata": {},
   "source": [
    "# Question 2.1\n",
    "Now that we have a table with congressional data and one with coordinates associated with each state, it will be of some use to us to join the 2 tables. \n",
    "Use the .join method to create a new table that has a row for every representative and has all of the old congressional data PLUS the new longitude and latitude data. \n",
    "(Remember, the order you use .join matters. congress.join(-arguments-) is not the same as states.join(-arguments-)!!)"
   ]
  },
  {
   "cell_type": "code",
   "execution_count": 25,
   "metadata": {
    "collapsed": false
   },
   "outputs": [
    {
     "data": {
      "text/html": [
       "<table border=\"1\" class=\"dataframe\">\n",
       "    <thead>\n",
       "        <tr>\n",
       "            <th>state</th> <th>congress</th> <th>chamber</th> <th>firstname</th> <th>middlename</th> <th>lastname</th> <th>birthday</th> <th>party</th> <th>incumbent</th> <th>age</th> <th>Term Start</th> <th>US State</th> <th>latitude</th> <th>longitude</th>\n",
       "        </tr>\n",
       "    </thead>\n",
       "    <tbody>\n",
       "        <tr>\n",
       "            <td>AK   </td> <td>104     </td> <td>house  </td> <td>Don      </td> <td>E.        </td> <td>Young    </td> <td>6/9/1933  </td> <td>R    </td> <td>Yes      </td> <td>61.6</td> <td>1995      </td> <td>Alaska  </td> <td>61.2876 </td> <td>-149.487 </td>\n",
       "        </tr>\n",
       "    </tbody>\n",
       "        <tr>\n",
       "            <td>AK   </td> <td>104     </td> <td>senate </td> <td>Ted      </td> <td>F.        </td> <td>Stevens  </td> <td>11/18/1923</td> <td>R    </td> <td>Yes      </td> <td>71.1</td> <td>1995      </td> <td>Alaska  </td> <td>61.2876 </td> <td>-149.487 </td>\n",
       "        </tr>\n",
       "    </tbody>\n",
       "        <tr>\n",
       "            <td>AK   </td> <td>104     </td> <td>senate </td> <td>Frank    </td> <td>H.        </td> <td>Murkowski</td> <td>3/28/1933 </td> <td>R    </td> <td>Yes      </td> <td>61.8</td> <td>1995      </td> <td>Alaska  </td> <td>61.2876 </td> <td>-149.487 </td>\n",
       "        </tr>\n",
       "    </tbody>\n",
       "        <tr>\n",
       "            <td>AK   </td> <td>105     </td> <td>house  </td> <td>Don      </td> <td>E.        </td> <td>Young    </td> <td>6/9/1933  </td> <td>R    </td> <td>Yes      </td> <td>63.6</td> <td>1997      </td> <td>Alaska  </td> <td>61.2876 </td> <td>-149.487 </td>\n",
       "        </tr>\n",
       "    </tbody>\n",
       "        <tr>\n",
       "            <td>AK   </td> <td>105     </td> <td>senate </td> <td>Ted      </td> <td>F.        </td> <td>Stevens  </td> <td>11/18/1923</td> <td>R    </td> <td>Yes      </td> <td>73.1</td> <td>1997      </td> <td>Alaska  </td> <td>61.2876 </td> <td>-149.487 </td>\n",
       "        </tr>\n",
       "    </tbody>\n",
       "        <tr>\n",
       "            <td>AK   </td> <td>105     </td> <td>senate </td> <td>Frank    </td> <td>H.        </td> <td>Murkowski</td> <td>3/28/1933 </td> <td>R    </td> <td>Yes      </td> <td>63.8</td> <td>1997      </td> <td>Alaska  </td> <td>61.2876 </td> <td>-149.487 </td>\n",
       "        </tr>\n",
       "    </tbody>\n",
       "        <tr>\n",
       "            <td>AK   </td> <td>106     </td> <td>house  </td> <td>Don      </td> <td>E.        </td> <td>Young    </td> <td>6/9/1933  </td> <td>R    </td> <td>Yes      </td> <td>65.6</td> <td>1999      </td> <td>Alaska  </td> <td>61.2876 </td> <td>-149.487 </td>\n",
       "        </tr>\n",
       "    </tbody>\n",
       "        <tr>\n",
       "            <td>AK   </td> <td>106     </td> <td>senate </td> <td>Ted      </td> <td>F.        </td> <td>Stevens  </td> <td>11/18/1923</td> <td>R    </td> <td>Yes      </td> <td>75.1</td> <td>1999      </td> <td>Alaska  </td> <td>61.2876 </td> <td>-149.487 </td>\n",
       "        </tr>\n",
       "    </tbody>\n",
       "        <tr>\n",
       "            <td>AK   </td> <td>106     </td> <td>senate </td> <td>Frank    </td> <td>H.        </td> <td>Murkowski</td> <td>3/28/1933 </td> <td>R    </td> <td>Yes      </td> <td>65.8</td> <td>1999      </td> <td>Alaska  </td> <td>61.2876 </td> <td>-149.487 </td>\n",
       "        </tr>\n",
       "    </tbody>\n",
       "        <tr>\n",
       "            <td>AK   </td> <td>107     </td> <td>house  </td> <td>Don      </td> <td>E.        </td> <td>Young    </td> <td>6/9/1933  </td> <td>R    </td> <td>Yes      </td> <td>67.6</td> <td>2001      </td> <td>Alaska  </td> <td>61.2876 </td> <td>-149.487 </td>\n",
       "        </tr>\n",
       "    </tbody>\n",
       "</table>\n",
       "<p>... (5439 rows omitted)</p"
      ],
      "text/plain": [
       "state | congress | chamber | firstname | middlename | lastname  | birthday   | party | incumbent | age  | Term Start | US State | latitude | longitude\n",
       "AK    | 104      | house   | Don       | E.         | Young     | 6/9/1933   | R     | Yes       | 61.6 | 1995       | Alaska   | 61.2876  | -149.487\n",
       "AK    | 104      | senate  | Ted       | F.         | Stevens   | 11/18/1923 | R     | Yes       | 71.1 | 1995       | Alaska   | 61.2876  | -149.487\n",
       "AK    | 104      | senate  | Frank     | H.         | Murkowski | 3/28/1933  | R     | Yes       | 61.8 | 1995       | Alaska   | 61.2876  | -149.487\n",
       "AK    | 105      | house   | Don       | E.         | Young     | 6/9/1933   | R     | Yes       | 63.6 | 1997       | Alaska   | 61.2876  | -149.487\n",
       "AK    | 105      | senate  | Ted       | F.         | Stevens   | 11/18/1923 | R     | Yes       | 73.1 | 1997       | Alaska   | 61.2876  | -149.487\n",
       "AK    | 105      | senate  | Frank     | H.         | Murkowski | 3/28/1933  | R     | Yes       | 63.8 | 1997       | Alaska   | 61.2876  | -149.487\n",
       "AK    | 106      | house   | Don       | E.         | Young     | 6/9/1933   | R     | Yes       | 65.6 | 1999       | Alaska   | 61.2876  | -149.487\n",
       "AK    | 106      | senate  | Ted       | F.         | Stevens   | 11/18/1923 | R     | Yes       | 75.1 | 1999       | Alaska   | 61.2876  | -149.487\n",
       "AK    | 106      | senate  | Frank     | H.         | Murkowski | 3/28/1933  | R     | Yes       | 65.8 | 1999       | Alaska   | 61.2876  | -149.487\n",
       "AK    | 107      | house   | Don       | E.         | Young     | 6/9/1933   | R     | Yes       | 67.6 | 2001       | Alaska   | 61.2876  | -149.487\n",
       "... (5439 rows omitted)"
      ]
     },
     "execution_count": 25,
     "metadata": {},
     "output_type": "execute_result"
    }
   ],
   "source": [
    "combined = congress.join(\"state\", states, \"Abbreviation\")\n",
    "combined"
   ]
  },
  {
   "cell_type": "markdown",
   "metadata": {},
   "source": [
    "Now our goal is to make 2 maps: One displaying the top 10 most democratic states, and one displaying the top 10 most republican states.\n",
    "\n",
    "# Question 2.2\n",
    "In order to build our maps, the first thing we have to do is find out what proportion of representatives from each State are Republican or Democrat. There are several ways to do this, one of which is iteratively. In the cell below is a skeleton to solve the problem iteratively, but if you have another way to do it feel free to employ that in the blank cell 2 cells down.\n",
    "\n",
    "NOTE: Make sure the that each element of your array corresponds to exactly one state, and that the states each element corresponds to is in alphabetical order\n",
    "i.e. the first element of prop_democrat_array will be the proportion of democrats in AK."
   ]
  },
  {
   "cell_type": "code",
   "execution_count": 30,
   "metadata": {
    "collapsed": false
   },
   "outputs": [],
   "source": [
    "#make an array that has the proportion of democratic representatives \n",
    "#for every state, and one for the proportion of republicans.\n",
    "prop_democrat_array = make_array()\n",
    "prop_republican_array = make_array()\n",
    "for i in states.column(\"Abbreviation\"): \n",
    "    prop_democrat_one_state = combined.where(\"state\", i).where(\n",
    "        \"party\", \"D\").num_rows/combined.where(\"state\", i).num_rows\n",
    "    prop_republican_one_state = combined.where(\"state\", i).where(\n",
    "        \"party\", \"R\").num_rows/combined.where(\"state\", i).num_rows       \n",
    "    prop_democrat_array = np.append(prop_democrat_array, prop_democrat_one_state)\n",
    "    prop_republican_array = np.append(prop_republican_array, prop_republican_one_state)"
   ]
  },
  {
   "cell_type": "code",
   "execution_count": 27,
   "metadata": {
    "collapsed": false
   },
   "outputs": [
    {
     "ename": "SyntaxError",
     "evalue": "invalid syntax (<ipython-input-27-971baf574fef>, line 2)",
     "output_type": "error",
     "traceback": [
      "\u001b[1;36m  File \u001b[1;32m\"<ipython-input-27-971baf574fef>\"\u001b[1;36m, line \u001b[1;32m2\u001b[0m\n\u001b[1;33m    prop_democrat_array =\u001b[0m\n\u001b[1;37m                          ^\u001b[0m\n\u001b[1;31mSyntaxError\u001b[0m\u001b[1;31m:\u001b[0m invalid syntax\n"
     ]
    }
   ],
   "source": [
    "#Your own way\n",
    "prop_democrat_array = "
   ]
  },
  {
   "cell_type": "markdown",
   "metadata": {},
   "source": [
    "# Question 2.3\n",
    "now make a table called proportions_and_locations that has your new arrays appended onto it as columns. It should have 1 row for every state, and the following columns: latitude, longitude, State Abbreviation, Proportion Republican,and Proportion Democrat. They should be in that order as well."
   ]
  },
  {
   "cell_type": "code",
   "execution_count": 31,
   "metadata": {
    "collapsed": false
   },
   "outputs": [
    {
     "data": {
      "text/html": [
       "<table border=\"1\" class=\"dataframe\">\n",
       "    <thead>\n",
       "        <tr>\n",
       "            <th>latitude</th> <th>longitude</th> <th>State Abbreviation</th> <th>Proportion Republican</th> <th>Proportion Democrat</th>\n",
       "        </tr>\n",
       "    </thead>\n",
       "    <tbody>\n",
       "        <tr>\n",
       "            <td>61.2876 </td> <td>-149.487 </td> <td>AK                </td> <td>0.903226             </td> <td>0.0967742          </td>\n",
       "        </tr>\n",
       "    </tbody>\n",
       "        <tr>\n",
       "            <td>33.6035 </td> <td>-86.4668 </td> <td>AL                </td> <td>0.769231             </td> <td>0.230769           </td>\n",
       "        </tr>\n",
       "    </tbody>\n",
       "        <tr>\n",
       "            <td>34.209  </td> <td>-91.9859 </td> <td>AR                </td> <td>0.393443             </td> <td>0.606557           </td>\n",
       "        </tr>\n",
       "    </tbody>\n",
       "        <tr>\n",
       "            <td>33.704  </td> <td>-112.352 </td> <td>AZ                </td> <td>0.723404             </td> <td>0.276596           </td>\n",
       "        </tr>\n",
       "    </tbody>\n",
       "        <tr>\n",
       "            <td>33.974  </td> <td>-118.248 </td> <td>CA                </td> <td>0.372093             </td> <td>0.627907           </td>\n",
       "        </tr>\n",
       "    </tbody>\n",
       "        <tr>\n",
       "            <td>39.522  </td> <td>-105.224 </td> <td>CO                </td> <td>0.574713             </td> <td>0.425287           </td>\n",
       "        </tr>\n",
       "    </tbody>\n",
       "        <tr>\n",
       "            <td>41.7579 </td> <td>-72.7283 </td> <td>CT                </td> <td>0.22973              </td> <td>0.72973            </td>\n",
       "        </tr>\n",
       "    </tbody>\n",
       "        <tr>\n",
       "            <td>39.5947 </td> <td>-75.6939 </td> <td>DE                </td> <td>0.34375              </td> <td>0.65625            </td>\n",
       "        </tr>\n",
       "    </tbody>\n",
       "        <tr>\n",
       "            <td>29.9377 </td> <td>-81.4206 </td> <td>FL                </td> <td>0.644195             </td> <td>0.35206            </td>\n",
       "        </tr>\n",
       "    </tbody>\n",
       "        <tr>\n",
       "            <td>33.7717 </td> <td>-84.2394 </td> <td>GA                </td> <td>0.643836             </td> <td>0.356164           </td>\n",
       "        </tr>\n",
       "    </tbody>\n",
       "</table>\n",
       "<p>... (40 rows omitted)</p"
      ],
      "text/plain": [
       "latitude | longitude | State Abbreviation | Proportion Republican | Proportion Democrat\n",
       "61.2876  | -149.487  | AK                 | 0.903226              | 0.0967742\n",
       "33.6035  | -86.4668  | AL                 | 0.769231              | 0.230769\n",
       "34.209   | -91.9859  | AR                 | 0.393443              | 0.606557\n",
       "33.704   | -112.352  | AZ                 | 0.723404              | 0.276596\n",
       "33.974   | -118.248  | CA                 | 0.372093              | 0.627907\n",
       "39.522   | -105.224  | CO                 | 0.574713              | 0.425287\n",
       "41.7579  | -72.7283  | CT                 | 0.22973               | 0.72973\n",
       "39.5947  | -75.6939  | DE                 | 0.34375               | 0.65625\n",
       "29.9377  | -81.4206  | FL                 | 0.644195              | 0.35206\n",
       "33.7717  | -84.2394  | GA                 | 0.643836              | 0.356164\n",
       "... (40 rows omitted)"
      ]
     },
     "execution_count": 31,
     "metadata": {},
     "output_type": "execute_result"
    }
   ],
   "source": [
    "proportions_and_locations = states.drop(\"Abbreviation\").with_columns(\n",
    "    \"State Abbreviation\", states.column(\"Abbreviation\"),\n",
    "    \"Proportion Republican\", prop_republican_array,\n",
    "    \"Proportion Democrat\", prop_democrat_array).drop(0)\n",
    "proportions_and_locations "
   ]
  },
  {
   "cell_type": "markdown",
   "metadata": {},
   "source": [
    "Now, we're almost ready to make our maps! First, make 2 tables: one called top_10_republican and one called top_10_democrat. Each should be the same as proportions_and_locations, except each should only have 10 rows for each of the states with the highest proportion of republican and democratic representatives, respectively. They should also only have the proportions for their own party (top_10_republicans shouldn't have a \"Proportion Democrat\" column and visa versa)"
   ]
  },
  {
   "cell_type": "code",
   "execution_count": 32,
   "metadata": {
    "collapsed": false
   },
   "outputs": [
    {
     "data": {
      "text/html": [
       "<table border=\"1\" class=\"dataframe\">\n",
       "    <thead>\n",
       "        <tr>\n",
       "            <th>latitude</th> <th>longitude</th> <th>State Abbreviation</th> <th>Proportion Republican</th>\n",
       "        </tr>\n",
       "    </thead>\n",
       "    <tbody>\n",
       "        <tr>\n",
       "            <td>41.2517 </td> <td>-104.563 </td> <td>WY                </td> <td>1                    </td>\n",
       "        </tr>\n",
       "    </tbody>\n",
       "        <tr>\n",
       "            <td>42.7702 </td> <td>-112.26  </td> <td>ID                </td> <td>0.975                </td>\n",
       "        </tr>\n",
       "    </tbody>\n",
       "        <tr>\n",
       "            <td>35.2032 </td> <td>-98.3574 </td> <td>OK                </td> <td>0.906667             </td>\n",
       "        </tr>\n",
       "    </tbody>\n",
       "        <tr>\n",
       "            <td>61.2876 </td> <td>-149.487 </td> <td>AK                </td> <td>0.903226             </td>\n",
       "        </tr>\n",
       "    </tbody>\n",
       "        <tr>\n",
       "            <td>39.5359 </td> <td>-95.2251 </td> <td>KS                </td> <td>0.888889             </td>\n",
       "        </tr>\n",
       "    </tbody>\n",
       "        <tr>\n",
       "            <td>40.3207 </td> <td>-110.436 </td> <td>UT                </td> <td>0.843137             </td>\n",
       "        </tr>\n",
       "    </tbody>\n",
       "        <tr>\n",
       "            <td>41.332  </td> <td>-96.9494 </td> <td>NE                </td> <td>0.8                  </td>\n",
       "        </tr>\n",
       "    </tbody>\n",
       "        <tr>\n",
       "            <td>38.2745 </td> <td>-85.0904 </td> <td>KY                </td> <td>0.792683             </td>\n",
       "        </tr>\n",
       "    </tbody>\n",
       "        <tr>\n",
       "            <td>42.8747 </td> <td>-71.6294 </td> <td>NH                </td> <td>0.775                </td>\n",
       "        </tr>\n",
       "    </tbody>\n",
       "        <tr>\n",
       "            <td>33.6035 </td> <td>-86.4668 </td> <td>AL                </td> <td>0.769231             </td>\n",
       "        </tr>\n",
       "    </tbody>\n",
       "</table>"
      ],
      "text/plain": [
       "latitude | longitude | State Abbreviation | Proportion Republican\n",
       "41.2517  | -104.563  | WY                 | 1\n",
       "42.7702  | -112.26   | ID                 | 0.975\n",
       "35.2032  | -98.3574  | OK                 | 0.906667\n",
       "61.2876  | -149.487  | AK                 | 0.903226\n",
       "39.5359  | -95.2251  | KS                 | 0.888889\n",
       "40.3207  | -110.436  | UT                 | 0.843137\n",
       "41.332   | -96.9494  | NE                 | 0.8\n",
       "38.2745  | -85.0904  | KY                 | 0.792683\n",
       "42.8747  | -71.6294  | NH                 | 0.775\n",
       "33.6035  | -86.4668  | AL                 | 0.769231"
      ]
     },
     "execution_count": 32,
     "metadata": {},
     "output_type": "execute_result"
    }
   ],
   "source": [
    "top_10_republican = proportions_and_locations.sort(3, descending = True).take(np.arange(10)).drop(4)\n",
    "top_10_republican"
   ]
  },
  {
   "cell_type": "code",
   "execution_count": 33,
   "metadata": {
    "collapsed": false
   },
   "outputs": [
    {
     "data": {
      "text/html": [
       "<table border=\"1\" class=\"dataframe\">\n",
       "    <thead>\n",
       "        <tr>\n",
       "            <th>latitude</th> <th>longitude</th> <th>State Abbreviation</th> <th>Proportion Democrat</th>\n",
       "        </tr>\n",
       "    </thead>\n",
       "    <tbody>\n",
       "        <tr>\n",
       "            <td>21.3907 </td> <td>-157.928 </td> <td>HI                </td> <td>0.97619            </td>\n",
       "        </tr>\n",
       "    </tbody>\n",
       "        <tr>\n",
       "            <td>42.1405 </td> <td>-72.7887 </td> <td>MA                </td> <td>0.968254           </td>\n",
       "        </tr>\n",
       "    </tbody>\n",
       "        <tr>\n",
       "            <td>46.4479 </td> <td>-96.7278 </td> <td>ND                </td> <td>0.866667           </td>\n",
       "        </tr>\n",
       "    </tbody>\n",
       "        <tr>\n",
       "            <td>41.5301 </td> <td>-71.2841 </td> <td>RI                </td> <td>0.829268           </td>\n",
       "        </tr>\n",
       "    </tbody>\n",
       "        <tr>\n",
       "            <td>37.3327 </td> <td>-81.1601 </td> <td>WV                </td> <td>0.826923           </td>\n",
       "        </tr>\n",
       "    </tbody>\n",
       "        <tr>\n",
       "            <td>38.6038 </td> <td>-76.8679 </td> <td>MD                </td> <td>0.745098           </td>\n",
       "        </tr>\n",
       "    </tbody>\n",
       "        <tr>\n",
       "            <td>45.2633 </td> <td>-121.089 </td> <td>OR                </td> <td>0.739726           </td>\n",
       "        </tr>\n",
       "    </tbody>\n",
       "        <tr>\n",
       "            <td>41.7579 </td> <td>-72.7283 </td> <td>CT                </td> <td>0.72973            </td>\n",
       "        </tr>\n",
       "    </tbody>\n",
       "        <tr>\n",
       "            <td>40.9223 </td> <td>-72.6371 </td> <td>NY                </td> <td>0.697531           </td>\n",
       "        </tr>\n",
       "    </tbody>\n",
       "        <tr>\n",
       "            <td>39.5947 </td> <td>-75.6939 </td> <td>DE                </td> <td>0.65625            </td>\n",
       "        </tr>\n",
       "    </tbody>\n",
       "</table>"
      ],
      "text/plain": [
       "latitude | longitude | State Abbreviation | Proportion Democrat\n",
       "21.3907  | -157.928  | HI                 | 0.97619\n",
       "42.1405  | -72.7887  | MA                 | 0.968254\n",
       "46.4479  | -96.7278  | ND                 | 0.866667\n",
       "41.5301  | -71.2841  | RI                 | 0.829268\n",
       "37.3327  | -81.1601  | WV                 | 0.826923\n",
       "38.6038  | -76.8679  | MD                 | 0.745098\n",
       "45.2633  | -121.089  | OR                 | 0.739726\n",
       "41.7579  | -72.7283  | CT                 | 0.72973\n",
       "40.9223  | -72.6371  | NY                 | 0.697531\n",
       "39.5947  | -75.6939  | DE                 | 0.65625"
      ]
     },
     "execution_count": 33,
     "metadata": {},
     "output_type": "execute_result"
    }
   ],
   "source": [
    "top_10_democrat = proportions_and_locations.sort(4, descending = True).take(np.arange(10)).drop(3)\n",
    "top_10_democrat"
   ]
  },
  {
   "cell_type": "markdown",
   "metadata": {},
   "source": [
    "The following cell takes each table you made and puts them in a suitable format to be read by the .map_table function. "
   ]
  },
  {
   "cell_type": "code",
   "execution_count": 34,
   "metadata": {
    "collapsed": false,
    "scrolled": true
   },
   "outputs": [],
   "source": [
    "#run cell \n",
    "map_ready_top_10_democrat = top_10_democrat.drop(3).with_columns(\n",
    "    \"Color\", np.array([\"blue\"] * 10),\n",
    "    \"Size\", (top_10_democrat.column(3)**5)*(10**12))\n",
    "map_ready_top_10_republican = top_10_republican.drop(3).with_columns(\n",
    "    \"Color\", np.array([\"red\"] * 10),\n",
    "    \"Size\", (top_10_republican.column(3)**5)*(10**12))"
   ]
  },
  {
   "cell_type": "code",
   "execution_count": 35,
   "metadata": {
    "collapsed": false
   },
   "outputs": [
    {
     "data": {
      "text/html": [
       "<table border=\"1\" class=\"dataframe\">\n",
       "    <thead>\n",
       "        <tr>\n",
       "            <th>latitude</th> <th>longitude</th> <th>State Abbreviation</th> <th>Color</th> <th>Size</th>\n",
       "        </tr>\n",
       "    </thead>\n",
       "    <tbody>\n",
       "        <tr>\n",
       "            <td>21.3907 </td> <td>-157.928 </td> <td>HI                </td> <td>blue </td> <td>8.86488e+11</td>\n",
       "        </tr>\n",
       "    </tbody>\n",
       "        <tr>\n",
       "            <td>42.1405 </td> <td>-72.7887 </td> <td>MA                </td> <td>blue </td> <td>8.51033e+11</td>\n",
       "        </tr>\n",
       "    </tbody>\n",
       "        <tr>\n",
       "            <td>46.4479 </td> <td>-96.7278 </td> <td>ND                </td> <td>blue </td> <td>4.88946e+11</td>\n",
       "        </tr>\n",
       "    </tbody>\n",
       "        <tr>\n",
       "            <td>41.5301 </td> <td>-71.2841 </td> <td>RI                </td> <td>blue </td> <td>3.92171e+11</td>\n",
       "        </tr>\n",
       "    </tbody>\n",
       "        <tr>\n",
       "            <td>37.3327 </td> <td>-81.1601 </td> <td>WV                </td> <td>blue </td> <td>3.86657e+11</td>\n",
       "        </tr>\n",
       "    </tbody>\n",
       "        <tr>\n",
       "            <td>38.6038 </td> <td>-76.8679 </td> <td>MD                </td> <td>blue </td> <td>2.2965e+11 </td>\n",
       "        </tr>\n",
       "    </tbody>\n",
       "        <tr>\n",
       "            <td>45.2633 </td> <td>-121.089 </td> <td>OR                </td> <td>blue </td> <td>2.2149e+11 </td>\n",
       "        </tr>\n",
       "    </tbody>\n",
       "        <tr>\n",
       "            <td>41.7579 </td> <td>-72.7283 </td> <td>CT                </td> <td>blue </td> <td>2.06924e+11</td>\n",
       "        </tr>\n",
       "    </tbody>\n",
       "        <tr>\n",
       "            <td>40.9223 </td> <td>-72.6371 </td> <td>NY                </td> <td>blue </td> <td>1.65127e+11</td>\n",
       "        </tr>\n",
       "    </tbody>\n",
       "        <tr>\n",
       "            <td>39.5947 </td> <td>-75.6939 </td> <td>DE                </td> <td>blue </td> <td>1.21716e+11</td>\n",
       "        </tr>\n",
       "    </tbody>\n",
       "</table>"
      ],
      "text/plain": [
       "latitude | longitude | State Abbreviation | Color | Size\n",
       "21.3907  | -157.928  | HI                 | blue  | 8.86488e+11\n",
       "42.1405  | -72.7887  | MA                 | blue  | 8.51033e+11\n",
       "46.4479  | -96.7278  | ND                 | blue  | 4.88946e+11\n",
       "41.5301  | -71.2841  | RI                 | blue  | 3.92171e+11\n",
       "37.3327  | -81.1601  | WV                 | blue  | 3.86657e+11\n",
       "38.6038  | -76.8679  | MD                 | blue  | 2.2965e+11\n",
       "45.2633  | -121.089  | OR                 | blue  | 2.2149e+11\n",
       "41.7579  | -72.7283  | CT                 | blue  | 2.06924e+11\n",
       "40.9223  | -72.6371  | NY                 | blue  | 1.65127e+11\n",
       "39.5947  | -75.6939  | DE                 | blue  | 1.21716e+11"
      ]
     },
     "execution_count": 35,
     "metadata": {},
     "output_type": "execute_result"
    }
   ],
   "source": [
    "map_ready_top_10_democrat"
   ]
  },
  {
   "cell_type": "code",
   "execution_count": 36,
   "metadata": {
    "collapsed": false
   },
   "outputs": [
    {
     "data": {
      "text/html": [
       "<table border=\"1\" class=\"dataframe\">\n",
       "    <thead>\n",
       "        <tr>\n",
       "            <th>latitude</th> <th>longitude</th> <th>State Abbreviation</th> <th>Color</th> <th>Size</th>\n",
       "        </tr>\n",
       "    </thead>\n",
       "    <tbody>\n",
       "        <tr>\n",
       "            <td>41.2517 </td> <td>-104.563 </td> <td>WY                </td> <td>red  </td> <td>1e+12      </td>\n",
       "        </tr>\n",
       "    </tbody>\n",
       "        <tr>\n",
       "            <td>42.7702 </td> <td>-112.26  </td> <td>ID                </td> <td>red  </td> <td>8.81096e+11</td>\n",
       "        </tr>\n",
       "    </tbody>\n",
       "        <tr>\n",
       "            <td>35.2032 </td> <td>-98.3574 </td> <td>OK                </td> <td>red  </td> <td>6.12686e+11</td>\n",
       "        </tr>\n",
       "    </tbody>\n",
       "        <tr>\n",
       "            <td>61.2876 </td> <td>-149.487 </td> <td>AK                </td> <td>red  </td> <td>6.01148e+11</td>\n",
       "        </tr>\n",
       "    </tbody>\n",
       "        <tr>\n",
       "            <td>39.5359 </td> <td>-95.2251 </td> <td>KS                </td> <td>red  </td> <td>5.54929e+11</td>\n",
       "        </tr>\n",
       "    </tbody>\n",
       "        <tr>\n",
       "            <td>40.3207 </td> <td>-110.436 </td> <td>UT                </td> <td>red  </td> <td>4.2608e+11 </td>\n",
       "        </tr>\n",
       "    </tbody>\n",
       "        <tr>\n",
       "            <td>41.332  </td> <td>-96.9494 </td> <td>NE                </td> <td>red  </td> <td>3.2768e+11 </td>\n",
       "        </tr>\n",
       "    </tbody>\n",
       "        <tr>\n",
       "            <td>38.2745 </td> <td>-85.0904 </td> <td>KY                </td> <td>red  </td> <td>3.12966e+11</td>\n",
       "        </tr>\n",
       "    </tbody>\n",
       "        <tr>\n",
       "            <td>42.8747 </td> <td>-71.6294 </td> <td>NH                </td> <td>red  </td> <td>2.79582e+11</td>\n",
       "        </tr>\n",
       "    </tbody>\n",
       "        <tr>\n",
       "            <td>33.6035 </td> <td>-86.4668 </td> <td>AL                </td> <td>red  </td> <td>2.69329e+11</td>\n",
       "        </tr>\n",
       "    </tbody>\n",
       "</table>"
      ],
      "text/plain": [
       "latitude | longitude | State Abbreviation | Color | Size\n",
       "41.2517  | -104.563  | WY                 | red   | 1e+12\n",
       "42.7702  | -112.26   | ID                 | red   | 8.81096e+11\n",
       "35.2032  | -98.3574  | OK                 | red   | 6.12686e+11\n",
       "61.2876  | -149.487  | AK                 | red   | 6.01148e+11\n",
       "39.5359  | -95.2251  | KS                 | red   | 5.54929e+11\n",
       "40.3207  | -110.436  | UT                 | red   | 4.2608e+11\n",
       "41.332   | -96.9494  | NE                 | red   | 3.2768e+11\n",
       "38.2745  | -85.0904  | KY                 | red   | 3.12966e+11\n",
       "42.8747  | -71.6294  | NH                 | red   | 2.79582e+11\n",
       "33.6035  | -86.4668  | AL                 | red   | 2.69329e+11"
      ]
     },
     "execution_count": 36,
     "metadata": {},
     "output_type": "execute_result"
    }
   ],
   "source": [
    "map_ready_top_10_republican"
   ]
  },
  {
   "cell_type": "markdown",
   "metadata": {},
   "source": [
    "Now, use .map_table to create 2 maps: One for the each of the above tables. Both should use circles whose size is proportionate to the proportion of republican or democrat representatives."
   ]
  },
  {
   "cell_type": "code",
   "execution_count": 37,
   "metadata": {
    "collapsed": false
   },
   "outputs": [
    {
     "data": {
      "text/html": [
       "<iframe srcdoc=\"<!DOCTYPE html>\n",
       "<head>\n",
       "   <meta http-equiv=&quot;content-type&quot; content=&quot;text/html; charset=UTF-8&quot; />\n",
       "   <link rel=&quot;stylesheet&quot; href=&quot;https://cdnjs.cloudflare.com/ajax/libs/leaflet/0.7.3/leaflet.css&quot; />\n",
       "   <script src=&quot;https://cdnjs.cloudflare.com/ajax/libs/leaflet/0.7.3/leaflet.js&quot;></script>\n",
       "\n",
       "   <script src=&quot;https://ajax.googleapis.com/ajax/libs/jquery/1.11.1/jquery.min.js&quot;></script>\n",
       "\n",
       "   <link rel=&quot;stylesheet&quot; href=&quot;https://maxcdn.bootstrapcdn.com/bootstrap/3.2.0/css/bootstrap.min.css&quot;>\n",
       "   <link rel=&quot;stylesheet&quot; href=&quot;https://maxcdn.bootstrapcdn.com/bootstrap/3.2.0/css/bootstrap-theme.min.css&quot;>\n",
       "   <script src=&quot;https://maxcdn.bootstrapcdn.com/bootstrap/3.2.0/js/bootstrap.min.js&quot;></script>\n",
       "\n",
       "   <link href=&quot;https://maxcdn.bootstrapcdn.com/font-awesome/4.1.0/css/font-awesome.min.css&quot; rel=&quot;stylesheet&quot;>\n",
       "\n",
       "   <link rel=&quot;stylesheet&quot; href=&quot;https://rawgit.com/lvoogdt/Leaflet.awesome-markers/2.0/develop/dist/leaflet.awesome-markers.css&quot;>\n",
       "   <script src=&quot;https://rawgithub.com/lvoogdt/Leaflet.awesome-markers/2.0/develop/dist/leaflet.awesome-markers.js&quot;></script>\n",
       "\n",
       "\n",
       "   <link rel=&quot;stylesheet&quot; href=&quot;https://cdnjs.cloudflare.com/ajax/libs/leaflet.markercluster/0.4.0/MarkerCluster.Default.css&quot;>\n",
       "   <link rel=&quot;stylesheet&quot; href=&quot;https://cdnjs.cloudflare.com/ajax/libs/leaflet.markercluster/0.4.0/MarkerCluster.css&quot;>\n",
       "   <script src=&quot;https://cdnjs.cloudflare.com/ajax/libs/leaflet.markercluster/0.4.0/leaflet.markercluster-src.js&quot;></script>\n",
       "   <script src=&quot;https://cdnjs.cloudflare.com/ajax/libs/leaflet.markercluster/0.4.0/leaflet.markercluster.js&quot;></script>\n",
       "\n",
       "   <link rel=&quot;stylesheet&quot; href=&quot;https://birdage.github.io/Leaflet.awesome-markers/dist/leaflet.awesome.rotate.css&quot;>\n",
       "\n",
       "   \n",
       "   \n",
       "   \n",
       "   \n",
       "\n",
       "   <style>\n",
       "\n",
       "      html, body {\n",
       "        width: 100%;\n",
       "        height: 100%;\n",
       "        margin: 0;\n",
       "        padding: 0;\n",
       "      }\n",
       "\n",
       "      #map {\n",
       "        position:absolute;\n",
       "        top:0;\n",
       "        bottom:0;\n",
       "        right:0;\n",
       "        left:0;\n",
       "      }\n",
       "\n",
       "   </style>\n",
       "</head>\n",
       "\n",
       "<body>\n",
       "\n",
       "   <div class=&quot;folium-map&quot; id=&quot;folium_f86324c7e4b945fdb5a88c853fd8b4c8&quot; style=&quot;width: 960px; height: 500px&quot;></div>\n",
       "\n",
       "   <script>\n",
       "\n",
       "      \n",
       "\n",
       "      var base_tile = L.tileLayer('https://{s}.tile.openstreetmap.org/{z}/{x}/{y}.png', {\n",
       "          maxZoom: 17,\n",
       "          minZoom: 1,\n",
       "          attribution: 'Map data (c) <a href=&quot;http://openstreetmap.org&quot;>OpenStreetMap</a> contributors'\n",
       "      });\n",
       "\n",
       "      var baseLayer = {\n",
       "        &quot;Base Layer&quot;: base_tile\n",
       "      };\n",
       "\n",
       "      /*\n",
       "      addition of the wms layers\n",
       "      */\n",
       "\n",
       "      \n",
       "\n",
       "      /*\n",
       "      addition of the tile layers\n",
       "      */\n",
       "      \n",
       "\n",
       "      /*\n",
       "      list of layers to be added\n",
       "      */\n",
       "      var layer_list = {\n",
       "      \n",
       "      };\n",
       "\n",
       "      /*\n",
       "      Bounding box.\n",
       "      */\n",
       "      var southWest = L.latLng(-90, -180),\n",
       "          northEast = L.latLng(90, 180),\n",
       "          bounds = L.latLngBounds(southWest, northEast);\n",
       "\n",
       "      /*\n",
       "      Creates the map and adds the selected layers\n",
       "      */\n",
       "      var map = L.map('folium_f86324c7e4b945fdb5a88c853fd8b4c8', {\n",
       "                                       center:[33.919293, -114.6059475],\n",
       "                                       zoom: 3,\n",
       "                                       maxBounds: bounds,\n",
       "                                       layers: [base_tile]\n",
       "                                     });\n",
       "\n",
       "      L.control.layers(baseLayer, layer_list).addTo(map);\n",
       "\n",
       "      //cluster group\n",
       "      var clusteredmarkers = L.markerClusterGroup();\n",
       "      //section for adding clustered markers\n",
       "      \n",
       "      //add the clustered markers to the group anyway\n",
       "      map.addLayer(clusteredmarkers);\n",
       "\n",
       "      \n",
       "\n",
       "      \n",
       "      var circle_1 = L.circle([21.39065, -157.927829], 886487939757.0, {\n",
       "                            color: 'None',\n",
       "                            fillColor: 'blue',\n",
       "                            fillOpacity: 0.6\n",
       "                            });\n",
       "      circle_1.bindPopup(&quot;HI&quot;);\n",
       "      circle_1._popup.options.maxWidth = 300;\n",
       "      map.addLayer(circle_1)\n",
       "      \n",
       "      var circle_2 = L.circle([42.140549, -72.788661], 851033052901.0, {\n",
       "                            color: 'None',\n",
       "                            fillColor: 'blue',\n",
       "                            fillOpacity: 0.6\n",
       "                            });\n",
       "      circle_2.bindPopup(&quot;MA&quot;);\n",
       "      circle_2._popup.options.maxWidth = 300;\n",
       "      map.addLayer(circle_2)\n",
       "      \n",
       "      var circle_3 = L.circle([46.447936, -96.727788], 488945514403.0, {\n",
       "                            color: 'None',\n",
       "                            fillColor: 'blue',\n",
       "                            fillOpacity: 0.6\n",
       "                            });\n",
       "      circle_3.bindPopup(&quot;ND&quot;);\n",
       "      circle_3._popup.options.maxWidth = 300;\n",
       "      map.addLayer(circle_3)\n",
       "      \n",
       "      var circle_4 = L.circle([41.530131, -71.284066], 392170842888.0, {\n",
       "                            color: 'None',\n",
       "                            fillColor: 'blue',\n",
       "                            fillOpacity: 0.6\n",
       "                            });\n",
       "      circle_4.bindPopup(&quot;RI&quot;);\n",
       "      circle_4._popup.options.maxWidth = 300;\n",
       "      map.addLayer(circle_4)\n",
       "      \n",
       "      var circle_5 = L.circle([37.332725, -81.160066], 386656717517.0, {\n",
       "                            color: 'None',\n",
       "                            fillColor: 'blue',\n",
       "                            fillOpacity: 0.6\n",
       "                            });\n",
       "      circle_5.bindPopup(&quot;WV&quot;);\n",
       "      circle_5._popup.options.maxWidth = 300;\n",
       "      map.addLayer(circle_5)\n",
       "      \n",
       "      var circle_6 = L.circle([38.603783, -76.867928], 229650345215.0, {\n",
       "                            color: 'None',\n",
       "                            fillColor: 'blue',\n",
       "                            fillOpacity: 0.6\n",
       "                            });\n",
       "      circle_6.bindPopup(&quot;MD&quot;);\n",
       "      circle_6._popup.options.maxWidth = 300;\n",
       "      map.addLayer(circle_6)\n",
       "      \n",
       "      var circle_7 = L.circle([45.263301, -121.088513], 221490191439.0, {\n",
       "                            color: 'None',\n",
       "                            fillColor: 'blue',\n",
       "                            fillOpacity: 0.6\n",
       "                            });\n",
       "      circle_7.bindPopup(&quot;OR&quot;);\n",
       "      circle_7._popup.options.maxWidth = 300;\n",
       "      map.addLayer(circle_7)\n",
       "      \n",
       "      var circle_8 = L.circle([41.757944, -72.728272], 206923683343.0, {\n",
       "                            color: 'None',\n",
       "                            fillColor: 'blue',\n",
       "                            fillOpacity: 0.6\n",
       "                            });\n",
       "      circle_8.bindPopup(&quot;CT&quot;);\n",
       "      circle_8._popup.options.maxWidth = 300;\n",
       "      map.addLayer(circle_8)\n",
       "      \n",
       "      var circle_9 = L.circle([40.922326, -72.637078], 165126640284.0, {\n",
       "                            color: 'None',\n",
       "                            fillColor: 'blue',\n",
       "                            fillOpacity: 0.6\n",
       "                            });\n",
       "      circle_9.bindPopup(&quot;NY&quot;);\n",
       "      circle_9._popup.options.maxWidth = 300;\n",
       "      map.addLayer(circle_9)\n",
       "      \n",
       "      var circle_10 = L.circle([39.594736, -75.693903], 121715694666.0, {\n",
       "                            color: 'None',\n",
       "                            fillColor: 'blue',\n",
       "                            fillOpacity: 0.6\n",
       "                            });\n",
       "      circle_10.bindPopup(&quot;DE&quot;);\n",
       "      circle_10._popup.options.maxWidth = 300;\n",
       "      map.addLayer(circle_10)\n",
       "      \n",
       "\n",
       "      \n",
       "\n",
       "      \n",
       "\n",
       "      \n",
       "\n",
       "      \n",
       "\n",
       "\n",
       "\n",
       "   </script>\n",
       "\n",
       "</body>\" style=\"width: 960px; height: 500px\"; border: none\"></iframe>"
      ],
      "text/plain": [
       "<datascience.maps.Map at 0x7f181729c4e0>"
      ]
     },
     "execution_count": 37,
     "metadata": {},
     "output_type": "execute_result"
    }
   ],
   "source": [
    "democrat_map = Circle.map_table(map_ready_top_10_democrat)\n",
    "democrat_map"
   ]
  },
  {
   "cell_type": "code",
   "execution_count": 38,
   "metadata": {
    "collapsed": false
   },
   "outputs": [
    {
     "data": {
      "text/html": [
       "<iframe srcdoc=\"<!DOCTYPE html>\n",
       "<head>\n",
       "   <meta http-equiv=&quot;content-type&quot; content=&quot;text/html; charset=UTF-8&quot; />\n",
       "   <link rel=&quot;stylesheet&quot; href=&quot;https://cdnjs.cloudflare.com/ajax/libs/leaflet/0.7.3/leaflet.css&quot; />\n",
       "   <script src=&quot;https://cdnjs.cloudflare.com/ajax/libs/leaflet/0.7.3/leaflet.js&quot;></script>\n",
       "\n",
       "   <script src=&quot;https://ajax.googleapis.com/ajax/libs/jquery/1.11.1/jquery.min.js&quot;></script>\n",
       "\n",
       "   <link rel=&quot;stylesheet&quot; href=&quot;https://maxcdn.bootstrapcdn.com/bootstrap/3.2.0/css/bootstrap.min.css&quot;>\n",
       "   <link rel=&quot;stylesheet&quot; href=&quot;https://maxcdn.bootstrapcdn.com/bootstrap/3.2.0/css/bootstrap-theme.min.css&quot;>\n",
       "   <script src=&quot;https://maxcdn.bootstrapcdn.com/bootstrap/3.2.0/js/bootstrap.min.js&quot;></script>\n",
       "\n",
       "   <link href=&quot;https://maxcdn.bootstrapcdn.com/font-awesome/4.1.0/css/font-awesome.min.css&quot; rel=&quot;stylesheet&quot;>\n",
       "\n",
       "   <link rel=&quot;stylesheet&quot; href=&quot;https://rawgit.com/lvoogdt/Leaflet.awesome-markers/2.0/develop/dist/leaflet.awesome-markers.css&quot;>\n",
       "   <script src=&quot;https://rawgithub.com/lvoogdt/Leaflet.awesome-markers/2.0/develop/dist/leaflet.awesome-markers.js&quot;></script>\n",
       "\n",
       "\n",
       "   <link rel=&quot;stylesheet&quot; href=&quot;https://cdnjs.cloudflare.com/ajax/libs/leaflet.markercluster/0.4.0/MarkerCluster.Default.css&quot;>\n",
       "   <link rel=&quot;stylesheet&quot; href=&quot;https://cdnjs.cloudflare.com/ajax/libs/leaflet.markercluster/0.4.0/MarkerCluster.css&quot;>\n",
       "   <script src=&quot;https://cdnjs.cloudflare.com/ajax/libs/leaflet.markercluster/0.4.0/leaflet.markercluster-src.js&quot;></script>\n",
       "   <script src=&quot;https://cdnjs.cloudflare.com/ajax/libs/leaflet.markercluster/0.4.0/leaflet.markercluster.js&quot;></script>\n",
       "\n",
       "   <link rel=&quot;stylesheet&quot; href=&quot;https://birdage.github.io/Leaflet.awesome-markers/dist/leaflet.awesome.rotate.css&quot;>\n",
       "\n",
       "   \n",
       "   \n",
       "   \n",
       "   \n",
       "\n",
       "   <style>\n",
       "\n",
       "      html, body {\n",
       "        width: 100%;\n",
       "        height: 100%;\n",
       "        margin: 0;\n",
       "        padding: 0;\n",
       "      }\n",
       "\n",
       "      #map {\n",
       "        position:absolute;\n",
       "        top:0;\n",
       "        bottom:0;\n",
       "        right:0;\n",
       "        left:0;\n",
       "      }\n",
       "\n",
       "   </style>\n",
       "</head>\n",
       "\n",
       "<body>\n",
       "\n",
       "   <div class=&quot;folium-map&quot; id=&quot;folium_f9ced40c3ce6407dbe0ab43cf1fdf082&quot; style=&quot;width: 960px; height: 500px&quot;></div>\n",
       "\n",
       "   <script>\n",
       "\n",
       "      \n",
       "\n",
       "      var base_tile = L.tileLayer('https://{s}.tile.openstreetmap.org/{z}/{x}/{y}.png', {\n",
       "          maxZoom: 17,\n",
       "          minZoom: 1,\n",
       "          attribution: 'Map data (c) <a href=&quot;http://openstreetmap.org&quot;>OpenStreetMap</a> contributors'\n",
       "      });\n",
       "\n",
       "      var baseLayer = {\n",
       "        &quot;Base Layer&quot;: base_tile\n",
       "      };\n",
       "\n",
       "      /*\n",
       "      addition of the wms layers\n",
       "      */\n",
       "\n",
       "      \n",
       "\n",
       "      /*\n",
       "      addition of the tile layers\n",
       "      */\n",
       "      \n",
       "\n",
       "      /*\n",
       "      list of layers to be added\n",
       "      */\n",
       "      var layer_list = {\n",
       "      \n",
       "      };\n",
       "\n",
       "      /*\n",
       "      Bounding box.\n",
       "      */\n",
       "      var southWest = L.latLng(-90, -180),\n",
       "          northEast = L.latLng(90, 180),\n",
       "          bounds = L.latLngBounds(southWest, northEast);\n",
       "\n",
       "      /*\n",
       "      Creates the map and adds the selected layers\n",
       "      */\n",
       "      var map = L.map('folium_f9ced40c3ce6407dbe0ab43cf1fdf082', {\n",
       "                                       center:[47.4455835, -110.558173],\n",
       "                                       zoom: 3,\n",
       "                                       maxBounds: bounds,\n",
       "                                       layers: [base_tile]\n",
       "                                     });\n",
       "\n",
       "      L.control.layers(baseLayer, layer_list).addTo(map);\n",
       "\n",
       "      //cluster group\n",
       "      var clusteredmarkers = L.markerClusterGroup();\n",
       "      //section for adding clustered markers\n",
       "      \n",
       "      //add the clustered markers to the group anyway\n",
       "      map.addLayer(clusteredmarkers);\n",
       "\n",
       "      \n",
       "\n",
       "      \n",
       "      var circle_1 = L.circle([41.25173, -104.56264], 1e+12, {\n",
       "                            color: 'None',\n",
       "                            fillColor: 'red',\n",
       "                            fillOpacity: 0.6\n",
       "                            });\n",
       "      circle_1.bindPopup(&quot;WY&quot;);\n",
       "      circle_1._popup.options.maxWidth = 300;\n",
       "      map.addLayer(circle_1)\n",
       "      \n",
       "      var circle_2 = L.circle([42.770177, -112.259807], 881095693359.0, {\n",
       "                            color: 'None',\n",
       "                            fillColor: 'red',\n",
       "                            fillOpacity: 0.6\n",
       "                            });\n",
       "      circle_2.bindPopup(&quot;ID&quot;);\n",
       "      circle_2._popup.options.maxWidth = 300;\n",
       "      map.addLayer(circle_2)\n",
       "      \n",
       "      var circle_3 = L.circle([35.203206, -98.357423], 612686408902.0, {\n",
       "                            color: 'None',\n",
       "                            fillColor: 'red',\n",
       "                            fillOpacity: 0.6\n",
       "                            });\n",
       "      circle_3.bindPopup(&quot;OK&quot;);\n",
       "      circle_3._popup.options.maxWidth = 300;\n",
       "      map.addLayer(circle_3)\n",
       "      \n",
       "      var circle_4 = L.circle([61.287624, -149.486981], 601148388927.0, {\n",
       "                            color: 'None',\n",
       "                            fillColor: 'red',\n",
       "                            fillOpacity: 0.6\n",
       "                            });\n",
       "      circle_4.bindPopup(&quot;AK&quot;);\n",
       "      circle_4._popup.options.maxWidth = 300;\n",
       "      map.addLayer(circle_4)\n",
       "      \n",
       "      var circle_5 = L.circle([39.535948, -95.225098], 554928957307.0, {\n",
       "                            color: 'None',\n",
       "                            fillColor: 'red',\n",
       "                            fillOpacity: 0.6\n",
       "                            });\n",
       "      circle_5.bindPopup(&quot;KS&quot;);\n",
       "      circle_5._popup.options.maxWidth = 300;\n",
       "      map.addLayer(circle_5)\n",
       "      \n",
       "      var circle_6 = L.circle([40.320728, -110.435974], 426080243617.0, {\n",
       "                            color: 'None',\n",
       "                            fillColor: 'red',\n",
       "                            fillOpacity: 0.6\n",
       "                            });\n",
       "      circle_6.bindPopup(&quot;UT&quot;);\n",
       "      circle_6._popup.options.maxWidth = 300;\n",
       "      map.addLayer(circle_6)\n",
       "      \n",
       "      var circle_7 = L.circle([41.332034, -96.949369], 327680000000.0, {\n",
       "                            color: 'None',\n",
       "                            fillColor: 'red',\n",
       "                            fillOpacity: 0.6\n",
       "                            });\n",
       "      circle_7.bindPopup(&quot;NE&quot;);\n",
       "      circle_7._popup.options.maxWidth = 300;\n",
       "      map.addLayer(circle_7)\n",
       "      \n",
       "      var circle_8 = L.circle([38.274456, -85.090374], 312966260919.0, {\n",
       "                            color: 'None',\n",
       "                            fillColor: 'red',\n",
       "                            fillOpacity: 0.6\n",
       "                            });\n",
       "      circle_8.bindPopup(&quot;KY&quot;);\n",
       "      circle_8._popup.options.maxWidth = 300;\n",
       "      map.addLayer(circle_8)\n",
       "      \n",
       "      var circle_9 = L.circle([42.87474, -71.629365], 279581552734.0, {\n",
       "                            color: 'None',\n",
       "                            fillColor: 'red',\n",
       "                            fillOpacity: 0.6\n",
       "                            });\n",
       "      circle_9.bindPopup(&quot;NH&quot;);\n",
       "      circle_9._popup.options.maxWidth = 300;\n",
       "      map.addLayer(circle_9)\n",
       "      \n",
       "      var circle_10 = L.circle([33.603543, -86.466833], 269329074343.0, {\n",
       "                            color: 'None',\n",
       "                            fillColor: 'red',\n",
       "                            fillOpacity: 0.6\n",
       "                            });\n",
       "      circle_10.bindPopup(&quot;AL&quot;);\n",
       "      circle_10._popup.options.maxWidth = 300;\n",
       "      map.addLayer(circle_10)\n",
       "      \n",
       "\n",
       "      \n",
       "\n",
       "      \n",
       "\n",
       "      \n",
       "\n",
       "      \n",
       "\n",
       "\n",
       "\n",
       "   </script>\n",
       "\n",
       "</body>\" style=\"width: 960px; height: 500px\"; border: none\"></iframe>"
      ],
      "text/plain": [
       "<datascience.maps.Map at 0x7f18172b2320>"
      ]
     },
     "execution_count": 38,
     "metadata": {},
     "output_type": "execute_result"
    }
   ],
   "source": [
    "republican_map = Circle.map_table(map_ready_top_10_republican)\n",
    "republican_map"
   ]
  },
  {
   "cell_type": "markdown",
   "metadata": {
    "collapsed": true
   },
   "source": [
    "# Making Comparisons"
   ]
  },
  {
   "cell_type": "code",
   "execution_count": 39,
   "metadata": {
    "collapsed": false
   },
   "outputs": [
    {
     "data": {
      "text/html": [
       "<table border=\"1\" class=\"dataframe\">\n",
       "    <thead>\n",
       "        <tr>\n",
       "            <th>Actor</th> <th>Total Gross</th> <th>Number of Movies</th> <th>Average per Movie</th> <th>#1 Movie</th> <th>Gross</th>\n",
       "        </tr>\n",
       "    </thead>\n",
       "    <tbody>\n",
       "        <tr>\n",
       "            <td>Harrison Ford     </td> <td>4871.7     </td> <td>41              </td> <td>118.8            </td> <td>Star Wars: The Force Awakens</td> <td>936.7</td>\n",
       "        </tr>\n",
       "    </tbody>\n",
       "        <tr>\n",
       "            <td>Samuel L. Jackson </td> <td>4772.8     </td> <td>69              </td> <td>69.2             </td> <td>The Avengers                </td> <td>623.4</td>\n",
       "        </tr>\n",
       "    </tbody>\n",
       "        <tr>\n",
       "            <td>Morgan Freeman    </td> <td>4468.3     </td> <td>61              </td> <td>73.3             </td> <td>The Dark Knight             </td> <td>534.9</td>\n",
       "        </tr>\n",
       "    </tbody>\n",
       "        <tr>\n",
       "            <td>Tom Hanks         </td> <td>4340.8     </td> <td>44              </td> <td>98.7             </td> <td>Toy Story 3                 </td> <td>415  </td>\n",
       "        </tr>\n",
       "    </tbody>\n",
       "        <tr>\n",
       "            <td>Robert Downey, Jr.</td> <td>3947.3     </td> <td>53              </td> <td>74.5             </td> <td>The Avengers                </td> <td>623.4</td>\n",
       "        </tr>\n",
       "    </tbody>\n",
       "        <tr>\n",
       "            <td>Eddie Murphy      </td> <td>3810.4     </td> <td>38              </td> <td>100.3            </td> <td>Shrek 2                     </td> <td>441.2</td>\n",
       "        </tr>\n",
       "    </tbody>\n",
       "        <tr>\n",
       "            <td>Tom Cruise        </td> <td>3587.2     </td> <td>36              </td> <td>99.6             </td> <td>War of the Worlds           </td> <td>234.3</td>\n",
       "        </tr>\n",
       "    </tbody>\n",
       "        <tr>\n",
       "            <td>Johnny Depp       </td> <td>3368.6     </td> <td>45              </td> <td>74.9             </td> <td>Dead Man's Chest            </td> <td>423.3</td>\n",
       "        </tr>\n",
       "    </tbody>\n",
       "        <tr>\n",
       "            <td>Michael Caine     </td> <td>3351.5     </td> <td>58              </td> <td>57.8             </td> <td>The Dark Knight             </td> <td>534.9</td>\n",
       "        </tr>\n",
       "    </tbody>\n",
       "        <tr>\n",
       "            <td>Scarlett Johansson</td> <td>3341.2     </td> <td>37              </td> <td>90.3             </td> <td>The Avengers                </td> <td>623.4</td>\n",
       "        </tr>\n",
       "    </tbody>\n",
       "</table>\n",
       "<p>... (40 rows omitted)</p"
      ],
      "text/plain": [
       "Actor              | Total Gross | Number of Movies | Average per Movie | #1 Movie                     | Gross\n",
       "Harrison Ford      | 4871.7      | 41               | 118.8             | Star Wars: The Force Awakens | 936.7\n",
       "Samuel L. Jackson  | 4772.8      | 69               | 69.2              | The Avengers                 | 623.4\n",
       "Morgan Freeman     | 4468.3      | 61               | 73.3              | The Dark Knight              | 534.9\n",
       "Tom Hanks          | 4340.8      | 44               | 98.7              | Toy Story 3                  | 415\n",
       "Robert Downey, Jr. | 3947.3      | 53               | 74.5              | The Avengers                 | 623.4\n",
       "Eddie Murphy       | 3810.4      | 38               | 100.3             | Shrek 2                      | 441.2\n",
       "Tom Cruise         | 3587.2      | 36               | 99.6              | War of the Worlds            | 234.3\n",
       "Johnny Depp        | 3368.6      | 45               | 74.9              | Dead Man's Chest             | 423.3\n",
       "Michael Caine      | 3351.5      | 58               | 57.8              | The Dark Knight              | 534.9\n",
       "Scarlett Johansson | 3341.2      | 37               | 90.3              | The Avengers                 | 623.4\n",
       "... (40 rows omitted)"
      ]
     },
     "execution_count": 39,
     "metadata": {},
     "output_type": "execute_result"
    }
   ],
   "source": [
    "actors = Table.read_table('actors.csv')\n",
    "actors"
   ]
  },
  {
   "cell_type": "markdown",
   "metadata": {},
   "source": [
    "1.1 Find the number of actors whose number of movies are greater than 50 by using the table method \".where\"."
   ]
  },
  {
   "cell_type": "code",
   "execution_count": 40,
   "metadata": {
    "collapsed": false
   },
   "outputs": [
    {
     "data": {
      "text/plain": [
       "7"
      ]
     },
     "execution_count": 40,
     "metadata": {},
     "output_type": "execute_result"
    }
   ],
   "source": [
    "actors.where(\"Number of Movies\", are.above(50)).num_rows"
   ]
  },
  {
   "cell_type": "markdown",
   "metadata": {},
   "source": [
    "1.2 Find the number of actors whose number of movies are greater than 50 without using the table method \".where\"."
   ]
  },
  {
   "cell_type": "code",
   "execution_count": 41,
   "metadata": {
    "collapsed": false
   },
   "outputs": [
    {
     "data": {
      "text/plain": [
       "7"
      ]
     },
     "execution_count": 41,
     "metadata": {},
     "output_type": "execute_result"
    }
   ],
   "source": [
    "np.count_nonzero(actors.column(\"Number of Movies\") > 50)"
   ]
  },
  {
   "cell_type": "markdown",
   "metadata": {},
   "source": [
    "1.3 Count the number of actors who have played in \"The Dark Knight\" in the table above."
   ]
  },
  {
   "cell_type": "code",
   "execution_count": 42,
   "metadata": {
    "collapsed": false
   },
   "outputs": [
    {
     "data": {
      "text/plain": [
       "3"
      ]
     },
     "execution_count": 42,
     "metadata": {},
     "output_type": "execute_result"
    }
   ],
   "source": [
    "np.count_nonzero(actors.column(\"#1 Movie\") == \"The Dark Knight\")"
   ]
  },
  {
   "cell_type": "markdown",
   "metadata": {},
   "source": [
    "# Conditional Statement Review"
   ]
  },
  {
   "cell_type": "markdown",
   "metadata": {},
   "source": [
    "Chained Conditional Statement\n",
    "\n",
    "if x < y:\n",
    "\n",
    "    STATEMENTS_A\n",
    "    \n",
    "elif x > y:\n",
    "\n",
    "    STATEMENTS_B\n",
    "    \n",
    "else:\n",
    "\n",
    "    STATEMENTS_C"
   ]
  },
  {
   "cell_type": "markdown",
   "metadata": {},
   "source": [
    "Nested Conditional Statement\n",
    "\n",
    "if x < y:\n",
    "\n",
    "    STATEMENTS_A\n",
    "    \n",
    "else:\n",
    "\n",
    "    if x > y:\n",
    "    \n",
    "        STATEMENTS_B\n",
    "        \n",
    "    else:\n",
    "    \n",
    "        STATEMENTS_C"
   ]
  },
  {
   "cell_type": "markdown",
   "metadata": {},
   "source": [
    "2.1 Write a function that take in a string username and a string password and verify if the username and password match with the provided information."
   ]
  },
  {
   "cell_type": "code",
   "execution_count": 43,
   "metadata": {
    "collapsed": true
   },
   "outputs": [],
   "source": [
    "myusername = \"aliceinwonderland\"\n",
    "mypassword = \"ilovenutella\"\n",
    "\n",
    "def verify(username, password):\n",
    "    #if the username is not correct, print out an error message \"No user found\"\n",
    "    \n",
    "    #if the username is correct but the password is not, \n",
    "    #print out an error message \"The password entered is not correct\"\n",
    "    \n",
    "    #if both the username and password are correct, print out \"Welcome back!\"\n",
    "    \n",
    "    if username != myusername:\n",
    "        print(\"No user found\")\n",
    "    else:\n",
    "        if password != mypassword:\n",
    "            print(\"The password entered is not correct\")\n",
    "        else:\n",
    "            print(\"Welcome back!\")"
   ]
  },
  {
   "cell_type": "code",
   "execution_count": 44,
   "metadata": {
    "collapsed": false
   },
   "outputs": [
    {
     "name": "stdout",
     "output_type": "stream",
     "text": [
      "Welcome back!\n"
     ]
    }
   ],
   "source": [
    "# run verify(myusername, mypassword) to see if you implement the function correctly\n",
    "verify(myusername, mypassword)"
   ]
  },
  {
   "cell_type": "markdown",
   "metadata": {},
   "source": [
    "# Iteration"
   ]
  },
  {
   "cell_type": "markdown",
   "metadata": {},
   "source": [
    "3.1 Write a function that takes in a list of numbers and prints out all the negative numbers from the list."
   ]
  },
  {
   "cell_type": "code",
   "execution_count": 45,
   "metadata": {
    "collapsed": true
   },
   "outputs": [],
   "source": [
    "def printnegative(mylist):\n",
    "    for i in np.arange(len(mylist)):\n",
    "        if mylist.item(i) < 0:\n",
    "            print(mylist.item(i))"
   ]
  },
  {
   "cell_type": "code",
   "execution_count": 46,
   "metadata": {
    "collapsed": false
   },
   "outputs": [
    {
     "name": "stdout",
     "output_type": "stream",
     "text": [
      "-1\n",
      "-7\n",
      "-12\n",
      "-3\n"
     ]
    }
   ],
   "source": [
    "#verify if the function above behaves correctly\n",
    "mylist = make_array(1,-1,4,0,-7,-12,3,-3)\n",
    "printnegative(mylist)"
   ]
  },
  {
   "cell_type": "code",
   "execution_count": null,
   "metadata": {
    "collapsed": true
   },
   "outputs": [],
   "source": []
  }
 ],
 "metadata": {
  "kernelspec": {
   "display_name": "Python 3",
   "language": "python",
   "name": "python3"
  },
  "language_info": {
   "codemirror_mode": {
    "name": "ipython",
    "version": 3
   },
   "file_extension": ".py",
   "mimetype": "text/x-python",
   "name": "python",
   "nbconvert_exporter": "python",
   "pygments_lexer": "ipython3",
   "version": "3.5.2"
  },
  "timetravel": {
   "allowedContentTypes": [
    "text/plain"
   ],
   "enabled": false,
   "version": "1.0"
  }
 },
 "nbformat": 4,
 "nbformat_minor": 2
}
