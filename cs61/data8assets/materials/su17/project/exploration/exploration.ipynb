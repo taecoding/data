{
 "cells": [
  {
   "cell_type": "markdown",
   "metadata": {
    "deletable": true,
    "editable": true
   },
   "source": [
    "## Independent Data Exploration"
   ]
  },
  {
   "cell_type": "markdown",
   "metadata": {
    "deletable": true,
    "editable": true
   },
   "source": [
    "You can either use this notebook directly or add the contents of this notebook to your own project notebook named `exploration.ipynb`. The following cell is required to submit."
   ]
  },
  {
   "cell_type": "code",
   "execution_count": null,
   "metadata": {
    "collapsed": false,
    "deletable": true,
    "editable": true
   },
   "outputs": [],
   "source": [
    "# Run this cell to \n",
    "# - create necessary support files, \n",
    "# - check that your exploration is formatted correctly, \n",
    "# - and submit your work to OK.\n",
    "\n",
    "ok_spec = \"\"\"\n",
    "{\n",
    "  \"name\": \"Independent Data Exploration\",\n",
    "  \"endpoint\": \"cal/data8/sp17/exploration\",\n",
    "  \"src\": [\n",
    "    \"exploration.ipynb\"\n",
    "  ],\n",
    "  \"tests\": {},\n",
    "  \"protocols\": [\n",
    "      \"file_contents\",\n",
    "      \"backup\"\n",
    "  ]\n",
    "}    \n",
    "\"\"\"\n",
    "    \n",
    "ok_test = '''\n",
    "test = {\n",
    "  'name': 'Check file name',\n",
    "  'points': 1,\n",
    "  'suites': [\n",
    "    {\n",
    "      'cases': [\n",
    "        {\n",
    "          'code': r\"\"\"\n",
    "          >>> # Make sure that you name your submission file exploration.ipynb\n",
    "          >>> import os\n",
    "          >>> os.path.exists('exploration.ipynb')\n",
    "          True\n",
    "          \"\"\",\n",
    "          'hidden': False,\n",
    "          'locked': False\n",
    "        },\n",
    "      ],\n",
    "      'scored': True,\n",
    "      'setup': '',\n",
    "      'teardown': '',\n",
    "      'type': 'doctest'\n",
    "    }\n",
    "  ]\n",
    "}\n",
    "'''\n",
    "    \n",
    "import os\n",
    "    \n",
    "if not os.path.exists('exploration.ok'):\n",
    "    with open('exploration.ok', 'w') as out:\n",
    "        out.write(ok_spec)\n",
    "\n",
    "if not os.path.exists('tests/q1.py'):\n",
    "    with open('tests/q1.py', 'w') as out:\n",
    "        out.write(ok_test)\n",
    "    \n",
    "from client.api.notebook import Notebook\n",
    "ok = Notebook('exploration.ok')\n",
    "ok.auth(inline=True)\n",
    "ok.grade('q1')\n",
    "_ = ok.submit()"
   ]
  }
 ],
 "metadata": {
  "kernelspec": {
   "display_name": "Python 3",
   "language": "python",
   "name": "python3"
  },
  "language_info": {
   "codemirror_mode": {
    "name": "ipython",
    "version": 3
   },
   "file_extension": ".py",
   "mimetype": "text/x-python",
   "name": "python",
   "nbconvert_exporter": "python",
   "pygments_lexer": "ipython3",
   "version": "3.4.4"
  }
 },
 "nbformat": 4,
 "nbformat_minor": 0
}

